{
 "cells": [
  {
   "cell_type": "markdown",
   "id": "e24a935b",
   "metadata": {},
   "source": [
    "\n",
    "\n",
    "Olá estudante!\n",
    "\n",
    "Me chamo Rafael Meirelles e irei revisar o seu projeto hoje e em eventuais futuras submissões até que ele cumpra todos os requisitos para o aceite.\n",
    "Conte comigo nessa jornada e não se preocupe se precisar ajustar alguns detalhes, é parte do processo e fundamental para que você exercite os conceitos que vem aprendendo e assim melhore a qualidade dos seus códigos e análises.\n",
    "\n",
    "**Peço que mantenha e não altereos comentários que eu fizer por aqui para que possamos nos localizar posteriormente, ok?**\n",
    "\n",
    "Mais uma coisa, vamos utilizar um código de cores para você entender os meus feedbacks no seu notebook. Funciona assim:\n",
    "\n",
    "\n",
    "<div class=\"alert alert-danger\">\n",
    "<strong>Vermelho</strong>\n",
    "\n",
    "Erro que precisa ser consertado, caso contrário, seu projeto não pode ser aceito\n",
    "\n",
    "</div>\n",
    "\n",
    "<div class=\"alert alert-warning\">\n",
    "<strong>Amarelo</strong>\n",
    "\n",
    "Alerta de um erro não crítco, mas que pode ser corrigido para melhoria geral no seu código/análise\n",
    "\n",
    "</div>\n",
    "\n",
    "<div class=\"alert alert-success\">\n",
    "<strong>Verde</strong>\n",
    "\n",
    "Elogios\n",
    "</div>\n",
    "\n",
    "<div class=\"alert alert-info\">\n",
    "<strong>Comentário do estudante</strong>\n",
    "\n",
    "Use uma caixa azul como essa para eventuais comentários que você gostaria de fazer para mim.\n",
    "</div>\n",
    "\n",
    "\n"
   ]
  },
  {
   "cell_type": "markdown",
   "id": "3Xg_RQfnafXz",
   "metadata": {
    "id": "3Xg_RQfnafXz"
   },
   "source": [
    "\n",
    "\n",
    "\n",
    "# Vamos encher o carrinho!"
   ]
  },
  {
   "cell_type": "markdown",
   "id": "mhIvmmkW414q",
   "metadata": {
    "id": "mhIvmmkW414q"
   },
   "source": [
    "# Introdução\n",
    "\n",
    "A Instacart é uma plataforma de entrega de supermercado onde os clientes podem fazer um pedido de supermercado e receber a compra em casa, semelhante ao funcionamento do Uber Eats e do iFood. O conjunto de dados que fornecemos a você foi modificado do original. Reduzimos o tamanho dele para que seus cálculos sejam executados mais rapidamente e incluímos valores ausentes e duplicados. Também tivemos o cuidado de preservar as distribuições dos dados originais quando fizemos as alterações.\n",
    "\n",
    "Você precisa concluir três etapas. Para cada uma delas, escreva uma breve introdução descrevendo como você pretende concluir a etapa e justifique suas decisões em parágrafos explicativos intermédios a medida que você avança na solução. Escreva também uma conclusão para resumir suas conclusões e escolhas.\n",
    "\n"
   ]
  },
  {
   "cell_type": "markdown",
   "id": "3MbyzpOQZ5Or",
   "metadata": {
    "id": "3MbyzpOQZ5Or"
   },
   "source": [
    "## Dicionário de dados\n",
    "\n",
    "Há cinco tabelas no conjunto de dados, e você vai precisar usar todas elas para pré-processar os dados e fazer a AED. Abaixo está um dicionário que lista as colunas de cada tabela e descreve os dados contidos nelas.\n",
    "\n",
    "- `instacart_orders.csv`: cada linha corresponde a um pedido no aplicativo da Instacart\n",
    "    - `'order_id'`: é o número de identificação unívoco de cada pedido\n",
    "    - `'user_id'`: é o número de identificação unívoco da conta de cada cliente\n",
    "    - `'order_number'`: é o número de vezes que o cliente fez um pedido\n",
    "    - `'order_dow'`: é o dia da semana em que o pedido foi feito (0 é domingo)\n",
    "    - `'order_hour_of_day'`: é a hora do dia em que o pedido foi feito\n",
    "    - `'days_since_prior_order'`: é o número de dias desde que o cliente fez seu pedido anterior\n",
    "\n",
    "\n",
    "\n",
    "\n",
    "- `products.csv`: cada linha corresponde a um produto unívoco que os clientes podem comprar\n",
    "    - `'product_id'`: é o número de identificação unívoco de cada produto\n",
    "    - `'product_name'`: é o nome do produto\n",
    "    - `'aisle_id'`: é o número de identificação unívoco de cada categoria de seção do supermercado\n",
    "    - `'department_id'`: é o número de identificação unívoco de cada categoria de departamento do supermercado\n",
    "\n",
    "\n",
    "\n",
    "\n",
    "-\t`order_products.csv`: cada linha corresponde a um item incluído em um pedido\n",
    "    -\t`'order_id'`: é o número de identificação unívoco de cada pedido\n",
    "    -\t`'product_id'`: é o número de identificação unívoco de cada produto\n",
    "    -\t`'add_to_cart_order'`: é a ordem sequencial em que cada item foi colocado no carrinho\n",
    "    -\t`'reordered'`: 0 se o cliente nunca comprou o produto antes, 1 se já o comprou\n",
    "\n",
    "\n",
    "\n",
    "\n",
    "-\t`aisles.csv`\n",
    "    -\t`'aisle_id'`: é o número de identificação unívoco de cada categoria de seção do supermercado\n",
    "    -\t`'aisle'`: é o nome da seção\n",
    "\n",
    "\n",
    "\n",
    "-\t`departments.csv`\n",
    "    -\t`'department_id'`: é o número de identificação unívoco de cada categoria de departamento do supermercado\n",
    "    -\t`'department'`: é o nome do departamento\n"
   ]
  },
  {
   "cell_type": "markdown",
   "id": "n3Ha_cNSZ8lK",
   "metadata": {
    "id": "n3Ha_cNSZ8lK"
   },
   "source": [
    "# Etapa 1. Visão geral dos dados\n",
    "\n",
    "Leia os arquivos de dados (/datasets/instacart_orders.csv, /datasets/products.csv, /datasets/aisles.csv, /datasets/departments.csv e /datasets/order_products.csv) com `pd.read_csv()` usando os parâmetros apropriados para fazer isso corretamente. Verifique as informações para cada DataFrame criado.\n"
   ]
  },
  {
   "cell_type": "markdown",
   "id": "OmlQPLlyaAfR",
   "metadata": {
    "id": "OmlQPLlyaAfR"
   },
   "source": [
    "## Plano de solução\n",
    "\n",
    "Escreva seu plano"
   ]
  },
  {
   "cell_type": "code",
   "execution_count": 57,
   "id": "fbf1adab",
   "metadata": {
    "id": "fbf1adab"
   },
   "outputs": [],
   "source": [
    "import pandas as pd\n",
    "import numpy as np\n",
    "from matplotlib import pyplot as plt\n"
   ]
  },
  {
   "cell_type": "code",
   "execution_count": 58,
   "id": "ad36396d",
   "metadata": {
    "id": "ad36396d"
   },
   "outputs": [],
   "source": [
    "df_orders = pd.read_csv('/datasets/instacart_orders.csv',sep=';')\n",
    "df_products = pd.read_csv('/datasets/products.csv', sep=';')\n",
    "df_aisles = pd.read_csv('/datasets/aisles.csv', sep=';')\n",
    "df_departments = pd.read_csv('/datasets/departments.csv',sep=';')\n",
    "df_order_products = pd.read_csv('/datasets/order_products.csv',sep=';')\n"
   ]
  },
  {
   "cell_type": "code",
   "execution_count": 59,
   "id": "ad6a1efa",
   "metadata": {
    "id": "ad6a1efa"
   },
   "outputs": [
    {
     "name": "stdout",
     "output_type": "stream",
     "text": [
      "   order_id  user_id  order_number  order_dow  order_hour_of_day  \\\n",
      "0   1515936   183418            11          6                 13   \n",
      "1   1690866   163593             5          5                 12   \n",
      "2   1454967    39980             4          5                 19   \n",
      "3   1768857    82516            56          0                 20   \n",
      "4   3007858   196724             2          4                 12   \n",
      "\n",
      "   days_since_prior_order  \n",
      "0                   30.00  \n",
      "1                    9.00  \n",
      "2                    2.00  \n",
      "3                   10.00  \n",
      "4                   17.00  \n",
      "\n",
      "        order_id   user_id  order_number  order_dow  order_hour_of_day  \\\n",
      "count  478967.00 478967.00     478967.00  478967.00          478967.00   \n",
      "mean  1709946.77 102966.54         17.16       2.78              13.45   \n",
      "std    986948.00  59525.33         17.70       2.05               4.22   \n",
      "min         4.00      2.00          1.00       0.00               0.00   \n",
      "25%    856468.50  51414.00          5.00       1.00              10.00   \n",
      "50%   1709522.00 102633.00         11.00       3.00              13.00   \n",
      "75%   2562990.00 154419.00         23.00       5.00              16.00   \n",
      "max   3421079.00 206209.00        100.00       6.00              23.00   \n",
      "\n",
      "       days_since_prior_order  \n",
      "count               450148.00  \n",
      "mean                    11.10  \n",
      "std                      9.19  \n",
      "min                      0.00  \n",
      "25%                      4.00  \n",
      "50%                      7.00  \n",
      "75%                     15.00  \n",
      "max                     30.00  \n"
     ]
    }
   ],
   "source": [
    "print(df_orders.head())\n",
    "print()\n",
    "pd.set_option('display.float_format', '{:.2f}'.format)\n",
    "print(df_orders.describe())"
   ]
  },
  {
   "cell_type": "code",
   "execution_count": 60,
   "id": "5130e05e",
   "metadata": {
    "id": "5130e05e"
   },
   "outputs": [
    {
     "name": "stdout",
     "output_type": "stream",
     "text": [
      "   product_id                                       product_name  aisle_id  \\\n",
      "0           1                         Chocolate Sandwich Cookies        61   \n",
      "1           2                                   All-Seasons Salt       104   \n",
      "2           3               Robust Golden Unsweetened Oolong Tea        94   \n",
      "3           4  Smart Ones Classic Favorites Mini Rigatoni Wit...        38   \n",
      "4           5                          Green Chile Anytime Sauce         5   \n",
      "\n",
      "   department_id  \n",
      "0             19  \n",
      "1             13  \n",
      "2              7  \n",
      "3              1  \n",
      "4             13  \n",
      "\n",
      "       product_id  aisle_id  department_id\n",
      "count    49694.00  49694.00       49694.00\n",
      "mean     24847.50     67.77          11.73\n",
      "std      14345.57     38.32           5.85\n",
      "min          1.00      1.00           1.00\n",
      "25%      12424.25     35.00           7.00\n",
      "50%      24847.50     69.00          13.00\n",
      "75%      37270.75    100.00          17.00\n",
      "max      49694.00    134.00          21.00\n"
     ]
    }
   ],
   "source": [
    "print(df_products.head())\n",
    "print()\n",
    "print(df_products.describe())"
   ]
  },
  {
   "cell_type": "code",
   "execution_count": 61,
   "id": "d8370c05",
   "metadata": {
    "id": "d8370c05"
   },
   "outputs": [
    {
     "name": "stdout",
     "output_type": "stream",
     "text": [
      "   aisle_id                       aisle\n",
      "0         1       prepared soups salads\n",
      "1         2           specialty cheeses\n",
      "2         3         energy granola bars\n",
      "3         4               instant foods\n",
      "4         5  marinades meat preparation\n",
      "\n",
      "       aisle_id\n",
      "count    134.00\n",
      "mean      67.50\n",
      "std       38.83\n",
      "min        1.00\n",
      "25%       34.25\n",
      "50%       67.50\n",
      "75%      100.75\n",
      "max      134.00\n"
     ]
    }
   ],
   "source": [
    "print(df_aisles.head())\n",
    "print()\n",
    "print(df_aisles.describe())\n"
   ]
  },
  {
   "cell_type": "code",
   "execution_count": 62,
   "id": "59e2090f",
   "metadata": {
    "id": "59e2090f"
   },
   "outputs": [
    {
     "name": "stdout",
     "output_type": "stream",
     "text": [
      "   department_id department\n",
      "0              1     frozen\n",
      "1              2      other\n",
      "2              3     bakery\n",
      "3              4    produce\n",
      "4              5    alcohol\n",
      "\n",
      "       department_id\n",
      "count          21.00\n",
      "mean           11.00\n",
      "std             6.20\n",
      "min             1.00\n",
      "25%             6.00\n",
      "50%            11.00\n",
      "75%            16.00\n",
      "max            21.00\n"
     ]
    }
   ],
   "source": [
    "print(df_departments.head())\n",
    "print()\n",
    "print(df_departments.describe())\n"
   ]
  },
  {
   "cell_type": "code",
   "execution_count": 63,
   "id": "6fc81694",
   "metadata": {
    "id": "6fc81694"
   },
   "outputs": [
    {
     "name": "stdout",
     "output_type": "stream",
     "text": [
      "   order_id  product_id  add_to_cart_order  reordered\n",
      "0   2141543       11440              17.00          0\n",
      "1    567889        1560               1.00          1\n",
      "2   2261212       26683               1.00          1\n",
      "3    491251        8670              35.00          1\n",
      "4   2571142        1940               5.00          1\n",
      "\n",
      "        order_id  product_id  add_to_cart_order  reordered\n",
      "count 4545007.00  4545007.00         4544171.00 4545007.00\n",
      "mean  1711165.93    25580.84               8.35       0.59\n",
      "std    985095.50    14095.52               7.08       0.49\n",
      "min         4.00        1.00               1.00       0.00\n",
      "25%    860817.00    13535.00               3.00       0.00\n",
      "50%   1711530.00    25272.00               6.00       1.00\n",
      "75%   2561311.00    37935.00              11.00       1.00\n",
      "max   3421079.00    49694.00              64.00       1.00\n"
     ]
    }
   ],
   "source": [
    "print(df_order_products.head())\n",
    "print()\n",
    "print(df_order_products.describe())\n"
   ]
  },
  {
   "cell_type": "markdown",
   "id": "t75BD19oaR5f",
   "metadata": {
    "id": "t75BD19oaR5f"
   },
   "source": [
    "## Conclusões\n",
    "\n",
    "### Para instacart_orders: \n",
    "\n",
    "- Não temos dados faltantas\n",
    "\n",
    "- As colunas order_id, user_id,order_dow, são variáveis categóricas e não numéricas.\n",
    "\n",
    "- A coluna days_since_prior_order não precisa estar como float, visto que não existe número fracionário\n",
    "\n",
    "### Arquivos products, aisles e departments\n",
    "\n",
    "- Não tem dados ausentes e estão interligados\n",
    "\n",
    "- As colunas ailes e departments do arquivo product tem informações categóricas que estão representadas nos seus respectivos asrquivos.\n",
    "\n",
    "### Arquivo order_products\n",
    "\n",
    "- Tem linhas ausentes no add_to_cart_order\n",
    "\n",
    "\n",
    "\n",
    "\n",
    "\n"
   ]
  },
  {
   "cell_type": "markdown",
   "id": "92a12cb4",
   "metadata": {},
   "source": [
    "<div class=\"alert alert-danger\">\n",
    "<strong>Comentário do revisor v1</strong>\n",
    "\n",
    "Bom trabalho com as checagens realizadas.\n",
    "\n",
    "Acho uma boa prática aqui utilizar os métodos head e describe para avaliar os dados e eventuais valores atípicos.\n",
    "\n",
    "\n",
    "</div>\n",
    "\n"
   ]
  },
  {
   "cell_type": "markdown",
   "id": "251d2259",
   "metadata": {},
   "source": [
    "<div class=\"alert alert-success\">\n",
    "<strong>Comentário do revisor v2</strong>\n",
    "\n",
    "Perfeito\n",
    "</div>\n"
   ]
  },
  {
   "cell_type": "markdown",
   "id": "8RJHqxVmaVsF",
   "metadata": {
    "id": "8RJHqxVmaVsF"
   },
   "source": [
    "# Etapa 2\n",
    "\n",
    "Faça o pré-processamento dos dados da seguinte maneira:\n",
    "\n",
    "-\tVerifique e corrija os tipos de dados (por exemplo, certifique-se de que as colunas de ID sejam números inteiros)\n",
    "-\tIdentifique e preencha valores ausentes\n",
    "-\tIdentifique e remova valores duplicados\n",
    "\n",
    "Certifique-se de explicar que tipos de valores ausentes e duplicados você encontrou, como você os preencheu ou removeu, por que escolheu esses métodos e por que você acha que esses valores ausentes e duplicados estavam presentes no conjunto de dados.\n"
   ]
  },
  {
   "cell_type": "markdown",
   "id": "p6poABZQaZYb",
   "metadata": {
    "id": "p6poABZQaZYb"
   },
   "source": [
    "## Plano de solução\n",
    "\n",
    "1. Verificar a quantidade de valores unívocos e ausentes tenho no arquivo order_product.\n",
    "2. Se tivesse acesso a equipe iria verificar o que podem ser esses dados ausentes e a sua relevância.\n",
    "3. Verificar se há algum padrão de dados ausentes (se são da mesma categoria, do mesmo cliente)\n",
    "4. Com relação a valores duplicados, vou me basear nas colunas que devem ter valores unívocos para cada arquivo."
   ]
  },
  {
   "cell_type": "markdown",
   "id": "07357848-dc64-4156-9cc3-01ff4365226d",
   "metadata": {
    "id": "07357848-dc64-4156-9cc3-01ff4365226d"
   },
   "source": [
    "## Encontre e remova valores duplicados (e descreva por que você está fazendo suas escolhas)"
   ]
  },
  {
   "cell_type": "markdown",
   "id": "f179f0a9",
   "metadata": {
    "id": "f179f0a9"
   },
   "source": [
    "### DataFrame `orders`"
   ]
  },
  {
   "cell_type": "code",
   "execution_count": 64,
   "id": "b99297a5-405a-463d-8535-9adc3da4ad74",
   "metadata": {
    "id": "b99297a5-405a-463d-8535-9adc3da4ad74"
   },
   "outputs": [],
   "source": [
    "# Verifique se há pedidos duplicados"
   ]
  },
  {
   "cell_type": "code",
   "execution_count": 65,
   "id": "69e05074",
   "metadata": {},
   "outputs": [
    {
     "name": "stdout",
     "output_type": "stream",
     "text": [
      "        order_id  user_id  order_number  order_dow  order_hour_of_day  \\\n",
      "145574    794638    50898            24          3                  2   \n",
      "223105   2160484   107525            16          3                  2   \n",
      "230807   1918001   188546            14          3                  2   \n",
      "266232   1782114   106752             1          3                  2   \n",
      "273805   1112182   202304            84          3                  2   \n",
      "284038   2845099    31189            11          3                  2   \n",
      "311713   1021560    53767             3          3                  2   \n",
      "321100    408114    68324             4          3                  2   \n",
      "323900   1919531   191501            32          3                  2   \n",
      "345917   2232988    82565             1          3                  2   \n",
      "371905    391768    57671            19          3                  2   \n",
      "394347    467134    63189            21          3                  2   \n",
      "411408   1286742   183220            48          3                  2   \n",
      "415163   2282673    86751            49          3                  2   \n",
      "441599   2125197    14050            48          3                  2   \n",
      "\n",
      "        days_since_prior_order  \n",
      "145574                    2.00  \n",
      "223105                   30.00  \n",
      "230807                   16.00  \n",
      "266232                     NaN  \n",
      "273805                    6.00  \n",
      "284038                    7.00  \n",
      "311713                    9.00  \n",
      "321100                   18.00  \n",
      "323900                    7.00  \n",
      "345917                     NaN  \n",
      "371905                   10.00  \n",
      "394347                    2.00  \n",
      "411408                    4.00  \n",
      "415163                    2.00  \n",
      "441599                    3.00  \n"
     ]
    }
   ],
   "source": [
    "print(df_orders[df_orders.duplicated(subset='order_id')==True])"
   ]
  },
  {
   "cell_type": "markdown",
   "id": "PEkwUX_gvt5A",
   "metadata": {
    "id": "PEkwUX_gvt5A"
   },
   "source": [
    "#### As linhas duplicadas são todas de pedidos feitos na quarta-feira às 2h"
   ]
  },
  {
   "cell_type": "code",
   "execution_count": 66,
   "id": "0d44de5d",
   "metadata": {
    "id": "0d44de5d"
   },
   "outputs": [
    {
     "name": "stdout",
     "output_type": "stream",
     "text": [
      "order_id                  121\n",
      "user_id                   121\n",
      "order_number              121\n",
      "order_dow                 121\n",
      "order_hour_of_day         121\n",
      "days_since_prior_order    114\n",
      "dtype: int64\n",
      "\n",
      "106\n"
     ]
    }
   ],
   "source": [
    "# Com base nas suas conclusões,\n",
    "\n",
    "# verifique todos os pedidos feitos às 2h da manhã nas quartas-feiras\n",
    "filtered_df_orders = df_orders[(df_orders['order_dow'] == 3) & (df_orders['order_hour_of_day'] == 2)]\n",
    "print(filtered_df_orders.count())\n",
    "print()\n",
    "print(filtered_df_orders['order_id'].nunique())\n"
   ]
  },
  {
   "cell_type": "markdown",
   "id": "vu2OWyoqwOx5",
   "metadata": {
    "id": "vu2OWyoqwOx5"
   },
   "source": [
    "Desta maneira podemos concluir que temos 15 pedidos duplicados feito às 2h da manhã na quarta-feira."
   ]
  },
  {
   "cell_type": "code",
   "execution_count": 67,
   "id": "480563c7",
   "metadata": {
    "id": "480563c7"
   },
   "outputs": [],
   "source": [
    "df_orders.drop_duplicates(inplace=True)"
   ]
  },
  {
   "cell_type": "code",
   "execution_count": 68,
   "id": "0b2396a2",
   "metadata": {
    "id": "0b2396a2",
    "scrolled": true
   },
   "outputs": [
    {
     "name": "stdout",
     "output_type": "stream",
     "text": [
      "0\n"
     ]
    }
   ],
   "source": [
    "print(df_orders.duplicated(subset='order_id').sum())"
   ]
  },
  {
   "cell_type": "markdown",
   "id": "1bd43e50",
   "metadata": {
    "id": "f6113ef1"
   },
   "source": [
    "#### Removi os  valores de order_id, que são unívocos, desta maneira elimando valores duplicados"
   ]
  },
  {
   "cell_type": "markdown",
   "id": "a3d0840e",
   "metadata": {},
   "source": [
    "<div class=\"alert alert-success\">\n",
    "<strong>Comentário do revisor v1</strong>\n",
    "\n",
    "Bom trabalho detectando e eliminando os duplicados\n",
    "</div>\n",
    "\n"
   ]
  },
  {
   "cell_type": "markdown",
   "id": "45e6bc46",
   "metadata": {
    "id": "45e6bc46"
   },
   "source": [
    "### DataFrame `products`"
   ]
  },
  {
   "cell_type": "code",
   "execution_count": 69,
   "id": "5f526b5b-8175-46fa-a0fd-441767d50e64",
   "metadata": {
    "id": "5f526b5b-8175-46fa-a0fd-441767d50e64"
   },
   "outputs": [
    {
     "name": "stdout",
     "output_type": "stream",
     "text": [
      "Empty DataFrame\n",
      "Columns: [product_id, product_name, aisle_id, department_id]\n",
      "Index: []\n"
     ]
    }
   ],
   "source": [
    "#verificando se há linhas totalmente duplicadas, ou seja, se tem produtos duplicados.\n",
    "print(df_products[df_products.duplicated()==True])"
   ]
  },
  {
   "cell_type": "markdown",
   "id": "9c748c2b",
   "metadata": {},
   "source": [
    "#### Desta maneira pode ser perceber que não temos linhas totalmente duplicadas"
   ]
  },
  {
   "cell_type": "code",
   "execution_count": 70,
   "id": "88daa4f4",
   "metadata": {
    "id": "88daa4f4"
   },
   "outputs": [
    {
     "name": "stdout",
     "output_type": "stream",
     "text": [
      "Empty DataFrame\n",
      "Columns: [product_id, product_name, aisle_id, department_id]\n",
      "Index: []\n"
     ]
    }
   ],
   "source": [
    "# Verifique apenas se há IDs dos produtos duplicados\n",
    "print(df_products[df_products.duplicated(subset='product_id')==True])"
   ]
  },
  {
   "cell_type": "markdown",
   "id": "c5a49996",
   "metadata": {},
   "source": [
    "#### Não temos id de produto duplicado"
   ]
  },
  {
   "cell_type": "code",
   "execution_count": 71,
   "id": "c773f0bf",
   "metadata": {
    "id": "c773f0bf"
   },
   "outputs": [
    {
     "name": "stdout",
     "output_type": "stream",
     "text": [
      "0                           chocolate sandwich cookies\n",
      "1                                     all-seasons salt\n",
      "2                 robust golden unsweetened oolong tea\n",
      "3    smart ones classic favorites mini rigatoni wit...\n",
      "4                            green chile anytime sauce\n",
      "Name: product_name, dtype: object\n",
      "\n",
      "1361\n"
     ]
    }
   ],
   "source": [
    "#Colocando todas os nomes dos produtos em minúsculo, acessando os métodos .str, para verificar se temos nomes duplicados\n",
    "df_products['product_name'] = df_products['product_name'].str.lower()\n",
    "print(df_products['product_name'].head())\n",
    "print()\n",
    "print(df_products.duplicated(subset='product_name').sum()) "
   ]
  },
  {
   "cell_type": "markdown",
   "id": "575949b0",
   "metadata": {},
   "source": [
    "#### Temos 1361 valores duplicados, mas pela análise das informações do DataFrame temos valores ausentes sendo contabilizados"
   ]
  },
  {
   "cell_type": "code",
   "execution_count": 72,
   "id": "01efd02e",
   "metadata": {
    "id": "01efd02e"
   },
   "outputs": [
    {
     "name": "stdout",
     "output_type": "stream",
     "text": [
      "product_id  product_name                              aisle_id  department_id\n",
      "2059        biotin 1000 mcg                           47        11               1\n",
      "5456        green tea with ginseng and honey          96        20               1\n",
      "44088       ibuprofen tablets 200 mg                  133       11               1\n",
      "44079       blanc de noirs                            134       5                1\n",
      "43872       original bbq sauce                        5         13               1\n",
      "                                                                                ..\n",
      "29731       potatoes o'brien with onions and peppers  129       1                1\n",
      "29518       beef chili with beans                     59        15               1\n",
      "26990       candy bar                                 45        19               1\n",
      "26727       nutrition protein mix blueberry nut       125       19               1\n",
      "49694       burrito- steak & cheese                   38        1                1\n",
      "Length: 104, dtype: int64\n"
     ]
    }
   ],
   "source": [
    "#Filtrar os valores duplicados que não são ausentes\n",
    "\n",
    "print(df_products[((df_products['product_name'].isna())==False) & ((df_products.duplicated(subset='product_name'))==True)].value_counts())"
   ]
  },
  {
   "cell_type": "markdown",
   "id": "9da8d293",
   "metadata": {
    "id": "9da8d293"
   },
   "source": [
    "#### Temos 104 nomes de produtos duplicados que não são valores ausentes"
   ]
  },
  {
   "cell_type": "markdown",
   "id": "56814b30",
   "metadata": {},
   "source": [
    "<div class=\"alert alert-success\">\n",
    "<strong>Comentário do revisor v1</strong>\n",
    "\n",
    "Excelente trabalho com essa detecção. Muito bom!\n",
    "</div>\n",
    "\n"
   ]
  },
  {
   "cell_type": "markdown",
   "id": "60f30db1",
   "metadata": {
    "id": "60f30db1"
   },
   "source": [
    "### DataFrame `departments`"
   ]
  },
  {
   "cell_type": "code",
   "execution_count": 73,
   "id": "fb410ad4-0fbf-4b80-bb09-23fdea79afe3",
   "metadata": {
    "id": "fb410ad4-0fbf-4b80-bb09-23fdea79afe3"
   },
   "outputs": [
    {
     "name": "stdout",
     "output_type": "stream",
     "text": [
      "0\n"
     ]
    }
   ],
   "source": [
    "#Verificar se temos linhas totalmente duplicadas\n",
    "print(df_departments.duplicated().sum())"
   ]
  },
  {
   "cell_type": "code",
   "execution_count": 74,
   "id": "332b12bb",
   "metadata": {
    "id": "332b12bb"
   },
   "outputs": [
    {
     "name": "stdout",
     "output_type": "stream",
     "text": [
      "0\n"
     ]
    }
   ],
   "source": [
    "#Verificar se temos id, que são unívocos, dos departamentos duplicados\n",
    "print(df_departments.duplicated(subset='department_id').sum())"
   ]
  },
  {
   "cell_type": "markdown",
   "id": "bd30d78e",
   "metadata": {
    "id": "bd30d78e"
   },
   "source": [
    "#### Neste arquvivo não temos linhas nem id duplicados"
   ]
  },
  {
   "cell_type": "markdown",
   "id": "889349c1",
   "metadata": {
    "id": "889349c1"
   },
   "source": [
    "### DataFrame `aisles`"
   ]
  },
  {
   "cell_type": "code",
   "execution_count": 75,
   "id": "9da89fb9-4679-40f5-ad0d-c34df753a3f8",
   "metadata": {
    "id": "9da89fb9-4679-40f5-ad0d-c34df753a3f8"
   },
   "outputs": [
    {
     "name": "stdout",
     "output_type": "stream",
     "text": [
      "0\n"
     ]
    }
   ],
   "source": [
    "#Verificar se temos linhas totalmente duplicadas\n",
    "print(df_aisles.duplicated().sum())"
   ]
  },
  {
   "cell_type": "code",
   "execution_count": 76,
   "id": "da7c2822",
   "metadata": {
    "id": "da7c2822"
   },
   "outputs": [
    {
     "name": "stdout",
     "output_type": "stream",
     "text": [
      "0\n"
     ]
    }
   ],
   "source": [
    "#Verificar se temos id, que são unívocos, das categorias duplicados\n",
    "print(df_aisles.duplicated('aisle_id').sum())"
   ]
  },
  {
   "cell_type": "markdown",
   "id": "ac63826f",
   "metadata": {
    "id": "ac63826f"
   },
   "source": [
    "#### Neste arquvivo não temos linhas nem id duplicados"
   ]
  },
  {
   "cell_type": "markdown",
   "id": "274cd06a",
   "metadata": {
    "id": "274cd06a"
   },
   "source": [
    "### DataFrame `order_products`"
   ]
  },
  {
   "cell_type": "code",
   "execution_count": 77,
   "id": "52326689-84a8-4b8f-a881-7c68780f62c9",
   "metadata": {
    "id": "52326689-84a8-4b8f-a881-7c68780f62c9"
   },
   "outputs": [
    {
     "name": "stdout",
     "output_type": "stream",
     "text": [
      "0\n"
     ]
    }
   ],
   "source": [
    "#Verificar se temos linhas totalmente duplicadas\n",
    "print(df_order_products.duplicated().sum())"
   ]
  },
  {
   "cell_type": "code",
   "execution_count": 78,
   "id": "7b861391",
   "metadata": {
    "id": "7b861391"
   },
   "outputs": [
    {
     "name": "stdout",
     "output_type": "stream",
     "text": [
      "0\n"
     ]
    }
   ],
   "source": [
    "#Verificar se temos alguma linha em que o order_id e product_id são repetidos\n",
    "print(df_order_products.duplicated(subset=['order_id','product_id']).sum())\n",
    "\n"
   ]
  },
  {
   "cell_type": "markdown",
   "id": "9202903c",
   "metadata": {},
   "source": [
    "<div class=\"alert alert-success\">\n",
    "<strong>Comentário do revisor v1</strong>\n",
    "\n",
    "Bom trabalho nessa sessão!\n",
    "</div>\n",
    "\n"
   ]
  },
  {
   "cell_type": "markdown",
   "id": "1e46de76",
   "metadata": {
    "id": "1e46de76"
   },
   "source": [
    "## Encontre e remova valores ausentes\n",
    "\n",
    "\n",
    "Ao processarmos valores duplicados, observamos que também temos valores ausentes que precisamos investigar nas seguintes colunas:\n",
    "\n",
    "*\tA coluna `'product_name'` da tabela products.\n",
    "*\tA coluna `'days_since_prior_order'` da tabela orders.\n",
    "*\tA coluna `'add_to_cart_order'` da tabela order_products.\n"
   ]
  },
  {
   "cell_type": "markdown",
   "id": "c0aebd78",
   "metadata": {
    "id": "c0aebd78"
   },
   "source": [
    "### DataFrame `products`"
   ]
  },
  {
   "cell_type": "code",
   "execution_count": 79,
   "id": "fe4a8b0f",
   "metadata": {
    "id": "fe4a8b0f"
   },
   "outputs": [
    {
     "name": "stdout",
     "output_type": "stream",
     "text": [
      "       product_id product_name  aisle_id  department_id\n",
      "37             38          NaN       100             21\n",
      "71             72          NaN       100             21\n",
      "109           110          NaN       100             21\n",
      "296           297          NaN       100             21\n",
      "416           417          NaN       100             21\n",
      "...           ...          ...       ...            ...\n",
      "49552       49553          NaN       100             21\n",
      "49574       49575          NaN       100             21\n",
      "49640       49641          NaN       100             21\n",
      "49663       49664          NaN       100             21\n",
      "49668       49669          NaN       100             21\n",
      "\n",
      "[1258 rows x 4 columns]\n",
      "\n",
      "21    1258\n",
      "Name: department_id, dtype: int64\n",
      "\n",
      "100    1258\n",
      "Name: aisle_id, dtype: int64\n"
     ]
    }
   ],
   "source": [
    "# Encontre valores ausentes na coluna 'product_name'\n",
    "print(df_products[df_products['product_name'].isna()])\n",
    "print()\n",
    "print(df_products[df_products['product_name'].isna()]['department_id'].value_counts())\n",
    "print()\n",
    "print(df_products[df_products['product_name'].isna()]['aisle_id'].value_counts())"
   ]
  },
  {
   "cell_type": "markdown",
   "id": "-A6x1AbJhjkp",
   "metadata": {
    "id": "-A6x1AbJhjkp"
   },
   "source": [
    "#### Todos os valores ausentes são da mesma categoria (100) e do mesmo departamento(21)"
   ]
  },
  {
   "cell_type": "code",
   "execution_count": 80,
   "id": "325c3464",
   "metadata": {
    "id": "325c3464"
   },
   "outputs": [
    {
     "name": "stdout",
     "output_type": "stream",
     "text": [
      "    department_id department\n",
      "20             21    missing\n",
      "\n",
      "    aisle_id    aisle\n",
      "99       100  missing\n"
     ]
    }
   ],
   "source": [
    "# Use as tabelas de departamentos e seções para verificar os dados da seção ID 100 e do departamento ID 21.\n",
    "print(df_departments[df_departments['department_id']==21])\n",
    "print()\n",
    "print(df_aisles[df_aisles['aisle_id']==100])"
   ]
  },
  {
   "cell_type": "markdown",
   "id": "nqhSTUPhhvEJ",
   "metadata": {
    "id": "nqhSTUPhhvEJ"
   },
   "source": [
    "#### Os nomes de produtos que estão faltando pertecem a seção e departamento de produtos faltantes"
   ]
  },
  {
   "cell_type": "code",
   "execution_count": 81,
   "id": "6b295120",
   "metadata": {
    "id": "6b295120"
   },
   "outputs": [
    {
     "name": "stdout",
     "output_type": "stream",
     "text": [
      "product_id      0.00\n",
      "product_name    0.00\n",
      "aisle_id        0.00\n",
      "department_id   0.00\n",
      "dtype: float64\n"
     ]
    }
   ],
   "source": [
    "#Preenchimento dos valores ausentes\n",
    "df_products['product_name'].fillna('Unknown', inplace=True)\n",
    "print(df_products[df_products['product_name'].isna()].sum())"
   ]
  },
  {
   "cell_type": "markdown",
   "id": "fc70e5ad",
   "metadata": {
    "id": "fc70e5ad"
   },
   "source": [
    "Através do uso do método `fillna()` foi feito a substituição dos valores ausentes pela string 'unknown'"
   ]
  },
  {
   "cell_type": "markdown",
   "id": "4943abf9",
   "metadata": {},
   "source": [
    "<div class=\"alert alert-success\">\n",
    "<strong>Comentário do revisor v1</strong>\n",
    "\n",
    "Bom trabalho com a detecção, conclusão e tratamento dos ausentes dessa tabela!\n",
    "</div>\n",
    "\n"
   ]
  },
  {
   "cell_type": "markdown",
   "id": "7eb45c86",
   "metadata": {
    "id": "7eb45c86"
   },
   "source": [
    "### DataFrame `orders`"
   ]
  },
  {
   "cell_type": "code",
   "execution_count": 82,
   "id": "93e41d96",
   "metadata": {
    "id": "93e41d96"
   },
   "outputs": [
    {
     "name": "stdout",
     "output_type": "stream",
     "text": [
      "        order_id  user_id  order_number  order_dow  order_hour_of_day  \\\n",
      "28        133707   182261             1          3                 10   \n",
      "96        787445    25685             1          6                 18   \n",
      "100       294410   111449             1          0                 19   \n",
      "103      2869915   123958             1          4                 16   \n",
      "104      2521921    42286             1          3                 18   \n",
      "...          ...      ...           ...        ...                ...   \n",
      "478895   2589657   205028             1          0                 16   \n",
      "478896   2222353   141211             1          2                 13   \n",
      "478922   2272807   204154             1          1                 15   \n",
      "478926   2499542    68810             1          4                 19   \n",
      "478945   1387033    22496             1          5                 14   \n",
      "\n",
      "        days_since_prior_order  \n",
      "28                         NaN  \n",
      "96                         NaN  \n",
      "100                        NaN  \n",
      "103                        NaN  \n",
      "104                        NaN  \n",
      "...                        ...  \n",
      "478895                     NaN  \n",
      "478896                     NaN  \n",
      "478922                     NaN  \n",
      "478926                     NaN  \n",
      "478945                     NaN  \n",
      "\n",
      "[28817 rows x 6 columns]\n"
     ]
    }
   ],
   "source": [
    "# Encontre os valores ausentes\n",
    "print(df_orders[df_orders['days_since_prior_order'].isna()])"
   ]
  },
  {
   "cell_type": "markdown",
   "id": "84a8f3c3",
   "metadata": {},
   "source": [
    "#### Após avaliar pode-se observar um padrão de que os valores ausentes correspondem ao valor 1 da coluna order_number, que faz referência ao número de vezes que o cliente já fez pedido"
   ]
  },
  {
   "cell_type": "code",
   "execution_count": 83,
   "id": "166e5a86",
   "metadata": {
    "id": "166e5a86"
   },
   "outputs": [
    {
     "name": "stdout",
     "output_type": "stream",
     "text": [
      "1    28817\n",
      "Name: order_number, dtype: int64\n"
     ]
    }
   ],
   "source": [
    "#Verificando se todos os valores ausentes correspondem ao primeiro pedido\n",
    "print(df_orders[df_orders['days_since_prior_order'].isna()]['order_number'].value_counts())"
   ]
  },
  {
   "cell_type": "markdown",
   "id": "4e23d089",
   "metadata": {
    "id": "4e23d089"
   },
   "source": [
    "#### Podemos concluir que todos os valores que estão ausentes na coluna days_since_prior_order são de clientes que compraram pela primeira vez"
   ]
  },
  {
   "cell_type": "code",
   "execution_count": 84,
   "id": "080f9ffb",
   "metadata": {},
   "outputs": [
    {
     "name": "stdout",
     "output_type": "stream",
     "text": [
      "0\n"
     ]
    }
   ],
   "source": [
    "#Substituir os valores ausentes por 0\n",
    "df_orders['days_since_prior_order'].fillna(0, inplace=True)\n",
    "print(df_orders['days_since_prior_order'].isna().sum())"
   ]
  },
  {
   "cell_type": "markdown",
   "id": "a723f91d",
   "metadata": {},
   "source": [
    "<div class=\"alert alert-success\">\n",
    "<strong>Comentário do revisor v1</strong>\n",
    "\n",
    "Bom trabalho com a detecção. Estou de acordo com a decisão.\n",
    "</div>\n",
    "\n"
   ]
  },
  {
   "cell_type": "markdown",
   "id": "69dc9ca4",
   "metadata": {
    "id": "69dc9ca4"
   },
   "source": [
    "### DataFrame `order_products`"
   ]
  },
  {
   "cell_type": "code",
   "execution_count": 85,
   "id": "b8240253",
   "metadata": {
    "id": "b8240253"
   },
   "outputs": [
    {
     "name": "stdout",
     "output_type": "stream",
     "text": [
      "836\n"
     ]
    }
   ],
   "source": [
    "#Verificando a quantidade de itens ausentes na coluna add_to_cart_order\n",
    "print(df_order_products['add_to_cart_order'].isna().sum())"
   ]
  },
  {
   "cell_type": "code",
   "execution_count": 86,
   "id": "b4663e42",
   "metadata": {},
   "outputs": [
    {
     "name": "stdout",
     "output_type": "stream",
     "text": [
      "         order_id  product_id  add_to_cart_order  reordered\n",
      "737       2449164        5068                NaN          0\n",
      "9926      1968313       43867                NaN          0\n",
      "14394     2926893       11688                NaN          0\n",
      "16418     1717990        4142                NaN          0\n",
      "30114     1959075       42828                NaN          1\n",
      "...           ...         ...                ...        ...\n",
      "4505662   1800005        7411                NaN          0\n",
      "4511400   1633337         260                NaN          0\n",
      "4517562    404157        9517                NaN          0\n",
      "4534112   1673227       17835                NaN          0\n",
      "4535739   1832957       17949                NaN          1\n",
      "\n",
      "[836 rows x 4 columns]\n"
     ]
    }
   ],
   "source": [
    "print(df_order_products[df_order_products['add_to_cart_order'].isna()])"
   ]
  },
  {
   "cell_type": "code",
   "execution_count": 87,
   "id": "9a78e5ee",
   "metadata": {
    "id": "9a78e5ee"
   },
   "outputs": [
    {
     "name": "stdout",
     "output_type": "stream",
     "text": [
      "        order_id  product_id  add_to_cart_order  reordered\n",
      "count 4545007.00  4545007.00         4544171.00 4545007.00\n",
      "mean  1711165.93    25580.84               8.35       0.59\n",
      "std    985095.50    14095.52               7.08       0.49\n",
      "min         4.00        1.00               1.00       0.00\n",
      "25%    860817.00    13535.00               3.00       0.00\n",
      "50%   1711530.00    25272.00               6.00       1.00\n",
      "75%   2561311.00    37935.00              11.00       1.00\n",
      "max   3421079.00    49694.00              64.00       1.00\n"
     ]
    }
   ],
   "source": [
    "# Quais são os valores mínimo e máximo dessa coluna?\n",
    "pd.set_option('display.float_format', '{:.2f}'.format)\n",
    "print(df_order_products.describe())"
   ]
  },
  {
   "cell_type": "markdown",
   "id": "-Z2Ja215jW78",
   "metadata": {
    "id": "-Z2Ja215jW78"
   },
   "source": [
    "#### Podemos concluir que o maior pedido teve 64 itens"
   ]
  },
  {
   "cell_type": "code",
   "execution_count": 88,
   "id": "ab9d0c2b",
   "metadata": {
    "id": "ab9d0c2b"
   },
   "outputs": [],
   "source": [
    "# Salve todos os IDs dos pedidos com pelo menos um valor ausente em 'add_to_cart_order'\n",
    "df_order_id_NaN = df_order_products[df_order_products['add_to_cart_order'].isna()]['order_id']\n"
   ]
  },
  {
   "cell_type": "code",
   "execution_count": 89,
   "id": "54c31695",
   "metadata": {
    "id": "54c31695"
   },
   "outputs": [
    {
     "name": "stdout",
     "output_type": "stream",
     "text": [
      "          product_id  add_to_cart_order  reordered\n",
      "order_id                                          \n",
      "9310               1                  0          1\n",
      "61355             63                  0         63\n",
      "102236            31                  0         31\n",
      "129627             5                  0          5\n",
      "165801             6                  0          6\n",
      "...              ...                ...        ...\n",
      "2999801            6                  0          6\n",
      "3125735           22                  0         22\n",
      "3308010           51                  0         51\n",
      "3347453            7                  0          7\n",
      "3383594            5                  0          5\n",
      "\n",
      "[70 rows x 3 columns]\n"
     ]
    }
   ],
   "source": [
    "# Todos os pedidos com valores ausentes contêm mais de 64 produtos?\n",
    "# Agrupe os pedidos com dados ausentes por ID de pedido\n",
    "# Conte o número de 'product_id' em cada pedido e verifique o valor mínimo da contagem\n",
    "\n",
    "print(df_order_products[df_order_products['add_to_cart_order'].isna()].groupby('order_id').count())"
   ]
  },
  {
   "cell_type": "markdown",
   "id": "p9V6pddtjglj",
   "metadata": {
    "id": "p9V6pddtjglj"
   },
   "source": [
    "#### Não tem um padrão com relação aos valores ausentes de add_to_cart_order"
   ]
  },
  {
   "cell_type": "code",
   "execution_count": 90,
   "id": "7a987d08",
   "metadata": {
    "id": "7a987d08"
   },
   "outputs": [
    {
     "name": "stdout",
     "output_type": "stream",
     "text": [
      "order_id            0.00\n",
      "product_id          0.00\n",
      "add_to_cart_order   0.00\n",
      "reordered           0.00\n",
      "dtype: float64\n",
      "\n",
      "<class 'pandas.core.frame.DataFrame'>\n",
      "RangeIndex: 4545007 entries, 0 to 4545006\n",
      "Data columns (total 4 columns):\n",
      " #   Column             Dtype\n",
      "---  ------             -----\n",
      " 0   order_id           int64\n",
      " 1   product_id         int64\n",
      " 2   add_to_cart_order  int64\n",
      " 3   reordered          int64\n",
      "dtypes: int64(4)\n",
      "memory usage: 138.7 MB\n"
     ]
    }
   ],
   "source": [
    "# Substitua valores ausentes na coluna 'add_to_cart_order' por 999 e converta a coluna para o tipo integer\n",
    "df_order_products['add_to_cart_order'].fillna(999, inplace=True)\n",
    "print(df_order_products[df_order_products['add_to_cart_order'].isna()].sum())\n",
    "df_order_products['add_to_cart_order'] = df_order_products['add_to_cart_order'].astype('int')\n",
    "print()\n",
    "df_order_products.info()"
   ]
  },
  {
   "cell_type": "markdown",
   "id": "e09384a2",
   "metadata": {},
   "source": [
    "<div class=\"alert alert-success\">\n",
    "<strong>Comentário do revisor v1</strong>\n",
    "\n",
    "Bom trabalho novamente com essa variável \n",
    "</div>\n",
    "\n"
   ]
  },
  {
   "cell_type": "markdown",
   "id": "RnplPFY1gSrb",
   "metadata": {
    "id": "RnplPFY1gSrb"
   },
   "source": [
    "## Conclusões\n",
    "\n",
    "Foi feito o tratamento de valores ausentes e removidos valores duplicados. Desta maneira temos os dados tratados para serem analisados"
   ]
  },
  {
   "cell_type": "markdown",
   "id": "UjrOIwTcz3ri",
   "metadata": {
    "id": "UjrOIwTcz3ri"
   },
   "source": [
    "# Etapa 3:\n",
    "\n",
    "Quando os dados estiverem processados e prontos, execute a seguinte análise:"
   ]
  },
  {
   "cell_type": "markdown",
   "id": "turkish-kidney",
   "metadata": {
    "id": "turkish-kidney"
   },
   "source": [
    "# [A] Fácil (é necessário concluir tudo para passar)\n",
    "\n",
    "1.\tVerifique se os valores nas colunas `'order_hour_of_day'` e `'order_dow'` na tabela `orders` fazem sentido (ou seja, os valores da coluna  `'order_hour_of_day'` variam de 0 a 23 e os da `'order_dow'` variam de 0 a 6).\n",
    "2.\tCrie um gráfico que mostre quantas pessoas fazem pedidos por cada hora do dia.\n",
    "3.\tCrie um gráfico que mostre em que dia da semana as pessoas fazem compras.\n",
    "4.\tCrie um gráfico que mostre quanto tempo as pessoas esperam até fazer seu próximo pedido e comente sobre os valores mínimo e máximo.\n"
   ]
  },
  {
   "cell_type": "markdown",
   "id": "short-capability",
   "metadata": {
    "id": "short-capability"
   },
   "source": [
    "### [A1] Verifique se os valores fazem sentido"
   ]
  },
  {
   "cell_type": "markdown",
   "id": "0c70e43a",
   "metadata": {},
   "source": [
    "1.\tVerifique se os valores da coluna  `'order_hour_of_day'` variam de 0 a 23"
   ]
  },
  {
   "cell_type": "code",
   "execution_count": 91,
   "id": "growing-fruit",
   "metadata": {
    "id": "growing-fruit"
   },
   "outputs": [
    {
     "name": "stdout",
     "output_type": "stream",
     "text": [
      "count   478952.00\n",
      "mean        13.45\n",
      "std          4.22\n",
      "min          0.00\n",
      "25%         10.00\n",
      "50%         13.00\n",
      "75%         16.00\n",
      "max         23.00\n",
      "Name: order_hour_of_day, dtype: float64\n"
     ]
    }
   ],
   "source": [
    "print(df_orders['order_hour_of_day'].describe())"
   ]
  },
  {
   "cell_type": "code",
   "execution_count": 92,
   "id": "f86aeebc",
   "metadata": {},
   "outputs": [
    {
     "name": "stdout",
     "output_type": "stream",
     "text": [
      "count   478952.00\n",
      "mean         2.78\n",
      "std          2.05\n",
      "min          0.00\n",
      "25%          1.00\n",
      "50%          3.00\n",
      "75%          5.00\n",
      "max          6.00\n",
      "Name: order_dow, dtype: float64\n"
     ]
    }
   ],
   "source": [
    "print(df_orders['order_dow'].describe())"
   ]
  },
  {
   "cell_type": "markdown",
   "id": "hmR2GNQ6lCsX",
   "metadata": {
    "id": "hmR2GNQ6lCsX"
   },
   "source": [
    "Os valores das colunas `'order_hour_of_day'` e `'order_dow'` fazem sentido pois estão dentro dos ranges esperados para as unidades representativas"
   ]
  },
  {
   "cell_type": "markdown",
   "id": "b7349c33",
   "metadata": {},
   "source": [
    "<div class=\"alert alert-success\">\n",
    "<strong>Comentário do revisor v1</strong>\n",
    "\n",
    "Correto!\n",
    "</div>\n",
    "\n"
   ]
  },
  {
   "cell_type": "markdown",
   "id": "a6743a70",
   "metadata": {
    "id": "a6743a70"
   },
   "source": [
    "### [A2] Em que horas do dia as pessoas fazem compras?"
   ]
  },
  {
   "cell_type": "code",
   "execution_count": 93,
   "id": "a36cca27",
   "metadata": {
    "id": "a36cca27"
   },
   "outputs": [
    {
     "data": {
      "image/png": "[encoded data removed]",
      "text/plain": [
       "<Figure size 432x288 with 1 Axes>"
      ]
     },
     "metadata": {
      "needs_background": "light"
     },
     "output_type": "display_data"
    }
   ],
   "source": [
    "df_orders['order_hour_of_day'].plot(kind='hist',bins=20, xlabel= 'hours(0h-23h)', ylabel='Numbers of  orders', title='Sales x hour',grid=True)\n",
    "plt.show()"
   ]
  },
  {
   "cell_type": "markdown",
   "id": "11270eed",
   "metadata": {
    "id": "11270eed"
   },
   "source": [
    "2. Através do gráfico de histograma é possível avaliar as frequência de ocorrências de uma determinada variável, no nosso caso a hora das vendas.\n",
    "\n",
    "    Desta forma pode-se inferir que 15h é o horário com o maior número de pedidos"
   ]
  },
  {
   "cell_type": "markdown",
   "id": "d0f2007a",
   "metadata": {},
   "source": [
    "<div class=\"alert alert-success\">\n",
    "<strong>Comentário do revisor v1</strong>\n",
    "\n",
    "Bem executado o histograma, muito bom!\n",
    "</div>"
   ]
  },
  {
   "cell_type": "markdown",
   "id": "documented-command",
   "metadata": {
    "id": "documented-command"
   },
   "source": [
    "### [A3] Em que dia da semana as pessoas fazem compras?"
   ]
  },
  {
   "cell_type": "code",
   "execution_count": 116,
   "id": "chief-digit",
   "metadata": {
    "id": "chief-digit"
   },
   "outputs": [
    {
     "data": {
      "image/png": "[encoded data removed]",
      "text/plain": [
       "<Figure size 432x288 with 1 Axes>"
      ]
     },
     "metadata": {
      "needs_background": "light"
     },
     "output_type": "display_data"
    }
   ],
   "source": [
    "df_orders['order_dow'].value_counts().plot(kind='bar',x='order_dow',xlabel='Week Day', ylabel='Sales Quantity(units)',title='Sales x Wekday')\n",
    "plt.show()"
   ]
  },
  {
   "cell_type": "markdown",
   "id": "dominant-lightning",
   "metadata": {
    "id": "dominant-lightning"
   },
   "source": [
    "3. Os dias que mais temos vendas são no domingo e na segunda"
   ]
  },
  {
   "cell_type": "markdown",
   "id": "0153e10d",
   "metadata": {},
   "source": [
    "<div class=\"alert alert-danger\">\n",
    "<strong>Comentário do revisor v1</strong>\n",
    "\n",
    "De acordo com sua análise! Muito bom!\n",
    "    \n",
    "No entanto as barras grudadas em alguns casos e não grudadas em outrs dá uma sensação de descontinuidade que não faz muito sentido aqui dado que temos valores de 0 - 6. Vale a pena trocar o histograma por um gráfico de barras para mitigar essa questão.\n",
    "</div>"
   ]
  },
  {
   "cell_type": "markdown",
   "id": "443127ec",
   "metadata": {},
   "source": [
    "<div class=\"alert alert-success\">\n",
    "<strong>Comentário do revisor v2</strong>\n",
    "\n",
    "Muito bom!\n",
    "</div>\n"
   ]
  },
  {
   "cell_type": "markdown",
   "id": "cutting-concert",
   "metadata": {
    "id": "cutting-concert"
   },
   "source": [
    "### [A4] Quanto tempo as pessoas esperam até fazer outro pedido?"
   ]
  },
  {
   "cell_type": "code",
   "execution_count": 95,
   "id": "c231f523",
   "metadata": {
    "id": "c231f523"
   },
   "outputs": [
    {
     "name": "stdout",
     "output_type": "stream",
     "text": [
      "count   157437.00\n",
      "mean        12.85\n",
      "std          8.88\n",
      "min          0.00\n",
      "25%          6.00\n",
      "50%         10.80\n",
      "75%         18.33\n",
      "max         30.00\n",
      "Name: days_since_prior_order, dtype: float64\n"
     ]
    },
    {
     "data": {
      "image/png": "[encoded data removed]",
      "text/plain": [
       "<Figure size 432x288 with 1 Axes>"
      ]
     },
     "metadata": {
      "needs_background": "light"
     },
     "output_type": "display_data"
    }
   ],
   "source": [
    "mean_time=df_orders.groupby(by='user_id')['days_since_prior_order'].mean()\n",
    "print(mean_time.describe())\n",
    "mean_time.plot(kind='hist', xlabel= 'Dias',title='Tempo média entre pedidos (dias)', grid=True)\n",
    "plt.show()"
   ]
  },
  {
   "cell_type": "markdown",
   "id": "discrete-vertex",
   "metadata": {
    "id": "discrete-vertex"
   },
   "source": [
    "#### O tempo médio entre um pedido e outro é de 14 dias. O tempo máximo é de 30 dias."
   ]
  },
  {
   "cell_type": "markdown",
   "id": "053e0c0b",
   "metadata": {},
   "source": [
    "<div class=\"alert alert-warning\">\n",
    "<strong>Comentário do revisor v1</strong>\n",
    "\n",
    "Excelente trabalho novamente nessa questão. \n",
    "Poderia ser interessante ter mais barras para termos mais detalhes do dia em questão.\n",
    "</div>"
   ]
  },
  {
   "cell_type": "markdown",
   "id": "tight-staff",
   "metadata": {
    "id": "tight-staff"
   },
   "source": [
    "# [B] Médio (é necessário concluir tudo para passar)\n",
    "\n",
    "1.\tHá alguma diferença nas distribuições de `'order_hour_of_day'` nas quartas e sábados? Construa histogramas para ambos os dias no mesmo gráfico e descreva as diferenças que você notou.\n",
    "2.\tConstrua um gráfico de distribuição para o número de pedidos que os clientes fazem (ou seja, quantos clientes fizeram apenas 1 pedido, quantos fizeram apenas 2, quantos apenas 3, etc.)\n",
    "3.\tQuais são os 20 produtos comprados com mais frequência? Exiba os IDs e nomes.\n"
   ]
  },
  {
   "cell_type": "markdown",
   "id": "packed-classic",
   "metadata": {
    "id": "packed-classic"
   },
   "source": [
    "### [B1] Diferenças nas quartas e sábados em `'order_hour_of_day'`. Crie histogramas para ambos os dias e descreva as diferenças."
   ]
  },
  {
   "cell_type": "code",
   "execution_count": 96,
   "id": "d89b8403",
   "metadata": {
    "id": "d89b8403"
   },
   "outputs": [
    {
     "data": {
      "image/png": "[encoded data removed]",
      "text/plain": [
       "<Figure size 432x288 with 1 Axes>"
      ]
     },
     "metadata": {
      "needs_background": "light"
     },
     "output_type": "display_data"
    }
   ],
   "source": [
    "df_orders[df_orders['order_dow']==3]['order_hour_of_day'].plot(kind='hist',title = 'Perfil de compra por dia da semana x hora',bins=40)\n",
    "df_orders[df_orders['order_dow']==6]['order_hour_of_day'].plot(kind='hist', bins=40, alpha=.6)\n",
    "plt.legend(['Quarta','Domingo'])    \n",
    "plt.show()                   "
   ]
  },
  {
   "cell_type": "markdown",
   "id": "charitable-congo",
   "metadata": {
    "id": "charitable-congo"
   },
   "source": [
    "#### A maior parte das compras nesses dias são feitas entre 10h e 15h. Mas no domingo o pico de compras é das 13h às 15h"
   ]
  },
  {
   "cell_type": "markdown",
   "id": "d7e575fd",
   "metadata": {},
   "source": [
    "<div class=\"alert alert-danger\">\n",
    "<strong>Comentário do revisor v1</strong>\n",
    "\n",
    "Gostei muito da escolha da visualização, ela revela uma diferença importante entre 10 e 14h. Acho importante abordar esse ponto na sua conclusão.\n",
    "</div>"
   ]
  },
  {
   "cell_type": "markdown",
   "id": "e3891143",
   "metadata": {
    "id": "e3891143"
   },
   "source": [
    "### [B2] Qual é a distribuição do número de pedidos por cliente?"
   ]
  },
  {
   "cell_type": "code",
   "execution_count": 97,
   "id": "0bcec2f1",
   "metadata": {},
   "outputs": [
    {
     "name": "stdout",
     "output_type": "stream",
     "text": [
      "count   157437.00\n",
      "mean        52.20\n",
      "std        110.10\n",
      "min          1.00\n",
      "25%          5.00\n",
      "50%         13.00\n",
      "75%         45.00\n",
      "max       1450.00\n",
      "Name: order_number, dtype: float64\n"
     ]
    }
   ],
   "source": [
    "orders_per_id = df_orders.groupby(by='user_id').order_number.sum()\n",
    "print(orders_per_id.describe())"
   ]
  },
  {
   "cell_type": "code",
   "execution_count": 98,
   "id": "d8c26c23",
   "metadata": {
    "id": "d8c26c23"
   },
   "outputs": [
    {
     "data": {
      "image/png": "[encoded data removed]",
      "text/plain": [
       "<Figure size 1440x360 with 3 Axes>"
      ]
     },
     "metadata": {
      "needs_background": "light"
     },
     "output_type": "display_data"
    }
   ],
   "source": [
    "plt.figure(figsize=[20,5])\n",
    "plt.subplot(131);orders_per_id.plot(kind='hist',bins=10,title='Quantidade de compras por cliente')\n",
    "plt.subplot(132);orders_per_id[orders_per_id<45].plot(kind='hist',title='Clientes que fizeram menos de 45 pedidos',bins=30)\n",
    "plt.subplot(133);orders_per_id[orders_per_id>45].plot(kind='hist',title='Clientes que fizeram mais de 45 pedidos',bins=10)\n",
    "plt.show()"
   ]
  },
  {
   "cell_type": "markdown",
   "id": "d2eff7d5",
   "metadata": {
    "id": "d2eff7d5"
   },
   "source": [
    "#### Para verificar a quantidade de compras por cliente agrupei o DataFrame pela coluna de usuário `user_id`,selecionou a coluna `order_numnber`(que tem os valores de pedidos por cliente) e combinei com a soma. \n",
    "\n",
    "    Ao utilizar a função describe, pude perceber que 75% dos clientes fizeram menos de 45 pedidos. Desta maneira separei em 3 gráficos. Priemiro para compras totais, segundo para compras menor que 45 e terceiro para compras maior que 45. Desta maneira pode-se perceber que a maior parte dos clientes fizeram menos de 10 pedidos. O cliente que mais fez pedidos foi de 1450 vezes."
   ]
  },
  {
   "cell_type": "markdown",
   "id": "e3626f12",
   "metadata": {},
   "source": [
    "<div class=\"alert alert-success\">\n",
    "<strong>Comentário do revisor v1</strong>\n",
    "\n",
    "Excelente visualzações integradas ao describe! Muito boa a conclusão também.\n",
    "</div>"
   ]
  },
  {
   "cell_type": "markdown",
   "id": "54a0319c",
   "metadata": {
    "id": "54a0319c"
   },
   "source": [
    "### [B3] Quais são os 20 produtos mais populares? Exiba os IDs e nomes."
   ]
  },
  {
   "cell_type": "code",
   "execution_count": 99,
   "id": "exterior-arizona",
   "metadata": {
    "id": "exterior-arizona",
    "scrolled": true
   },
   "outputs": [
    {
     "name": "stdout",
     "output_type": "stream",
     "text": [
      "product_id\n",
      "1        280\n",
      "2         11\n",
      "3         42\n",
      "4         49\n",
      "7          2\n",
      "        ... \n",
      "49690      5\n",
      "49691     72\n",
      "49692     12\n",
      "49693     25\n",
      "49694      9\n",
      "Name: order_id, Length: 45573, dtype: int64\n"
     ]
    }
   ],
   "source": [
    "#verificar quais são os ids de produtos mais vendidos\n",
    "products_quantity = df_order_products.groupby(by='product_id').order_id.count()\n",
    "print(products_quantity)\n"
   ]
  },
  {
   "cell_type": "code",
   "execution_count": 100,
   "id": "universal-facial",
   "metadata": {
    "id": "universal-facial"
   },
   "outputs": [
    {
     "name": "stdout",
     "output_type": "stream",
     "text": [
      "       product_id                                       product_name\n",
      "0               1                         chocolate sandwich cookies\n",
      "1               2                                   all-seasons salt\n",
      "2               3               robust golden unsweetened oolong tea\n",
      "3               4  smart ones classic favorites mini rigatoni wit...\n",
      "4               5                          green chile anytime sauce\n",
      "...           ...                                                ...\n",
      "49689       49690                      high performance energy drink\n",
      "49690       49691                      original pancake & waffle mix\n",
      "49691       49692    organic instant oatmeal light maple brown sugar\n",
      "49692       49693                             spring water body wash\n",
      "49693       49694                            burrito- steak & cheese\n",
      "\n",
      "[49694 rows x 2 columns]\n"
     ]
    }
   ],
   "source": [
    "#Realizar slicing no df_products para termos 2 linhas: product_id e product_name\n",
    "products_list=df_products.iloc[:,:2]\n",
    "print(products_list)\n",
    "\n"
   ]
  },
  {
   "cell_type": "code",
   "execution_count": 101,
   "id": "bbcdd20b",
   "metadata": {
    "id": "bbcdd20b"
   },
   "outputs": [
    {
     "name": "stdout",
     "output_type": "stream",
     "text": [
      "       product_id              product_name  quantity_sells\n",
      "24851       24852                    banana           66050\n",
      "13175       13176    bag of organic bananas           53297\n",
      "21136       21137      organic strawberries           37039\n",
      "21902       21903      organic baby spinach           33971\n",
      "47208       47209      organic hass avocado           29773\n",
      "47765       47766           organic avocado           24689\n",
      "47625       47626               large lemon           21495\n",
      "16796       16797              strawberries           20018\n",
      "26208       26209                     limes           19690\n",
      "27844       27845        organic whole milk           19600\n",
      "27965       27966       organic raspberries           19197\n",
      "22934       22935      organic yellow onion           15898\n",
      "24963       24964            organic garlic           15292\n",
      "45006       45007          organic zucchini           14584\n",
      "39274       39275       organic blueberries           13879\n",
      "49682       49683            cucumber kirby           13675\n",
      "28203       28204        organic fuji apple           12544\n",
      "5875         5876             organic lemon           12232\n",
      "8276         8277  apple honeycrisp organic           11993\n",
      "40705       40706    organic grape tomatoes           11781\n"
     ]
    }
   ],
   "source": [
    "#Escolher método do merge entre products_quantity e products_list (afim de verificar o nome dos produtos)\n",
    "#será utilizado o inner (somente aquilo que está nos 2 data frames)\n",
    "most_sell = products_list.merge(products_quantity,left_on='product_id',right_index=True,how='inner').sort_values(by='order_id',ascending=False).rename(columns={'order_id':'quantity_sells'})\n",
    "print(most_sell.head(20))"
   ]
  },
  {
   "cell_type": "markdown",
   "id": "7df00f47",
   "metadata": {
    "id": "7df00f47"
   },
   "source": [
    "#### os produtos mais vendidos são de frutas"
   ]
  },
  {
   "cell_type": "code",
   "execution_count": 142,
   "id": "0cfeaa9a",
   "metadata": {},
   "outputs": [
    {
     "data": {
      "image/png": "[encoded data removed]",
      "text/plain": [
       "<Figure size 432x288 with 1 Axes>"
      ]
     },
     "metadata": {
      "needs_background": "light"
     },
     "output_type": "display_data"
    }
   ],
   "source": [
    "most_sell.head(20).plot(kind='bar',x='product_name', xlabel='Products', y='quantity_sells' ,ylabel='Sells(units)',title='Top Selling Products',legend=False)\n",
    "plt.show()"
   ]
  },
  {
   "cell_type": "markdown",
   "id": "bd7a56a8",
   "metadata": {},
   "source": [
    "<div class=\"alert alert-warning\">\n",
    "<strong>Comentário do revisor v1</strong>\n",
    "\n",
    "Bom trabalho com a seleção.\n",
    "\n",
    "Um gráfico seria uma evolução bastante interessante.\n",
    "</div>"
   ]
  },
  {
   "cell_type": "markdown",
   "id": "420b1d16",
   "metadata": {},
   "source": [
    "<div class=\"alert alert-success\">\n",
    "<strong>Comentário do revisor v2</strong>\n",
    "\n",
    "Perfeito\n",
    "</div>\n"
   ]
  },
  {
   "cell_type": "markdown",
   "id": "gross-theme",
   "metadata": {
    "id": "gross-theme"
   },
   "source": [
    "# [C] Difícil (é necessário concluir pelo menos duas perguntas para passar)\n",
    "\n",
    "1.\tQuantos itens as pessoas normalmente compram em um pedido? Como fica a distribuição?\n",
    "2.\tQuais são os 20 principais itens incluídos mais frequentemente em pedidos repetidos? Exiba os IDs e nomes.\n",
    "3.\tPara cada produto, qual parcela de seus pedidos são repetidos? Crie uma tabela com colunas de ID e nome do produto e a proporção de pedidos repetidos.\n",
    "4.\tPara cada cliente, qual proporção de todos os seus pedidos são repetidos?\n",
    "5.\tQuais são os 20 principais itens que as pessoas colocam nos carrinhos antes de todos os outros? Exiba o ID do produto, nome e o número de vezes que ele foi o primeiro a ser adicionado a um carrinho.\n"
   ]
  },
  {
   "cell_type": "markdown",
   "id": "romantic-deposit",
   "metadata": {
    "id": "romantic-deposit"
   },
   "source": [
    "### [C1] Quantos itens as pessoas normalmente compram em um pedido? Como fica a distribuição?"
   ]
  },
  {
   "cell_type": "code",
   "execution_count": 102,
   "id": "virtual-punch",
   "metadata": {
    "id": "virtual-punch"
   },
   "outputs": [
    {
     "name": "stdout",
     "output_type": "stream",
     "text": [
      "        order_id  order_quantity\n",
      "0              4              13\n",
      "1              9              15\n",
      "2             11               5\n",
      "3             19               3\n",
      "4             20               8\n",
      "...          ...             ...\n",
      "450041   3421034              17\n",
      "450042   3421053               9\n",
      "450043   3421071               5\n",
      "450044   3421077               4\n",
      "450045   3421079               1\n",
      "\n",
      "[450046 rows x 2 columns]\n",
      "\n",
      "A média de produtos por pedido é de: 10.0 itens\n"
     ]
    }
   ],
   "source": [
    "#realizar a contagem da quantidade de pedidos por ordem através do df_order_products\n",
    "df_order_quantity=df_order_products.groupby(by='order_id').product_id.count().reset_index()\n",
    "df_order_quantity = df_order_quantity.rename(columns={'product_id':'order_quantity'})\n",
    "print(df_order_quantity)\n",
    "print()\n",
    "print('A média de produtos por pedido é de:',df_order_quantity['order_quantity'].mean().round(),'itens')"
   ]
  },
  {
   "cell_type": "code",
   "execution_count": 103,
   "id": "sensitive-breathing",
   "metadata": {
    "id": "sensitive-breathing"
   },
   "outputs": [
    {
     "data": {
      "image/png": "[encoded data removed]",
      "text/plain": [
       "<Figure size 432x288 with 1 Axes>"
      ]
     },
     "metadata": {
      "needs_background": "light"
     },
     "output_type": "display_data"
    },
    {
     "name": "stdout",
     "output_type": "stream",
     "text": [
      "count   450046.00\n",
      "mean        10.10\n",
      "std          7.54\n",
      "min          1.00\n",
      "25%          5.00\n",
      "50%          8.00\n",
      "75%         14.00\n",
      "max        127.00\n",
      "Name: order_quantity, dtype: float64\n"
     ]
    }
   ],
   "source": [
    "df_order_quantity['order_quantity'].plot(kind='hist',title='Quantidade de itens por pedido', bins=70)\n",
    "plt.show()\n",
    "print(df_order_quantity['order_quantity'].describe())"
   ]
  },
  {
   "cell_type": "markdown",
   "id": "designed-mortality",
   "metadata": {
    "id": "designed-mortality"
   },
   "source": [
    "#### Pode avaliar que a quantidade média itens por pedido é de 10 itens, E que 75% dos pedidos tem menos de 14 itens. A quantidade máxima de itens por pedido é de 127. "
   ]
  },
  {
   "cell_type": "code",
   "execution_count": 138,
   "id": "6607d5ef",
   "metadata": {},
   "outputs": [
    {
     "data": {
      "image/png": "[encoded data removed]",
      "text/plain": [
       "<Figure size 432x288 with 1 Axes>"
      ]
     },
     "metadata": {
      "needs_background": "light"
     },
     "output_type": "display_data"
    }
   ],
   "source": [
    "#Excluindo valores extremos. Limitando a quantidade de itens por pedido em 20\n",
    "df_order_quantity_filter=df_order_quantity[df_order_quantity['order_quantity']<20]\n",
    "df_order_quantity_filter['order_quantity'].value_counts().plot(kind='bar',x='order_quantity',title='Pedidos com menos de 20 itens',ylabel='Quantidade de Pedidos',xlabel='Quantidade de itens por pedido')\n",
    "plt.show()\n"
   ]
  },
  {
   "cell_type": "markdown",
   "id": "de081da0",
   "metadata": {},
   "source": [
    "<div class=\"alert alert-warning\">\n",
    "<strong>Comentário do revisor v1</strong>\n",
    "\n",
    "Correto! A visualização deve ser essa mesmo, mas pode ser interessante excluir os valores extremos para facilitar a leitura.\n",
    "</div>"
   ]
  },
  {
   "cell_type": "markdown",
   "id": "45ebbe1b",
   "metadata": {},
   "source": [
    "<div class=\"alert alert-success\">\n",
    "<strong>Comentário do revisor v2</strong>\n",
    "\n",
    "Ótimo!\n",
    "</div>\n"
   ]
  },
  {
   "cell_type": "markdown",
   "id": "5e6b5537",
   "metadata": {
    "id": "5e6b5537"
   },
   "source": [
    "### [C2] Quais são os 20 principais itens incluídos mais frequentemente em pedidos repetidos? Exiba os IDs e nomes."
   ]
  },
  {
   "cell_type": "code",
   "execution_count": 104,
   "id": "b1414a6b",
   "metadata": {},
   "outputs": [
    {
     "name": "stdout",
     "output_type": "stream",
     "text": [
      "       product_id  quantity\n",
      "18104       24852     55763\n",
      "9528        13176     44450\n",
      "15368       21137     28639\n",
      "15936       21903     26233\n",
      "34407       47209     23629\n",
      "...           ...       ...\n",
      "5120         7092         1\n",
      "15278       21003         1\n",
      "23932       32856         1\n",
      "31131       42727         1\n",
      "17558       24091         1\n",
      "\n",
      "[36228 rows x 2 columns]\n"
     ]
    }
   ],
   "source": [
    "#Filtrando os pedidos repetidos\n",
    "#Agrupar por product_id e somar a coluna reordered de modo a obter os produtos mais frequentes\n",
    "#Alterando o nome da coluna reordered\n",
    "filter_order_products = df_order_products[df_order_products['reordered']==1]\n",
    "filter_order_products = filter_order_products.groupby(by='product_id').reordered.sum().reset_index().sort_values(by='reordered',ascending=False)\n",
    "filter_order_products.rename(columns={'reordered':'quantity'},inplace=True)\n",
    "print(filter_order_products)"
   ]
  },
  {
   "cell_type": "code",
   "execution_count": 105,
   "id": "9374e55a",
   "metadata": {
    "id": "9374e55a"
   },
   "outputs": [
    {
     "name": "stdout",
     "output_type": "stream",
     "text": [
      "       product_id                                       product_name\n",
      "0               1                         chocolate sandwich cookies\n",
      "1               2                                   all-seasons salt\n",
      "2               3               robust golden unsweetened oolong tea\n",
      "3               4  smart ones classic favorites mini rigatoni wit...\n",
      "4               5                          green chile anytime sauce\n",
      "...           ...                                                ...\n",
      "49689       49690                      high performance energy drink\n",
      "49690       49691                      original pancake & waffle mix\n",
      "49691       49692    organic instant oatmeal light maple brown sugar\n",
      "49692       49693                             spring water body wash\n",
      "49693       49694                            burrito- steak & cheese\n",
      "\n",
      "[49694 rows x 2 columns]\n"
     ]
    }
   ],
   "source": [
    "#Realizar slicing de maneira a obter a parte em comum,product_id, entre df_products e df_order_products\n",
    "df_product_id_name = df_products.iloc[:,:2]\n",
    "print(df_product_id_name)"
   ]
  },
  {
   "cell_type": "code",
   "execution_count": 106,
   "id": "possible-change",
   "metadata": {
    "id": "possible-change",
    "scrolled": true
   },
   "outputs": [
    {
     "name": "stdout",
     "output_type": "stream",
     "text": [
      "    product_id  quantity              product_name\n",
      "0        24852     55763                    banana\n",
      "1        13176     44450    bag of organic bananas\n",
      "2        21137     28639      organic strawberries\n",
      "3        21903     26233      organic baby spinach\n",
      "4        47209     23629      organic hass avocado\n",
      "5        47766     18743           organic avocado\n",
      "6        27845     16251        organic whole milk\n",
      "7        47626     15044               large lemon\n",
      "8        27966     14748       organic raspberries\n",
      "9        16797     13945              strawberries\n",
      "10       26209     13327                     limes\n",
      "11       22935     11145      organic yellow onion\n",
      "12       24964     10411            organic garlic\n",
      "13       45007     10076          organic zucchini\n",
      "14       49683      9538            cucumber kirby\n",
      "15       28204      8989        organic fuji apple\n",
      "16        8277      8836  apple honeycrisp organic\n",
      "17       39275      8799       organic blueberries\n",
      "18        5876      8412             organic lemon\n",
      "19       49235      8389       organic half & half\n"
     ]
    }
   ],
   "source": [
    "#Realizar merge() de maneira a ter a ligação entre os itens repetidos mais pedidos e os nomes dos produtos\n",
    "#Imprimir os 20 mais\n",
    "filter_order_products_name = filter_order_products.merge(df_product_id_name,on='product_id')\n",
    "print(filter_order_products_name.head(20))"
   ]
  },
  {
   "cell_type": "code",
   "execution_count": 141,
   "id": "899cdcd6",
   "metadata": {},
   "outputs": [
    {
     "data": {
      "image/png": "[encoded data removed]",
      "text/plain": [
       "<Figure size 432x288 with 1 Axes>"
      ]
     },
     "metadata": {
      "needs_background": "light"
     },
     "output_type": "display_data"
    }
   ],
   "source": [
    "filter_order_products_name.head(20).plot(kind='bar', x='product_name', y='quantity',xlabel='Products',legend=False, ylabel='Sales(unit)',title='Top Selling Products')\n",
    "plt.show()"
   ]
  },
  {
   "cell_type": "markdown",
   "id": "80e70c74",
   "metadata": {
    "id": "80e70c74"
   },
   "source": [
    "Aqui temos os itens que são mais frequentes em cada pedido repetido"
   ]
  },
  {
   "cell_type": "markdown",
   "id": "21f5d73f",
   "metadata": {},
   "source": [
    "<div class=\"alert alert-warning\">\n",
    "<strong>Comentário do revisor v1</strong>\n",
    "\n",
    "Perfeito o trabalho com a detecção! Acho que um gráfico de barras novamente ajudaria bastante na ilustração do resultado.\n",
    "</div>"
   ]
  },
  {
   "cell_type": "markdown",
   "id": "a360015a",
   "metadata": {},
   "source": [
    "<div class=\"alert alert-success\">\n",
    "<strong>Comentário do revisor v2</strong>\n",
    "\n",
    "Excelente!\n",
    "</div>\n"
   ]
  },
  {
   "cell_type": "markdown",
   "id": "9d312b14",
   "metadata": {
    "id": "9d312b14"
   },
   "source": [
    "### [C3] Para cada produto, qual parcela de todos os pedidos dele são repetidos?"
   ]
  },
  {
   "cell_type": "code",
   "execution_count": 107,
   "id": "93084865",
   "metadata": {},
   "outputs": [
    {
     "name": "stdout",
     "output_type": "stream",
     "text": [
      "product_id\n",
      "1       56.43\n",
      "2        0.00\n",
      "3       73.81\n",
      "4       51.02\n",
      "7       50.00\n",
      "         ... \n",
      "49690   80.00\n",
      "49691   43.06\n",
      "49692   41.67\n",
      "49693   44.00\n",
      "49694   33.33\n",
      "Name: reordered, Length: 45573, dtype: float64\n"
     ]
    }
   ],
   "source": [
    "#A média dos produtos que já foram comprados antes(repetidos)\n",
    "mean_by_product_id = (df_order_products.groupby(by='product_id')['reordered'].mean())*100\n",
    "print(mean_by_product_id)"
   ]
  },
  {
   "cell_type": "markdown",
   "id": "I10dEIAyldcO",
   "metadata": {
    "id": "I10dEIAyldcO"
   },
   "source": [
    "#### Pode-se concluir que itens com `0`, são itens que o cliente está comprando pela primeira vez e itens com `100%` são os itens que aquele cliente compra com mais frequência"
   ]
  },
  {
   "cell_type": "markdown",
   "id": "fa77d222",
   "metadata": {},
   "source": [
    "<div class=\"alert alert-success\">\n",
    "<strong>Comentário do revisor v1</strong>\n",
    "\n",
    "Perfeito o resultado!\n",
    "</div>"
   ]
  },
  {
   "cell_type": "markdown",
   "id": "subject-boxing",
   "metadata": {
    "id": "subject-boxing"
   },
   "source": [
    "### [C4] Para cada cliente, qual proporção de todos os seus pedidos são repetidos?"
   ]
  },
  {
   "cell_type": "code",
   "execution_count": 108,
   "id": "medical-couple",
   "metadata": {
    "id": "medical-couple",
    "scrolled": true
   },
   "outputs": [
    {
     "name": "stdout",
     "output_type": "stream",
     "text": [
      "        order_id  user_id\n",
      "0        1515936   183418\n",
      "1        1690866   163593\n",
      "2        1454967    39980\n",
      "3        1768857    82516\n",
      "4        3007858   196724\n",
      "...          ...      ...\n",
      "478962   3210681     5617\n",
      "478963   3270802   112087\n",
      "478964    885349    82944\n",
      "478965    216274     4391\n",
      "478966   2071924     1730\n",
      "\n",
      "[478952 rows x 2 columns]\n"
     ]
    }
   ],
   "source": [
    "#Realizar slicing de maneira a obter a parte em comum, order_id, entre df_orders e df_order_products\n",
    "id_order = df_orders.iloc[:,:2]\n",
    "print(id_order)"
   ]
  },
  {
   "cell_type": "code",
   "execution_count": 109,
   "id": "8892e4b4",
   "metadata": {
    "id": "8892e4b4"
   },
   "outputs": [
    {
     "name": "stdout",
     "output_type": "stream",
     "text": [
      "         order_id  product_id  add_to_cart_order  reordered  user_id\n",
      "0         2141543       11440                 17          0    58454\n",
      "1         2141543       31869                 15          1    58454\n",
      "2         2141543       30233                  9          1    58454\n",
      "3         2141543       27966                 20          1    58454\n",
      "4         2141543       13176                  2          1    58454\n",
      "...           ...         ...                ...        ...      ...\n",
      "4545002   1790509       43739                  1          1    60894\n",
      "4545003   1274005       38275                  1          1    32958\n",
      "4545004    812418       46149                  1          1   130466\n",
      "4545005   2666881         196                  1          1    33946\n",
      "4545006   1461911       33198                  1          1    54019\n",
      "\n",
      "[4545007 rows x 5 columns]\n"
     ]
    }
   ],
   "source": [
    "#Realizar o merge() de maneira que tenhamos os pedidos que cada cliente realizou que são repetidos (reordered=1)\n",
    "df_orders_by_id = df_order_products.merge(id_order, on='order_id')\n",
    "print(df_orders_by_id)\n"
   ]
  },
  {
   "cell_type": "markdown",
   "id": "bd32c43c",
   "metadata": {},
   "source": [
    "Aqui passamos a ter a relação user_id x order_id x product_id, ou seja, o número do pedido que cada cliente comprou, o que cada cliente comprou e se é a primeira vez que ele compra"
   ]
  },
  {
   "cell_type": "code",
   "execution_count": 110,
   "id": "e68dc549",
   "metadata": {},
   "outputs": [
    {
     "name": "stdout",
     "output_type": "stream",
     "text": [
      "user_id\n",
      "2        0.04\n",
      "4        0.00\n",
      "5        0.67\n",
      "6        0.00\n",
      "7        0.93\n",
      "         ... \n",
      "206203   0.22\n",
      "206206   0.71\n",
      "206207   0.89\n",
      "206208   0.70\n",
      "206209   0.32\n",
      "Name: reordered, Length: 149626, dtype: float64\n"
     ]
    }
   ],
   "source": [
    "print(df_orders_by_id.groupby(by='user_id')['reordered'].mean())"
   ]
  },
  {
   "cell_type": "markdown",
   "id": "BgJSvXDsleXz",
   "metadata": {
    "id": "BgJSvXDsleXz"
   },
   "source": [
    "#### Desta maneira pode-se destacar os clientes que tem maior tendência a comprar sempre as mesmas coisas e os clientes que estão comprando pela primeira vez "
   ]
  },
  {
   "cell_type": "markdown",
   "id": "a26a0537",
   "metadata": {},
   "source": [
    "<div class=\"alert alert-success\">\n",
    "<strong>Comentário do revisor v1</strong>\n",
    "\n",
    "Correto mais uma vez.\n",
    "</div>"
   ]
  },
  {
   "cell_type": "markdown",
   "id": "92d35137",
   "metadata": {
    "id": "92d35137"
   },
   "source": [
    "### [C5] Quais são os 20 principais itens que as pessoas colocam nos carrinhos antes de todos os outros?"
   ]
  },
  {
   "cell_type": "code",
   "execution_count": 183,
   "id": "579eb675",
   "metadata": {},
   "outputs": [
    {
     "name": "stdout",
     "output_type": "stream",
     "text": [
      "banana                         15562\n",
      "bag of organic bananas         11026\n",
      "organic whole milk              4363\n",
      "organic strawberries            3946\n",
      "organic hass avocado            3390\n",
      "organic baby spinach            3336\n",
      "organic avocado                 3044\n",
      "spring water                    2336\n",
      "strawberries                    2308\n",
      "organic raspberries             2024\n",
      "sparkling water grapefruit      1914\n",
      "organic half & half             1797\n",
      "large lemon                     1737\n",
      "soda                            1733\n",
      "organic reduced fat milk        1397\n",
      "limes                           1370\n",
      "hass avocados                   1340\n",
      "organic reduced fat 2% milk     1310\n",
      "half & half                     1309\n",
      "raspberries                     1246\n",
      "Name: product_name, dtype: int64\n"
     ]
    },
    {
     "data": {
      "image/png": "[encoded data removed]",
      "text/plain": [
       "<Figure size 432x288 with 1 Axes>"
      ]
     },
     "metadata": {
      "needs_background": "light"
     },
     "output_type": "display_data"
    }
   ],
   "source": [
    "#Filtrar somente os itens que foram adicionados pro primeiro no carrinho (add_to_cart_order=1)\n",
    "#Feito slicing para ter somente as colunas de interesse\n",
    "#Merge entre os dfs para poder acessar os nomes dos produtos\n",
    "#Contar as ocorrências pelo nome, ordenar em ordem decrescente\n",
    "df_order_products_filter = df_order_products[df_order_products['add_to_cart_order']==1]\n",
    "df_order_products_filter=df_order_products_filter.iloc[:,:2]\n",
    "df_products_name = df_products.iloc[:,:2]\n",
    "products_by_name = df_order_products_filter.merge(df_products_name,on='product_id')\n",
    "print(products_by_name['product_name'].value_counts().sort_values(ascending=False).head(20))\n",
    "products_by_name['product_name'].value_counts().sort_values(ascending=False).head(20).plot(kind='bar',xlabel='Itens', ylabel='Quantidae', title='Primeiras Escolhas por Pedido')\n",
    "plt.show()\n",
    "\n"
   ]
  },
  {
   "cell_type": "markdown",
   "id": "e6907058",
   "metadata": {},
   "source": [
    "#### Banana é disparado o primeiro item adicionado no carrinho"
   ]
  },
  {
   "cell_type": "markdown",
   "id": "5357b147",
   "metadata": {},
   "source": [
    "<div class=\"alert alert-danger\">\n",
    "<strong>Comentário do revisor v1</strong>\n",
    "\n",
    "Esse resultado está errado. Acho que acabou se confundindo ali nas manipulações da tabela... Posso sugerir uma outra abordagem?\n",
    "\n",
    "Comece filtrando apenas os produtos colocados em primeiro lugar no carrinho na tabela df_order_products.\n",
    "\n",
    "Feito isso cruze para pegar o nome e conte o número de ocorrências. Dessa forma devemos ter o resultado correto!\n",
    "</div>\n",
    "\n"
   ]
  },
  {
   "cell_type": "markdown",
   "id": "5f0d4fc4",
   "metadata": {},
   "source": [
    "<div class=\"alert alert-success\">\n",
    "<strong>Comentário do revisor v2</strong>\n",
    "\n",
    "Perfeito agora, muito bom!\n",
    "</div>\n"
   ]
  },
  {
   "cell_type": "markdown",
   "id": "a56397a0",
   "metadata": {},
   "source": [
    "\n",
    "<div class=\"alert alert-danger\">\n",
    "<strong>Comentário do revisor v1</strong>\n",
    "\n",
    "Estamos no caminho certo com essa versão, mas retocar os pontos indicados acima nos fará chegar em um resultado ainda mais incrível.\n",
    "    \n",
    "Conte comigo para ajudá-lo (a) em qualquer questão que possa vir a ter! Lembre-se de usar as caixas azuis para se comunicar comigo.\n",
    "    \n",
    "Até breve.\n",
    "</div>\n"
   ]
  },
  {
   "cell_type": "markdown",
   "id": "040c2eac",
   "metadata": {},
   "source": [
    "<div class=\"alert alert-success\">\n",
    "<strong>Comentário do revisor v2</strong>\n",
    "\n",
    "Trabalho muito sólido com o projeto! Gostei muito.\n",
    "    \n",
    "    \n",
    "Parabéns pela aprovação e até breve!\n",
    "</div>\n"
   ]
  },
  {
   "cell_type": "markdown",
   "id": "1906246c",
   "metadata": {},
   "source": [
    "Temos observações importantes para serem consideradas:\n",
    "- Sobre o perfil de compra tendo os domingos e segundas como dias com maior volume de vendas. \n",
    "- O período entre 10h e 15h concentrando a maior parte das vendas, exceto pelo domingo que é de 13h às 15h. \n",
    "- Tempo médio entre pedidos é de 14 dias.\n",
    "- A categoria dos itens mais vendidos é a de frutas.\n",
    "- A banana é o  item mais vendido e o primeiro a ser adicionado\n"
   ]
  }
 ],
 "metadata": {
  "colab": {
   "provenance": []
  },
  "kernelspec": {
   "display_name": "Python 3 (ipykernel)",
   "language": "python",
   "name": "python3"
  },
  "language_info": {
   "codemirror_mode": {
    "name": "ipython",
    "version": 3
   },
   "file_extension": ".py",
   "mimetype": "text/x-python",
   "name": "python",
   "nbconvert_exporter": "python",
   "pygments_lexer": "ipython3",
   "version": "3.9.19"
  },
  "toc": {
   "base_numbering": 1,
   "nav_menu": {},
   "number_sections": true,
   "sideBar": true,
   "skip_h1_title": true,
   "title_cell": "Table of Contents",
   "title_sidebar": "Contents",
   "toc_cell": false,
   "toc_position": {},
   "toc_section_display": true,
   "toc_window_display": false
  },
  "vscode": {
   "interpreter": {
    "hash": "01a7be9ec63e704a62cefc5fe7a4756944464ee731be31632bdf42a4cb4688cf"
   }
  }
 },
 "nbformat": 4,
 "nbformat_minor": 5
}
