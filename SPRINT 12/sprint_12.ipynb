{
 "cells": [
  {
   "cell_type": "markdown",
   "metadata": {},
   "source": [
    "Olá, Reinner\n",
    "\n",
    "Meu nome é Ramon. Fico feliz em revisar seu projeto. Ao ao longo do texto farei algumas observações sobre melhorias no código e também farei comentários sobre suas percepções sobre o assunto. Estarei aberto a feedbacks e discussões sobre o tema.\n",
    "\n",
    "**Peço que mantenha e não altere os comentários que eu fizer por aqui para que possamos nos localizar posteriormente, ok?**\n",
    "\n",
    "Mais uma coisa, vamos utilizar um código de cores para você entender os meus feedbacks no seu notebook. Funciona assim:\n",
    "\n",
    "<div class=\"alert alert-block alert-success\">\n",
    "<b> Comentário do revisor: </b> <a class=\"tocSkip\"></a>\n",
    "\n",
    "Sucesso. Tudo foi feito corretamente.\n",
    "</div>\n",
    "\n",
    "<div class=\"alert alert-block alert-warning\">\n",
    "<b>Comentário do revisor: </b> <a class=\"tocSkip\"></a>\n",
    "\n",
    "Alerta não crítco, mas que pode ser corrigido para melhoria geral no seu código/análise\n",
    "</div>\n",
    "\n",
    "<div class=\"alert alert-block alert-danger\">\n",
    "\n",
    "<b>Comentário do revisor: </b> <a class=\"tocSkip\"></a>\n",
    "    \n",
    "Erro que precisa ser consertado, caso contrário seu projeto **não** será aceito.\n",
    "</div>\n",
    "\n",
    "Você pode me responder usando isso:\n",
    "<div class=\"alert alert-block alert-info\">\n",
    "<b>Resposta do Aluno.</b> <a class=\"tocSkip\"></a>\n",
    "</div>\n",
    "\n",
    "\n",
    "\n",
    "\n",
    "\n",
    "<div class=\"alert alert-block alert-success\">\n",
    "<b>Comentário Geral do Revisor</b> <a class=\"tocSkip\"></a>\n",
    "\n",
    "Obrigado por enviar seu projeto. \n",
    "    \n",
    "Parabéns, você fez um bom trabalho.\n",
    "\n",
    "Como pontos fortes do projeto, destaco:\n",
    "- Código simples e eficiente (sem loop desnecessário)\n",
    "- Uso adequado dos recursos da lição\n",
    "\n",
    "    \n",
    "<span class=\"text-danger\">Porém, há espaço para melhorias conforme os itens apontados anteriormente. Destaco os  pontos a seguir: </span>\n",
    " * <span class=\"text-danger\"> Oriento ajustar hiperparâmetros </span>\n",
    "\n",
    "\n",
    "Portanto, sugiro que você corrija os pontos indicados.\n",
    "    \n",
    "Se você tiver alguma dúvida sobre de algo que você não tenha entendido, sinta-se à vontade para perguntar ao tutor ou deixar um comentário em **azul** para que, na próxima iteração, eu possa responder.\n",
    "\n",
    "Conte conosco. Lembre-se de que você pode tirar dúvidas com revisores usando os comentários ou buscar ajuda de um tutor.\n",
    "Bom trabalho.\n",
    "</div>"
   ]
  },
  {
   "cell_type": "markdown",
   "metadata": {},
   "source": [
    "<div class=\"alert alert-block alert-info\">\n",
    "<b>Não tiveram observações em vermelho para correção.</b> <a class=\"tocSkip\"></a>\n",
    "</div>"
   ]
  },
  {
   "cell_type": "markdown",
   "metadata": {},
   "source": [
    "<div class=\"alert alert-block alert-warning\">\n",
    "<b>Comentário do revisor: </b> <a class=\"tocSkip\"></a>\n",
    "\n",
    "Peço desculpas, mas a plataforma não salvou meus comentários. Precisa calibrar hiperparâmetros </div>\n"
   ]
  },
  {
   "cell_type": "markdown",
   "metadata": {},
   "source": [
    "<div class=\"alert alert-block alert-success\">\n",
    "<b>Comentário do revisor: </b> <a class=\"tocSkip\"></a>\n",
    "\n",
    "Tudo certo agora. Calibração feita de forma muito elegante: definiu funções para fins de reúso.\n",
    "Desejo sucesso na jornada.    \n",
    "</div>\n"
   ]
  },
  {
   "cell_type": "markdown",
   "metadata": {},
   "source": [
    "O serviço de vendas de carros usados Rusty Bargain está desenvolvendo um aplicativo para atrair novos clientes. Nesse aplicativo, você pode descobrir rapidamente o valor de mercado do seu carro. Você tem acesso a dados históricos: especificações técnicas, versões de acabamento e preços. Você precisa construir o modelo para determinar o valor. \n",
    "\n",
    "Rusty Bargain está interessado em:\n",
    "\n",
    "- a qualidade da predição;\n",
    "- a velocidade da predição;\n",
    "- o tempo necessário para o treinamento"
   ]
  },
  {
   "cell_type": "markdown",
   "metadata": {},
   "source": [
    "## Importando bibliotecas"
   ]
  },
  {
   "cell_type": "code",
   "execution_count": 77,
   "metadata": {},
   "outputs": [],
   "source": [
    "import time\n",
    "import pandas as pd\n",
    "import numpy as np\n",
    "import matplotlib.pyplot as plt\n",
    "from sklearn.model_selection import train_test_split, cross_val_score, GridSearchCV, RandomizedSearchCV\n",
    "from sklearn.preprocessing import StandardScaler\n",
    "from sklearn.impute import SimpleImputer\n",
    "from sklearn.linear_model import LogisticRegression\n",
    "from sklearn.metrics import mean_squared_error\n",
    "from sklearn.utils import shuffle\n",
    "import seaborn as sns\n",
    "from sklearn.preprocessing import MinMaxScaler\n",
    "from sklearn.linear_model import LinearRegression\n",
    "from sklearn.ensemble import RandomForestRegressor\n",
    "import lightgbm as lgbm\n",
    "from catboost import Pool, CatBoostRegressor\n",
    "from xgboost import XGBRegressor\n"
   ]
  },
  {
   "cell_type": "markdown",
   "metadata": {},
   "source": [
    "## Preparação de Dados"
   ]
  },
  {
   "cell_type": "code",
   "execution_count": 2,
   "metadata": {},
   "outputs": [],
   "source": [
    "df = pd.read_csv('/datasets/car_data.csv')"
   ]
  },
  {
   "cell_type": "code",
   "execution_count": 3,
   "metadata": {},
   "outputs": [
    {
     "name": "stdout",
     "output_type": "stream",
     "text": [
      "        DateCrawled  Price VehicleType  RegistrationYear Gearbox  Power  \\\n",
      "0  24/03/2016 11:52    480         NaN              1993  manual      0   \n",
      "1  24/03/2016 10:58  18300       coupe              2011  manual    190   \n",
      "2  14/03/2016 12:52   9800         suv              2004    auto    163   \n",
      "3  17/03/2016 16:54   1500       small              2001  manual     75   \n",
      "4  31/03/2016 17:25   3600       small              2008  manual     69   \n",
      "\n",
      "   Model  Mileage  RegistrationMonth  FuelType       Brand NotRepaired  \\\n",
      "0   golf   150000                  0    petrol  volkswagen         NaN   \n",
      "1    NaN   125000                  5  gasoline        audi         yes   \n",
      "2  grand   125000                  8  gasoline        jeep         NaN   \n",
      "3   golf   150000                  6    petrol  volkswagen          no   \n",
      "4  fabia    90000                  7  gasoline       skoda          no   \n",
      "\n",
      "        DateCreated  NumberOfPictures  PostalCode          LastSeen  \n",
      "0  24/03/2016 00:00                 0       70435  07/04/2016 03:16  \n",
      "1  24/03/2016 00:00                 0       66954  07/04/2016 01:46  \n",
      "2  14/03/2016 00:00                 0       90480  05/04/2016 12:47  \n",
      "3  17/03/2016 00:00                 0       91074  17/03/2016 17:40  \n",
      "4  31/03/2016 00:00                 0       60437  06/04/2016 10:17  \n"
     ]
    }
   ],
   "source": [
    "print(df.head())"
   ]
  },
  {
   "cell_type": "code",
   "execution_count": 4,
   "metadata": {
    "scrolled": false
   },
   "outputs": [
    {
     "name": "stdout",
     "output_type": "stream",
     "text": [
      "<class 'pandas.core.frame.DataFrame'>\n",
      "RangeIndex: 354369 entries, 0 to 354368\n",
      "Data columns (total 16 columns):\n",
      " #   Column             Non-Null Count   Dtype \n",
      "---  ------             --------------   ----- \n",
      " 0   DateCrawled        354369 non-null  object\n",
      " 1   Price              354369 non-null  int64 \n",
      " 2   VehicleType        316879 non-null  object\n",
      " 3   RegistrationYear   354369 non-null  int64 \n",
      " 4   Gearbox            334536 non-null  object\n",
      " 5   Power              354369 non-null  int64 \n",
      " 6   Model              334664 non-null  object\n",
      " 7   Mileage            354369 non-null  int64 \n",
      " 8   RegistrationMonth  354369 non-null  int64 \n",
      " 9   FuelType           321474 non-null  object\n",
      " 10  Brand              354369 non-null  object\n",
      " 11  NotRepaired        283215 non-null  object\n",
      " 12  DateCreated        354369 non-null  object\n",
      " 13  NumberOfPictures   354369 non-null  int64 \n",
      " 14  PostalCode         354369 non-null  int64 \n",
      " 15  LastSeen           354369 non-null  object\n",
      "dtypes: int64(7), object(9)\n",
      "memory usage: 43.3+ MB\n",
      "None\n"
     ]
    }
   ],
   "source": [
    "print(df.info())"
   ]
  },
  {
   "cell_type": "code",
   "execution_count": 5,
   "metadata": {},
   "outputs": [],
   "source": [
    "#converting column´s names to lower cas\n",
    "columns = df.columns\n",
    "new_columns = [col.lower() for col in columns]\n",
    "df.columns = new_columns\n"
   ]
  },
  {
   "cell_type": "code",
   "execution_count": 6,
   "metadata": {},
   "outputs": [
    {
     "name": "stdout",
     "output_type": "stream",
     "text": [
      "<class 'pandas.core.frame.DataFrame'>\n",
      "RangeIndex: 354369 entries, 0 to 354368\n",
      "Data columns (total 16 columns):\n",
      " #   Column             Non-Null Count   Dtype         \n",
      "---  ------             --------------   -----         \n",
      " 0   datecrawled        354369 non-null  datetime64[ns]\n",
      " 1   price              354369 non-null  int64         \n",
      " 2   vehicletype        316879 non-null  object        \n",
      " 3   registrationyear   354369 non-null  int64         \n",
      " 4   gearbox            334536 non-null  object        \n",
      " 5   power              354369 non-null  int64         \n",
      " 6   model              334664 non-null  object        \n",
      " 7   mileage            354369 non-null  int64         \n",
      " 8   registrationmonth  354369 non-null  int64         \n",
      " 9   fueltype           321474 non-null  object        \n",
      " 10  brand              354369 non-null  object        \n",
      " 11  notrepaired        283215 non-null  object        \n",
      " 12  datecreated        354369 non-null  datetime64[ns]\n",
      " 13  numberofpictures   354369 non-null  int64         \n",
      " 14  postalcode         354369 non-null  int64         \n",
      " 15  lastseen           354369 non-null  datetime64[ns]\n",
      "dtypes: datetime64[ns](3), int64(7), object(6)\n",
      "memory usage: 43.3+ MB\n",
      "None\n"
     ]
    }
   ],
   "source": [
    "#Converting date columns to datetime format\n",
    "def datetime_convert(data_frame, column):\n",
    "    for col in column:\n",
    "        data_frame[col] = pd.to_datetime(data_frame[col], format='%d/%m/%Y %H:%M')\n",
    "column = ['datecrawled', 'datecreated', 'lastseen']   \n",
    "datetime_convert(df, column)\n",
    "print(df.info())"
   ]
  },
  {
   "cell_type": "code",
   "execution_count": 7,
   "metadata": {
    "scrolled": false
   },
   "outputs": [
    {
     "name": "stdout",
     "output_type": "stream",
     "text": [
      "               price  registrationyear          power        mileage  \\\n",
      "count  354369.000000     354369.000000  354369.000000  354369.000000   \n",
      "mean     4416.656776       2004.234448     110.094337  128211.172535   \n",
      "std      4514.158514         90.227958     189.850405   37905.341530   \n",
      "min         0.000000       1000.000000       0.000000    5000.000000   \n",
      "25%      1050.000000       1999.000000      69.000000  125000.000000   \n",
      "50%      2700.000000       2003.000000     105.000000  150000.000000   \n",
      "75%      6400.000000       2008.000000     143.000000  150000.000000   \n",
      "max     20000.000000       9999.000000   20000.000000  150000.000000   \n",
      "\n",
      "       registrationmonth  numberofpictures     postalcode  \n",
      "count      354369.000000          354369.0  354369.000000  \n",
      "mean            5.714645               0.0   50508.689087  \n",
      "std             3.726421               0.0   25783.096248  \n",
      "min             0.000000               0.0    1067.000000  \n",
      "25%             3.000000               0.0   30165.000000  \n",
      "50%             6.000000               0.0   49413.000000  \n",
      "75%             9.000000               0.0   71083.000000  \n",
      "max            12.000000               0.0   99998.000000  \n"
     ]
    }
   ],
   "source": [
    "print(df.describe())"
   ]
  },
  {
   "cell_type": "markdown",
   "metadata": {},
   "source": [
    "We have some worg values. As `9999` and `1000` in the `registrationyear` and `20000`in the `power`column"
   ]
  },
  {
   "cell_type": "code",
   "execution_count": 8,
   "metadata": {
    "scrolled": true
   },
   "outputs": [
    {
     "name": "stdout",
     "output_type": "stream",
     "text": [
      "datecrawled          105\n",
      "price                105\n",
      "vehicletype            0\n",
      "registrationyear     105\n",
      "gearbox               24\n",
      "power                105\n",
      "model                 63\n",
      "mileage              105\n",
      "registrationmonth    105\n",
      "fueltype              29\n",
      "brand                105\n",
      "notrepaired           14\n",
      "datecreated          105\n",
      "numberofpictures     105\n",
      "postalcode           105\n",
      "lastseen             105\n",
      "dtype: int64\n"
     ]
    }
   ],
   "source": [
    "print(df[df['registrationyear']>2020].count())"
   ]
  },
  {
   "cell_type": "markdown",
   "metadata": {},
   "source": [
    "We have 105 date wrong values. I´ll delete this value because just represent `0,029%`"
   ]
  },
  {
   "cell_type": "code",
   "execution_count": 9,
   "metadata": {},
   "outputs": [],
   "source": [
    "#removing year > 2020\n",
    "df = df[df['registrationyear']<=2020]\n"
   ]
  },
  {
   "cell_type": "code",
   "execution_count": 10,
   "metadata": {
    "scrolled": true
   },
   "outputs": [
    {
     "name": "stdout",
     "output_type": "stream",
     "text": [
      "datecrawled          66\n",
      "price                66\n",
      "vehicletype           0\n",
      "registrationyear     66\n",
      "gearbox               9\n",
      "power                66\n",
      "model                33\n",
      "mileage              66\n",
      "registrationmonth    66\n",
      "fueltype             14\n",
      "brand                66\n",
      "notrepaired          10\n",
      "datecreated          66\n",
      "numberofpictures     66\n",
      "postalcode           66\n",
      "lastseen             66\n",
      "dtype: int64\n"
     ]
    }
   ],
   "source": [
    "print(df[df['registrationyear']<1900].count())"
   ]
  },
  {
   "cell_type": "code",
   "execution_count": 11,
   "metadata": {
    "scrolled": true
   },
   "outputs": [
    {
     "name": "stdout",
     "output_type": "stream",
     "text": [
      "233631    1000\n",
      "71459     1000\n",
      "110123    1000\n",
      "216770    1000\n",
      "79120     1000\n",
      "          ... \n",
      "34332     1800\n",
      "139360    1800\n",
      "351682    1800\n",
      "195855    1800\n",
      "138140    1910\n",
      "Name: registrationyear, Length: 67, dtype: int64\n"
     ]
    }
   ],
   "source": [
    "print(df['registrationyear'].sort_values().head(67))"
   ]
  },
  {
   "cell_type": "markdown",
   "metadata": {},
   "source": [
    "We have `66` lines under `1910`. I´ll remove them"
   ]
  },
  {
   "cell_type": "code",
   "execution_count": 12,
   "metadata": {},
   "outputs": [],
   "source": [
    "df = df[df['registrationyear']>1910]"
   ]
  },
  {
   "cell_type": "code",
   "execution_count": 13,
   "metadata": {
    "scrolled": true
   },
   "outputs": [
    {
     "name": "stdout",
     "output_type": "stream",
     "text": [
      "0         False\n",
      "1         False\n",
      "2         False\n",
      "3         False\n",
      "4         False\n",
      "          ...  \n",
      "354364    False\n",
      "354365    False\n",
      "354366    False\n",
      "354367    False\n",
      "354368    False\n",
      "Name: registrationyear, Length: 354097, dtype: bool\n"
     ]
    }
   ],
   "source": [
    "print(df['registrationyear']<1910)"
   ]
  },
  {
   "cell_type": "code",
   "execution_count": 14,
   "metadata": {
    "scrolled": false
   },
   "outputs": [
    {
     "name": "stdout",
     "output_type": "stream",
     "text": [
      "datecrawled          0.000000\n",
      "price                0.000000\n",
      "vehicletype          0.105186\n",
      "registrationyear     0.000000\n",
      "gearbox              0.055409\n",
      "power                0.000000\n",
      "model                0.055259\n",
      "mileage              0.000000\n",
      "registrationmonth    0.000000\n",
      "fueltype             0.092325\n",
      "brand                0.000000\n",
      "notrepaired          0.200284\n",
      "datecreated          0.000000\n",
      "numberofpictures     0.000000\n",
      "postalcode           0.000000\n",
      "lastseen             0.000000\n",
      "dtype: float64\n"
     ]
    }
   ],
   "source": [
    "print(df.isna().mean())"
   ]
  },
  {
   "cell_type": "code",
   "execution_count": 15,
   "metadata": {
    "scrolled": true
   },
   "outputs": [
    {
     "name": "stdout",
     "output_type": "stream",
     "text": [
      "datecrawled          15466\n",
      "price                 3731\n",
      "vehicletype              8\n",
      "registrationyear        97\n",
      "gearbox                  2\n",
      "power                  711\n",
      "model                  250\n",
      "mileage                 13\n",
      "registrationmonth       13\n",
      "fueltype                 7\n",
      "brand                   40\n",
      "notrepaired              2\n",
      "datecreated            109\n",
      "numberofpictures         1\n",
      "postalcode            8143\n",
      "lastseen             18590\n",
      "dtype: int64\n"
     ]
    }
   ],
   "source": [
    "print(df.nunique())"
   ]
  },
  {
   "cell_type": "code",
   "execution_count": 16,
   "metadata": {},
   "outputs": [
    {
     "name": "stdout",
     "output_type": "stream",
     "text": [
      "               price  registrationyear          power        mileage  \\\n",
      "count  354097.000000     354097.000000  354097.000000  354097.000000   \n",
      "mean     4418.820298       2003.111340     110.102610  128287.601985   \n",
      "std      4514.173537          7.371676     189.547608   37792.988624   \n",
      "min         0.000000       1915.000000       0.000000    5000.000000   \n",
      "25%      1050.000000       1999.000000      69.000000  125000.000000   \n",
      "50%      2700.000000       2003.000000     105.000000  150000.000000   \n",
      "75%      6400.000000       2008.000000     143.000000  150000.000000   \n",
      "max     20000.000000       2019.000000   20000.000000  150000.000000   \n",
      "\n",
      "       registrationmonth  numberofpictures     postalcode  \n",
      "count      354097.000000          354097.0  354097.000000  \n",
      "mean            5.718250               0.0   50513.738021  \n",
      "std             3.724967               0.0   25782.979820  \n",
      "min             0.000000               0.0    1067.000000  \n",
      "25%             3.000000               0.0   30165.000000  \n",
      "50%             6.000000               0.0   49413.000000  \n",
      "75%             9.000000               0.0   71083.000000  \n",
      "max            12.000000               0.0   99998.000000  \n"
     ]
    }
   ],
   "source": [
    "print(df.describe())"
   ]
  },
  {
   "cell_type": "markdown",
   "metadata": {},
   "source": [
    "We can change `Gearbox` e `NotRepaired` in numerical columns. Classifing with 0 or 1"
   ]
  },
  {
   "cell_type": "code",
   "execution_count": 17,
   "metadata": {
    "scrolled": true
   },
   "outputs": [
    {
     "name": "stdout",
     "output_type": "stream",
     "text": [
      "0    0\n",
      "1    0\n",
      "2    1\n",
      "3    0\n",
      "4    0\n",
      "Name: gearbox, dtype: int64\n",
      "0    1\n",
      "1    1\n",
      "2    1\n",
      "3    0\n",
      "4    0\n",
      "Name: notrepaired, dtype: int64\n"
     ]
    }
   ],
   "source": [
    "df['gearbox']= np.where(df['gearbox']=='manual',0,1)\n",
    "df['notrepaired']=np.where(df['notrepaired']=='no',0,1)\n",
    "print(df['gearbox'].head())\n",
    "print(df['notrepaired'].head())\n"
   ]
  },
  {
   "cell_type": "code",
   "execution_count": 18,
   "metadata": {
    "scrolled": true
   },
   "outputs": [
    {
     "name": "stdout",
     "output_type": "stream",
     "text": [
      "vehicletype          0.105186\n",
      "fueltype             0.092325\n",
      "model                0.055259\n",
      "datecrawled          0.000000\n",
      "price                0.000000\n",
      "registrationyear     0.000000\n",
      "gearbox              0.000000\n",
      "power                0.000000\n",
      "mileage              0.000000\n",
      "registrationmonth    0.000000\n",
      "brand                0.000000\n",
      "notrepaired          0.000000\n",
      "datecreated          0.000000\n",
      "numberofpictures     0.000000\n",
      "postalcode           0.000000\n",
      "lastseen             0.000000\n",
      "dtype: float64\n"
     ]
    }
   ],
   "source": [
    "print(df.isna().mean().sort_values(ascending=False))"
   ]
  },
  {
   "cell_type": "code",
   "execution_count": 19,
   "metadata": {},
   "outputs": [
    {
     "name": "stdout",
     "output_type": "stream",
     "text": [
      "[nan 'coupe' 'suv' 'small' 'sedan' 'convertible' 'bus' 'wagon' 'other']\n"
     ]
    }
   ],
   "source": [
    "print(df['vehicletype'].unique())"
   ]
  },
  {
   "cell_type": "markdown",
   "metadata": {},
   "source": [
    "Lets change `NaN` values for `other`"
   ]
  },
  {
   "cell_type": "code",
   "execution_count": 20,
   "metadata": {
    "scrolled": false
   },
   "outputs": [
    {
     "name": "stdout",
     "output_type": "stream",
     "text": [
      "0\n"
     ]
    }
   ],
   "source": [
    "df['vehicletype'] = df['vehicletype'].fillna('other')\n",
    "print(df['vehicletype'].isna().sum())"
   ]
  },
  {
   "cell_type": "markdown",
   "metadata": {},
   "source": [
    "We can remove `numberofpicutres`, because all lines are 0"
   ]
  },
  {
   "cell_type": "code",
   "execution_count": 21,
   "metadata": {},
   "outputs": [],
   "source": [
    "df = df.drop('numberofpictures', axis=1)"
   ]
  },
  {
   "cell_type": "code",
   "execution_count": 22,
   "metadata": {},
   "outputs": [
    {
     "name": "stdout",
     "output_type": "stream",
     "text": [
      "Index(['datecrawled', 'price', 'vehicletype', 'registrationyear', 'gearbox',\n",
      "       'power', 'model', 'mileage', 'registrationmonth', 'fueltype', 'brand',\n",
      "       'notrepaired', 'datecreated', 'postalcode', 'lastseen'],\n",
      "      dtype='object')\n"
     ]
    }
   ],
   "source": [
    "print(df.columns)"
   ]
  },
  {
   "cell_type": "code",
   "execution_count": 23,
   "metadata": {},
   "outputs": [
    {
     "name": "stdout",
     "output_type": "stream",
     "text": [
      "['petrol' 'gasoline' nan 'lpg' 'other' 'hybrid' 'cng' 'electric']\n"
     ]
    }
   ],
   "source": [
    "print(df['fueltype'].unique())"
   ]
  },
  {
   "cell_type": "markdown",
   "metadata": {},
   "source": [
    "Switch `NaN`values for `other`"
   ]
  },
  {
   "cell_type": "code",
   "execution_count": 24,
   "metadata": {},
   "outputs": [],
   "source": [
    "df['fueltype'] = df['fueltype'].fillna('other')"
   ]
  },
  {
   "cell_type": "code",
   "execution_count": 25,
   "metadata": {},
   "outputs": [
    {
     "name": "stdout",
     "output_type": "stream",
     "text": [
      "0\n"
     ]
    }
   ],
   "source": [
    "print(df['fueltype'].isna().sum())"
   ]
  },
  {
   "cell_type": "code",
   "execution_count": 26,
   "metadata": {
    "scrolled": true
   },
   "outputs": [
    {
     "name": "stdout",
     "output_type": "stream",
     "text": [
      "19567\n"
     ]
    }
   ],
   "source": [
    "print(df['model'].isna().sum())"
   ]
  },
  {
   "cell_type": "markdown",
   "metadata": {},
   "source": [
    "Switch `NaN`values for `other`"
   ]
  },
  {
   "cell_type": "code",
   "execution_count": 27,
   "metadata": {},
   "outputs": [],
   "source": [
    "df['model'] = df['model'].fillna('other')"
   ]
  },
  {
   "cell_type": "code",
   "execution_count": 28,
   "metadata": {},
   "outputs": [
    {
     "name": "stdout",
     "output_type": "stream",
     "text": [
      "0\n"
     ]
    }
   ],
   "source": [
    "print(df['model'].isna().sum())"
   ]
  },
  {
   "cell_type": "code",
   "execution_count": 29,
   "metadata": {
    "scrolled": true
   },
   "outputs": [
    {
     "name": "stdout",
     "output_type": "stream",
     "text": [
      "datecrawled          0.0\n",
      "price                0.0\n",
      "vehicletype          0.0\n",
      "registrationyear     0.0\n",
      "gearbox              0.0\n",
      "power                0.0\n",
      "model                0.0\n",
      "mileage              0.0\n",
      "registrationmonth    0.0\n",
      "fueltype             0.0\n",
      "brand                0.0\n",
      "notrepaired          0.0\n",
      "datecreated          0.0\n",
      "postalcode           0.0\n",
      "lastseen             0.0\n",
      "dtype: float64\n"
     ]
    }
   ],
   "source": [
    "print(df.isna().mean().sort_values(ascending=False))"
   ]
  },
  {
   "cell_type": "markdown",
   "metadata": {},
   "source": [
    "Now we don´t have missing values"
   ]
  },
  {
   "cell_type": "markdown",
   "metadata": {},
   "source": [
    "## Graphs"
   ]
  },
  {
   "cell_type": "code",
   "execution_count": 30,
   "metadata": {
    "scrolled": true
   },
   "outputs": [
    {
     "data": {
      "image/png": "[encoded data removed]",
      "text/plain": [
       "<Figure size 1008x432 with 1 Axes>"
      ]
     },
     "metadata": {
      "needs_background": "light"
     },
     "output_type": "display_data"
    }
   ],
   "source": [
    "f, ax = plt.subplots(figsize=(14,6))\n",
    "sns.lineplot(x='registrationyear', y='price', data=df);\n"
   ]
  },
  {
   "cell_type": "markdown",
   "metadata": {},
   "source": [
    "We have some high values whith old cars, probably colection´s car and a increase after 2000"
   ]
  },
  {
   "cell_type": "code",
   "execution_count": 31,
   "metadata": {
    "scrolled": false
   },
   "outputs": [
    {
     "data": {
      "text/plain": [
       "Text(0.5, 1.0, 'Price x Mileage')"
      ]
     },
     "execution_count": 31,
     "metadata": {},
     "output_type": "execute_result"
    },
    {
     "data": {
      "image/png": "[encoded data removed]",
      "text/plain": [
       "<Figure size 1008x432 with 1 Axes>"
      ]
     },
     "metadata": {
      "needs_background": "light"
     },
     "output_type": "display_data"
    }
   ],
   "source": [
    "f, ax = plt.subplots(figsize=(14,6))\n",
    "sns.lineplot(x='mileage', y='price', data=df);\n",
    "plt.title('Price x Mileage')"
   ]
  },
  {
   "cell_type": "markdown",
   "metadata": {},
   "source": [
    "<div class=\"alert alert-block alert-success\">\n",
    "<b> Comentário do revisor: </b> <a class=\"tocSkip\"></a>\n",
    "\n",
    "Um scatterplot seria mais indicado aqui\n",
    "</div>"
   ]
  },
  {
   "cell_type": "markdown",
   "metadata": {},
   "source": [
    "<div class=\"alert alert-block alert-info\">\n",
    "<b>Já havia testado o scatterplot, mas não achei significativo o mesmo. Segue como ficou.</b> <a class=\"tocSkip\"></a>\n",
    "</div>"
   ]
  },
  {
   "cell_type": "markdown",
   "metadata": {},
   "source": [
    "<div class=\"alert alert-block alert-warning\">\n",
    "<b> Comentário do revisor: </b> <a class=\"tocSkip\"></a>\n",
    "\n",
    "A meu ver, fica bem significativo. É posível ver que os preços estão bem distribuídos entre os valores min e maximo a aparentemente. É esperado que quanto maior a km menos será o preço.\n",
    "</div>"
   ]
  },
  {
   "cell_type": "code",
   "execution_count": 32,
   "metadata": {
    "scrolled": false
   },
   "outputs": [
    {
     "data": {
      "image/png": "[encoded data removed]",
      "text/plain": [
       "<Figure size 432x288 with 1 Axes>"
      ]
     },
     "metadata": {
      "needs_background": "light"
     },
     "output_type": "display_data"
    }
   ],
   "source": [
    "sns.scatterplot(x='mileage', y='price', data=df);"
   ]
  },
  {
   "cell_type": "markdown",
   "metadata": {},
   "source": [
    "After 40.000 miles, the price of the car has significantly decreased."
   ]
  },
  {
   "cell_type": "code",
   "execution_count": 33,
   "metadata": {
    "scrolled": false
   },
   "outputs": [
    {
     "data": {
      "image/png": "[encoded data removed]",
      "text/plain": [
       "<Figure size 432x288 with 1 Axes>"
      ]
     },
     "metadata": {
      "needs_background": "light"
     },
     "output_type": "display_data"
    }
   ],
   "source": [
    "sns.boxplot(x=df['price']);"
   ]
  },
  {
   "cell_type": "code",
   "execution_count": 34,
   "metadata": {},
   "outputs": [
    {
     "name": "stdout",
     "output_type": "stream",
     "text": [
      "False    339220\n",
      "True      14877\n",
      "Name: price, dtype: int64\n"
     ]
    }
   ],
   "source": [
    "print((df['price']>15000).value_counts())"
   ]
  },
  {
   "cell_type": "markdown",
   "metadata": {},
   "source": [
    "We have a lot of outliers in price column"
   ]
  },
  {
   "cell_type": "code",
   "execution_count": 35,
   "metadata": {},
   "outputs": [
    {
     "data": {
      "image/png": "[encoded data removed]",
      "text/plain": [
       "<Figure size 432x288 with 1 Axes>"
      ]
     },
     "metadata": {
      "needs_background": "light"
     },
     "output_type": "display_data"
    }
   ],
   "source": [
    "sns.boxplot(x=df['power']);"
   ]
  },
  {
   "cell_type": "code",
   "execution_count": 36,
   "metadata": {
    "scrolled": true
   },
   "outputs": [
    {
     "data": {
      "text/plain": [
       "Text(0.5, 1.0, 'Histogram of power')"
      ]
     },
     "execution_count": 36,
     "metadata": {},
     "output_type": "execute_result"
    },
    {
     "data": {
      "image/png": "[encoded data removed]",
      "text/plain": [
       "<Figure size 432x288 with 1 Axes>"
      ]
     },
     "metadata": {
      "needs_background": "light"
     },
     "output_type": "display_data"
    }
   ],
   "source": [
    "df['power'].plot(kind='hist', bins=30);\n",
    "plt.xlabel('Power')\n",
    "plt.title('Histogram of power')"
   ]
  },
  {
   "cell_type": "markdown",
   "metadata": {},
   "source": [
    "For these cases we will normalize the df"
   ]
  },
  {
   "cell_type": "markdown",
   "metadata": {},
   "source": [
    "## Feature Engineering"
   ]
  },
  {
   "cell_type": "code",
   "execution_count": 37,
   "metadata": {
    "scrolled": true
   },
   "outputs": [
    {
     "data": {
      "text/plain": [
       "Text(0.5, 1.0, 'Price x Age')"
      ]
     },
     "execution_count": 37,
     "metadata": {},
     "output_type": "execute_result"
    },
    {
     "data": {
      "image/png": "[encoded data removed]",
      "text/plain": [
       "<Figure size 432x288 with 1 Axes>"
      ]
     },
     "metadata": {
      "needs_background": "light"
     },
     "output_type": "display_data"
    }
   ],
   "source": [
    "df['age'] = df['datecreated'].dt.year - df['registrationyear']\n",
    "sns.lineplot(data=df, x='age', y='price');\n",
    "plt.title('Price x Age')"
   ]
  },
  {
   "cell_type": "markdown",
   "metadata": {},
   "source": [
    "Car between `70` and `90` years old has higher prices"
   ]
  },
  {
   "cell_type": "markdown",
   "metadata": {},
   "source": []
  },
  {
   "cell_type": "markdown",
   "metadata": {},
   "source": [
    "## Treinamento do modelo"
   ]
  },
  {
   "cell_type": "code",
   "execution_count": 38,
   "metadata": {
    "scrolled": true
   },
   "outputs": [
    {
     "name": "stdout",
     "output_type": "stream",
     "text": [
      "Requirement already satisfied: category_encoders in /opt/conda/lib/python3.9/site-packages (2.6.3)\n",
      "Requirement already satisfied: pandas>=1.0.5 in /opt/conda/lib/python3.9/site-packages (from category_encoders) (1.2.4)\n",
      "Requirement already satisfied: scikit-learn>=0.20.0 in /opt/conda/lib/python3.9/site-packages (from category_encoders) (0.24.1)\n",
      "Requirement already satisfied: patsy>=0.5.1 in /opt/conda/lib/python3.9/site-packages (from category_encoders) (0.5.2)\n",
      "Requirement already satisfied: numpy>=1.14.0 in /opt/conda/lib/python3.9/site-packages (from category_encoders) (1.21.1)\n",
      "Requirement already satisfied: scipy>=1.0.0 in /opt/conda/lib/python3.9/site-packages (from category_encoders) (1.8.0)\n",
      "Requirement already satisfied: statsmodels>=0.9.0 in /opt/conda/lib/python3.9/site-packages (from category_encoders) (0.13.2)\n",
      "Requirement already satisfied: python-dateutil>=2.7.3 in /opt/conda/lib/python3.9/site-packages (from pandas>=1.0.5->category_encoders) (2.8.1)\n",
      "Requirement already satisfied: pytz>=2017.3 in /opt/conda/lib/python3.9/site-packages (from pandas>=1.0.5->category_encoders) (2021.1)\n",
      "Requirement already satisfied: six in /opt/conda/lib/python3.9/site-packages (from patsy>=0.5.1->category_encoders) (1.16.0)\n",
      "Requirement already satisfied: threadpoolctl>=2.0.0 in /opt/conda/lib/python3.9/site-packages (from scikit-learn>=0.20.0->category_encoders) (3.1.0)\n",
      "Requirement already satisfied: joblib>=0.11 in /opt/conda/lib/python3.9/site-packages (from scikit-learn>=0.20.0->category_encoders) (1.1.0)\n",
      "Requirement already satisfied: packaging>=21.3 in /opt/conda/lib/python3.9/site-packages (from statsmodels>=0.9.0->category_encoders) (21.3)\n",
      "Requirement already satisfied: pyparsing!=3.0.5,>=2.0.2 in /opt/conda/lib/python3.9/site-packages (from packaging>=21.3->statsmodels>=0.9.0->category_encoders) (2.4.7)\n",
      "Note: you may need to restart the kernel to use updated packages.\n"
     ]
    }
   ],
   "source": [
    "pip install category_encoders\n"
   ]
  },
  {
   "cell_type": "code",
   "execution_count": 39,
   "metadata": {},
   "outputs": [],
   "source": [
    "import category_encoders as ce"
   ]
  },
  {
   "cell_type": "code",
   "execution_count": 40,
   "metadata": {},
   "outputs": [],
   "source": [
    "#spliting data frame in features and target\n",
    "y = df['price']\n",
    "x = df.drop('price', axis=1)"
   ]
  },
  {
   "cell_type": "code",
   "execution_count": 41,
   "metadata": {},
   "outputs": [],
   "source": [
    "#creating train and test data frames\n",
    "x_train, x_test, y_train, y_test = train_test_split(x, y, test_size=0.25, random_state=12345)"
   ]
  },
  {
   "cell_type": "code",
   "execution_count": 42,
   "metadata": {},
   "outputs": [],
   "source": [
    "#applying encoding in categorical features\n",
    "cat_cols = ['vehicletype', 'model', 'fueltype', 'brand' ]\n",
    "ohe_cols = [x for x in cat_cols if df[x].nunique() < 10 ]\n",
    "encoding_cols = list(set(cat_cols) - set(ohe_cols))\n",
    "\n",
    "\n",
    "# at features tha has less than 10 unique values we'll use OneHotEncoder\n",
    "#the fit process should be at train data frame toa void data leakage\n",
    "ohe = ce.OneHotEncoder(cols=ohe_cols)\n",
    "x_train = ohe.fit_transform(x_train)\n",
    "x_test = ohe.fit_transform(x_test)\n",
    "\n",
    "\n",
    "\n"
   ]
  },
  {
   "cell_type": "code",
   "execution_count": 43,
   "metadata": {
    "scrolled": true
   },
   "outputs": [],
   "source": [
    "#at features tha has more than ten unique values we'll use CatBoosterEncoder, \n",
    "#and for that we have to pass the target data frame, so we need to use target train data frame\n",
    "encoding = ce.CatBoostEncoder(cols=encoding_cols)\n",
    "encoding.fit(x_train, y_train)\n",
    "x_train = encoding.transform(x_train)\n",
    "x_test = encoding.transform(x_test)\n",
    "\n",
    "\n"
   ]
  },
  {
   "cell_type": "markdown",
   "metadata": {},
   "source": [
    "For numerical features we have to use MinMaxScaler"
   ]
  },
  {
   "cell_type": "code",
   "execution_count": 44,
   "metadata": {},
   "outputs": [],
   "source": [
    "numerical_cols = list(set(x_train.columns) - set(cat_cols) - \n",
    "                      set(x_train.select_dtypes(include=['datetime64']).columns))\n",
    "scaler = MinMaxScaler()\n",
    "scaler.fit(x_train[numerical_cols])\n",
    "\n",
    "x_train[numerical_cols] = scaler.transform(x_train[numerical_cols])\n",
    "x_test[numerical_cols] = scaler.transform(x_test[numerical_cols])\n"
   ]
  },
  {
   "cell_type": "code",
   "execution_count": 66,
   "metadata": {},
   "outputs": [],
   "source": [
    "x_train = x_train.drop(columns=x_train.select_dtypes(include=['datetime64']).columns)\n",
    "x_test = x_test.drop(columns=x_test.select_dtypes(include=['datetime64']).columns)"
   ]
  },
  {
   "cell_type": "markdown",
   "metadata": {},
   "source": [
    "Trainning Linear Model"
   ]
  },
  {
   "cell_type": "code",
   "execution_count": 46,
   "metadata": {},
   "outputs": [
    {
     "name": "stdout",
     "output_type": "stream",
     "text": [
      "CPU times: user 378 ms, sys: 137 ms, total: 515 ms\n",
      "Wall time: 501 ms\n"
     ]
    }
   ],
   "source": [
    "%%time\n",
    "lr = LinearRegression()\n",
    "lr.fit(x_train, y_train)\n",
    "lr_pred = lr.predict(x_test)"
   ]
  },
  {
   "cell_type": "markdown",
   "metadata": {},
   "source": [
    "Trainning Random Forest Model"
   ]
  },
  {
   "cell_type": "code",
   "execution_count": 47,
   "metadata": {},
   "outputs": [
    {
     "name": "stdout",
     "output_type": "stream",
     "text": [
      "CPU times: user 1min 41s, sys: 75.2 ms, total: 1min 41s\n",
      "Wall time: 1min 41s\n"
     ]
    }
   ],
   "source": [
    "%%time\n",
    "rf = RandomForestRegressor(max_depth=8, n_estimators=100, random_state=12345)\n",
    "rf.fit(x_train, y_train)\n",
    "rf_pred = rf.predict(x_test)\n"
   ]
  },
  {
   "cell_type": "markdown",
   "metadata": {},
   "source": [
    "<div class=\"alert alert-block alert-danger\">\n",
    "<b> Comentário do revisor: </b> <a class=\"tocSkip\"></a>\n",
    "\n",
    "Precisamos calibrar hiperparâmetros. Oriento ajustar pelo menos n\n",
    "</div>"
   ]
  },
  {
   "cell_type": "markdown",
   "metadata": {},
   "source": [
    "Trainning LGBM Model "
   ]
  },
  {
   "cell_type": "code",
   "execution_count": 48,
   "metadata": {},
   "outputs": [
    {
     "name": "stdout",
     "output_type": "stream",
     "text": [
      "CPU times: user 5.36 s, sys: 24.6 ms, total: 5.39 s\n",
      "Wall time: 5.37 s\n"
     ]
    }
   ],
   "source": [
    "%%time\n",
    "lg = lgbm.LGBMRegressor(random_state=12345)\n",
    "lg.fit(x_train, y_train)\n",
    "lg_pred = lg.predict(x_test)"
   ]
  },
  {
   "cell_type": "markdown",
   "metadata": {},
   "source": [
    "Trainning CatBoost Model"
   ]
  },
  {
   "cell_type": "code",
   "execution_count": 49,
   "metadata": {
    "scrolled": true
   },
   "outputs": [
    {
     "name": "stdout",
     "output_type": "stream",
     "text": [
      "0:\tlearn: 4477.9575025\ttotal: 136ms\tremaining: 13.5s\n",
      "10:\tlearn: 4191.8258249\ttotal: 894ms\tremaining: 7.24s\n",
      "20:\tlearn: 3938.0531725\ttotal: 1.66s\tremaining: 6.26s\n",
      "30:\tlearn: 3713.3987439\ttotal: 2.42s\tremaining: 5.4s\n",
      "40:\tlearn: 3514.3059950\ttotal: 3.2s\tremaining: 4.61s\n",
      "50:\tlearn: 3337.5977731\ttotal: 3.98s\tremaining: 3.83s\n",
      "60:\tlearn: 3181.0362325\ttotal: 4.77s\tremaining: 3.05s\n",
      "70:\tlearn: 3043.4982969\ttotal: 5.52s\tremaining: 2.25s\n",
      "80:\tlearn: 2922.2599129\ttotal: 6.29s\tremaining: 1.48s\n",
      "90:\tlearn: 2814.8851205\ttotal: 7.06s\tremaining: 698ms\n",
      "99:\tlearn: 2729.3904924\ttotal: 7.73s\tremaining: 0us\n",
      "CPU times: user 8 s, sys: 40 ms, total: 8.04 s\n",
      "Wall time: 8.28 s\n"
     ]
    }
   ],
   "source": [
    "%%time\n",
    "cb = CatBoostRegressor(learning_rate=0.01, iterations=100, depth=8, loss_function='RMSE', verbose=10)\n",
    "cb.fit(x_train, y_train)\n",
    "cb_pred = cb.predict(x_test)"
   ]
  },
  {
   "cell_type": "markdown",
   "metadata": {},
   "source": [
    "Trainning XGBoost Model"
   ]
  },
  {
   "cell_type": "code",
   "execution_count": 50,
   "metadata": {},
   "outputs": [
    {
     "name": "stdout",
     "output_type": "stream",
     "text": [
      "CPU times: user 1min 40s, sys: 193 ms, total: 1min 40s\n",
      "Wall time: 1min 40s\n"
     ]
    }
   ],
   "source": [
    "%%time\n",
    "xg = XGBRegressor(learning_rate=0.01, max_depth=8, n_estimators=100)\n",
    "xg.fit(x_train, y_train)\n",
    "xg_pred = xg.predict(x_test)"
   ]
  },
  {
   "cell_type": "markdown",
   "metadata": {},
   "source": [
    "<div class=\"alert alert-block alert-danger\">\n",
    "<b> Comentário do revisor: </b> <a class=\"tocSkip\"></a>\n",
    "\n",
    "Precisamos calibrar hiperparâmetros. Oriento ajustar pelo menos n\n",
    "</div>"
   ]
  },
  {
   "cell_type": "markdown",
   "metadata": {},
   "source": [
    "## Análise do modelo"
   ]
  },
  {
   "cell_type": "code",
   "execution_count": 51,
   "metadata": {
    "scrolled": true
   },
   "outputs": [
    {
     "name": "stdout",
     "output_type": "stream",
     "text": [
      "Linear Regression RMSE is:3680.401649040651 and time: 0.412 ms\n",
      "Random Forest RMSE is:2517.871399884946 and time: 89 s\n",
      "LGBM RMSE is:2254.0016238722483 and time: 5.23 s\n",
      "CatBoost RMSE is:2883.7181809296144 and time: 8.18 s\n",
      "XGBoost RMSE is:3099.6084269782173 and time: 109 s\n",
      "The best RMSE model is: LGBM with RMSE = 2254.0016238722483\n"
     ]
    }
   ],
   "source": [
    "def choosing_best_model(rmse)\n",
    "rmse_lr = mean_squared_error(y_test, lr_pred)**0.5\n",
    "rmse_rf = mean_squared_error(y_test, rf_pred)**0.5\n",
    "rmse_lg = mean_squared_error(y_test, lg_pred)**0.5\n",
    "rmse_cb = mean_squared_error(y_test, cb_pred)**0.5\n",
    "rmse_xg = mean_squared_error(y_test, xg_pred)**0.5\n",
    "\n",
    "print(f\"Linear Regression RMSE is:{rmse_lr} and time: 0.412 ms\")\n",
    "print(f\"Random Forest RMSE is:{rmse_rf} and time: 89 s\")\n",
    "print(f\"LGBM RMSE is:{rmse_lg} and time: 5.23 s\")\n",
    "print(f\"CatBoost RMSE is:{rmse_cb} and time: 8.18 s\")\n",
    "print(f\"XGBoost RMSE is:{rmse_xg} and time: 109 s\")\n",
    "\n",
    "\n",
    "models = {\n",
    "    'Linear Regression':rmse_lr, \n",
    "    'Random Forest': rmse_rf, \n",
    "    'LGBM': rmse_lg, \n",
    "    'CatBoost': rmse_cb, \n",
    "    'XGBoost': rmse_xg\n",
    "}\n",
    "\n",
    "min_rmse = min(models, key=models.get)\n",
    "print(f'The best RMSE model is: {min_rmse} with RMSE = {models[min_rmse]}')\n"
   ]
  },
  {
   "cell_type": "markdown",
   "metadata": {},
   "source": [
    "### Doing Hyperparameters tunning"
   ]
  },
  {
   "cell_type": "markdown",
   "metadata": {},
   "source": []
  },
  {
   "cell_type": "code",
   "execution_count": 63,
   "metadata": {},
   "outputs": [],
   "source": [
    "#Creating a function to tunning\n",
    "def tuning(model_name, params, x_train, y_train, x_test, y_test):\n",
    "\n",
    "    \n",
    "    if model_name == 'RandomForestRegressor':\n",
    "        best_result = float('inf')  \n",
    "        best_rf_model = None\n",
    "        best_rf_params = None\n",
    "        for est in params['n_estimators']:\n",
    "            model = RandomForestRegressor(max_depth=8, n_estimators=est)\n",
    "            model.fit(x_train, y_train)\n",
    "            y_pred = model.predict(x_test)\n",
    "            rmse = mean_squared_error(y_test, y_pred, squared=False)\n",
    "            if rmse < best_result:\n",
    "                best_result = rmse\n",
    "                best_rf_model = model\n",
    "                best_rf_params = {'n_estimators': est}\n",
    "        return best_rf_model, best_rf_params            \n",
    "    elif model_name == 'CatBoost':\n",
    "        best_result = float('inf')  \n",
    "        best_cat_model = None\n",
    "        best_cat_params = None\n",
    "        for est in params['iterations']:\n",
    "            model = CatBoostRegressor(learning_rate=0.01, iterations=est, depth=8, loss_function='RMSE', verbose=10)\n",
    "            model.fit(x_train, y_train)\n",
    "            y_pred = model.predict(x_test)\n",
    "            rmse = mean_squared_error(y_test, y_pred, squared=False)\n",
    "            if rmse < best_result:\n",
    "                best_result = rmse\n",
    "                best_cat_model = model\n",
    "                best_cat_params = {'iterations': est}\n",
    "        return best_cat_model, best_cat_params       \n",
    "    elif model_name == 'XGBoost':\n",
    "        best_result = float('inf')  \n",
    "        best_xg_model = None\n",
    "        best_xg_params = None\n",
    "        for est in params['n_estimators']:\n",
    "            model = XGBRegressor(learning_rate=0.01, max_depth=8, n_estimators=est)\n",
    "            model.fit(x_train, y_train)\n",
    "            y_pred = model.predict(x_test)\n",
    "            rmse = mean_squared_error(y_test, y_pred, squared=False)\n",
    "            if rmse < best_result:\n",
    "                best_result = rmse\n",
    "                best_xg_model = model\n",
    "                best_xg_params = {'n_estimators': est}\n",
    "                \n",
    "        return best_xg_model, best_xg_params\n",
    "\n"
   ]
  },
  {
   "cell_type": "code",
   "execution_count": 64,
   "metadata": {},
   "outputs": [],
   "source": [
    "params = {\n",
    "    'n_estimators': [50, 80, 110],\n",
    "    'iterations': [50, 80, 110]\n",
    "}"
   ]
  },
  {
   "cell_type": "code",
   "execution_count": 89,
   "metadata": {},
   "outputs": [],
   "source": [
    "def print_values(params, time):\n",
    "    print(f\"The best params is {params} and the execution time was {time:.2f} s\")"
   ]
  },
  {
   "cell_type": "markdown",
   "metadata": {},
   "source": [
    "#### Random Forest"
   ]
  },
  {
   "cell_type": "code",
   "execution_count": 71,
   "metadata": {},
   "outputs": [
    {
     "name": "stdout",
     "output_type": "stream",
     "text": [
      "CPU times: user 4min 5s, sys: 79.5 ms, total: 4min 5s\n",
      "Wall time: 4min 5s\n"
     ]
    }
   ],
   "source": [
    "model = 'RandomForestRegressor'\n",
    "best_rf_model, best_rf_params = tuning(model, params, x_train, y_train, x_test, y_test) \n"
   ]
  },
  {
   "cell_type": "code",
   "execution_count": 78,
   "metadata": {},
   "outputs": [],
   "source": [
    "start_time = time.time()\n",
    "best_rf_model.fit(x_train, y_train)\n",
    "rf_rmse = mean_squared_error(y_test, best_rf_model.predict(x_test), squared=False)\n",
    "end_time = time.time()\n",
    "rf_time = end_time - start_time\n",
    "start_time = None\n",
    "end_time = None"
   ]
  },
  {
   "cell_type": "code",
   "execution_count": 91,
   "metadata": {},
   "outputs": [
    {
     "name": "stdout",
     "output_type": "stream",
     "text": [
      "The best params is 80 and the execution time was 80.67 s\n"
     ]
    }
   ],
   "source": [
    "print_values(best_rf_params['n_estimators'], rf_time)\n",
    "\n"
   ]
  },
  {
   "cell_type": "markdown",
   "metadata": {},
   "source": [
    "#### CatBoost"
   ]
  },
  {
   "cell_type": "code",
   "execution_count": 95,
   "metadata": {
    "scrolled": true
   },
   "outputs": [
    {
     "name": "stdout",
     "output_type": "stream",
     "text": [
      "0:\tlearn: 4477.9575025\ttotal: 81.5ms\tremaining: 4s\n",
      "10:\tlearn: 4191.8258249\ttotal: 843ms\tremaining: 2.99s\n",
      "20:\tlearn: 3938.0531725\ttotal: 1.61s\tremaining: 2.22s\n",
      "30:\tlearn: 3713.3987439\ttotal: 2.37s\tremaining: 1.45s\n",
      "40:\tlearn: 3514.3059950\ttotal: 3.13s\tremaining: 687ms\n",
      "49:\tlearn: 3354.4310518\ttotal: 3.82s\tremaining: 0us\n",
      "0:\tlearn: 4477.9575025\ttotal: 78.8ms\tremaining: 6.23s\n",
      "10:\tlearn: 4191.8258249\ttotal: 856ms\tremaining: 5.37s\n",
      "20:\tlearn: 3938.0531725\ttotal: 1.62s\tremaining: 4.55s\n",
      "30:\tlearn: 3713.3987439\ttotal: 2.4s\tremaining: 3.8s\n",
      "40:\tlearn: 3514.3059950\ttotal: 3.19s\tremaining: 3.04s\n",
      "50:\tlearn: 3337.5977731\ttotal: 3.98s\tremaining: 2.26s\n",
      "60:\tlearn: 3181.0362325\ttotal: 4.78s\tremaining: 1.49s\n",
      "70:\tlearn: 3043.4982969\ttotal: 5.56s\tremaining: 705ms\n",
      "79:\tlearn: 2933.8105866\ttotal: 6.27s\tremaining: 0us\n",
      "0:\tlearn: 4477.9575025\ttotal: 83.6ms\tremaining: 9.11s\n",
      "10:\tlearn: 4191.8258249\ttotal: 870ms\tremaining: 7.83s\n",
      "20:\tlearn: 3938.0531725\ttotal: 1.64s\tremaining: 6.96s\n",
      "30:\tlearn: 3713.3987439\ttotal: 2.41s\tremaining: 6.14s\n",
      "40:\tlearn: 3514.3059950\ttotal: 3.2s\tremaining: 5.38s\n",
      "50:\tlearn: 3337.5977731\ttotal: 3.96s\tremaining: 4.58s\n",
      "60:\tlearn: 3181.0362325\ttotal: 4.76s\tremaining: 3.82s\n",
      "70:\tlearn: 3043.4982969\ttotal: 5.53s\tremaining: 3.04s\n",
      "80:\tlearn: 2922.2599129\ttotal: 6.32s\tremaining: 2.26s\n",
      "90:\tlearn: 2814.8851205\ttotal: 7.09s\tremaining: 1.48s\n",
      "100:\tlearn: 2720.2604760\ttotal: 7.87s\tremaining: 701ms\n",
      "109:\tlearn: 2644.6038290\ttotal: 8.55s\tremaining: 0us\n"
     ]
    }
   ],
   "source": [
    "model = 'CatBoost'\n",
    "best_cat_model, best_cat_params = tuning(model, params, x_train, y_train, x_test, y_test)\n"
   ]
  },
  {
   "cell_type": "code",
   "execution_count": 96,
   "metadata": {},
   "outputs": [
    {
     "name": "stdout",
     "output_type": "stream",
     "text": [
      "0:\tlearn: 4477.9575025\ttotal: 84ms\tremaining: 9.15s\n",
      "10:\tlearn: 4191.8258249\ttotal: 886ms\tremaining: 7.97s\n",
      "20:\tlearn: 3938.0531725\ttotal: 1.68s\tremaining: 7.11s\n",
      "30:\tlearn: 3713.3987439\ttotal: 2.47s\tremaining: 6.29s\n",
      "40:\tlearn: 3514.3059950\ttotal: 3.27s\tremaining: 5.51s\n",
      "50:\tlearn: 3337.5977731\ttotal: 4.05s\tremaining: 4.68s\n",
      "60:\tlearn: 3181.0362325\ttotal: 4.84s\tremaining: 3.89s\n",
      "70:\tlearn: 3043.4982969\ttotal: 5.62s\tremaining: 3.09s\n",
      "80:\tlearn: 2922.2599129\ttotal: 6.4s\tremaining: 2.29s\n",
      "90:\tlearn: 2814.8851205\ttotal: 7.18s\tremaining: 1.5s\n",
      "100:\tlearn: 2720.2604760\ttotal: 7.97s\tremaining: 710ms\n",
      "109:\tlearn: 2644.6038290\ttotal: 8.67s\tremaining: 0us\n"
     ]
    }
   ],
   "source": [
    "start_time = time.time()\n",
    "best_cat_model.fit(x_train, y_train)\n",
    "cat_rmse = mean_squared_error(y_test, best_cat_model.predict(x_test), squared=False)\n",
    "end_time = time.time()\n",
    "cat_time = end_time - start_time\n",
    "start_time = None\n",
    "end_time = None"
   ]
  },
  {
   "cell_type": "code",
   "execution_count": 97,
   "metadata": {},
   "outputs": [
    {
     "name": "stdout",
     "output_type": "stream",
     "text": [
      "The best params is 110 and the execution time was 9.14 s\n"
     ]
    }
   ],
   "source": [
    "print_values(best_cat_params['iterations'], cat_time)"
   ]
  },
  {
   "cell_type": "markdown",
   "metadata": {},
   "source": [
    "#### XGBRegressor"
   ]
  },
  {
   "cell_type": "code",
   "execution_count": 98,
   "metadata": {},
   "outputs": [],
   "source": [
    "model = 'XGBoost'\n",
    "best_xg_model, best_xg_params = tuning(model, params, x_train, y_train, x_test, y_test)\n"
   ]
  },
  {
   "cell_type": "code",
   "execution_count": 100,
   "metadata": {},
   "outputs": [],
   "source": [
    "start_time = time.time()\n",
    "best_xg_model.fit(x_train, y_train)\n",
    "xg_rmse = mean_squared_error(y_test, best_xg_model.predict(x_test), squared=False)\n",
    "end_time = time.time()\n",
    "xg_time = end_time - start_time\n",
    "start_time = None\n",
    "end_time = None"
   ]
  },
  {
   "cell_type": "code",
   "execution_count": 101,
   "metadata": {},
   "outputs": [
    {
     "name": "stdout",
     "output_type": "stream",
     "text": [
      "The best params is 110 and the execution time was 112.39 s\n"
     ]
    }
   ],
   "source": [
    "print_values(best_xg_params['n_estimators'], xg_time)"
   ]
  },
  {
   "cell_type": "code",
   "execution_count": 102,
   "metadata": {},
   "outputs": [
    {
     "name": "stdout",
     "output_type": "stream",
     "text": [
      "The best RMSE model is: Random Forest with RMSE = 2477.7927405115656\n"
     ]
    }
   ],
   "source": [
    "hp_models = {\n",
    "    'Random Forest': rf_rmse, \n",
    "    'CatBoost': cat_rmse, \n",
    "    'XGBoost': xg_rmse\n",
    "}\n",
    "\n",
    "hp_min_rmse = min(hp_models, key=hp_models.get)\n",
    "print(f'The best RMSE model is: {hp_min_rmse} with RMSE = {hp_models[hp_min_rmse]}')"
   ]
  },
  {
   "cell_type": "markdown",
   "metadata": {},
   "source": [
    "# Checklist"
   ]
  },
  {
   "cell_type": "markdown",
   "metadata": {},
   "source": [
    "Digite 'x' para verificar. Em seguida, pressione Shift + Enter."
   ]
  },
  {
   "cell_type": "markdown",
   "metadata": {},
   "source": [
    "\n",
    "~]\n",
    "- [x]  O Jupyter Notebook está aberto\n",
    "- [x]  O código está livre de erros\n",
    "- [x]  As células com o código foram organizadas em ordem de execução\n",
    "- [x]  Os dados foram baixados e preparados\n",
    "- [x]  Os modelos foram treinados\n",
    "- [x]  A análise de velocidade e qualidade dos modelos foi realizada"
   ]
  }
 ],
 "metadata": {
  "kernelspec": {
   "display_name": "Python 3 (ipykernel)",
   "language": "python",
   "name": "python3"
  },
  "language_info": {
   "codemirror_mode": {
    "name": "ipython",
    "version": 3
   },
   "file_extension": ".py",
   "mimetype": "text/x-python",
   "name": "python",
   "nbconvert_exporter": "python",
   "pygments_lexer": "ipython3",
   "version": "3.9.19"
  },
  "toc": {
   "base_numbering": 1,
   "nav_menu": {},
   "number_sections": true,
   "sideBar": true,
   "skip_h1_title": true,
   "title_cell": "Table of Contents",
   "title_sidebar": "Contents",
   "toc_cell": false,
   "toc_position": {},
   "toc_section_display": true,
   "toc_window_display": false
  }
 },
 "nbformat": 4,
 "nbformat_minor": 2
}
