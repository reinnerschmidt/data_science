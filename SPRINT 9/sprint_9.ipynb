{
 "cells": [
  {
   "cell_type": "markdown",
   "metadata": {},
   "source": [
    "Olá, Reinner!\n",
    "\n",
    "Meu nome é Ramon. Fico feliz em revisar seu projeto. Ao ao longo do texto farei algumas observações sobre melhorias no código e também farei comentários sobre suas percepções sobre o assunto. Estarei aberto a feedbacks e discussões sobre o tema.\n",
    "\n",
    "**Peço que mantenha e não altere os comentários que eu fizer por aqui para que possamos nos localizar posteriormente, ok?**\n",
    "\n",
    "Mais uma coisa, vamos utilizar um código de cores para você entender os meus feedbacks no seu notebook. Funciona assim:\n",
    "\n",
    "<div class=\"alert alert-block alert-success\">\n",
    "<b> Comentário do revisor: </b> <a class=\"tocSkip\"></a>\n",
    "\n",
    "Sucesso. Tudo foi feito corretamente.\n",
    "</div>\n",
    "\n",
    "<div class=\"alert alert-block alert-warning\">\n",
    "<b>Comentário do revisor: </b> <a class=\"tocSkip\"></a>\n",
    "\n",
    "Alerta não crítco, mas que pode ser corrigido para melhoria geral no seu código/análise\n",
    "</div>\n",
    "\n",
    "<div class=\"alert alert-block alert-danger\">\n",
    "\n",
    "<b>Comentário do revisor: </b> <a class=\"tocSkip\"></a>\n",
    "    \n",
    "Erro que precisa ser consertado, caso contrário seu projeto **não** será aceito.\n",
    "</div>\n",
    "\n",
    "Você pode me responder usando isso:\n",
    "<div class=\"alert alert-block alert-info\">\n",
    "<b>Resposta do Aluno.</b> <a class=\"tocSkip\"></a>\n",
    "</div>"
   ]
  },
  {
   "cell_type": "markdown",
   "metadata": {},
   "source": [
    "# Importar as bibliotecas"
   ]
  },
  {
   "cell_type": "code",
   "execution_count": 1,
   "metadata": {},
   "outputs": [],
   "source": [
    "import pandas as pd\n",
    "import numpy as np\n",
    "import matplotlib.pyplot as plt\n",
    "from sklearn.model_selection import train_test_split\n",
    "from sklearn.preprocessing import StandardScaler\n",
    "from sklearn.impute import SimpleImputer\n",
    "from sklearn.tree import DecisionTreeClassifier\n",
    "from sklearn.ensemble import RandomForestClassifier\n",
    "from sklearn.linear_model import LogisticRegression\n",
    "from sklearn.metrics import f1_score, roc_auc_score\n",
    "from sklearn.utils import shuffle\n",
    "import seaborn as sns\n"
   ]
  },
  {
   "cell_type": "markdown",
   "metadata": {},
   "source": [
    "# Carregamento e análise dos Dados"
   ]
  },
  {
   "cell_type": "code",
   "execution_count": 2,
   "metadata": {},
   "outputs": [],
   "source": [
    "data = pd.read_csv('/datasets/Churn.csv')"
   ]
  },
  {
   "cell_type": "code",
   "execution_count": 3,
   "metadata": {
    "scrolled": true
   },
   "outputs": [
    {
     "name": "stdout",
     "output_type": "stream",
     "text": [
      "<class 'pandas.core.frame.DataFrame'>\n",
      "RangeIndex: 10000 entries, 0 to 9999\n",
      "Data columns (total 14 columns):\n",
      " #   Column           Non-Null Count  Dtype  \n",
      "---  ------           --------------  -----  \n",
      " 0   RowNumber        10000 non-null  int64  \n",
      " 1   CustomerId       10000 non-null  int64  \n",
      " 2   Surname          10000 non-null  object \n",
      " 3   CreditScore      10000 non-null  int64  \n",
      " 4   Geography        10000 non-null  object \n",
      " 5   Gender           10000 non-null  object \n",
      " 6   Age              10000 non-null  int64  \n",
      " 7   Tenure           9091 non-null   float64\n",
      " 8   Balance          10000 non-null  float64\n",
      " 9   NumOfProducts    10000 non-null  int64  \n",
      " 10  HasCrCard        10000 non-null  int64  \n",
      " 11  IsActiveMember   10000 non-null  int64  \n",
      " 12  EstimatedSalary  10000 non-null  float64\n",
      " 13  Exited           10000 non-null  int64  \n",
      "dtypes: float64(3), int64(8), object(3)\n",
      "memory usage: 1.1+ MB\n",
      "None\n"
     ]
    }
   ],
   "source": [
    "print(data.info())"
   ]
  },
  {
   "cell_type": "markdown",
   "metadata": {},
   "source": [
    "Vamos precisar tratar a coluna `Tenure`, pois a mesma tem valores nulos"
   ]
  },
  {
   "cell_type": "markdown",
   "metadata": {},
   "source": [
    "Avaliando os dados estatísticos:"
   ]
  },
  {
   "cell_type": "code",
   "execution_count": 4,
   "metadata": {},
   "outputs": [
    {
     "name": "stdout",
     "output_type": "stream",
     "text": [
      "         RowNumber    CustomerId   CreditScore           Age       Tenure  \\\n",
      "count  10000.00000  1.000000e+04  10000.000000  10000.000000  9091.000000   \n",
      "mean    5000.50000  1.569094e+07    650.528800     38.921800     4.997690   \n",
      "std     2886.89568  7.193619e+04     96.653299     10.487806     2.894723   \n",
      "min        1.00000  1.556570e+07    350.000000     18.000000     0.000000   \n",
      "25%     2500.75000  1.562853e+07    584.000000     32.000000     2.000000   \n",
      "50%     5000.50000  1.569074e+07    652.000000     37.000000     5.000000   \n",
      "75%     7500.25000  1.575323e+07    718.000000     44.000000     7.000000   \n",
      "max    10000.00000  1.581569e+07    850.000000     92.000000    10.000000   \n",
      "\n",
      "             Balance  NumOfProducts    HasCrCard  IsActiveMember  \\\n",
      "count   10000.000000   10000.000000  10000.00000    10000.000000   \n",
      "mean    76485.889288       1.530200      0.70550        0.515100   \n",
      "std     62397.405202       0.581654      0.45584        0.499797   \n",
      "min         0.000000       1.000000      0.00000        0.000000   \n",
      "25%         0.000000       1.000000      0.00000        0.000000   \n",
      "50%     97198.540000       1.000000      1.00000        1.000000   \n",
      "75%    127644.240000       2.000000      1.00000        1.000000   \n",
      "max    250898.090000       4.000000      1.00000        1.000000   \n",
      "\n",
      "       EstimatedSalary        Exited  \n",
      "count     10000.000000  10000.000000  \n",
      "mean     100090.239881      0.203700  \n",
      "std       57510.492818      0.402769  \n",
      "min          11.580000      0.000000  \n",
      "25%       51002.110000      0.000000  \n",
      "50%      100193.915000      0.000000  \n",
      "75%      149388.247500      0.000000  \n",
      "max      199992.480000      1.000000  \n"
     ]
    }
   ],
   "source": [
    "print(data.describe())"
   ]
  },
  {
   "cell_type": "code",
   "execution_count": 5,
   "metadata": {
    "scrolled": false
   },
   "outputs": [
    {
     "name": "stdout",
     "output_type": "stream",
     "text": [
      "   RowNumber  CustomerId   Surname  CreditScore Geography  Gender  Age  \\\n",
      "0          1    15634602  Hargrave          619    France  Female   42   \n",
      "1          2    15647311      Hill          608     Spain  Female   41   \n",
      "2          3    15619304      Onio          502    France  Female   42   \n",
      "3          4    15701354      Boni          699    France  Female   39   \n",
      "4          5    15737888  Mitchell          850     Spain  Female   43   \n",
      "\n",
      "   Tenure    Balance  NumOfProducts  HasCrCard  IsActiveMember  \\\n",
      "0     2.0       0.00              1          1               1   \n",
      "1     1.0   83807.86              1          0               1   \n",
      "2     8.0  159660.80              3          1               0   \n",
      "3     1.0       0.00              2          0               0   \n",
      "4     2.0  125510.82              1          1               1   \n",
      "\n",
      "   EstimatedSalary  Exited  \n",
      "0        101348.88       1  \n",
      "1        112542.58       0  \n",
      "2        113931.57       1  \n",
      "3         93826.63       0  \n",
      "4         79084.10       0  \n"
     ]
    }
   ],
   "source": [
    "print(data.head())"
   ]
  },
  {
   "cell_type": "markdown",
   "metadata": {},
   "source": [
    "Temos três características categóricas. A característica `Surname` pode ser removida, pois não influencia no modelo. Temos a característica `Geography`, que precisamos avaliar a quantidade de valores únicos para determinar a tratativa e também temos a característica `Gender` que pode ser convertida para 0 e 1"
   ]
  },
  {
   "cell_type": "markdown",
   "metadata": {},
   "source": [
    "Analisando a característica Geography"
   ]
  },
  {
   "cell_type": "code",
   "execution_count": 6,
   "metadata": {
    "scrolled": true
   },
   "outputs": [
    {
     "name": "stdout",
     "output_type": "stream",
     "text": [
      "['France' 'Spain' 'Germany']\n"
     ]
    }
   ],
   "source": [
    "print(data['Geography'].unique())"
   ]
  },
  {
   "cell_type": "markdown",
   "metadata": {},
   "source": [
    "Devido a termos somente 3 valores na categoria podemos utilizar o método OHE, não criando muitas colunas e utilizando muita alocação de memória"
   ]
  },
  {
   "cell_type": "markdown",
   "metadata": {},
   "source": [
    "## Pré-Processamento"
   ]
  },
  {
   "cell_type": "code",
   "execution_count": 7,
   "metadata": {},
   "outputs": [],
   "source": [
    "#Removendo a coluna Surname\n",
    "data = data.drop('Surname', axis=1)"
   ]
  },
  {
   "cell_type": "code",
   "execution_count": 8,
   "metadata": {
    "scrolled": true
   },
   "outputs": [
    {
     "name": "stdout",
     "output_type": "stream",
     "text": [
      "      RowNumber  CustomerId  CreditScore  Age  Tenure    Balance  \\\n",
      "0             1    15634602          619   42     2.0       0.00   \n",
      "1             2    15647311          608   41     1.0   83807.86   \n",
      "2             3    15619304          502   42     8.0  159660.80   \n",
      "3             4    15701354          699   39     1.0       0.00   \n",
      "4             5    15737888          850   43     2.0  125510.82   \n",
      "...         ...         ...          ...  ...     ...        ...   \n",
      "9995       9996    15606229          771   39     5.0       0.00   \n",
      "9996       9997    15569892          516   35    10.0   57369.61   \n",
      "9997       9998    15584532          709   36     7.0       0.00   \n",
      "9998       9999    15682355          772   42     3.0   75075.31   \n",
      "9999      10000    15628319          792   28     NaN  130142.79   \n",
      "\n",
      "      NumOfProducts  HasCrCard  IsActiveMember  EstimatedSalary  Exited  \\\n",
      "0                 1          1               1        101348.88       1   \n",
      "1                 1          0               1        112542.58       0   \n",
      "2                 3          1               0        113931.57       1   \n",
      "3                 2          0               0         93826.63       0   \n",
      "4                 1          1               1         79084.10       0   \n",
      "...             ...        ...             ...              ...     ...   \n",
      "9995              2          1               0         96270.64       0   \n",
      "9996              1          1               1        101699.77       0   \n",
      "9997              1          0               1         42085.58       1   \n",
      "9998              2          1               0         92888.52       1   \n",
      "9999              1          1               0         38190.78       0   \n",
      "\n",
      "      Geography_Germany  Geography_Spain  Gender_Male  \n",
      "0                     0                0            0  \n",
      "1                     0                1            0  \n",
      "2                     0                0            0  \n",
      "3                     0                0            0  \n",
      "4                     0                1            0  \n",
      "...                 ...              ...          ...  \n",
      "9995                  0                0            1  \n",
      "9996                  0                0            1  \n",
      "9997                  0                0            0  \n",
      "9998                  1                0            1  \n",
      "9999                  0                0            0  \n",
      "\n",
      "[10000 rows x 14 columns]\n"
     ]
    }
   ],
   "source": [
    "#para não cair na armadilha dos dummies iremos remover a primeira coluna\n",
    "data_ohe = pd.get_dummies(data, drop_first=True)\n",
    "print(data_ohe)"
   ]
  },
  {
   "cell_type": "markdown",
   "metadata": {},
   "source": [
    "Tratando a coluna `Tenure`. \n",
    "  Como na coluna não temos outiliers (média = mediana) podemos considerar os valores nulos como a média"
   ]
  },
  {
   "cell_type": "markdown",
   "metadata": {},
   "source": [
    "<div class=\"alert alert-block alert-success\">\n",
    "<b> Comentário do revisor: </b> <a class=\"tocSkip\"></a>\n",
    "\n",
    "Análise correta. Porém, a questão geográfica pode influenciar.\n",
    "</div>\n"
   ]
  },
  {
   "cell_type": "markdown",
   "metadata": {},
   "source": [
    "## Divisão de `features` e `target`"
   ]
  },
  {
   "cell_type": "code",
   "execution_count": 9,
   "metadata": {},
   "outputs": [],
   "source": [
    "#Criando as features e tarfet\n",
    "features = data_ohe.drop('Exited', axis=1)\n",
    "target = data_ohe['Exited']"
   ]
  },
  {
   "cell_type": "code",
   "execution_count": 10,
   "metadata": {},
   "outputs": [],
   "source": [
    "#Dividindo em dados de treinamento e validação.\n",
    "features_train, features_valid, target_train, target_valid = train_test_split(features, target, test_size=0.25, random_state=12345)\n"
   ]
  },
  {
   "cell_type": "code",
   "execution_count": 11,
   "metadata": {
    "scrolled": true
   },
   "outputs": [],
   "source": [
    "#Para substituir os valores nulos pela média vamos utilizar SimpleImputer\n",
    "imputer = SimpleImputer(strategy='mean')\n",
    "features_train = imputer.fit_transform(features_train)\n",
    "features_valid = imputer.fit_transform(features_valid)\n"
   ]
  },
  {
   "cell_type": "markdown",
   "metadata": {},
   "source": [
    "## Escalabilidade das Características"
   ]
  },
  {
   "cell_type": "code",
   "execution_count": 12,
   "metadata": {},
   "outputs": [],
   "source": [
    "scaler = StandardScaler()\n",
    "scaler.fit(features_train)\n",
    "features_train = scaler.transform(features_train)\n",
    "features_valid = scaler.transform(features_valid)"
   ]
  },
  {
   "cell_type": "markdown",
   "metadata": {},
   "source": [
    "<div class=\"alert alert-block alert-success\">\n",
    "<b> Comentário do revisor: </b> <a class=\"tocSkip\"></a>\n",
    "\n",
    "Correto. Ajustou no train e aplicou no valid \n",
    "</div>\n"
   ]
  },
  {
   "cell_type": "markdown",
   "metadata": {},
   "source": [
    "# Equilíbrio entre Classes"
   ]
  },
  {
   "cell_type": "markdown",
   "metadata": {},
   "source": [
    "Avaliar equilíbrio da classe objetivo"
   ]
  },
  {
   "cell_type": "code",
   "execution_count": 13,
   "metadata": {},
   "outputs": [
    {
     "name": "stdout",
     "output_type": "stream",
     "text": [
      "0    0.7963\n",
      "1    0.2037\n",
      "Name: Exited, dtype: float64\n"
     ]
    }
   ],
   "source": [
    "class_frequency = data['Exited'].value_counts(normalize=True)\n",
    "print(class_frequency)"
   ]
  },
  {
   "cell_type": "code",
   "execution_count": 14,
   "metadata": {
    "scrolled": true
   },
   "outputs": [
    {
     "data": {
      "image/png": "[encoded data removed]",
      "text/plain": [
       "<Figure size 432x288 with 1 Axes>"
      ]
     },
     "metadata": {
      "needs_background": "light"
     },
     "output_type": "display_data"
    }
   ],
   "source": [
    "class_frequency.plot(kind='bar');"
   ]
  },
  {
   "cell_type": "markdown",
   "metadata": {},
   "source": [
    "Temos um desbalanço entre as classes de 0 e 1"
   ]
  },
  {
   "cell_type": "markdown",
   "metadata": {},
   "source": [
    "# Treinar o modelo (sem corrigir desbalanceamento entre classes)"
   ]
  },
  {
   "cell_type": "markdown",
   "metadata": {},
   "source": [
    "Temos um problema categórico. Determinar se um clinte sai ou não. Por isso não usaremos Regressão Linear\n",
    "  Iremos comparar os 3 modelos (árvore de decisão, floresta aleatória e Regressão Logistica) utilizando a métrica F1."
   ]
  },
  {
   "cell_type": "markdown",
   "metadata": {},
   "source": [
    "## Árvore de Decisão"
   ]
  },
  {
   "cell_type": "code",
   "execution_count": 15,
   "metadata": {},
   "outputs": [
    {
     "name": "stdout",
     "output_type": "stream",
     "text": [
      "Não chegamos no valor F1 desejado.O valor de f1 foi de 0.5678449258836944 com a profundidade 5\n"
     ]
    }
   ],
   "source": [
    "def decision_tree(features_train, target_train, features_valid, target_valid, f1, weight=None):\n",
    "    d1 = [] #salvar profundidades\n",
    "    f1_acc = [] #salvar os valores de F1\n",
    "    result1 = 0\n",
    "    depth = 1\n",
    "    while result1 < f1 and depth < 20:\n",
    "        d1.append(depth)\n",
    "        model1 = DecisionTreeClassifier(max_depth=depth, random_state=12345, class_weight=weight)\n",
    "        model1.fit(features_train, target_train)\n",
    "        predicted_valid1 = model1.predict(features_valid)\n",
    "        result1 = f1_score(target_valid, predicted_valid1)\n",
    "        f1_acc.append(result1)\n",
    "        depth +=1\n",
    "        if result1 > f1:\n",
    "            break\n",
    "\n",
    "    if result1 > f1:\n",
    "        print(f\"F1 = {result1} e máxima profundidade = {depth}\")\n",
    "    else:\n",
    "        f1_max = max(f1_acc)\n",
    "        depth = d1[f1_acc.index(f1_max)]\n",
    "        print(f\"Não chegamos no valor F1 desejado.O valor de f1 foi de {f1_max} com a profundidade {depth}\")\n",
    "    return model1, d1, f1_acc\n",
    "model1, d1, f1_acc = decision_tree(features_train, target_train, features_valid, target_valid, 0.59)\n",
    "    \n",
    "    \n",
    "    "
   ]
  },
  {
   "cell_type": "code",
   "execution_count": 16,
   "metadata": {
    "scrolled": false
   },
   "outputs": [
    {
     "data": {
      "image/png": "[encoded data removed]",
      "text/plain": [
       "<Figure size 432x360 with 1 Axes>"
      ]
     },
     "metadata": {
      "needs_background": "light"
     },
     "output_type": "display_data"
    }
   ],
   "source": [
    "def plot_decision_tree(d1,f1_acc):\n",
    "    fig = plt.figure(figsize=(6,5))\n",
    "    plt.plot(d1,f1_acc,\"-o\")\n",
    "    plt.title(\"Teste F1\")\n",
    "    plt.ylim([0.0, 1.0])\n",
    "    sns.despine()\n",
    "plot_decision_tree(d1, f1_acc)"
   ]
  },
  {
   "cell_type": "markdown",
   "metadata": {},
   "source": [
    "Aqui podemos observar que após a profundidade 5 o valor de F1 vai caindo e não atinge o valor mínimo estipulado de 0.59. Logo este modelo deve ser descartado"
   ]
  },
  {
   "cell_type": "markdown",
   "metadata": {},
   "source": [
    "<div class=\"alert alert-block alert-success\">\n",
    "<b> Comentário do revisor: </b> <a class=\"tocSkip\"></a>\n",
    "\n",
    "Correto\n",
    "</div>\n"
   ]
  },
  {
   "cell_type": "markdown",
   "metadata": {},
   "source": [
    "## Floresta Aleatória"
   ]
  },
  {
   "cell_type": "code",
   "execution_count": 17,
   "metadata": {
    "scrolled": true
   },
   "outputs": [
    {
     "name": "stdout",
     "output_type": "stream",
     "text": [
      "Não deu certo e o valor máximo de F1 foi 0.5627283800243605\n"
     ]
    }
   ],
   "source": [
    "def random_forest(features_train, target_train, features_valid, target_valid, f1, weight=None):\n",
    "    result2 = 0\n",
    "    f1_acc2=[]\n",
    "    for estimators in range(20, 50, 10):\n",
    "        for depth in range (1,16):\n",
    "            model2 = RandomForestClassifier(random_state=12345, max_depth=depth, n_estimators=estimators, class_weight=weight)\n",
    "            model2.fit(features_train, target_train)\n",
    "            predicted_valid2 = model2.predict(features_valid)\n",
    "            result2 = f1_score(target_valid, predicted_valid2)\n",
    "            f1_acc2.append(result2)\n",
    "            if result2 > f1:\n",
    "                break\n",
    "        if result2 > f1:\n",
    "            break\n",
    "\n",
    "\n",
    "    f1_max2 = max(f1_acc2)\n",
    "    if result2 > f1:\n",
    "        print(f\"O valor de F1 é {result2} para n_estimators = {estimators} e max_depth = {depth} \")\n",
    "    \n",
    "    else:\n",
    "        print(f\"Não deu certo e o valor máximo de F1 foi {f1_max2}\")\n",
    "    return model2\n",
    "model2 = random_forest(features_train, target_train, features_valid, target_valid, 0.59)\n",
    "                "
   ]
  },
  {
   "cell_type": "markdown",
   "metadata": {},
   "source": [
    "Também não conseguimos chegar no nosso objetivo com o modelo de Floresta Aleatória"
   ]
  },
  {
   "cell_type": "markdown",
   "metadata": {},
   "source": [
    "## Regressão Logística\n"
   ]
  },
  {
   "cell_type": "code",
   "execution_count": 18,
   "metadata": {},
   "outputs": [
    {
     "name": "stdout",
     "output_type": "stream",
     "text": [
      "O modelo não atingiu o objetivo e o valor de F1 foi de 0.301521438450899\n"
     ]
    }
   ],
   "source": [
    "def logistic_regression(features_train, target_train, features_valid, target_valid, f1, weight=None):\n",
    "    model3 = LogisticRegression(random_state=12345, solver='liblinear', class_weight=weight)\n",
    "    model3.fit(features_train, target_train)\n",
    "    predicted_valid3 = model3.predict(features_valid)\n",
    "    result3 = f1_score(target_valid, predicted_valid3)\n",
    "    if result3 > f1:\n",
    "        print(f\"O modelo atingiu o objetivo e o valor de F1 foi de {result3}\")\n",
    "    else:\n",
    "        print(f\"O modelo não atingiu o objetivo e o valor de F1 foi de {result3}\") \n",
    "    return model3\n",
    "model3 = logistic_regression(features_train, target_train, features_valid, target_valid, 0.59)\n",
    "    "
   ]
  },
  {
   "cell_type": "markdown",
   "metadata": {},
   "source": [
    "## Descobertas"
   ]
  },
  {
   "cell_type": "markdown",
   "metadata": {},
   "source": [
    "Com a classe desequilibrada nenhum dos 3 modelos conseguiu atingir a meta de F1 = 0.59. Vamos balancear a classe."
   ]
  },
  {
   "cell_type": "markdown",
   "metadata": {},
   "source": [
    "# Balanceamento das Classes do objetivo"
   ]
  },
  {
   "cell_type": "markdown",
   "metadata": {},
   "source": [
    "## Ajuste de ponderação"
   ]
  },
  {
   "cell_type": "markdown",
   "metadata": {},
   "source": [
    "### Árvore de Decisão"
   ]
  },
  {
   "cell_type": "code",
   "execution_count": 19,
   "metadata": {},
   "outputs": [
    {
     "name": "stdout",
     "output_type": "stream",
     "text": [
      "F1 = 0.6008097165991902 e máxima profundidade = 6\n",
      "CPU times: user 158 ms, sys: 56.3 ms, total: 214 ms\n",
      "Wall time: 239 ms\n"
     ]
    }
   ],
   "source": [
    "%%time\n",
    "model4, d1, f1_acc = decision_tree(features_train, target_train, features_valid, target_valid, 0.59, 'balanced')\n"
   ]
  },
  {
   "cell_type": "markdown",
   "metadata": {},
   "source": [
    "<div class=\"alert alert-block alert-success\">\n",
    "<b> Comentário do revisor: </b> <a class=\"tocSkip\"></a>\n",
    "\n",
    "Correto. Eu gosto muito desta estratégia\n",
    "</div>\n"
   ]
  },
  {
   "cell_type": "code",
   "execution_count": 20,
   "metadata": {},
   "outputs": [
    {
     "data": {
      "image/png": "[encoded data removed]",
      "text/plain": [
       "<Figure size 432x360 with 1 Axes>"
      ]
     },
     "metadata": {
      "needs_background": "light"
     },
     "output_type": "display_data"
    }
   ],
   "source": [
    "plot_decision_tree(d1, f1_acc)"
   ]
  },
  {
   "cell_type": "markdown",
   "metadata": {},
   "source": [
    "### Floresta Aleatória"
   ]
  },
  {
   "cell_type": "code",
   "execution_count": 21,
   "metadata": {},
   "outputs": [
    {
     "name": "stdout",
     "output_type": "stream",
     "text": [
      "O valor de F1 é 0.609387430389817 para n_estimators = 20 e max_depth = 5 \n",
      "CPU times: user 532 ms, sys: 3.94 ms, total: 536 ms\n",
      "Wall time: 542 ms\n"
     ]
    }
   ],
   "source": [
    "%%time\n",
    "model5 = random_forest(features_train, target_train, features_valid, target_valid, 0.59, 'balanced')"
   ]
  },
  {
   "cell_type": "markdown",
   "metadata": {},
   "source": [
    "### Regressão Logística"
   ]
  },
  {
   "cell_type": "code",
   "execution_count": 22,
   "metadata": {},
   "outputs": [
    {
     "name": "stdout",
     "output_type": "stream",
     "text": [
      "O modelo não atingiu o objetivo e o valor de F1 foi de 0.509090909090909\n"
     ]
    }
   ],
   "source": [
    "model6 = logistic_regression(features_train, target_train, features_valid, target_valid, 0.59, 'balanced')"
   ]
  },
  {
   "cell_type": "markdown",
   "metadata": {},
   "source": [
    "### Considerações\n",
    "Para este método de balanceamento de classe temos as seguintes observações:\n",
    "- O modelo de Árvore de Decisão e Floresta Aleatória tiveram êxito em alcançar o objetivo.\n",
    "- O único modelo que não atendeu, mas teve melhora foi o de Regressão Logística. Com incremento de `69%`\n",
    "- O modelo com o melhor valor de F1 foi o de Floresta Aleatória com `0.609.\n",
    "- Como a diferença entre o modelo de Floresta Aleatória e Árvore de Decisão foi de apenas `0.009` (1.5% acima) e tem um tempo 4x maior escolho o modelo de Árvore de Decisão"
   ]
  },
  {
   "cell_type": "markdown",
   "metadata": {},
   "source": [
    "## Superamostragem (Random Oversampling)"
   ]
  },
  {
   "cell_type": "markdown",
   "metadata": {},
   "source": [
    "Vamos seguir a seguinte sequência:\n",
    "- Dividir o conjunto de dados de treinamento em observações negativas e positivas;\n",
    "- Duplicar as observações que têm ocorrências raras (neste caso as de valor \"1\", Positivas);\n",
    "- Criar uma nova amostra de treinamento com base nos dados obtidos;\n",
    "- Embaralhar os dados"
   ]
  },
  {
   "cell_type": "code",
   "execution_count": 23,
   "metadata": {},
   "outputs": [],
   "source": [
    "#Criar a função upsample, para realizar as etapas\n",
    "def upsample(features, target, repeat): #repeat = quantidade de vezes que irei duplicar as ocorrências raras\n",
    "    features_zeros = features[target == 0]\n",
    "    features_ones = features[target == 1]\n",
    "    features_ones_repeated = np.repeat(features_ones, repeat, axis=0) #repetir 10x a classe mais rara\n",
    "    target_zeros = target[target == 0]\n",
    "    target_ones = target[target == 1]\n",
    "\n",
    "    features_upsampled = np.concatenate((features_zeros,features_ones_repeated), axis=0)\n",
    "    target_upsampled = pd.concat([target_zeros] + [target_ones] * repeat)\n",
    "\n",
    "    features_upsampled, target_upsampled = shuffle(\n",
    "        features_upsampled, target_upsampled, random_state=12345\n",
    "    )\n",
    "\n",
    "    return features_upsampled, target_upsampled\n",
    "\n",
    "features_upsampled, target_upsampled = upsample(features_train, target_train, 10)\n"
   ]
  },
  {
   "cell_type": "markdown",
   "metadata": {},
   "source": [
    "### Árvore de Decisão"
   ]
  },
  {
   "cell_type": "code",
   "execution_count": 24,
   "metadata": {},
   "outputs": [
    {
     "name": "stdout",
     "output_type": "stream",
     "text": [
      "Não chegamos no valor F1 desejado.O valor de f1 foi de 0.5189466923570969 com a profundidade 11\n"
     ]
    }
   ],
   "source": [
    "model7, d1, f1_acc = decision_tree(features_upsampled, target_upsampled, features_valid, target_valid, 0.59)"
   ]
  },
  {
   "cell_type": "markdown",
   "metadata": {},
   "source": [
    "### Floresta Aleatória"
   ]
  },
  {
   "cell_type": "code",
   "execution_count": 25,
   "metadata": {},
   "outputs": [
    {
     "name": "stdout",
     "output_type": "stream",
     "text": [
      "O valor de F1 é 0.5927051671732523 para n_estimators = 20 e max_depth = 13 \n",
      "CPU times: user 4.68 s, sys: 0 ns, total: 4.68 s\n",
      "Wall time: 4.69 s\n"
     ]
    }
   ],
   "source": [
    "%%time\n",
    "model8 = random_forest(features_upsampled, target_upsampled, features_valid, target_valid, 0.59)"
   ]
  },
  {
   "cell_type": "markdown",
   "metadata": {},
   "source": [
    "### Regressão Logística"
   ]
  },
  {
   "cell_type": "code",
   "execution_count": 26,
   "metadata": {},
   "outputs": [
    {
     "name": "stdout",
     "output_type": "stream",
     "text": [
      "O modelo não atingiu o objetivo e o valor de F1 foi de 0.4299474605954466\n"
     ]
    }
   ],
   "source": [
    "model9 = logistic_regression(features_upsampled, target_upsampled, features_valid, target_valid, 0.59)"
   ]
  },
  {
   "cell_type": "markdown",
   "metadata": {},
   "source": [
    "### Considerações"
   ]
  },
  {
   "cell_type": "markdown",
   "metadata": {},
   "source": [
    "- Utilziando o método de balanceamento de superamostragem somente o modelo de Floresta Aleatória atingiu o objetivo de F1.\n",
    "- O tempo utilizado pelo modelo de Floresta Aleatória foi 8.3x maior que o mesmo modelo utilizando o método de peso da classe"
   ]
  },
  {
   "cell_type": "markdown",
   "metadata": {},
   "source": [
    "# Avaliando AUC-ROC"
   ]
  },
  {
   "cell_type": "markdown",
   "metadata": {},
   "source": [
    "Vamos avaliar a AUC-ROC para o modelo de `Árvore de Decisão` utilizando o método de `peso da classe` (`modelo 4`) e o de `Floresta Aleatória` utilizando o método de `superamostragem` (`modelo 8`)"
   ]
  },
  {
   "cell_type": "markdown",
   "metadata": {},
   "source": [
    "## AUC-ROC para Árvore de Decisão (`modelo 4`)"
   ]
  },
  {
   "cell_type": "code",
   "execution_count": 27,
   "metadata": {},
   "outputs": [
    {
     "name": "stdout",
     "output_type": "stream",
     "text": [
      "O valor de AUC-ROC é:0.8455889277306128\n"
     ]
    }
   ],
   "source": [
    "#calculando a probabilidade da classe positiva (1)\n",
    "probabilities_valid4 = model4.predict_proba(features_valid)\n",
    "probabilities_one_valid4 = probabilities_valid4[:, 1]\n",
    "\n",
    "#calculando AUC-ROC\n",
    "\n",
    "auc_roc4 = roc_auc_score(target_valid, probabilities_one_valid4)\n",
    "print(f'O valor de AUC-ROC é:{auc_roc4}')"
   ]
  },
  {
   "cell_type": "markdown",
   "metadata": {},
   "source": [
    "## AUC-ROC para Floresta Aleatória (`modelo 8`)"
   ]
  },
  {
   "cell_type": "code",
   "execution_count": 28,
   "metadata": {},
   "outputs": [
    {
     "name": "stdout",
     "output_type": "stream",
     "text": [
      "O valor de AUC-ROC é:0.8380385722099356\n"
     ]
    }
   ],
   "source": [
    "#calculando a probabilidade da classe positiva (1)\n",
    "probabilities_valid8 = model8.predict_proba(features_valid)\n",
    "probabilities_one_valid8 = probabilities_valid8[:, 1]\n",
    "\n",
    "#calculando AUC-ROC\n",
    "\n",
    "auc_roc8 = roc_auc_score(target_valid, probabilities_one_valid8)\n",
    "print(f'O valor de AUC-ROC é:{auc_roc8}')"
   ]
  },
  {
   "cell_type": "markdown",
   "metadata": {},
   "source": [
    "# Considerações Finais"
   ]
  },
  {
   "cell_type": "markdown",
   "metadata": {},
   "source": [
    "- Sem equilíbrio entre as classes do obejtivo não foi possível atingir o valor mínimo de F1.\n",
    "- Utilizamos 2 métodos de balanceamento entre as classes: `Ajuste de Ponderação`e `Superamostragem`\n",
    "- O método de balanceamento `Ajuste de Ponderação`foi mais eficaz. Com ele todos os modelos (Árvore de Decisão, Floresta Aleatória e Regressão Logística) atingiram o objetivo de F1 \n",
    "- No método de `Superamostragem` somente o modelo de Floresta Aleatória atingiu o objetivo de F1\n",
    "- Comparando os resultados dos melhores modelos de cada método de balancemanto o modelo de `Árvore de Decisão (modelo 4)` do método de `Ajuste de ponderação` obteve o melhor resultado para F1, AUC-ROC e tempo de execução.\n",
    "- O `modelo 4`foi o melhor modelo."
   ]
  },
  {
   "cell_type": "markdown",
   "metadata": {},
   "source": [
    "\n",
    "<div class=\"alert alert-block alert-success\">\n",
    "<b>Comentário Geral do Revisor</b> <a class=\"tocSkip\"></a>\n",
    "\n",
    "Obrigado por enviar seu projeto. \n",
    "    \n",
    "Parabéns, você fez um bom trabalho. No geral, você respondeu corretamente as questões.\n",
    "\n",
    "Como pontos fortes do projeto, destaco:\n",
    "- Código simples e eficiente\n",
    "- Criação de funções para reúso\n",
    "- Análise e conclusões corretas\n",
    "\n",
    "Teu projeto está maduro. Parabéns. Simples, objetivo, preciso.\n",
    "\n",
    "Desejo sucesso na jornada. Dica: o que você acha de começar a escrever os projetos em inglês para montar portfólio em inglês?\n",
    "</div>\n"
   ]
  }
 ],
 "metadata": {
  "kernelspec": {
   "display_name": "Python 3 (ipykernel)",
   "language": "python",
   "name": "python3"
  },
  "language_info": {
   "codemirror_mode": {
    "name": "ipython",
    "version": 3
   },
   "file_extension": ".py",
   "mimetype": "text/x-python",
   "name": "python",
   "nbconvert_exporter": "python",
   "pygments_lexer": "ipython3",
   "version": "3.9.19"
  },
  "toc": {
   "base_numbering": 1,
   "nav_menu": {},
   "number_sections": true,
   "sideBar": true,
   "skip_h1_title": true,
   "title_cell": "Table of Contents",
   "title_sidebar": "Contents",
   "toc_cell": false,
   "toc_position": {},
   "toc_section_display": true,
   "toc_window_display": false
  }
 },
 "nbformat": 4,
 "nbformat_minor": 2
}
