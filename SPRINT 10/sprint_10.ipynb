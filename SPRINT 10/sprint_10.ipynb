{
 "cells": [
  {
   "cell_type": "markdown",
   "metadata": {},
   "source": [
    "Olá, Reinner\n",
    "\n",
    "Meu nome é Ramon. Fico feliz em revisar seu projeto. Ao ao longo do texto farei algumas observações sobre melhorias no código e também farei comentários sobre suas percepções sobre o assunto. Estarei aberto a feedbacks e discussões sobre o tema.\n",
    "\n",
    "**Peço que mantenha e não altere os comentários que eu fizer por aqui para que possamos nos localizar posteriormente, ok?**\n",
    "\n",
    "Mais uma coisa, vamos utilizar um código de cores para você entender os meus feedbacks no seu notebook. Funciona assim:\n",
    "\n",
    "<div class=\"alert alert-block alert-success\">\n",
    "<b> Comentário do revisor: </b> <a class=\"tocSkip\"></a>\n",
    "\n",
    "Sucesso. Tudo foi feito corretamente.\n",
    "</div>\n",
    "\n",
    "<div class=\"alert alert-block alert-warning\">\n",
    "<b>Comentário do revisor: </b> <a class=\"tocSkip\"></a>\n",
    "\n",
    "Alerta não crítco, mas que pode ser corrigido para melhoria geral no seu código/análise\n",
    "</div>\n",
    "\n",
    "<div class=\"alert alert-block alert-danger\">\n",
    "\n",
    "<b>Comentário do revisor: </b> <a class=\"tocSkip\"></a>\n",
    "    \n",
    "Erro que precisa ser consertado, caso contrário seu projeto **não** será aceito.\n",
    "</div>\n",
    "\n",
    "Você pode me responder usando isso:\n",
    "<div class=\"alert alert-block alert-info\">\n",
    "<b>Resposta do Aluno.</b> <a class=\"tocSkip\"></a>\n",
    "</div>"
   ]
  },
  {
   "cell_type": "code",
   "execution_count": 1,
   "metadata": {},
   "outputs": [],
   "source": [
    "#import lybraries\n",
    "import pandas as pd\n",
    "import numpy as np\n",
    "import matplotlib.pyplot as plt\n",
    "from sklearn.model_selection import train_test_split\n",
    "from sklearn.preprocessing import StandardScaler\n",
    "from sklearn.impute import SimpleImputer\n",
    "from sklearn.metrics import r2_score\n",
    "from sklearn.metrics import mean_squared_error\n",
    "from sklearn.metrics import mean_absolute_error\n",
    "from sklearn.metrics import mean_absolute_error\n",
    "from sklearn.linear_model import LinearRegression\n",
    "from sklearn.ensemble import RandomForestRegressor\n",
    "from sklearn.utils import shuffle\n",
    "import seaborn as sns\n"
   ]
  },
  {
   "cell_type": "markdown",
   "metadata": {},
   "source": [
    "# EDA"
   ]
  },
  {
   "cell_type": "markdown",
   "metadata": {},
   "source": [
    "## Analysis"
   ]
  },
  {
   "cell_type": "code",
   "execution_count": 2,
   "metadata": {},
   "outputs": [],
   "source": [
    "path_0 = '/datasets/geo_data_0.csv'\n",
    "path_1 = '/datasets/geo_data_1.csv'\n",
    "path_2 = '/datasets/geo_data_2.csv'"
   ]
  },
  {
   "cell_type": "code",
   "execution_count": 3,
   "metadata": {},
   "outputs": [
    {
     "name": "stdout",
     "output_type": "stream",
     "text": [
      "      id        f0        f1        f2     product\n",
      "0  txEyH  0.705745 -0.497823  1.221170  105.280062\n",
      "1  2acmU  1.334711 -0.340164  4.365080   73.037750\n",
      "2  409Wp  1.022732  0.151990  1.419926   85.265647\n",
      "3  iJLyR -0.032172  0.139033  2.978566  168.620776\n",
      "4  Xdl7t  1.988431  0.155413  4.751769  154.036647\n"
     ]
    }
   ],
   "source": [
    "geo_0 = pd.read_csv(path_0)\n",
    "print(geo_0.head())"
   ]
  },
  {
   "cell_type": "code",
   "execution_count": 4,
   "metadata": {},
   "outputs": [
    {
     "name": "stdout",
     "output_type": "stream",
     "text": [
      "                  f0             f1             f2        product\n",
      "count  100000.000000  100000.000000  100000.000000  100000.000000\n",
      "mean        0.500419       0.250143       2.502647      92.500000\n",
      "std         0.871832       0.504433       3.248248      44.288691\n",
      "min        -1.408605      -0.848218     -12.088328       0.000000\n",
      "25%        -0.072580      -0.200881       0.287748      56.497507\n",
      "50%         0.502360       0.250252       2.515969      91.849972\n",
      "75%         1.073581       0.700646       4.715088     128.564089\n",
      "max         2.362331       1.343769      16.003790     185.364347\n"
     ]
    }
   ],
   "source": [
    "print(geo_0.describe())"
   ]
  },
  {
   "cell_type": "code",
   "execution_count": 5,
   "metadata": {
    "scrolled": true
   },
   "outputs": [
    {
     "name": "stdout",
     "output_type": "stream",
     "text": [
      "<class 'pandas.core.frame.DataFrame'>\n",
      "RangeIndex: 100000 entries, 0 to 99999\n",
      "Data columns (total 5 columns):\n",
      " #   Column   Non-Null Count   Dtype  \n",
      "---  ------   --------------   -----  \n",
      " 0   id       100000 non-null  object \n",
      " 1   f0       100000 non-null  float64\n",
      " 2   f1       100000 non-null  float64\n",
      " 3   f2       100000 non-null  float64\n",
      " 4   product  100000 non-null  float64\n",
      "dtypes: float64(4), object(1)\n",
      "memory usage: 3.8+ MB\n",
      "None\n"
     ]
    }
   ],
   "source": [
    "print(geo_0.info())"
   ]
  },
  {
   "cell_type": "code",
   "execution_count": 6,
   "metadata": {},
   "outputs": [
    {
     "data": {
      "image/png": "[encoded data removed]",
      "text/plain": [
       "<Figure size 432x288 with 4 Axes>"
      ]
     },
     "metadata": {
      "needs_background": "light"
     },
     "output_type": "display_data"
    }
   ],
   "source": [
    "geo_0.hist( bins=30);"
   ]
  },
  {
   "cell_type": "markdown",
   "metadata": {},
   "source": [
    "### Observations"
   ]
  },
  {
   "cell_type": "markdown",
   "metadata": {},
   "source": [
    "- Don´t have an missing values\n",
    "- Median and mean are close, it shows that we don´t have outliers\n",
    "- Data follows normal distribution\n",
    "- Don´t have categorical data"
   ]
  },
  {
   "cell_type": "markdown",
   "metadata": {},
   "source": [
    "## Preparing"
   ]
  },
  {
   "cell_type": "raw",
   "metadata": {},
   "source": [
    "For this part we gonna use scaler method and balance"
   ]
  },
  {
   "cell_type": "markdown",
   "metadata": {},
   "source": [
    "### Remove feature `id`"
   ]
  },
  {
   "cell_type": "markdown",
   "metadata": {},
   "source": [
    "The feature `id` don´t have any impact in the volume predict"
   ]
  },
  {
   "cell_type": "code",
   "execution_count": 7,
   "metadata": {},
   "outputs": [
    {
     "name": "stdout",
     "output_type": "stream",
     "text": [
      "             f0        f1        f2     product\n",
      "0      0.705745 -0.497823  1.221170  105.280062\n",
      "1      1.334711 -0.340164  4.365080   73.037750\n",
      "2      1.022732  0.151990  1.419926   85.265647\n",
      "3     -0.032172  0.139033  2.978566  168.620776\n",
      "4      1.988431  0.155413  4.751769  154.036647\n",
      "...         ...       ...       ...         ...\n",
      "99995  0.971957  0.370953  6.075346  110.744026\n",
      "99996  1.392429 -0.382606  1.273912  122.346843\n",
      "99997  1.029585  0.018787 -1.348308   64.375443\n",
      "99998  0.998163 -0.528582  1.583869   74.040764\n",
      "99999  1.764754 -0.266417  5.722849  149.633246\n",
      "\n",
      "[100000 rows x 4 columns]\n"
     ]
    }
   ],
   "source": [
    "geo_0 = geo_0.drop(columns='id', axis=1)\n",
    "print(geo_0)"
   ]
  },
  {
   "cell_type": "markdown",
   "metadata": {},
   "source": [
    "### Separate between `Features` and `Target`"
   ]
  },
  {
   "cell_type": "code",
   "execution_count": 8,
   "metadata": {},
   "outputs": [],
   "source": [
    "#create a function to separate features and target\n",
    "def separate (data, target_column):\n",
    "    features = data.drop(columns=target_column, axis=1)\n",
    "    target = data[target_column]\n",
    "    return features, target"
   ]
  },
  {
   "cell_type": "code",
   "execution_count": 9,
   "metadata": {
    "scrolled": true
   },
   "outputs": [
    {
     "name": "stdout",
     "output_type": "stream",
     "text": [
      "         f0        f1        f2\n",
      "0  0.705745 -0.497823  1.221170\n",
      "1  1.334711 -0.340164  4.365080\n",
      "2  1.022732  0.151990  1.419926\n",
      "3 -0.032172  0.139033  2.978566\n",
      "4  1.988431  0.155413  4.751769\n",
      "0    105.280062\n",
      "1     73.037750\n",
      "2     85.265647\n",
      "3    168.620776\n",
      "4    154.036647\n",
      "Name: product, dtype: float64\n"
     ]
    }
   ],
   "source": [
    "features, target = separate(geo_0,'product')\n",
    "print(features.head())\n",
    "print(target.head())"
   ]
  },
  {
   "cell_type": "markdown",
   "metadata": {},
   "source": [
    "### Create `train`and `valid`"
   ]
  },
  {
   "cell_type": "code",
   "execution_count": 36,
   "metadata": {},
   "outputs": [],
   "source": [
    "random_seed = np.random.RandomState(12345)\n",
    "features_train, features_valid, target_train, target_valid = train_test_split(features, target, test_size=0.25, random_state=random_seed)"
   ]
  },
  {
   "cell_type": "markdown",
   "metadata": {},
   "source": [
    "### Features Escalabilitie "
   ]
  },
  {
   "cell_type": "code",
   "execution_count": 11,
   "metadata": {},
   "outputs": [],
   "source": [
    "scaler = StandardScaler()\n",
    "scaler.fit(features_train)\n",
    "features_train = scaler.transform(features_train)\n",
    "features_valid = scaler.transform(features_valid)"
   ]
  },
  {
   "cell_type": "markdown",
   "metadata": {},
   "source": [
    "<div class=\"alert alert-block alert-success\">\n",
    "<b> Comentário do revisor: </b> <a class=\"tocSkip\"></a>\n",
    "\n",
    "Correto. Ajustou no treino e aplicou na validação\n",
    "</div>"
   ]
  },
  {
   "cell_type": "markdown",
   "metadata": {},
   "source": [
    "<div class=\"alert alert-block alert-warning\">\n",
    "<b> Comentário do revisor: </b> <a class=\"tocSkip\"></a>\n",
    "\n",
    "EDA apenas em geo_0\n",
    "</div>"
   ]
  },
  {
   "cell_type": "markdown",
   "metadata": {},
   "source": [
    "# Trainning Model"
   ]
  },
  {
   "cell_type": "markdown",
   "metadata": {},
   "source": [
    "## GEO_0"
   ]
  },
  {
   "cell_type": "code",
   "execution_count": 12,
   "metadata": {},
   "outputs": [],
   "source": [
    "#linear trainning model function\n",
    "def linear_trainning(f_train, t_train, f_valid):\n",
    "    model = LinearRegression()\n",
    "    model.fit(f_train, t_train)\n",
    "    predictions = model.predict(f_valid)\n",
    "    return model, predictions\n"
   ]
  },
  {
   "cell_type": "code",
   "execution_count": 13,
   "metadata": {},
   "outputs": [
    {
     "name": "stdout",
     "output_type": "stream",
     "text": [
      "Mean predicted volume for model_0:92.59256778438035\n"
     ]
    }
   ],
   "source": [
    "model_0, predictions_0 = linear_trainning(features_train, target_train, features_valid)\n",
    "print(f'Mean predicted volume for model_0:{predictions_0.mean()}')"
   ]
  },
  {
   "cell_type": "markdown",
   "metadata": {},
   "source": [
    "## RMSE"
   ]
  },
  {
   "cell_type": "markdown",
   "metadata": {},
   "source": [
    "### GEO_0"
   ]
  },
  {
   "cell_type": "code",
   "execution_count": 14,
   "metadata": {
    "scrolled": true
   },
   "outputs": [
    {
     "name": "stdout",
     "output_type": "stream",
     "text": [
      "RMSE for model_0 are: 37.5794217150813\n"
     ]
    }
   ],
   "source": [
    "#RMSE = MSE**0.5\n",
    "mse_0 = mean_squared_error(target_valid, predictions_0)\n",
    "rmse_0 = mse_0**0.5\n",
    "print(f'RMSE for model_0 are: {rmse_0}')"
   ]
  },
  {
   "cell_type": "markdown",
   "metadata": {},
   "source": [
    "## GEO_1 and GEO_2"
   ]
  },
  {
   "cell_type": "markdown",
   "metadata": {},
   "source": [
    "Create a function to execute all prepare process"
   ]
  },
  {
   "cell_type": "code",
   "execution_count": 37,
   "metadata": {},
   "outputs": [],
   "source": [
    "#function to do preparing process\n",
    "def prepare_process(name, path, target_column):\n",
    "    #read dataframe\n",
    "    name = pd.read_csv(path)\n",
    "    #remove 'id' column\n",
    "    name = name.drop(columns='id', axis=1)\n",
    "    #separate featues and target\n",
    "    features, target = separate(name,target_column)\n",
    "    #create train and valid\n",
    "    features_train, features_valid, target_train, target_valid = train_test_split(features, target, test_size=0.25, random_state=random_seed)\n",
    "    #Scalling\n",
    "    scaler = StandardScaler()\n",
    "    scaler.fit(features_train)\n",
    "    features_train = scaler.transform(features_train)\n",
    "    features_valid = scaler.transform(features_valid)\n",
    "        \n",
    "    return features_train, target_train, features_valid, target_valid, name"
   ]
  },
  {
   "cell_type": "markdown",
   "metadata": {},
   "source": [
    "<div class=\"alert alert-block alert-warning\">\n",
    "<b> Comentário do revisor: </b> <a class=\"tocSkip\"></a>\n",
    "\n",
    "Você está lendo novamente sem necessidade. Você poderia passar o dataframe já lido. \n",
    "</div>"
   ]
  },
  {
   "cell_type": "markdown",
   "metadata": {},
   "source": [
    "### GEO_1"
   ]
  },
  {
   "cell_type": "code",
   "execution_count": 38,
   "metadata": {},
   "outputs": [],
   "source": [
    "geo_1 = None\n",
    "features_1_train, target_1_train, features_1_valid, target_1_valid, geo_1 = prepare_process(geo_1, path_1, 'product')"
   ]
  },
  {
   "cell_type": "code",
   "execution_count": 17,
   "metadata": {},
   "outputs": [
    {
     "name": "stdout",
     "output_type": "stream",
     "text": [
      "Mean predicted volume for model_1: 68.728546895446\n"
     ]
    }
   ],
   "source": [
    "model_1, predictions_1 = linear_trainning(features_1_train, target_1_train, features_1_valid)\n",
    "print(f'Mean predicted volume for model_1: {predictions_1.mean()}')"
   ]
  },
  {
   "cell_type": "code",
   "execution_count": 18,
   "metadata": {},
   "outputs": [
    {
     "name": "stdout",
     "output_type": "stream",
     "text": [
      "RMSE for model_1 are: 0.893099286775617\n"
     ]
    }
   ],
   "source": [
    "#RMSE = MSE**0.5\n",
    "mse_1 = mean_squared_error(target_1_valid, predictions_1)\n",
    "rmse_1 = mse_1**0.5\n",
    "print(f'RMSE for model_1 are: {rmse_1}')"
   ]
  },
  {
   "cell_type": "markdown",
   "metadata": {},
   "source": [
    "### GEO_2"
   ]
  },
  {
   "cell_type": "code",
   "execution_count": 39,
   "metadata": {},
   "outputs": [],
   "source": [
    "geo_2 = None\n",
    "features_2_train, target_2_train, features_2_valid, target_2_valid, geo_2 = prepare_process(geo_2, path_2, 'product')"
   ]
  },
  {
   "cell_type": "code",
   "execution_count": 20,
   "metadata": {},
   "outputs": [
    {
     "name": "stdout",
     "output_type": "stream",
     "text": [
      "Mean predicted volume for model_2: 94.96504596800489\n"
     ]
    }
   ],
   "source": [
    "model_2, predictions_2 = linear_trainning(features_2_train, target_2_train, features_2_valid)\n",
    "print(f'Mean predicted volume for model_2: {predictions_2.mean()}')"
   ]
  },
  {
   "cell_type": "code",
   "execution_count": 21,
   "metadata": {},
   "outputs": [
    {
     "name": "stdout",
     "output_type": "stream",
     "text": [
      "RMSE for model_2 are: 40.02970873393434\n"
     ]
    }
   ],
   "source": [
    "#RMSE = MSE**0.5\n",
    "mse_2 = mean_squared_error(target_2_valid, predictions_2)\n",
    "rmse_2 = mse_2**0.5\n",
    "print(f'RMSE for model_2 are: {rmse_2}')"
   ]
  },
  {
   "cell_type": "markdown",
   "metadata": {},
   "source": [
    "## Observations"
   ]
  },
  {
   "cell_type": "markdown",
   "metadata": {},
   "source": [
    "- For GEO_1 we have the best RMSE\n",
    "- For GEO_0 and GEO_2 the error was very close"
   ]
  },
  {
   "cell_type": "markdown",
   "metadata": {},
   "source": [
    "# Calculate Profit"
   ]
  },
  {
   "cell_type": "markdown",
   "metadata": {},
   "source": [
    "Create Variables"
   ]
  },
  {
   "cell_type": "code",
   "execution_count": 22,
   "metadata": {},
   "outputs": [],
   "source": [
    "#mean\n",
    "geo_0_mean = predictions_0.mean()\n",
    "geo_1_mean = predictions_1.mean()\n",
    "geo_2_mean = predictions_2.mean()"
   ]
  },
  {
   "cell_type": "code",
   "execution_count": 23,
   "metadata": {},
   "outputs": [
    {
     "name": "stdout",
     "output_type": "stream",
     "text": [
      "500000.0\n",
      "111.11111111111111\n"
     ]
    }
   ],
   "source": [
    "cost = 100000000\n",
    "wells = 200\n",
    "revenue = 4500 #per barrel\n",
    "#cost per well\n",
    "mean_target = cost/wells\n",
    "#min volume pwe well\n",
    "min_barrel = mean_target/revenue\n",
    "print(mean_target)\n",
    "print(min_barrel)\n"
   ]
  },
  {
   "cell_type": "markdown",
   "metadata": {},
   "source": [
    "A oil well will be profitable if produce at least `111` barrel that equal to `$500.000`"
   ]
  },
  {
   "cell_type": "markdown",
   "metadata": {},
   "source": [
    "Compare mean volume per region with mean barrel target "
   ]
  },
  {
   "cell_type": "code",
   "execution_count": 24,
   "metadata": {},
   "outputs": [
    {
     "name": "stdout",
     "output_type": "stream",
     "text": [
      "There isn´t profitable region\n"
     ]
    }
   ],
   "source": [
    "barrel_0 = geo_0_mean*revenue\n",
    "barrel_1 = geo_1_mean*revenue\n",
    "barrel_2 = geo_2_mean*revenue\n",
    "\n",
    "if barrel_0 >= mean_target:\n",
    "    print('GEO_0 is profitable')\n",
    "elif barrel_1 >= mean_target:\n",
    "    print('GEO_1 is profitable')\n",
    "elif barrel_2 >= mean_target:\n",
    "    print('GEO_2 is profitable')\n",
    "else:\n",
    "    print('There isn´t profitable region')\n",
    "\n"
   ]
  },
  {
   "cell_type": "markdown",
   "metadata": {},
   "source": [
    "## Profit for higher volumes well"
   ]
  },
  {
   "cell_type": "markdown",
   "metadata": {},
   "source": [
    "Choose 200 higher volumes weel per region"
   ]
  },
  {
   "cell_type": "code",
   "execution_count": 113,
   "metadata": {},
   "outputs": [],
   "source": [
    "def order(data, wells=200):\n",
    "    data = np.sort(data)[::-1]\n",
    "    high_data = data[:wells]\n",
    "    return high_data"
   ]
  },
  {
   "cell_type": "code",
   "execution_count": 114,
   "metadata": {},
   "outputs": [],
   "source": [
    "#function that receive the data and numbers of well to calculate gross profit\n",
    "def profit_calculate(data, wells=200):\n",
    "    #ordering per volume\n",
    "    high_data = order(data, wells)\n",
    "   \n",
    "    #summarizing volume\n",
    "    sum_volumes = sum(high_data)\n",
    "    #calculating gross profit\n",
    "    profit = (sum_volumes*revenue) - (mean_target*wells)\n",
    "    return high_data, profit, sum_volumes\n"
   ]
  },
  {
   "cell_type": "code",
   "execution_count": 29,
   "metadata": {},
   "outputs": [
    {
     "name": "stdout",
     "output_type": "stream",
     "text": [
      "The most profitable region is GEO_0 with 39960488.77465132 of profit.\n"
     ]
    }
   ],
   "source": [
    "high_geo_0, profit_0, sum_volumes_0 = profit_calculate(predictions_0)\n",
    "high_geo_1, profit_1, sum_volumes_1 = profit_calculate(predictions_1)\n",
    "high_geo_2, profit_2, sum_volumes_2 = profit_calculate(predictions_2)\n",
    "\n",
    "max_value = max(profit_0, profit_1, profit_2)\n",
    "\n",
    "if max_value == profit_0:\n",
    "    print(f\"The most profitable region is GEO_0 with {profit_0} of profit.\")\n",
    "elif max_value == profit_1:\n",
    "    print(f\"The most profitable region is GEO_0 with {profit_1} of profit.\")\n",
    "else:\n",
    "    print(f\"The most profitable region is GEO_0 with {profit_2} of profit.\")\n",
    "\n",
    "\n"
   ]
  },
  {
   "cell_type": "code",
   "execution_count": 259,
   "metadata": {},
   "outputs": [
    {
     "name": "stdout",
     "output_type": "stream",
     "text": [
      "24857120.51973544\n",
      "33217543.962432653\n"
     ]
    }
   ],
   "source": [
    "print(profit_1)\n",
    "print(profit_2)"
   ]
  },
  {
   "cell_type": "markdown",
   "metadata": {},
   "source": [
    "- Analysing just the best wells all regions are profitable\n",
    "- The best region to develop wells is GEO_0 because are the most profitable"
   ]
  },
  {
   "cell_type": "markdown",
   "metadata": {},
   "source": [
    "# BootStrapping"
   ]
  },
  {
   "cell_type": "code",
   "execution_count": 82,
   "metadata": {},
   "outputs": [],
   "source": [
    "#Create a function to calculate the profit using bootstrapping\n",
    "def profit_bootstrapping(data, n=1000):\n",
    "    value = []\n",
    "    data_series = pd.Series(data)\n",
    "    \n",
    "    for i in range(n):\n",
    "        #bootstrapping\n",
    "        subsample = data_series.sample(frac=1, replace=True, random_state=random_seed)\n",
    "        #calculate profit\n",
    "        high_data, profit, sum_volumes = profit_calculate(subsample)\n",
    "        #profit_series = pd.Series(profit)\n",
    "        value.append(profit)\n",
    "    return value\n",
    "\n",
    "        "
   ]
  },
  {
   "cell_type": "markdown",
   "metadata": {},
   "source": [
    "<div class=\"alert alert-block alert-success\">\n",
    "<b> Comentário do revisor: </b> <a class=\"tocSkip\"></a>\n",
    "\n",
    "Correto. Usou frac=1\n",
    "</div>"
   ]
  },
  {
   "cell_type": "markdown",
   "metadata": {},
   "source": [
    "## Bootstrapping for GEO_0"
   ]
  },
  {
   "cell_type": "code",
   "execution_count": 98,
   "metadata": {},
   "outputs": [],
   "source": [
    "profit_0_distribution = pd.Series(profit_bootstrapping(high_geo_0))"
   ]
  },
  {
   "cell_type": "code",
   "execution_count": 79,
   "metadata": {
    "scrolled": true
   },
   "outputs": [
    {
     "data": {
      "image/png": "[encoded data removed]",
      "text/plain": [
       "<Figure size 432x288 with 1 Axes>"
      ]
     },
     "metadata": {
      "needs_background": "light"
     },
     "output_type": "display_data"
    }
   ],
   "source": [
    "profit_0_distribution.plot(kind='hist', bins=30);"
   ]
  },
  {
   "cell_type": "code",
   "execution_count": 84,
   "metadata": {},
   "outputs": [
    {
     "name": "stdout",
     "output_type": "stream",
     "text": [
      "The mean profit is: 39955091.43072484\n"
     ]
    }
   ],
   "source": [
    "mean_bootstrapping_predictions_0 = profit_0_distribution.mean()\n",
    "print(\"The mean profit is:\",mean_bootstrapping_predictions_0 )"
   ]
  },
  {
   "cell_type": "code",
   "execution_count": 81,
   "metadata": {
    "scrolled": false
   },
   "outputs": [
    {
     "name": "stdout",
     "output_type": "stream",
     "text": [
      "Confidence_interval is [39176232.16142836, 40615940.10784068]\n"
     ]
    }
   ],
   "source": [
    "lower_0 = profit_0_distribution.quantile(0.025)\n",
    "upper_0 = profit_0_distribution.quantile(0.95)\n",
    "print(f\"Confidence_interval is [{lower_0}, {upper_0}]\")\n"
   ]
  },
  {
   "cell_type": "markdown",
   "metadata": {},
   "source": [
    "## GEO_0 Profit Probability"
   ]
  },
  {
   "cell_type": "code",
   "execution_count": 226,
   "metadata": {},
   "outputs": [],
   "source": [
    "#Create a function to calculate probability for predictions\n",
    "from scipy.stats import norm\n",
    "\n",
    "def volume_probability(data, target_valid):\n",
    "    residual = target_valid -  data\n",
    "    mean_residual = np.mean(residual)\n",
    "    std_residual = np.std(residual)\n",
    "    probabilities = [norm.cdf(value, loc=mean_residual, scale=std_residual) for value in data ]\n",
    "    probability_series = pd.Series(probabilities)\n",
    "    return probability_series"
   ]
  },
  {
   "cell_type": "code",
   "execution_count": 229,
   "metadata": {
    "scrolled": true
   },
   "outputs": [
    {
     "name": "stdout",
     "output_type": "stream",
     "text": [
      "0        0.994852\n",
      "1        0.981150\n",
      "2        0.981539\n",
      "3        0.992100\n",
      "6        0.999586\n",
      "           ...   \n",
      "24994    0.999952\n",
      "24995    0.997072\n",
      "24996    0.988887\n",
      "24998    0.999208\n",
      "24999    0.999207\n",
      "Length: 19915, dtype: float64\n"
     ]
    }
   ],
   "source": [
    "#filtering just the wells with risk lower than 2.5%\n",
    "risk = 0.025\n",
    "prob_0 = volume_probability(predictions_0, target_valid)\n",
    "prob_0_risk = prob_0[prob_0>risk]\n",
    "print(prob_0_risk)"
   ]
  },
  {
   "cell_type": "code",
   "execution_count": 260,
   "metadata": {
    "scrolled": false
   },
   "outputs": [
    {
     "name": "stdout",
     "output_type": "stream",
     "text": [
      "9317     99.999924\n",
      "219      99.999873\n",
      "10015    99.999866\n",
      "11584    99.999862\n",
      "23388    99.999813\n",
      "           ...    \n",
      "3426     97.503054\n",
      "8953     97.502629\n",
      "54       97.501959\n",
      "16271    97.501478\n",
      "24914    97.500258\n",
      "Length: 19915, dtype: float64\n"
     ]
    }
   ],
   "source": [
    "#order from lower to high risk\n",
    "prob_0_risk_percentual = (prob_0_risk*100).sort_values(ascending=False)\n",
    "print(prob_0_risk_percentual)"
   ]
  },
  {
   "cell_type": "code",
   "execution_count": 262,
   "metadata": {
    "scrolled": true
   },
   "outputs": [
    {
     "name": "stdout",
     "output_type": "stream",
     "text": [
      "9317     180.180713\n",
      "219      176.252213\n",
      "10015    175.850623\n",
      "11584    175.658429\n",
      "23388    173.299686\n",
      "            ...    \n",
      "7888     148.507064\n",
      "7890     148.481767\n",
      "24051    148.476498\n",
      "24160    148.436761\n",
      "20340    148.365941\n",
      "Length: 200, dtype: float64\n"
     ]
    }
   ],
   "source": [
    "#correlating probabilities with predictions volumes\n",
    "prob_pred_0 = pd.Series(predictions_0).loc[prob_0_risk_percentual.index]\n",
    "#separating the 200 high well volumes\n",
    "high_prob_pred_0 = prob_pred_0[:200]\n",
    "print(high_prob_pred_0)"
   ]
  },
  {
   "cell_type": "code",
   "execution_count": 269,
   "metadata": {},
   "outputs": [
    {
     "name": "stdout",
     "output_type": "stream",
     "text": [
      "The Profit for wells lower risk is:39960488.77\n"
     ]
    }
   ],
   "source": [
    "high_data_prob_0, prob_0_profit, sum_prob_0_volumes = profit_calculate(high_prob_pred_0)\n",
    "print(f\"The Profit for wells lower risk is:{prob_0_profit:.2f}\")"
   ]
  },
  {
   "cell_type": "code",
   "execution_count": 270,
   "metadata": {},
   "outputs": [
    {
     "name": "stdout",
     "output_type": "stream",
     "text": [
      "For region 0 the best strategie is choose high wells volumes.\n"
     ]
    }
   ],
   "source": [
    "if prob_0_profit > profit_0:\n",
    "    print(\"For region 0 the best strategie is choose lower wells risk.\")\n",
    "else:\n",
    "    print(\"For region 0 the best strategie is choose high wells volumes.\")"
   ]
  },
  {
   "cell_type": "markdown",
   "metadata": {},
   "source": [
    "## Bootstrapping for GEO_1"
   ]
  },
  {
   "cell_type": "code",
   "execution_count": 87,
   "metadata": {
    "scrolled": true
   },
   "outputs": [
    {
     "name": "stdout",
     "output_type": "stream",
     "text": [
      "The mean profit is: 24856110.626448877\n",
      "Confidence_interval is [24821913.863509424, 24886135.23725023]\n"
     ]
    },
    {
     "data": {
      "image/png": "[encoded data removed]",
      "text/plain": [
       "<Figure size 432x288 with 1 Axes>"
      ]
     },
     "metadata": {
      "needs_background": "light"
     },
     "output_type": "display_data"
    }
   ],
   "source": [
    "profit_1_distribution = pd.Series(profit_bootstrapping(high_geo_1))\n",
    "profit_1_distribution.plot(kind='hist', bins=30);\n",
    "mean_bootstrapping_predictions_1 = profit_1_distribution.mean()\n",
    "print(\"The mean profit is:\",mean_bootstrapping_predictions_1 )\n",
    "lower_1 = profit_1_distribution.quantile(0.025)\n",
    "upper_1 = profit_1_distribution.quantile(0.95)\n",
    "print(f\"Confidence_interval is [{lower_1}, {upper_1}]\")"
   ]
  },
  {
   "cell_type": "markdown",
   "metadata": {},
   "source": [
    "## GEO_1 Probaility Profit"
   ]
  },
  {
   "cell_type": "code",
   "execution_count": 246,
   "metadata": {
    "scrolled": true
   },
   "outputs": [
    {
     "name": "stdout",
     "output_type": "stream",
     "text": [
      "6        0.982621\n",
      "26       0.982439\n",
      "39       0.981498\n",
      "41       0.982813\n",
      "42       0.982560\n",
      "           ...   \n",
      "24981    0.981353\n",
      "24984    0.981340\n",
      "24990    0.982134\n",
      "24995    0.982445\n",
      "24997    0.983108\n",
      "Length: 4186, dtype: float64\n"
     ]
    }
   ],
   "source": [
    "prob_1 = volume_probability(predictions_1, target_1_valid)\n",
    "prob_1_risk = prob_1[prob_1>0.975]\n",
    "print(prob_1_risk)"
   ]
  },
  {
   "cell_type": "code",
   "execution_count": 261,
   "metadata": {
    "scrolled": false
   },
   "outputs": [
    {
     "name": "stdout",
     "output_type": "stream",
     "text": [
      "20430    98.432167\n",
      "7777     98.429405\n",
      "8755     98.425148\n",
      "1178     98.416469\n",
      "4285     98.413767\n",
      "           ...    \n",
      "15255    97.985168\n",
      "15307    97.984353\n",
      "9119     97.959051\n",
      "123      97.956692\n",
      "19140    97.921287\n",
      "Length: 4186, dtype: float64\n"
     ]
    }
   ],
   "source": [
    "#order from lower to high risk\n",
    "prob_1_risk_percentual = (prob_1_risk*100).sort_values(ascending=False)\n",
    "print(prob_1_risk_percentual)"
   ]
  },
  {
   "cell_type": "code",
   "execution_count": 263,
   "metadata": {},
   "outputs": [
    {
     "name": "stdout",
     "output_type": "stream",
     "text": [
      "20430    139.818970\n",
      "7777     139.773423\n",
      "8755     139.703330\n",
      "1178     139.560938\n",
      "4285     139.516754\n",
      "            ...    \n",
      "12774    138.421423\n",
      "8040     138.416960\n",
      "2257     138.413881\n",
      "17108    138.412834\n",
      "9693     138.410697\n",
      "Length: 200, dtype: float64\n"
     ]
    }
   ],
   "source": [
    "#correlating probabilities with predictions volumes\n",
    "prob_pred_1 = pd.Series(predictions_1).loc[prob_1_risk_percentual.index]\n",
    "#separating the 200 high well volumes\n",
    "high_prob_pred_1 = prob_pred_1[:200]\n",
    "print(high_prob_pred_1)"
   ]
  },
  {
   "cell_type": "code",
   "execution_count": 267,
   "metadata": {},
   "outputs": [
    {
     "name": "stdout",
     "output_type": "stream",
     "text": [
      "The Profit for wells lower risk is:24857120.52\n"
     ]
    }
   ],
   "source": [
    "high_data_prob_1, prob_1_profit, sum_prob_1_volumes = profit_calculate(high_prob_pred_1)\n",
    "print(f\"The Profit for wells lower risk is:{prob_1_profit:.2f}\")"
   ]
  },
  {
   "cell_type": "code",
   "execution_count": 268,
   "metadata": {},
   "outputs": [
    {
     "name": "stdout",
     "output_type": "stream",
     "text": [
      "For region 1 the best strategie is choose high wells volumes.\n"
     ]
    }
   ],
   "source": [
    "if prob_1_profit > profit_1:\n",
    "    print(\"For region 1 the best strategie is choose lower wells risk.\")\n",
    "else:\n",
    "    print(\"For region 1 the best strategie is choose high wells volumes.\")"
   ]
  },
  {
   "cell_type": "markdown",
   "metadata": {},
   "source": [
    "## Bootstrapping for GEO_2"
   ]
  },
  {
   "cell_type": "code",
   "execution_count": 88,
   "metadata": {
    "scrolled": true
   },
   "outputs": [
    {
     "name": "stdout",
     "output_type": "stream",
     "text": [
      "The mean profit is: 33213663.301123507\n",
      "Confidence_interval is [32552781.68151693, 33775369.32151818]\n"
     ]
    },
    {
     "data": {
      "image/png": "[encoded data removed]",
      "text/plain": [
       "<Figure size 432x288 with 1 Axes>"
      ]
     },
     "metadata": {
      "needs_background": "light"
     },
     "output_type": "display_data"
    }
   ],
   "source": [
    "profit_2_distribution = pd.Series(profit_bootstrapping(high_geo_2))\n",
    "profit_2_distribution.plot(kind='hist', bins=30);\n",
    "mean_bootstrapping_predictions_2 = profit_2_distribution.mean()\n",
    "print(\"The mean profit is:\",mean_bootstrapping_predictions_2 )\n",
    "lower_2 = profit_2_distribution.quantile(0.025)\n",
    "upper_2 = profit_2_distribution.quantile(0.95)\n",
    "print(f\"Confidence_interval is [{lower_2}, {upper_2}]\")"
   ]
  },
  {
   "cell_type": "markdown",
   "metadata": {},
   "source": [
    "## GEO_2 Probability Profit"
   ]
  },
  {
   "cell_type": "code",
   "execution_count": 250,
   "metadata": {},
   "outputs": [
    {
     "name": "stdout",
     "output_type": "stream",
     "text": [
      "3        0.984429\n",
      "4        0.990928\n",
      "5        0.993762\n",
      "6        0.992643\n",
      "8        0.988780\n",
      "           ...   \n",
      "24992    0.991601\n",
      "24993    0.976277\n",
      "24994    0.994332\n",
      "24997    0.979202\n",
      "24999    0.995897\n",
      "Length: 12204, dtype: float64\n"
     ]
    }
   ],
   "source": [
    "prob_2 = volume_probability(predictions_2, target_2_valid)\n",
    "prob_2_risk = prob_2[prob_2>0.975]\n",
    "print(prob_2_risk)"
   ]
  },
  {
   "cell_type": "code",
   "execution_count": 252,
   "metadata": {
    "scrolled": false
   },
   "outputs": [
    {
     "name": "stdout",
     "output_type": "stream",
     "text": [
      "22636    99.965885\n",
      "24690    99.965431\n",
      "7811     99.959179\n",
      "1581     99.954829\n",
      "6751     99.953944\n",
      "           ...    \n",
      "21486    97.501153\n",
      "9780     97.500991\n",
      "16097    97.500467\n",
      "8207     97.500314\n",
      "10290    97.500021\n",
      "Length: 12204, dtype: float64\n"
     ]
    }
   ],
   "source": [
    "#order from lower to high risk\n",
    "prob_2_risk_percentual = (prob_2_risk*100).sort_values(ascending=False)\n",
    "print(prob_2_risk_percentual)"
   ]
  },
  {
   "cell_type": "code",
   "execution_count": 256,
   "metadata": {
    "scrolled": true
   },
   "outputs": [
    {
     "name": "stdout",
     "output_type": "stream",
     "text": [
      "22636    165.856833\n",
      "24690    165.679685\n",
      "7811     163.439962\n",
      "1581     162.062589\n",
      "6751     161.797476\n",
      "            ...    \n",
      "5541     142.490763\n",
      "18126    142.485922\n",
      "11122    142.465777\n",
      "22669    142.454763\n",
      "23447    142.408851\n",
      "Length: 200, dtype: float64\n"
     ]
    }
   ],
   "source": [
    "#correlating probabilities with predictions volumes\n",
    "prob_pred_2 = pd.Series(predictions_2).loc[prob_2_risk_percentual.index]\n",
    "#separating the 200 high well volumes\n",
    "high_prob_pred_2 = prob_pred_2[:200]\n",
    "print(high_prob_pred_2)"
   ]
  },
  {
   "cell_type": "code",
   "execution_count": 265,
   "metadata": {},
   "outputs": [
    {
     "name": "stdout",
     "output_type": "stream",
     "text": [
      "The Profit for wells lower risk is:33217543.96\n"
     ]
    }
   ],
   "source": [
    "high_data_prob_2, prob_2_profit, sum_prob_2_volumes = profit_calculate(high_prob_pred_2)\n",
    "print(f\"The Profit for wells lower risk is:{prob_2_profit:.2f}\")"
   ]
  },
  {
   "cell_type": "code",
   "execution_count": 266,
   "metadata": {},
   "outputs": [
    {
     "name": "stdout",
     "output_type": "stream",
     "text": [
      "For region 2 the best strategie is choose high wells volumes.\n"
     ]
    }
   ],
   "source": [
    "if prob_2_profit > profit_2:\n",
    "    print(\"For region 2 the best strategie is choose lower wells risk.\")\n",
    "else:\n",
    "    print(\"For region 2 the best strategie is choose high wells volumes.\")"
   ]
  },
  {
   "cell_type": "markdown",
   "metadata": {},
   "source": [
    "# Final Observations"
   ]
  },
  {
   "cell_type": "markdown",
   "metadata": {},
   "source": [
    "- The most profitable region is GEO_0 using the 200 highest volumes and bootstrapping with 95% of confidence\n",
    "- All region follow a normal distribution\n",
    "- All region are profitable if use just the 200 highest volumes\n",
    "- Even changing the strategy, region 0  remains the most profitable"
   ]
  },
  {
   "cell_type": "markdown",
   "metadata": {},
   "source": [
    "\n",
    "<div class=\"alert alert-block alert-success\">\n",
    "<b>Comentário Geral do Revisor</b> <a class=\"tocSkip\"></a>\n",
    "\n",
    "Obrigado por enviar seu projeto. \n",
    "    \n",
    "Parabéns, você fez um bom trabalho.\n",
    "\n",
    "Como pontos fortes do projeto, destaco:\n",
    "- Código simples e eficiente (sem loop desnecessário)\n",
    "- Uso adequado dos recursos da lição (ex: bootstrap implementado corretamente)\n",
    "- Usou inglês\n",
    "\n",
    "\n",
    "Conte conosco. Lembre-se de que você pode tirar dúvidas com revisores usando os comentários ou buscar ajuda de um tutor.\n",
    "Bom trabalho.\n",
    "</div>"
   ]
  }
 ],
 "metadata": {
  "kernelspec": {
   "display_name": "Python 3 (ipykernel)",
   "language": "python",
   "name": "python3"
  },
  "language_info": {
   "codemirror_mode": {
    "name": "ipython",
    "version": 3
   },
   "file_extension": ".py",
   "mimetype": "text/x-python",
   "name": "python",
   "nbconvert_exporter": "python",
   "pygments_lexer": "ipython3",
   "version": "3.9.19"
  },
  "toc": {
   "base_numbering": 1,
   "nav_menu": {},
   "number_sections": true,
   "sideBar": true,
   "skip_h1_title": true,
   "title_cell": "Table of Contents",
   "title_sidebar": "Contents",
   "toc_cell": false,
   "toc_position": {},
   "toc_section_display": true,
   "toc_window_display": false
  }
 },
 "nbformat": 4,
 "nbformat_minor": 2
}
