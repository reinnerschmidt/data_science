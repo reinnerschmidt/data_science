{
 "cells": [
  {
   "cell_type": "markdown",
   "metadata": {},
   "source": [
    "Olá, estudante!\n",
    "\n",
    "Meu nome é Ramon. Fico feliz em revisar seu projeto. Ao ao longo do texto farei algumas observações sobre melhorias no código e também farei comentários sobre suas percepções sobre o assunto. Estarei aberto a feedbacks e discussões sobre o tema.\n",
    "\n",
    "**Peço que mantenha e não altere os comentários que eu fizer por aqui para que possamos nos localizar posteriormente, ok?**\n",
    "\n",
    "Mais uma coisa, vamos utilizar um código de cores para você entender os meus feedbacks no seu notebook. Funciona assim:\n",
    "\n",
    "<div class=\"alert alert-block alert-success\">\n",
    "<b> Comentário do revisor: </b> <a class=\"tocSkip\"></a>\n",
    "\n",
    "Sucesso. Tudo foi feito corretamente.\n",
    "</div>\n",
    "\n",
    "<div class=\"alert alert-block alert-warning\">\n",
    "<b>Comentário do revisor: </b> <a class=\"tocSkip\"></a>\n",
    "\n",
    "Alerta não crítco, mas que pode ser corrigido para melhoria geral no seu código/análise\n",
    "</div>\n",
    "\n",
    "<div class=\"alert alert-block alert-danger\">\n",
    "\n",
    "<b>Comentário do revisor: </b> <a class=\"tocSkip\"></a>\n",
    "    \n",
    "Erro que precisa ser consertado, caso contrário seu projeto **não** será aceito.\n",
    "</div>\n",
    "\n",
    "Você pode me responder usando isso:\n",
    "<div class=\"alert alert-block alert-info\">\n",
    "<b>Resposta do Aluno.</b> <a class=\"tocSkip\"></a>\n",
    "</div>\n"
   ]
  },
  {
   "cell_type": "code",
   "execution_count": 1,
   "metadata": {},
   "outputs": [],
   "source": [
    "import pandas as pd\n",
    "import matplotlib.pyplot as plt\n",
    "from scipy import stats as st\n",
    "from scipy.stats import levene\n",
    "\n",
    "\n"
   ]
  },
  {
   "cell_type": "markdown",
   "metadata": {},
   "source": [
    "# Analise dos dados"
   ]
  },
  {
   "cell_type": "markdown",
   "metadata": {},
   "source": [
    "## Para o dataset `project_sql_result_01`"
   ]
  },
  {
   "cell_type": "code",
   "execution_count": 2,
   "metadata": {},
   "outputs": [],
   "source": [
    "cabs =pd.read_csv('/datasets/project_sql_result_01.csv')\n",
    "neiborhood = pd.read_csv('/datasets/project_sql_result_04.csv')"
   ]
  },
  {
   "cell_type": "markdown",
   "metadata": {},
   "source": [
    "### Análise Qualitativa"
   ]
  },
  {
   "cell_type": "code",
   "execution_count": 3,
   "metadata": {
    "scrolled": false
   },
   "outputs": [
    {
     "name": "stdout",
     "output_type": "stream",
     "text": [
      "                      company_name  trips_amount\n",
      "0                        Flash Cab         19558\n",
      "1        Taxi Affiliation Services         11422\n",
      "2                Medallion Leasing         10367\n",
      "3                       Yellow Cab          9888\n",
      "4  Taxi Affiliation Service Yellow          9299\n"
     ]
    }
   ],
   "source": [
    "print(cabs.head())"
   ]
  },
  {
   "cell_type": "code",
   "execution_count": 4,
   "metadata": {},
   "outputs": [
    {
     "name": "stdout",
     "output_type": "stream",
     "text": [
      "<class 'pandas.core.frame.DataFrame'>\n",
      "RangeIndex: 64 entries, 0 to 63\n",
      "Data columns (total 2 columns):\n",
      " #   Column        Non-Null Count  Dtype \n",
      "---  ------        --------------  ----- \n",
      " 0   company_name  64 non-null     object\n",
      " 1   trips_amount  64 non-null     int64 \n",
      "dtypes: int64(1), object(1)\n",
      "memory usage: 1.1+ KB\n",
      "None\n"
     ]
    }
   ],
   "source": [
    "print(cabs.info())"
   ]
  },
  {
   "cell_type": "code",
   "execution_count": 5,
   "metadata": {
    "scrolled": true
   },
   "outputs": [
    {
     "name": "stdout",
     "output_type": "stream",
     "text": [
      "       trips_amount\n",
      "count     64.000000\n",
      "mean    2145.484375\n",
      "std     3812.310186\n",
      "min        2.000000\n",
      "25%       20.750000\n",
      "50%      178.500000\n",
      "75%     2106.500000\n",
      "max    19558.000000\n"
     ]
    }
   ],
   "source": [
    "print(cabs.describe())"
   ]
  },
  {
   "cell_type": "code",
   "execution_count": 6,
   "metadata": {},
   "outputs": [
    {
     "name": "stdout",
     "output_type": "stream",
     "text": [
      "0\n"
     ]
    }
   ],
   "source": [
    "print(cabs.duplicated().sum())"
   ]
  },
  {
   "cell_type": "markdown",
   "metadata": {},
   "source": [
    "### Análise Estatística"
   ]
  },
  {
   "cell_type": "code",
   "execution_count": 7,
   "metadata": {
    "scrolled": false
   },
   "outputs": [
    {
     "data": {
      "image/png": "[encoded data removed]",
      "text/plain": [
       "<Figure size 432x288 with 1 Axes>"
      ]
     },
     "metadata": {
      "needs_background": "light"
     },
     "output_type": "display_data"
    }
   ],
   "source": [
    "plt.boxplot(cabs['trips_amount'])\n",
    "plt.ylabel('Trips amount')\n",
    "plt.show()\n"
   ]
  },
  {
   "cell_type": "code",
   "execution_count": 8,
   "metadata": {},
   "outputs": [
    {
     "data": {
      "image/png": "[encoded data removed]",
      "text/plain": [
       "<Figure size 432x288 with 1 Axes>"
      ]
     },
     "metadata": {
      "needs_background": "light"
     },
     "output_type": "display_data"
    }
   ],
   "source": [
    "plt.hist(cabs['trips_amount'], bins=30)\n",
    "plt.title('Frequência de corridas')\n",
    "plt.show()"
   ]
  },
  {
   "cell_type": "markdown",
   "metadata": {},
   "source": [
    "- Avaliando os dados deste primeiro dataset podemos ver que não temos valores nulos\n",
    "- Também vemos que os tipos de dados de cada coluna está correto\n",
    "- O nome dos cabeçalhos segue o padrão snake_case, não será preciso renomear\n",
    "- Avaliando os dados estatístico da coluna trips_amount temos que a média de corridas por empresa de táxi é de 2145, mas a mediana é de 178. Isto se deve ao outliers observados no boxplot\n",
    "- Pelo histograma é possível ver que não temos uma curva de distribuição normal e uma frequência muito alta até 2100 corridas (75% de acordo com o describe)"
   ]
  },
  {
   "cell_type": "markdown",
   "metadata": {},
   "source": [
    "### Análise Quantitativa"
   ]
  },
  {
   "cell_type": "code",
   "execution_count": 9,
   "metadata": {},
   "outputs": [
    {
     "name": "stdout",
     "output_type": "stream",
     "text": [
      "                        company_name  trips_amount\n",
      "0                          Flash Cab         19558\n",
      "1          Taxi Affiliation Services         11422\n",
      "2                  Medallion Leasing         10367\n",
      "3                         Yellow Cab          9888\n",
      "4    Taxi Affiliation Service Yellow          9299\n",
      "5          Chicago Carriage Cab Corp          9181\n",
      "6                       City Service          8448\n",
      "7                           Sun Taxi          7701\n",
      "8          Star North Management LLC          7455\n",
      "9  Blue Ribbon Taxi Association Inc.          5953\n"
     ]
    }
   ],
   "source": [
    "#Avaliar as 10 empresas de táxi com a maior quantidade de corridas\n",
    "cabs = cabs.sort_values(by='trips_amount', ascending=False)\n",
    "print(cabs.head(10))"
   ]
  },
  {
   "cell_type": "code",
   "execution_count": 10,
   "metadata": {},
   "outputs": [],
   "source": [
    "ten_cabs = cabs.loc[:9, ::]. sort_values(by='trips_amount')"
   ]
  },
  {
   "cell_type": "code",
   "execution_count": 11,
   "metadata": {},
   "outputs": [
    {
     "data": {
      "image/png": "[encoded data removed]",
      "text/plain": [
       "<Figure size 432x288 with 1 Axes>"
      ]
     },
     "metadata": {
      "needs_background": "light"
     },
     "output_type": "display_data"
    }
   ],
   "source": [
    "ten_cabs.plot(x='company_name', y='trips_amount', xlabel='Empresas de táxi'\n",
    "              , ylabel='Quantidade de corridas', title='Top 10 empresas de táxi'\n",
    "              , kind='barh', color='gray', legend=False)\n",
    "plt.show()"
   ]
  },
  {
   "cell_type": "markdown",
   "metadata": {},
   "source": [
    "## Para o dataset `project_sql_result_04`"
   ]
  },
  {
   "cell_type": "markdown",
   "metadata": {},
   "source": [
    "### Análise qualitativa"
   ]
  },
  {
   "cell_type": "code",
   "execution_count": 12,
   "metadata": {},
   "outputs": [
    {
     "name": "stdout",
     "output_type": "stream",
     "text": [
      "  dropoff_location_name  average_trips\n",
      "0                  Loop   10727.466667\n",
      "1           River North    9523.666667\n",
      "2         Streeterville    6664.666667\n",
      "3             West Loop    5163.666667\n",
      "4                O'Hare    2546.900000\n"
     ]
    }
   ],
   "source": [
    "print(neiborhood.head())"
   ]
  },
  {
   "cell_type": "code",
   "execution_count": 13,
   "metadata": {
    "scrolled": true
   },
   "outputs": [
    {
     "name": "stdout",
     "output_type": "stream",
     "text": [
      "<class 'pandas.core.frame.DataFrame'>\n",
      "RangeIndex: 94 entries, 0 to 93\n",
      "Data columns (total 2 columns):\n",
      " #   Column                 Non-Null Count  Dtype  \n",
      "---  ------                 --------------  -----  \n",
      " 0   dropoff_location_name  94 non-null     object \n",
      " 1   average_trips          94 non-null     float64\n",
      "dtypes: float64(1), object(1)\n",
      "memory usage: 1.6+ KB\n",
      "None\n"
     ]
    }
   ],
   "source": [
    "print(neiborhood.info())"
   ]
  },
  {
   "cell_type": "code",
   "execution_count": 14,
   "metadata": {},
   "outputs": [
    {
     "name": "stdout",
     "output_type": "stream",
     "text": [
      "0\n"
     ]
    }
   ],
   "source": [
    "print(neiborhood.duplicated().sum())"
   ]
  },
  {
   "cell_type": "markdown",
   "metadata": {},
   "source": [
    "### Análise Estatística"
   ]
  },
  {
   "cell_type": "code",
   "execution_count": 15,
   "metadata": {},
   "outputs": [
    {
     "name": "stdout",
     "output_type": "stream",
     "text": [
      "       average_trips\n",
      "count      94.000000\n",
      "mean      599.953728\n",
      "std      1714.591098\n",
      "min         1.800000\n",
      "25%        14.266667\n",
      "50%        52.016667\n",
      "75%       298.858333\n",
      "max     10727.466667\n"
     ]
    }
   ],
   "source": [
    "print(neiborhood.describe())"
   ]
  },
  {
   "cell_type": "code",
   "execution_count": 16,
   "metadata": {},
   "outputs": [
    {
     "data": {
      "image/png": "[encoded data removed]",
      "text/plain": [
       "<Figure size 432x288 with 1 Axes>"
      ]
     },
     "metadata": {
      "needs_background": "light"
     },
     "output_type": "display_data"
    }
   ],
   "source": [
    "plt.boxplot(neiborhood['average_trips'])\n",
    "plt.ylabel('Average trips')\n",
    "plt.show()"
   ]
  },
  {
   "cell_type": "code",
   "execution_count": 17,
   "metadata": {},
   "outputs": [
    {
     "data": {
      "image/png": "[encoded data removed]",
      "text/plain": [
       "<Figure size 432x288 with 1 Axes>"
      ]
     },
     "metadata": {
      "needs_background": "light"
     },
     "output_type": "display_data"
    }
   ],
   "source": [
    "plt.hist(neiborhood['average_trips'])\n",
    "plt.title('Frequência de  viagens por bairro')\n",
    "plt.show()"
   ]
  },
  {
   "cell_type": "markdown",
   "metadata": {},
   "source": [
    "- Aqui temos alguns fatores similares. A média das corridas por bairro é de 599 enquanto a mediana é de 52, ou seja, temos alguns bairros com muitas corridas.\n",
    "- Não temos valores ausentes ou duplicados\n",
    "- Os tipode de dados de cada coluna estão corretos, assim como seus nomes também seguem o snake_case\n",
    "- A maior parte dos bairros tem até 300 corridas (75%)"
   ]
  },
  {
   "cell_type": "markdown",
   "metadata": {},
   "source": [
    "### Análise quantitativa"
   ]
  },
  {
   "cell_type": "code",
   "execution_count": 18,
   "metadata": {},
   "outputs": [
    {
     "name": "stdout",
     "output_type": "stream",
     "text": [
      "  dropoff_location_name  average_trips\n",
      "0                  Loop   10727.466667\n",
      "1           River North    9523.666667\n",
      "2         Streeterville    6664.666667\n",
      "3             West Loop    5163.666667\n",
      "4                O'Hare    2546.900000\n",
      "5             Lake View    2420.966667\n",
      "6            Grant Park    2068.533333\n",
      "7         Museum Campus    1510.000000\n",
      "8            Gold Coast    1364.233333\n",
      "9    Sheffield & DePaul    1259.766667\n"
     ]
    }
   ],
   "source": [
    "#Análise dos 10 principais bairros\n",
    "neiborhood = neiborhood.sort_values(by='average_trips', ascending=False)\n",
    "print(neiborhood.head(10))"
   ]
  },
  {
   "cell_type": "code",
   "execution_count": 19,
   "metadata": {},
   "outputs": [
    {
     "name": "stdout",
     "output_type": "stream",
     "text": [
      "  dropoff_location_name  average_trips\n",
      "9    Sheffield & DePaul    1259.766667\n",
      "8            Gold Coast    1364.233333\n",
      "7         Museum Campus    1510.000000\n",
      "6            Grant Park    2068.533333\n",
      "5             Lake View    2420.966667\n",
      "4                O'Hare    2546.900000\n",
      "3             West Loop    5163.666667\n",
      "2         Streeterville    6664.666667\n",
      "1           River North    9523.666667\n",
      "0                  Loop   10727.466667\n"
     ]
    }
   ],
   "source": [
    "ten_neiborhood = neiborhood.loc[:9,::].sort_values(by='average_trips')\n",
    "print(ten_neiborhood)"
   ]
  },
  {
   "cell_type": "code",
   "execution_count": 20,
   "metadata": {
    "scrolled": true
   },
   "outputs": [
    {
     "data": {
      "image/png": "[encoded data removed]",
      "text/plain": [
       "<Figure size 432x288 with 1 Axes>"
      ]
     },
     "metadata": {
      "needs_background": "light"
     },
     "output_type": "display_data"
    }
   ],
   "source": [
    "ten_neiborhood.plot(x='dropoff_location_name' , y='average_trips', kind='barh', title='Top 10 destinos'\n",
    "                    , ylabel='Quantidade média de corridas', xlabel='Bairros', color='gray', legend=False )\n",
    "plt.show()"
   ]
  },
  {
   "cell_type": "markdown",
   "metadata": {},
   "source": [
    "# Teste de Hipóteses"
   ]
  },
  {
   "cell_type": "code",
   "execution_count": 21,
   "metadata": {},
   "outputs": [],
   "source": [
    "loop_to_airport = pd.read_csv('/datasets/project_sql_result_07.csv')"
   ]
  },
  {
   "cell_type": "code",
   "execution_count": 22,
   "metadata": {},
   "outputs": [
    {
     "name": "stdout",
     "output_type": "stream",
     "text": [
      "              start_ts weather_conditions  duration_seconds\n",
      "0  2017-11-25 16:00:00               Good            2410.0\n",
      "1  2017-11-25 14:00:00               Good            1920.0\n",
      "2  2017-11-25 12:00:00               Good            1543.0\n",
      "3  2017-11-04 10:00:00               Good            2512.0\n",
      "4  2017-11-11 07:00:00               Good            1440.0\n"
     ]
    }
   ],
   "source": [
    "print(loop_to_airport.head())"
   ]
  },
  {
   "cell_type": "code",
   "execution_count": 23,
   "metadata": {},
   "outputs": [
    {
     "name": "stdout",
     "output_type": "stream",
     "text": [
      "<class 'pandas.core.frame.DataFrame'>\n",
      "RangeIndex: 1068 entries, 0 to 1067\n",
      "Data columns (total 3 columns):\n",
      " #   Column              Non-Null Count  Dtype  \n",
      "---  ------              --------------  -----  \n",
      " 0   start_ts            1068 non-null   object \n",
      " 1   weather_conditions  1068 non-null   object \n",
      " 2   duration_seconds    1068 non-null   float64\n",
      "dtypes: float64(1), object(2)\n",
      "memory usage: 25.2+ KB\n",
      "None\n"
     ]
    }
   ],
   "source": [
    "print(loop_to_airport.info())"
   ]
  },
  {
   "cell_type": "markdown",
   "metadata": {},
   "source": [
    "## A duração média dos passeios do Loop para o Aeroporto Internacional O'Hare muda nos sábados chuvosos."
   ]
  },
  {
   "cell_type": "code",
   "execution_count": 24,
   "metadata": {},
   "outputs": [
    {
     "name": "stdout",
     "output_type": "stream",
     "text": [
      "                 start_ts weather_conditions  duration_seconds\n",
      "6     2017-11-04 16:00:00                Bad            2969.0\n",
      "30    2017-11-18 12:00:00                Bad            1980.0\n",
      "34    2017-11-04 17:00:00                Bad            2460.0\n",
      "51    2017-11-04 16:00:00                Bad            2760.0\n",
      "52    2017-11-18 12:00:00                Bad            2460.0\n",
      "...                   ...                ...               ...\n",
      "1031  2017-11-18 12:00:00                Bad            2560.0\n",
      "1032  2017-11-18 10:00:00                Bad            1908.0\n",
      "1053  2017-11-18 12:00:00                Bad            2400.0\n",
      "1061  2017-11-18 16:00:00                Bad            2186.0\n",
      "1067  2017-11-04 16:00:00                Bad            2834.0\n",
      "\n",
      "[180 rows x 3 columns]\n"
     ]
    }
   ],
   "source": [
    "#Agrupar por tipo de condição\n",
    "#Bad\n",
    "loop_to_airport_rain = loop_to_airport[loop_to_airport['weather_conditions']=='Bad']\\\n",
    "                           \n",
    "print(loop_to_airport_rain)"
   ]
  },
  {
   "cell_type": "code",
   "execution_count": 25,
   "metadata": {},
   "outputs": [
    {
     "name": "stdout",
     "output_type": "stream",
     "text": [
      "                 start_ts weather_conditions  duration_seconds\n",
      "0     2017-11-25 16:00:00               Good            2410.0\n",
      "1     2017-11-25 14:00:00               Good            1920.0\n",
      "2     2017-11-25 12:00:00               Good            1543.0\n",
      "3     2017-11-04 10:00:00               Good            2512.0\n",
      "4     2017-11-11 07:00:00               Good            1440.0\n",
      "...                   ...                ...               ...\n",
      "1062  2017-11-11 06:00:00               Good            1500.0\n",
      "1063  2017-11-25 11:00:00               Good               0.0\n",
      "1064  2017-11-11 10:00:00               Good            1318.0\n",
      "1065  2017-11-11 13:00:00               Good            2100.0\n",
      "1066  2017-11-11 08:00:00               Good            1380.0\n",
      "\n",
      "[888 rows x 3 columns]\n"
     ]
    }
   ],
   "source": [
    "#Good\n",
    "loop_to_airport_sunny = loop_to_airport[loop_to_airport['weather_conditions']=='Good']\\\n",
    "                           \n",
    "print(loop_to_airport_sunny)"
   ]
  },
  {
   "cell_type": "markdown",
   "metadata": {},
   "source": [
    "### Definição de H0 e Ha"
   ]
  },
  {
   "cell_type": "markdown",
   "metadata": {},
   "source": [
    "H0 = A duração média dos passeios do Loop para o Aeroporto Internacional O'Hare nos sábados é igual se está chovendo ou não  \n",
    "Ha = A duração média dos passeios do Loop para o Aeroporto Internacional O'Hare nos sábados é diferente quando está chovendo\n"
   ]
  },
  {
   "cell_type": "markdown",
   "metadata": {},
   "source": [
    "### Escolha do teste e limiar de significância"
   ]
  },
  {
   "cell_type": "markdown",
   "metadata": {},
   "source": [
    "alpha = 0.05  \n",
    "O tipo de teste utilizado será o ttest_ind, pois as variáveis são independentes, o aumento de uma variável não está ligado diretamente ao aumento ou diminuição da outra variável\n",
    "Para avaliar se podemos considerar as duas variâncias iguais farei o teste de Levene.  \n",
    "Para isso temos as hipóteses H0L e HaL do teste Levene:  \n",
    "- H0L: Hipótese nula do Teste de Levene (as variâncias são iguais)\n",
    "- HaL: Hipótese alternativa do Teste de Levene (as variâncias são diferentes)  \n",
    "\n",
    "Se o valor-p (l_value) do teste de levene for menor que alpha a H0L é rejeitada, se for maior não podemos rejeitar H0L\n"
   ]
  },
  {
   "cell_type": "code",
   "execution_count": 26,
   "metadata": {},
   "outputs": [],
   "source": [
    "#Criar as variáveis que serão usadas para calcular o teste de levene\n",
    "var_x = loop_to_airport_rain['duration_seconds']\n",
    "var_y = loop_to_airport_sunny['duration_seconds']"
   ]
  },
  {
   "cell_type": "code",
   "execution_count": 27,
   "metadata": {},
   "outputs": [],
   "source": [
    "#Função para verificar as hipóteses H0L e HaL realizar o teste\n",
    "def levene_test_rel(sample1, sample2, nan_pol='omit', alpha=0.05):\n",
    "    statistics, l_value = levene(sample1, sample2)\n",
    "    print('l_value:', l_value)\n",
    "    if l_value > alpha: #considerando H0L, variâncias iguais\n",
    "        print('Considerando H0L, variâncias iguais')\n",
    "        result1 = st.ttest_ind(sample1, sample2, nan_policy = nan_pol) \n",
    "        print('O p-valor é:', result1.pvalue)\n",
    "        if result1.pvalue < alpha:\n",
    "            print('A hipótese nula deve ser rejeitada')\n",
    "        else:\n",
    "            print('A hipótese nula não deve ser rejeitada')\n",
    "    else: #considerando HaL, variâncias diferentes\n",
    "        print('considerando HaL, variâncias diferentes')\n",
    "        result1 = st.ttest_ind(sample1, sample2, equal_var=False, nan_policy= nan_pol) \n",
    "        print('O p-valor é:', result1.pvalue)\n",
    "        if result1.pvalue < alpha:\n",
    "            print('A hipótese nula deve ser rejeitada')\n",
    "        else:\n",
    "            print('A hipótese nula não deve ser rejeitada')\n",
    "    \n",
    "    "
   ]
  },
  {
   "cell_type": "code",
   "execution_count": 28,
   "metadata": {
    "scrolled": true
   },
   "outputs": [
    {
     "name": "stdout",
     "output_type": "stream",
     "text": [
      "l_value: 0.5332038671974493\n",
      "Considerando H0L, variâncias iguais\n",
      "O p-valor é: 6.517970327099473e-12\n",
      "A hipótese nula deve ser rejeitada\n"
     ]
    }
   ],
   "source": [
    "levene_test_rel(var_x, var_y)"
   ]
  },
  {
   "cell_type": "markdown",
   "metadata": {},
   "source": [
    "## Conclusões"
   ]
  },
  {
   "cell_type": "markdown",
   "metadata": {},
   "source": [
    "- De acordo com as hipóteses testadas podemos inferir o tempo médio da duração das corridas em sábados chuvosos é diferente dos outros sábados\n",
    "- A distribuição das quantidades de corridas e o tempo médio de duração das mesmas não segue uma curva normal, estão deslocados para a direita\n",
    "- Estes outliers distorcem bastante as médias, elevando-as frente a mediana.\n",
    "- o bairro com o maior destino de corridas é o `Loop` e a empresa com a maior quantidade de corridas é a `Flash Cab`"
   ]
  },
  {
   "cell_type": "markdown",
   "metadata": {},
   "source": [
    "\n",
    "<div class=\"alert alert-block alert-success\">\n",
    "<b>Comentário Geral do Revisor</b> <a class=\"tocSkip\"></a>\n",
    "\n",
    "Obrigado por enviar seu projeto. \n",
    "    \n",
    "Parabéns, você fez um bom trabalho. No geral, você respondeu corretamente as questões.\n",
    "\n",
    "Como pontos fortes do projeto, destaco:\n",
    "- Código simples e eficiente\n",
    "- Utilizou teste Levene para avaliar hipótese de igualdade de variâncias\n",
    "\n",
    "Único ponto que me chama atenção é o não tratamento de outliers, pois o test T é sensível. O ideal é remover ouliers ou então substituir seu valor por um limite máximo ou mínimo.    \n",
    "Bom trabalho.\n",
    "</div>"
   ]
  }
 ],
 "metadata": {
  "kernelspec": {
   "display_name": "Python 3 (ipykernel)",
   "language": "python",
   "name": "python3"
  },
  "language_info": {
   "codemirror_mode": {
    "name": "ipython",
    "version": 3
   },
   "file_extension": ".py",
   "mimetype": "text/x-python",
   "name": "python",
   "nbconvert_exporter": "python",
   "pygments_lexer": "ipython3",
   "version": "3.9.19"
  },
  "toc": {
   "base_numbering": 1,
   "nav_menu": {},
   "number_sections": true,
   "sideBar": true,
   "skip_h1_title": true,
   "title_cell": "Table of Contents",
   "title_sidebar": "Contents",
   "toc_cell": false,
   "toc_position": {},
   "toc_section_display": true,
   "toc_window_display": false
  }
 },
 "nbformat": 4,
 "nbformat_minor": 2
}
