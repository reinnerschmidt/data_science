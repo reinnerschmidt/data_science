{
 "cells": [
  {
   "cell_type": "markdown",
   "metadata": {},
   "source": [
    "Olá, Reinner!\n",
    "\n",
    "Meu nome é Ramon. Fico feliz em revisar seu projeto. Ao ao longo do texto farei algumas observações sobre melhorias no código e também farei comentários sobre suas percepções sobre o assunto. Estarei aberto a feedbacks e discussões sobre o tema.\n",
    "\n",
    "**Peço que mantenha e não altere os comentários que eu fizer por aqui para que possamos nos localizar posteriormente, ok?**\n",
    "\n",
    "Mais uma coisa, vamos utilizar um código de cores para você entender os meus feedbacks no seu notebook. Funciona assim:\n",
    "\n",
    "<div class=\"alert alert-block alert-success\">\n",
    "<b> Comentário do revisor: </b> <a class=\"tocSkip\"></a>\n",
    "\n",
    "Sucesso. Tudo foi feito corretamente.\n",
    "</div>\n",
    "\n",
    "<div class=\"alert alert-block alert-warning\">\n",
    "<b>Comentário do revisor: </b> <a class=\"tocSkip\"></a>\n",
    "\n",
    "Alerta não crítco, mas que pode ser corrigido para melhoria geral no seu código/análise\n",
    "</div>\n",
    "\n",
    "<div class=\"alert alert-block alert-danger\">\n",
    "\n",
    "<b>Comentário do revisor: </b> <a class=\"tocSkip\"></a>\n",
    "    \n",
    "Erro que precisa ser consertado, caso contrário seu projeto **não** será aceito.\n",
    "</div>\n",
    "\n",
    "Você pode me responder usando isso:\n",
    "<div class=\"alert alert-block alert-info\">\n",
    "<b>Resposta do Aluno.</b> <a class=\"tocSkip\"></a>\n",
    "</div>"
   ]
  },
  {
   "cell_type": "markdown",
   "metadata": {},
   "source": [
    "# Importar as bibliotecas necessárias"
   ]
  },
  {
   "cell_type": "code",
   "execution_count": 1,
   "metadata": {},
   "outputs": [],
   "source": [
    "import pandas as pd\n",
    "import seaborn as sns\n",
    "import matplotlib.pyplot as plt\n",
    "from sklearn.tree import DecisionTreeClassifier\n",
    "from sklearn.linear_model import LogisticRegression\n",
    "from sklearn.ensemble import RandomForestClassifier\n",
    "from sklearn.metrics import accuracy_score\n",
    "from sklearn.model_selection import train_test_split\n",
    "\n",
    "\n"
   ]
  },
  {
   "cell_type": "markdown",
   "metadata": {},
   "source": [
    "# Ler os dados"
   ]
  },
  {
   "cell_type": "code",
   "execution_count": 2,
   "metadata": {},
   "outputs": [],
   "source": [
    "#ler os dados\n",
    "df = pd.read_csv(\"/datasets/users_behavior_upd.csv\")"
   ]
  },
  {
   "cell_type": "code",
   "execution_count": 3,
   "metadata": {},
   "outputs": [
    {
     "name": "stdout",
     "output_type": "stream",
     "text": [
      "   calls  minutes  messages   mb_used  is_ultimate\n",
      "0   40.0   311.90      83.0  19915.42            0\n",
      "1   85.0   516.75      56.0  22696.96            0\n",
      "2   77.0   467.66      86.0  21060.45            0\n",
      "3  106.0   745.53      81.0   8437.39            1\n",
      "4   66.0   418.74       1.0  14502.75            0\n"
     ]
    }
   ],
   "source": [
    "print(df.head())"
   ]
  },
  {
   "cell_type": "code",
   "execution_count": 4,
   "metadata": {
    "scrolled": true
   },
   "outputs": [
    {
     "name": "stdout",
     "output_type": "stream",
     "text": [
      "<class 'pandas.core.frame.DataFrame'>\n",
      "RangeIndex: 3214 entries, 0 to 3213\n",
      "Data columns (total 5 columns):\n",
      " #   Column       Non-Null Count  Dtype  \n",
      "---  ------       --------------  -----  \n",
      " 0   calls        3214 non-null   float64\n",
      " 1   minutes      3214 non-null   float64\n",
      " 2   messages     3214 non-null   float64\n",
      " 3   mb_used      3214 non-null   float64\n",
      " 4   is_ultimate  3214 non-null   int64  \n",
      "dtypes: float64(4), int64(1)\n",
      "memory usage: 125.7 KB\n",
      "None\n"
     ]
    }
   ],
   "source": [
    "print(df.info())"
   ]
  },
  {
   "cell_type": "markdown",
   "metadata": {},
   "source": [
    "<div class=\"alert alert-block alert-warning\">\n",
    "<b> Comentário do revisor: </b> <a class=\"tocSkip\"></a>\n",
    "\n",
    "- Há outliers?\n",
    "- A coluna is_ultimate está balanceada? Senão, como contornar o desbalanceamento?\n",
    "</div>"
   ]
  },
  {
   "cell_type": "markdown",
   "metadata": {},
   "source": [
    "# Criar Features e Target"
   ]
  },
  {
   "cell_type": "markdown",
   "metadata": {},
   "source": [
    "Vamos dividir os dados em features e target. Os dados que queremos classificar estão na coluna `is_ultimate`, logo a mesma não podera entrar no df `features` e será o df `target`"
   ]
  },
  {
   "cell_type": "code",
   "execution_count": 5,
   "metadata": {},
   "outputs": [],
   "source": [
    "#removendo a coluna is_ultimate\n",
    "features = df.drop(['is_ultimate'], axis=1)\n"
   ]
  },
  {
   "cell_type": "code",
   "execution_count": 6,
   "metadata": {},
   "outputs": [],
   "source": [
    "target = df['is_ultimate']"
   ]
  },
  {
   "cell_type": "markdown",
   "metadata": {},
   "source": [
    "# Dividir os conjuntos de `treino`, `validação` e `teste`"
   ]
  },
  {
   "cell_type": "markdown",
   "metadata": {},
   "source": [
    "## Vamos seguir a premissa de 3:1:1. Ou seja: `60% para treinamento`, `20% para validação` e `20% para teste`."
   ]
  },
  {
   "cell_type": "markdown",
   "metadata": {},
   "source": [
    "### Divisão 60% para treinamento e 40% para o restante"
   ]
  },
  {
   "cell_type": "code",
   "execution_count": 7,
   "metadata": {},
   "outputs": [],
   "source": [
    "features_train, features_rest, target_train, target_rest = train_test_split(features, target, test_size=0.4, random_state=12345)"
   ]
  },
  {
   "cell_type": "code",
   "execution_count": 8,
   "metadata": {},
   "outputs": [
    {
     "name": "stdout",
     "output_type": "stream",
     "text": [
      "O tamanho do dataframe original é 3214\n",
      "O tamanho do dataframe de treino 1928\n",
      "O tamanho do restante do dataframe é 1286\n"
     ]
    }
   ],
   "source": [
    "print(\"O tamanho do dataframe original é\",features.shape[0])\n",
    "print(\"O tamanho do dataframe de treino\", features_train.shape[0])\n",
    "print(\"O tamanho do restante do dataframe é\", features_rest.shape[0])"
   ]
  },
  {
   "cell_type": "markdown",
   "metadata": {},
   "source": [
    "### Divisão dos 20% para validação e 20% teste. Utilizaremos como base o `features_rest` e `target_rest`"
   ]
  },
  {
   "cell_type": "code",
   "execution_count": 9,
   "metadata": {},
   "outputs": [],
   "source": [
    "features_valid, features_test, target_valid, target_test = train_test_split(features_rest, target_rest, test_size=0.5, random_state=12345)"
   ]
  },
  {
   "cell_type": "code",
   "execution_count": 10,
   "metadata": {
    "scrolled": true
   },
   "outputs": [
    {
     "name": "stdout",
     "output_type": "stream",
     "text": [
      "O tamanho do dataframe original é: 3214\n",
      "O tamanho do dataframe de validação é: 643\n",
      "O tamanho do dataframe de teste é: 643\n"
     ]
    }
   ],
   "source": [
    "print(\"O tamanho do dataframe original é:\",features.shape[0])\n",
    "print(\"O tamanho do dataframe de validação é:\",features_valid.shape[0])\n",
    "print(\"O tamanho do dataframe de teste é:\",features_test.shape[0])"
   ]
  },
  {
   "cell_type": "markdown",
   "metadata": {},
   "source": [
    "# Testar os modelos"
   ]
  },
  {
   "cell_type": "markdown",
   "metadata": {},
   "source": [
    "Este é um problema de classificação. para isso vamos testar 3 modelos diferentes e escolher o melhor com base na acurácia."
   ]
  },
  {
   "cell_type": "markdown",
   "metadata": {},
   "source": [
    "## Árvore de decisão"
   ]
  },
  {
   "cell_type": "code",
   "execution_count": 11,
   "metadata": {},
   "outputs": [
    {
     "name": "stdout",
     "output_type": "stream",
     "text": [
      "A acurácia do melhor modelo é:0.7853810264385692 e a profundidade máxima é:3\n"
     ]
    }
   ],
   "source": [
    "#Vamos criar um loop for para testar com diversas profundidades e escolher a melhor profundidade com base na acurácia\n",
    "d1 = [] #variável para salvar as profundidade\n",
    "result1_acc = [] # variável para salvar as acurácias\n",
    "best_result1 = 0\n",
    "best_model1 =  None\n",
    "best_depth1 = 0\n",
    "\n",
    "#Treinando o modelo e validando no dataframe de validação\n",
    "for depth in range (1,10):\n",
    "    d1.append(depth)\n",
    "    model_1 = DecisionTreeClassifier(max_depth=depth, random_state=12345)\n",
    "    model_1.fit(features_train, target_train)\n",
    "    result_1 = model_1.score(features_valid, target_valid)\n",
    "    result1_acc.append(result_1)\n",
    "    if result_1 > best_result1:\n",
    "        best_result1 = result_1\n",
    "        best_model1 = model_1\n",
    "        best_depth1 = depth\n",
    "print(f\"A acurácia do melhor modelo é:{best_result1} e a profundidade máxima é:{best_depth1}\")    \n",
    "    "
   ]
  },
  {
   "cell_type": "code",
   "execution_count": 12,
   "metadata": {
    "scrolled": true
   },
   "outputs": [
    {
     "data": {
      "image/png": "[encoded data removed]",
      "text/plain": [
       "<Figure size 432x360 with 1 Axes>"
      ]
     },
     "metadata": {
      "needs_background": "light"
     },
     "output_type": "display_data"
    }
   ],
   "source": [
    "fig = plt.figure(figsize=(6,5))\n",
    "plt.plot(d1,result1_acc,\"o-\")\n",
    "plt.title(\"Teste de acurácia\")\n",
    "sns.despine()"
   ]
  },
  {
   "cell_type": "markdown",
   "metadata": {},
   "source": [
    "Com o auxílio do gráfico podemos ver que após a `profundidade 3` a acurácia é menor, ou seja, não é necessário gastar poder computacional, elevar os custos do projeto e nem o tempo."
   ]
  },
  {
   "cell_type": "code",
   "execution_count": 13,
   "metadata": {},
   "outputs": [
    {
     "name": "stdout",
     "output_type": "stream",
     "text": [
      "A acurácia aplicada para o dataframe de teste é:0.7822706065318819\n"
     ]
    }
   ],
   "source": [
    "#Testando o modelo, com a melhor acurácia, no dataframe de teste\n",
    "model1 = DecisionTreeClassifier(max_depth=3, random_state=12345)\n",
    "model1.fit(features_train, target_train)\n",
    "result1 = model1.score(features_test, target_test) \n",
    "print(f\"A acurácia aplicada para o dataframe de teste é:{result_1}\")"
   ]
  },
  {
   "cell_type": "markdown",
   "metadata": {},
   "source": [
    "## Floresta Aleatória"
   ]
  },
  {
   "cell_type": "markdown",
   "metadata": {},
   "source": [
    "Para floresta aleatória precisamos variar tanto a quantidade de florestas (`n_estimators`) quanto a profundidade(`max_depth`) de cada floresta. Para isso faremos 2 loops `for`."
   ]
  },
  {
   "cell_type": "code",
   "execution_count": 14,
   "metadata": {
    "scrolled": true
   },
   "outputs": [
    {
     "name": "stdout",
     "output_type": "stream",
     "text": [
      "O modelo com a melhor acurácia tem:0.8087091757387247, n_estimators:40 e profundidade máxima:8\n"
     ]
    }
   ],
   "source": [
    "#Iniciar variáveis e testar no dataframe de validação\n",
    "result2_acc = []\n",
    "best_result2 = 0\n",
    "best_model2 = None\n",
    "best_depth2 = 0\n",
    "best_est = 0\n",
    "\n",
    "for est in range (10,51,10):\n",
    "    for depth in range (1,10):\n",
    "        model2 = RandomForestClassifier(random_state=12345, max_depth=depth, n_estimators=est)\n",
    "        model2.fit(features_train, target_train)\n",
    "        result2 = model2.score(features_valid, target_valid)\n",
    "        result2_acc.append(result2)\n",
    "        if result2 > best_result2:\n",
    "            best_result2 = result2\n",
    "            best_model2 = model2\n",
    "            best_depth2 = depth\n",
    "            best_est = est\n",
    "print(f\"O modelo com a melhor acurácia tem:{best_result2}, n_estimators:{best_est} e profundidade máxima:{best_depth2}\")\n",
    "            \n",
    "            \n"
   ]
  },
  {
   "cell_type": "code",
   "execution_count": 15,
   "metadata": {},
   "outputs": [
    {
     "name": "stdout",
     "output_type": "stream",
     "text": [
      "A acurácia no dataframe de teste é:0.7962674961119751\n"
     ]
    }
   ],
   "source": [
    "#Testar no datafram de teste\n",
    "model2 = RandomForestClassifier(n_estimators=40, max_depth=8, random_state=12345)\n",
    "model2.fit(features_train, target_train)\n",
    "result2 = model2.score(features_test, target_test)\n",
    "print(f\"A acurácia no dataframe de teste é:{result2}\")"
   ]
  },
  {
   "cell_type": "markdown",
   "metadata": {},
   "source": [
    "## Regressão Logística"
   ]
  },
  {
   "cell_type": "code",
   "execution_count": 16,
   "metadata": {
    "scrolled": true
   },
   "outputs": [
    {
     "name": "stdout",
     "output_type": "stream",
     "text": [
      "A acurácia é:0.7573872472783826\n"
     ]
    }
   ],
   "source": [
    "model3 = LogisticRegression(random_state=12345, solver='liblinear')\n",
    "model3.fit(features_train, target_train)\n",
    "result_valid = model3.score(features_valid, target_valid)\n",
    "print(f\"A acurácia é:{result_valid}\")\n"
   ]
  },
  {
   "cell_type": "markdown",
   "metadata": {},
   "source": [
    "Para o modelo de Regressão logística não temos ajuste de hiperparâmetros, logo não é feito um treino na validação e encontrado o melhor ajuste para depois testar o modelo no dataframe de teste"
   ]
  },
  {
   "cell_type": "markdown",
   "metadata": {},
   "source": [
    "# A escolha do melhor modelo"
   ]
  },
  {
   "cell_type": "code",
   "execution_count": 17,
   "metadata": {},
   "outputs": [
    {
     "name": "stdout",
     "output_type": "stream",
     "text": [
      "O modelo com maior acurácia é:Floresta Aleatória que teve 0.7962674961119751 de acurácia\n"
     ]
    }
   ],
   "source": [
    "#Criar um dicionário\n",
    "best_result = {\n",
    "    'Árvore de Decisão': result1,\n",
    "    'Floresta Aleatória':result2,\n",
    "    'Regressão Logística':result_valid\n",
    "} \n",
    "\n",
    "#Acessar a chave do maior resultado\n",
    "key = max(best_result, key=best_result.get)\n",
    "\n",
    "#Acessar o maior resultado\n",
    "value = best_result[key]\n",
    "\n",
    "print(f\"O modelo com maior acurácia é:{key} que teve {value} de acurácia\")"
   ]
  },
  {
   "cell_type": "markdown",
   "metadata": {},
   "source": [
    "\n",
    "<div class=\"alert alert-block alert-success\">\n",
    "<b>Comentário Geral do Revisor</b> <a class=\"tocSkip\"></a>\n",
    "\n",
    "Obrigado por enviar seu projeto. \n",
    "    \n",
    "Parabéns, você fez um bom trabalho. No geral, você respondeu corretamente as questões.\n",
    "\n",
    "Como pontos fortes do projeto, destaco:\n",
    "- Código simples e eficiente\n",
    "- Calibração de hiperparâmetros\n",
    "- Ajustou 3 modelos\n",
    "\n",
    "Como sugestaõ:\n",
    "- É importante realizar EDA\n",
    "- A conclusão está breve. É importante desenvolver habilidade para reportar resultados.\n",
    "\n",
    "\n",
    "Conte conosco. Lembre-se de que você pode tirar dúvidas comigo usando os comentários ou buscar ajuda de um tutor.\n",
    "Bom trabalho.\n",
    "\n",
    "</div>"
   ]
  }
 ],
 "metadata": {
  "kernelspec": {
   "display_name": "Python 3 (ipykernel)",
   "language": "python",
   "name": "python3"
  },
  "language_info": {
   "codemirror_mode": {
    "name": "ipython",
    "version": 3
   },
   "file_extension": ".py",
   "mimetype": "text/x-python",
   "name": "python",
   "nbconvert_exporter": "python",
   "pygments_lexer": "ipython3",
   "version": "3.9.19"
  },
  "toc": {
   "base_numbering": 1,
   "nav_menu": {},
   "number_sections": true,
   "sideBar": true,
   "skip_h1_title": true,
   "title_cell": "Table of Contents",
   "title_sidebar": "Contents",
   "toc_cell": false,
   "toc_position": {},
   "toc_section_display": true,
   "toc_window_display": false
  }
 },
 "nbformat": 4,
 "nbformat_minor": 2
}
