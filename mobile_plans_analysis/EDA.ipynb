{
 "cells": [
  {
   "cell_type": "markdown",
   "metadata": {},
   "source": [
    "Olá, Reinner!\n",
    "\n",
    "Meu nome é Luiz. Fico feliz em revisar seu projeto. Ao longo do texto farei algumas observações sobre melhorias no código e também farei comentários sobre suas percepções sobre o assunto. Estarei aberto a feedbacks e discussões sobre o tema.\n",
    "\n",
    "**Peço que mantenha e não altere os comentários que eu fizer por aqui para que possamos nos localizar posteriormente, ok?**\n",
    "\n",
    "Mais uma coisa, vamos utilizar um código de cores para você entender o meu feedback no seu notebook. Funciona assim:\n",
    "\n",
    "<div class=\"alert alert-block alert-success\">\n",
    "<b> Comentário do revisor: </b> <a class=\"tocSkip\"></a>\n",
    "\n",
    "Sucesso. Tudo foi feito corretamente.\n",
    "</div>\n",
    "\n",
    "<div class=\"alert alert-block alert-warning\">\n",
    "<b>Comentário do revisor: </b> <a class=\"tocSkip\"></a>\n",
    "\n",
    "Alerta não crítico, mas que pode ser corrigido para melhoria geral no seu código/análise.\n",
    "</div>\n",
    "\n",
    "<div class=\"alert alert-block alert-danger\">\n",
    "\n",
    "<b>Comentário do revisor: </b> <a class=\"tocSkip\"></a>\n",
    "    \n",
    "Erro que precisa ser arrumado, caso contrário seu projeto **não** será aceito.\n",
    "</div>\n",
    "\n",
    "Você pode interagir comigo através dessa célula:\n",
    "<div class=\"alert alert-block alert-info\">\n",
    "<b>Resposta do Aluno.</b> <a class=\"tocSkip\"></a>\n",
    "</div>\n"
   ]
  },
  {
   "cell_type": "markdown",
   "metadata": {
    "id": "eAkbw7Ueuj8X"
   },
   "source": [
    "# Qual é o melhor plano?\n",
    "\n",
    "Você trabalha como analista para a empresa de telecomunicações Megaline. A empresa oferece aos clientes dois planos pré-pagos: Surf e Ultimate. O departamento comercial quer saber qual dos planos gera mais receita para ajustar o orçamento de publicidade.\n",
    "\n",
    "Você vai realizar uma análise preliminar dos planos com base em uma pequena seleção de clientes. Você terá dados de 500 clientes da Megaline: que clientes são, de onde eles são, qual plano usam e o número de chamadas e mensagens realizadas em 2018. Seu trabalho é analisar o comportamento dos clientes e determinar qual plano pré-pago gera mais receita."
   ]
  },
  {
   "cell_type": "markdown",
   "metadata": {
    "id": "Z_iOKMX_uj8a"
   },
   "source": [
    "[Fornecemos alguns comentários para guiar sua linha de raciocínio enquanto você conclui esse projeto. Entretanto, certifique-se de remover todos os comentários entre colchetes antes de enviar o projeto.]\n",
    "\n",
    "[Antes de mergulhar na análise dos seus dados, explique em suas palavras o propósito do projeto e as ações que planeja realizar.]\n",
    "\n",
    "[Tenha em mente que estudar, modificar e analisar dados é um processo iterativo. É normal retornar a etapas anteriores e corrigir/expandir algo para permitir as próximas etapas.]"
   ]
  },
  {
   "cell_type": "markdown",
   "metadata": {
    "id": "lnomf-3Xuj8b"
   },
   "source": [
    "## Inicialização"
   ]
  },
  {
   "cell_type": "code",
   "execution_count": 86,
   "metadata": {
    "id": "JdJusn5ouj8c"
   },
   "outputs": [],
   "source": [
    "import pandas as pd\n",
    "import numpy as np\n",
    "import math\n",
    "import matplotlib.pyplot as plt\n",
    "from scipy import stats as st\n",
    "\n"
   ]
  },
  {
   "cell_type": "markdown",
   "metadata": {
    "id": "rzqsCrgquj8d"
   },
   "source": [
    "## Carregue os dados"
   ]
  },
  {
   "cell_type": "code",
   "execution_count": 87,
   "metadata": {
    "id": "HmzmQRXIuj8e"
   },
   "outputs": [],
   "source": [
    "calls= pd.read_csv(\"/datasets/megaline_calls.csv\")\n",
    "internet = pd.read_csv(\"/datasets/megaline_internet.csv\")\n",
    "messages = pd.read_csv(\"/datasets/megaline_messages.csv\")\n",
    "plans = pd.read_csv(\"/datasets/megaline_plans.csv\")\n",
    "users = pd.read_csv(\"/datasets/megaline_users.csv\")\n"
   ]
  },
  {
   "cell_type": "markdown",
   "metadata": {
    "id": "XQh-EeiIuj8e"
   },
   "source": [
    "## Prepare os dados"
   ]
  },
  {
   "cell_type": "markdown",
   "metadata": {
    "id": "RmibJmmzuj8e"
   },
   "source": [
    "[Os dados deste projeto estão divididos em várias tabelas. Explore cada uma para obter uma compreensão inicial dos dados. Faça correções em cada tabela, se necessário.]"
   ]
  },
  {
   "cell_type": "markdown",
   "metadata": {
    "id": "TlZUw_Cyuj8f"
   },
   "source": [
    "## Planos"
   ]
  },
  {
   "cell_type": "code",
   "execution_count": 88,
   "metadata": {
    "id": "x9qB5mAOuj8f"
   },
   "outputs": [
    {
     "name": "stdout",
     "output_type": "stream",
     "text": [
      "<class 'pandas.core.frame.DataFrame'>\n",
      "RangeIndex: 2 entries, 0 to 1\n",
      "Data columns (total 8 columns):\n",
      " #   Column                 Non-Null Count  Dtype  \n",
      "---  ------                 --------------  -----  \n",
      " 0   messages_included      2 non-null      int64  \n",
      " 1   mb_per_month_included  2 non-null      int64  \n",
      " 2   minutes_included       2 non-null      int64  \n",
      " 3   usd_monthly_pay        2 non-null      int64  \n",
      " 4   usd_per_gb             2 non-null      int64  \n",
      " 5   usd_per_message        2 non-null      float64\n",
      " 6   usd_per_minute         2 non-null      float64\n",
      " 7   plan_name              2 non-null      object \n",
      "dtypes: float64(2), int64(5), object(1)\n",
      "memory usage: 256.0+ bytes\n",
      "None\n"
     ]
    }
   ],
   "source": [
    "# Imprima as informações gerais/resumidas sobre o DataFrame dos planos\n",
    "print(plans.info())\n"
   ]
  },
  {
   "cell_type": "code",
   "execution_count": 89,
   "metadata": {
    "id": "9MRo7tyVuj8f"
   },
   "outputs": [
    {
     "name": "stdout",
     "output_type": "stream",
     "text": [
      "   messages_included  mb_per_month_included  minutes_included  \\\n",
      "0                 50                  15360               500   \n",
      "1               1000                  30720              3000   \n",
      "\n",
      "   usd_monthly_pay  usd_per_gb  usd_per_message  usd_per_minute plan_name  \n",
      "0               20          10             0.03            0.03      surf  \n",
      "1               70           7             0.01            0.01  ultimate  \n"
     ]
    }
   ],
   "source": [
    "# Imprima uma amostra de dados dos planos\n",
    "print(plans.head())\n"
   ]
  },
  {
   "cell_type": "markdown",
   "metadata": {
    "id": "P8hzr-lquj8f"
   },
   "source": [
    "- Sem dados ausentes\n",
    "- A coluna plan name é a única variável categórica"
   ]
  },
  {
   "cell_type": "markdown",
   "metadata": {},
   "source": [
    "<div class=\"alert alert-block alert-success\">\n",
    "<b> Comentário do revisor: </b> <a class=\"tocSkip\"></a>\n",
    "\n",
    "Correto. O estudante apresentou corretamente os dados de `planos`.\n",
    "\n",
    "</div>"
   ]
  },
  {
   "cell_type": "markdown",
   "metadata": {
    "id": "KXtaxmKsuj8f"
   },
   "source": [
    "## Corrija os dados & 1.6 Enriquecimento dos dados\n"
   ]
  },
  {
   "cell_type": "markdown",
   "metadata": {
    "id": "9BWuM80Buj8f"
   },
   "source": [
    "- Sem linhas ausentes e correções a serem aplicadas ou fatores adicionais a serem incluídos"
   ]
  },
  {
   "cell_type": "markdown",
   "metadata": {
    "id": "YJg2O9qjuj8g"
   },
   "source": [
    "## Usuários"
   ]
  },
  {
   "cell_type": "code",
   "execution_count": 90,
   "metadata": {
    "id": "7JzxwD2juj8g"
   },
   "outputs": [
    {
     "name": "stdout",
     "output_type": "stream",
     "text": [
      "<class 'pandas.core.frame.DataFrame'>\n",
      "RangeIndex: 500 entries, 0 to 499\n",
      "Data columns (total 8 columns):\n",
      " #   Column      Non-Null Count  Dtype \n",
      "---  ------      --------------  ----- \n",
      " 0   user_id     500 non-null    int64 \n",
      " 1   first_name  500 non-null    object\n",
      " 2   last_name   500 non-null    object\n",
      " 3   age         500 non-null    int64 \n",
      " 4   city        500 non-null    object\n",
      " 5   reg_date    500 non-null    object\n",
      " 6   plan        500 non-null    object\n",
      " 7   churn_date  34 non-null     object\n",
      "dtypes: int64(2), object(6)\n",
      "memory usage: 31.4+ KB\n",
      "None\n"
     ]
    }
   ],
   "source": [
    "# Imprima as informações gerais/resumidas sobre o DataFrame dos usuários\n",
    "print(users.info())"
   ]
  },
  {
   "cell_type": "code",
   "execution_count": 91,
   "metadata": {
    "id": "5KZ8XmD8uj8g"
   },
   "outputs": [
    {
     "name": "stdout",
     "output_type": "stream",
     "text": [
      "   user_id first_name  last_name  age                                   city  \\\n",
      "0     1000   Anamaria      Bauer   45  Atlanta-Sandy Springs-Roswell, GA MSA   \n",
      "1     1001     Mickey  Wilkerson   28        Seattle-Tacoma-Bellevue, WA MSA   \n",
      "2     1002     Carlee    Hoffman   36   Las Vegas-Henderson-Paradise, NV MSA   \n",
      "3     1003   Reynaldo    Jenkins   52                          Tulsa, OK MSA   \n",
      "4     1004    Leonila   Thompson   40        Seattle-Tacoma-Bellevue, WA MSA   \n",
      "\n",
      "     reg_date      plan churn_date  \n",
      "0  2018-12-24  ultimate        NaN  \n",
      "1  2018-08-13      surf        NaN  \n",
      "2  2018-10-21      surf        NaN  \n",
      "3  2018-01-28      surf        NaN  \n",
      "4  2018-05-23      surf        NaN  \n"
     ]
    }
   ],
   "source": [
    "# Imprima uma amostra de dados dos usuários\n",
    "print(users.head())"
   ]
  },
  {
   "cell_type": "markdown",
   "metadata": {},
   "source": [
    "Verificar se existem dados duplicados"
   ]
  },
  {
   "cell_type": "code",
   "execution_count": 92,
   "metadata": {},
   "outputs": [
    {
     "name": "stdout",
     "output_type": "stream",
     "text": [
      "Empty DataFrame\n",
      "Columns: [user_id, first_name, last_name, age, city, reg_date, plan, churn_date]\n",
      "Index: []\n"
     ]
    }
   ],
   "source": [
    "print(users[users.duplicated(subset='user_id')==True])"
   ]
  },
  {
   "cell_type": "markdown",
   "metadata": {
    "id": "XGCgkfLvuj8h"
   },
   "source": [
    "- Não tem dados ausentes. \n",
    "- Não tem valores duplicados\n",
    "- A coluna reg_dat está como object, mas poderia estar como datetime. Caso queiramos extrair informações como mês e dia, isso facilitaria\n",
    "- Converter a coluna churn_date para datetime também"
   ]
  },
  {
   "cell_type": "markdown",
   "metadata": {},
   "source": [
    "<div class=\"alert alert-block alert-success\">\n",
    "<b> Comentário do revisor: </b> <a class=\"tocSkip\"></a>\n",
    "\n",
    "Correto. O estudante analisou os dados de `usuários`.\n",
    "\n",
    "</div>"
   ]
  },
  {
   "cell_type": "markdown",
   "metadata": {
    "id": "ppiEfe3luj8i"
   },
   "source": [
    "### Corrija os dados"
   ]
  },
  {
   "cell_type": "markdown",
   "metadata": {
    "id": "os4Gubp_uj8j"
   },
   "source": [
    "Convertendo as colunas `reg_date`e `churn_date` para o formato datetime"
   ]
  },
  {
   "cell_type": "code",
   "execution_count": 93,
   "metadata": {
    "id": "Oa1XFooouj8j"
   },
   "outputs": [
    {
     "name": "stdout",
     "output_type": "stream",
     "text": [
      "<class 'pandas.core.frame.DataFrame'>\n",
      "RangeIndex: 500 entries, 0 to 499\n",
      "Data columns (total 8 columns):\n",
      " #   Column      Non-Null Count  Dtype         \n",
      "---  ------      --------------  -----         \n",
      " 0   user_id     500 non-null    int64         \n",
      " 1   first_name  500 non-null    object        \n",
      " 2   last_name   500 non-null    object        \n",
      " 3   age         500 non-null    int64         \n",
      " 4   city        500 non-null    object        \n",
      " 5   reg_date    500 non-null    datetime64[ns]\n",
      " 6   plan        500 non-null    object        \n",
      " 7   churn_date  34 non-null     datetime64[ns]\n",
      "dtypes: datetime64[ns](2), int64(2), object(4)\n",
      "memory usage: 31.4+ KB\n",
      "None\n"
     ]
    }
   ],
   "source": [
    "users['reg_date'] = pd.to_datetime(users['reg_date'])\n",
    "users['churn_date']=pd.to_datetime(users['churn_date'])\n",
    "print(users.info())"
   ]
  },
  {
   "cell_type": "markdown",
   "metadata": {
    "id": "H3gpde3Juj8j"
   },
   "source": [
    "### Enriqueça os dados"
   ]
  },
  {
   "cell_type": "markdown",
   "metadata": {
    "id": "HOZyfII6uj8j"
   },
   "source": [
    "Criar a coluna month com a informação do mês relativo a coluna reg_date "
   ]
  },
  {
   "cell_type": "code",
   "execution_count": 94,
   "metadata": {
    "id": "4vuUjT2juj8j"
   },
   "outputs": [
    {
     "name": "stdout",
     "output_type": "stream",
     "text": [
      "   user_id first_name  last_name  age                                   city  \\\n",
      "0     1000   Anamaria      Bauer   45  Atlanta-Sandy Springs-Roswell, GA MSA   \n",
      "1     1001     Mickey  Wilkerson   28        Seattle-Tacoma-Bellevue, WA MSA   \n",
      "2     1002     Carlee    Hoffman   36   Las Vegas-Henderson-Paradise, NV MSA   \n",
      "3     1003   Reynaldo    Jenkins   52                          Tulsa, OK MSA   \n",
      "4     1004    Leonila   Thompson   40        Seattle-Tacoma-Bellevue, WA MSA   \n",
      "\n",
      "    reg_date      plan churn_date  reg_month  \n",
      "0 2018-12-24  ultimate        NaT         12  \n",
      "1 2018-08-13      surf        NaT          8  \n",
      "2 2018-10-21      surf        NaT         10  \n",
      "3 2018-01-28      surf        NaT          1  \n",
      "4 2018-05-23      surf        NaT          5  \n"
     ]
    }
   ],
   "source": [
    "users['reg_month']=users['reg_date'].dt.month\n",
    "print(users.head())"
   ]
  },
  {
   "cell_type": "markdown",
   "metadata": {},
   "source": [
    "<div class=\"alert alert-block alert-success\">\n",
    "<b> Comentário do revisor: </b> <a class=\"tocSkip\"></a>\n",
    "\n",
    "Correto. O estudante converteu os atributos do tipo data e usou acessou o mês usando `.dt.month`.\n",
    "\n",
    "</div>"
   ]
  },
  {
   "cell_type": "markdown",
   "metadata": {
    "id": "f4uSIMuuuj8j"
   },
   "source": [
    "## Chamadas"
   ]
  },
  {
   "cell_type": "code",
   "execution_count": 95,
   "metadata": {
    "id": "hkY01fJnuj8j"
   },
   "outputs": [
    {
     "name": "stdout",
     "output_type": "stream",
     "text": [
      "<class 'pandas.core.frame.DataFrame'>\n",
      "RangeIndex: 137735 entries, 0 to 137734\n",
      "Data columns (total 4 columns):\n",
      " #   Column     Non-Null Count   Dtype  \n",
      "---  ------     --------------   -----  \n",
      " 0   id         137735 non-null  object \n",
      " 1   user_id    137735 non-null  int64  \n",
      " 2   call_date  137735 non-null  object \n",
      " 3   duration   137735 non-null  float64\n",
      "dtypes: float64(1), int64(1), object(2)\n",
      "memory usage: 4.2+ MB\n",
      "None\n"
     ]
    }
   ],
   "source": [
    "# Imprima as informações gerais/resumidas sobre o DataFrame das chamadas\n",
    "\n",
    "print(calls.info())"
   ]
  },
  {
   "cell_type": "code",
   "execution_count": 96,
   "metadata": {
    "id": "wdBwJG5Yuj8k"
   },
   "outputs": [
    {
     "name": "stdout",
     "output_type": "stream",
     "text": [
      "         id  user_id   call_date  duration\n",
      "0   1000_93     1000  2018-12-27      8.52\n",
      "1  1000_145     1000  2018-12-27     13.66\n",
      "2  1000_247     1000  2018-12-27     14.48\n",
      "3  1000_309     1000  2018-12-28      5.76\n",
      "4  1000_380     1000  2018-12-30      4.22\n"
     ]
    }
   ],
   "source": [
    "# Imprima uma amostra de dados das chamadas\n",
    "print(calls.head())"
   ]
  },
  {
   "cell_type": "raw",
   "metadata": {
    "id": "kLcdKu6Duj8g"
   },
   "source": [
    "Verificar a existência de valores duplicados"
   ]
  },
  {
   "cell_type": "code",
   "execution_count": 97,
   "metadata": {},
   "outputs": [
    {
     "name": "stdout",
     "output_type": "stream",
     "text": [
      "Empty DataFrame\n",
      "Columns: [id, user_id, call_date, duration]\n",
      "Index: []\n"
     ]
    }
   ],
   "source": [
    "print(calls[calls.duplicated(subset='id')==True])"
   ]
  },
  {
   "cell_type": "markdown",
   "metadata": {
    "id": "Y8An85-Tuj8k"
   },
   "source": [
    "- Sem valores ausentes.\n",
    "- Sem valores duplicados.\n",
    "- Podemos converter o formato da coluna call_date de object para datetime facilitando assim futuras operações com os \n",
    "valores dos dias e mês\n",
    "- Converter a coluna id para inteiro"
   ]
  },
  {
   "cell_type": "markdown",
   "metadata": {},
   "source": [
    "<div class=\"alert alert-block alert-success\">\n",
    "<b> Comentário do revisor: </b> <a class=\"tocSkip\"></a>\n",
    "\n",
    "Correto. O estudante analisou corretamente os dados de `chamadas`.\n",
    "\n",
    "</div>"
   ]
  },
  {
   "cell_type": "markdown",
   "metadata": {
    "id": "x5a99U4xuj8k"
   },
   "source": [
    "### Corrija os dados"
   ]
  },
  {
   "cell_type": "markdown",
   "metadata": {
    "id": "MQqkU83Xuj8k"
   },
   "source": [
    "Convertendo a coluna call_date para o formato datetime"
   ]
  },
  {
   "cell_type": "code",
   "execution_count": 98,
   "metadata": {
    "id": "lBjdw0Bnuj8l"
   },
   "outputs": [
    {
     "name": "stdout",
     "output_type": "stream",
     "text": [
      "<class 'pandas.core.frame.DataFrame'>\n",
      "RangeIndex: 137735 entries, 0 to 137734\n",
      "Data columns (total 4 columns):\n",
      " #   Column     Non-Null Count   Dtype         \n",
      "---  ------     --------------   -----         \n",
      " 0   id         137735 non-null  object        \n",
      " 1   user_id    137735 non-null  int64         \n",
      " 2   call_date  137735 non-null  datetime64[ns]\n",
      " 3   duration   137735 non-null  float64       \n",
      "dtypes: datetime64[ns](1), float64(1), int64(1), object(1)\n",
      "memory usage: 4.2+ MB\n",
      "None\n"
     ]
    }
   ],
   "source": [
    "calls['call_date']=pd.to_datetime(calls['call_date'])\n",
    "print(calls.info())"
   ]
  },
  {
   "cell_type": "markdown",
   "metadata": {},
   "source": [
    "Converter os valores da coluna id para inteiro"
   ]
  },
  {
   "cell_type": "code",
   "execution_count": 99,
   "metadata": {},
   "outputs": [
    {
     "name": "stdout",
     "output_type": "stream",
     "text": [
      "<class 'pandas.core.frame.DataFrame'>\n",
      "RangeIndex: 137735 entries, 0 to 137734\n",
      "Data columns (total 4 columns):\n",
      " #   Column     Non-Null Count   Dtype         \n",
      "---  ------     --------------   -----         \n",
      " 0   id         137735 non-null  int64         \n",
      " 1   user_id    137735 non-null  int64         \n",
      " 2   call_date  137735 non-null  datetime64[ns]\n",
      " 3   duration   137735 non-null  float64       \n",
      "dtypes: datetime64[ns](1), float64(1), int64(2)\n",
      "memory usage: 4.2 MB\n",
      "None\n"
     ]
    }
   ],
   "source": [
    "calls['id']=calls['id'].astype(int)\n",
    "print(calls.info())"
   ]
  },
  {
   "cell_type": "markdown",
   "metadata": {
    "id": "MFm5xyh4uj8l"
   },
   "source": [
    "### Enriqueça os dados"
   ]
  },
  {
   "cell_type": "markdown",
   "metadata": {
    "id": "Udv2togruj8l"
   },
   "source": [
    "Criar a coluna month com a informação do mês relativo a coluna call_date"
   ]
  },
  {
   "cell_type": "code",
   "execution_count": 100,
   "metadata": {
    "id": "nwOKTgfluj8l"
   },
   "outputs": [
    {
     "name": "stdout",
     "output_type": "stream",
     "text": [
      "        id  user_id  call_date  duration  month\n",
      "0   100093     1000 2018-12-27      8.52     12\n",
      "1  1000145     1000 2018-12-27     13.66     12\n",
      "2  1000247     1000 2018-12-27     14.48     12\n",
      "3  1000309     1000 2018-12-28      5.76     12\n",
      "4  1000380     1000 2018-12-30      4.22     12\n"
     ]
    }
   ],
   "source": [
    "calls['month'] = calls['call_date'].dt.month\n",
    "print(calls.head())"
   ]
  },
  {
   "cell_type": "markdown",
   "metadata": {},
   "source": [
    "<div class=\"alert alert-block alert-success\">\n",
    "<b> Comentário do revisor: </b> <a class=\"tocSkip\"></a>\n",
    "\n",
    "Correto. O estudante transformou corretamente os tipos de dados.\n",
    "\n",
    "</div>"
   ]
  },
  {
   "cell_type": "markdown",
   "metadata": {
    "id": "qLz4FkyRuj8l"
   },
   "source": [
    "## Mensagens"
   ]
  },
  {
   "cell_type": "code",
   "execution_count": 101,
   "metadata": {
    "id": "nFA9DFkCuj8l"
   },
   "outputs": [
    {
     "name": "stdout",
     "output_type": "stream",
     "text": [
      "<class 'pandas.core.frame.DataFrame'>\n",
      "RangeIndex: 76051 entries, 0 to 76050\n",
      "Data columns (total 3 columns):\n",
      " #   Column        Non-Null Count  Dtype \n",
      "---  ------        --------------  ----- \n",
      " 0   id            76051 non-null  object\n",
      " 1   user_id       76051 non-null  int64 \n",
      " 2   message_date  76051 non-null  object\n",
      "dtypes: int64(1), object(2)\n",
      "memory usage: 1.7+ MB\n",
      "None\n"
     ]
    }
   ],
   "source": [
    "# Imprima as informações gerais/resumidas sobre o DataFrame das mensagens\n",
    "print(messages.info())\n"
   ]
  },
  {
   "cell_type": "code",
   "execution_count": 102,
   "metadata": {
    "id": "ysEFBZWxuj8m"
   },
   "outputs": [
    {
     "name": "stdout",
     "output_type": "stream",
     "text": [
      "         id  user_id message_date\n",
      "0  1000_125     1000   2018-12-27\n",
      "1  1000_160     1000   2018-12-31\n",
      "2  1000_223     1000   2018-12-31\n",
      "3  1000_251     1000   2018-12-27\n",
      "4  1000_255     1000   2018-12-26\n"
     ]
    }
   ],
   "source": [
    "# Imprima uma amostra dos dados das mensagens\n",
    "print(messages.head())"
   ]
  },
  {
   "cell_type": "markdown",
   "metadata": {},
   "source": [
    "Verificar se temos dados duplicados"
   ]
  },
  {
   "cell_type": "code",
   "execution_count": 103,
   "metadata": {},
   "outputs": [
    {
     "name": "stdout",
     "output_type": "stream",
     "text": [
      "Empty DataFrame\n",
      "Columns: [id, user_id, message_date]\n",
      "Index: []\n"
     ]
    }
   ],
   "source": [
    "print(messages[messages.duplicated(subset='id')==True])"
   ]
  },
  {
   "cell_type": "markdown",
   "metadata": {
    "id": "GUtt1TqCuj8m"
   },
   "source": [
    "- Sem valores ausentes.\n",
    "- Sem valores duplicados.\n",
    "- Podemos converter o formato da coluna message_date de object para datetime facilitando assim futuras operações com os valores dos dias e mês\n",
    "- Converter a coluna id para inteiro"
   ]
  },
  {
   "cell_type": "markdown",
   "metadata": {
    "id": "tT8N_hc6uj8m"
   },
   "source": [
    "### Corrija os dados"
   ]
  },
  {
   "cell_type": "markdown",
   "metadata": {
    "id": "IgO0SzXKuj8m"
   },
   "source": [
    "convertendo os dados da coluna message_date para datetime"
   ]
  },
  {
   "cell_type": "code",
   "execution_count": 104,
   "metadata": {
    "id": "SpBqbQHCuj8m"
   },
   "outputs": [
    {
     "name": "stdout",
     "output_type": "stream",
     "text": [
      "<class 'pandas.core.frame.DataFrame'>\n",
      "RangeIndex: 76051 entries, 0 to 76050\n",
      "Data columns (total 3 columns):\n",
      " #   Column        Non-Null Count  Dtype         \n",
      "---  ------        --------------  -----         \n",
      " 0   id            76051 non-null  object        \n",
      " 1   user_id       76051 non-null  int64         \n",
      " 2   message_date  76051 non-null  datetime64[ns]\n",
      "dtypes: datetime64[ns](1), int64(1), object(1)\n",
      "memory usage: 1.7+ MB\n",
      "None\n"
     ]
    }
   ],
   "source": [
    "messages['message_date']=pd.to_datetime(messages['message_date'])\n",
    "print(messages.info())"
   ]
  },
  {
   "cell_type": "markdown",
   "metadata": {},
   "source": [
    "Converter os valores da coluna id para inteiro"
   ]
  },
  {
   "cell_type": "code",
   "execution_count": 105,
   "metadata": {},
   "outputs": [
    {
     "name": "stdout",
     "output_type": "stream",
     "text": [
      "<class 'pandas.core.frame.DataFrame'>\n",
      "RangeIndex: 76051 entries, 0 to 76050\n",
      "Data columns (total 3 columns):\n",
      " #   Column        Non-Null Count  Dtype         \n",
      "---  ------        --------------  -----         \n",
      " 0   id            76051 non-null  int64         \n",
      " 1   user_id       76051 non-null  int64         \n",
      " 2   message_date  76051 non-null  datetime64[ns]\n",
      "dtypes: datetime64[ns](1), int64(2)\n",
      "memory usage: 1.7 MB\n",
      "None\n"
     ]
    }
   ],
   "source": [
    "messages['id']=messages['id'].astype(int)\n",
    "print(messages.info())"
   ]
  },
  {
   "cell_type": "markdown",
   "metadata": {
    "id": "feV2Njo9uj8n"
   },
   "source": [
    "### Enriqueça os dados"
   ]
  },
  {
   "cell_type": "markdown",
   "metadata": {
    "id": "KA5XDEoZuj8n"
   },
   "source": [
    "Criar a coluna month com a informação do mês relativo a coluna message_date"
   ]
  },
  {
   "cell_type": "code",
   "execution_count": 106,
   "metadata": {
    "id": "SkuCXcLJuj8n"
   },
   "outputs": [
    {
     "name": "stdout",
     "output_type": "stream",
     "text": [
      "        id  user_id message_date  month\n",
      "0  1000125     1000   2018-12-27     12\n",
      "1  1000160     1000   2018-12-31     12\n",
      "2  1000223     1000   2018-12-31     12\n",
      "3  1000251     1000   2018-12-27     12\n",
      "4  1000255     1000   2018-12-26     12\n"
     ]
    }
   ],
   "source": [
    "messages['month']=messages['message_date'].dt.month\n",
    "print(messages.head())"
   ]
  },
  {
   "cell_type": "markdown",
   "metadata": {},
   "source": [
    "<div class=\"alert alert-block alert-success\">\n",
    "<b> Comentário do revisor: </b> <a class=\"tocSkip\"></a>\n",
    "\n",
    "Correto. O estudante executou as seguintes etapas:\n",
    "- Explorou o conjunto de dados de mensagens usando métodos `head()` e `info()`\n",
    "- Verificou a existência de duplicados e valores ausentes\n",
    "- Transformou os tipos de dados\n",
    "- Acessou o mês da data usando `.dt.month`\n",
    "\n",
    "</div>"
   ]
  },
  {
   "cell_type": "markdown",
   "metadata": {
    "id": "ZRFaOWzGuj8n"
   },
   "source": [
    "## Internet"
   ]
  },
  {
   "cell_type": "code",
   "execution_count": 107,
   "metadata": {
    "id": "ob3-qv4nuj8n"
   },
   "outputs": [
    {
     "name": "stdout",
     "output_type": "stream",
     "text": [
      "<class 'pandas.core.frame.DataFrame'>\n",
      "RangeIndex: 104825 entries, 0 to 104824\n",
      "Data columns (total 4 columns):\n",
      " #   Column        Non-Null Count   Dtype  \n",
      "---  ------        --------------   -----  \n",
      " 0   id            104825 non-null  object \n",
      " 1   user_id       104825 non-null  int64  \n",
      " 2   session_date  104825 non-null  object \n",
      " 3   mb_used       104825 non-null  float64\n",
      "dtypes: float64(1), int64(1), object(2)\n",
      "memory usage: 3.2+ MB\n",
      "None\n"
     ]
    }
   ],
   "source": [
    "# Imprima as informações gerais/resumidas sobre o DataFrame da internet\n",
    "\n",
    "print(internet.info())"
   ]
  },
  {
   "cell_type": "code",
   "execution_count": 108,
   "metadata": {
    "id": "iIHK4fZsuj8n"
   },
   "outputs": [
    {
     "name": "stdout",
     "output_type": "stream",
     "text": [
      "         id  user_id session_date  mb_used\n",
      "0   1000_13     1000   2018-12-29    89.86\n",
      "1  1000_204     1000   2018-12-31     0.00\n",
      "2  1000_379     1000   2018-12-28   660.40\n",
      "3  1000_413     1000   2018-12-26   270.99\n",
      "4  1000_442     1000   2018-12-27   880.22\n"
     ]
    }
   ],
   "source": [
    "#  Imprima uma amostra de dados para o tráfego da internet\n",
    "\n",
    "print(internet.head())"
   ]
  },
  {
   "cell_type": "markdown",
   "metadata": {},
   "source": [
    "Verificar se existem dados duplicados"
   ]
  },
  {
   "cell_type": "code",
   "execution_count": 109,
   "metadata": {},
   "outputs": [
    {
     "name": "stdout",
     "output_type": "stream",
     "text": [
      "Empty DataFrame\n",
      "Columns: [id, user_id, session_date, mb_used]\n",
      "Index: []\n"
     ]
    }
   ],
   "source": [
    "print(internet[internet.duplicated(subset='id')==True])"
   ]
  },
  {
   "cell_type": "markdown",
   "metadata": {
    "id": "6wpo7ugquj8o"
   },
   "source": [
    "- Sem valores ausentes.\n",
    "- Sem valores duplicados\n",
    "- Podemos converter o formato da coluna session_date de object para datetime facilitando assim futuras operações com os valores dos dias e mês\n",
    "- Converter a coluna id para inteiro"
   ]
  },
  {
   "cell_type": "markdown",
   "metadata": {
    "id": "Tly90YrTuj8o"
   },
   "source": [
    "### Corrija os dados"
   ]
  },
  {
   "cell_type": "markdown",
   "metadata": {
    "id": "F_yvcX-9uj8o"
   },
   "source": [
    "Converter a coluna session_date para o formato datetime"
   ]
  },
  {
   "cell_type": "code",
   "execution_count": 110,
   "metadata": {
    "id": "GCoX7kbmuj8o"
   },
   "outputs": [
    {
     "name": "stdout",
     "output_type": "stream",
     "text": [
      "<class 'pandas.core.frame.DataFrame'>\n",
      "RangeIndex: 104825 entries, 0 to 104824\n",
      "Data columns (total 4 columns):\n",
      " #   Column        Non-Null Count   Dtype         \n",
      "---  ------        --------------   -----         \n",
      " 0   id            104825 non-null  object        \n",
      " 1   user_id       104825 non-null  int64         \n",
      " 2   session_date  104825 non-null  datetime64[ns]\n",
      " 3   mb_used       104825 non-null  float64       \n",
      "dtypes: datetime64[ns](1), float64(1), int64(1), object(1)\n",
      "memory usage: 3.2+ MB\n",
      "None\n"
     ]
    }
   ],
   "source": [
    "internet['session_date']=pd.to_datetime(internet['session_date'])\n",
    "print(internet.info())"
   ]
  },
  {
   "cell_type": "markdown",
   "metadata": {},
   "source": [
    "Converter os valores da coluna id para inteiro"
   ]
  },
  {
   "cell_type": "code",
   "execution_count": 111,
   "metadata": {},
   "outputs": [
    {
     "name": "stdout",
     "output_type": "stream",
     "text": [
      "<class 'pandas.core.frame.DataFrame'>\n",
      "RangeIndex: 104825 entries, 0 to 104824\n",
      "Data columns (total 4 columns):\n",
      " #   Column        Non-Null Count   Dtype         \n",
      "---  ------        --------------   -----         \n",
      " 0   id            104825 non-null  int64         \n",
      " 1   user_id       104825 non-null  int64         \n",
      " 2   session_date  104825 non-null  datetime64[ns]\n",
      " 3   mb_used       104825 non-null  float64       \n",
      "dtypes: datetime64[ns](1), float64(1), int64(2)\n",
      "memory usage: 3.2 MB\n",
      "None\n"
     ]
    }
   ],
   "source": [
    "internet['id']=internet['id'].astype(int)\n",
    "print(internet.info())"
   ]
  },
  {
   "cell_type": "markdown",
   "metadata": {
    "id": "DEDbrtFduj8o"
   },
   "source": [
    "### Enriqueça os dados"
   ]
  },
  {
   "cell_type": "markdown",
   "metadata": {
    "id": "ilg-XzXpuj8p"
   },
   "source": [
    "Criar a coluna month com a informação do mês relativo a coluna message_date"
   ]
  },
  {
   "cell_type": "code",
   "execution_count": 112,
   "metadata": {
    "id": "f1PoZ3Ukuj8p"
   },
   "outputs": [
    {
     "name": "stdout",
     "output_type": "stream",
     "text": [
      "        id  user_id session_date  mb_used  month\n",
      "0   100013     1000   2018-12-29    89.86     12\n",
      "1  1000204     1000   2018-12-31     0.00     12\n",
      "2  1000379     1000   2018-12-28   660.40     12\n",
      "3  1000413     1000   2018-12-26   270.99     12\n",
      "4  1000442     1000   2018-12-27   880.22     12\n"
     ]
    }
   ],
   "source": [
    "internet['month']=internet['session_date'].dt.month\n",
    "print(internet.head())"
   ]
  },
  {
   "cell_type": "markdown",
   "metadata": {},
   "source": [
    "<div class=\"alert alert-block alert-success\">\n",
    "<b> Comentário do revisor: </b> <a class=\"tocSkip\"></a>\n",
    "\n",
    "Correto. O estudante executou as seguintes etapas:\n",
    "- Explorou o conjunto de dados de internet usando métodos `head()` e `info()`\n",
    "- Verificou a existência de duplicados e valores ausentes\n",
    "- Transformou os tipos de dados\n",
    "- Acessou o mês da data usando `.dt.month`\n",
    "\n",
    "</div>"
   ]
  },
  {
   "cell_type": "markdown",
   "metadata": {
    "id": "bnOX4ARJuj8p"
   },
   "source": [
    "## Estude as condições dos planos"
   ]
  },
  {
   "cell_type": "markdown",
   "metadata": {
    "id": "vMu9_L8quj8p"
   },
   "source": [
    "[É fundamental entender como os planos funcionam e como são as cobranças dos usuários com base na assinatura. Sugerimos imprimir as informações do plano para visualizar novamente as condições.]"
   ]
  },
  {
   "cell_type": "code",
   "execution_count": 113,
   "metadata": {
    "id": "vMXVndWEuj8p"
   },
   "outputs": [
    {
     "name": "stdout",
     "output_type": "stream",
     "text": [
      "   messages_included  mb_per_month_included  minutes_included  \\\n",
      "0                 50                  15360               500   \n",
      "1               1000                  30720              3000   \n",
      "\n",
      "   usd_monthly_pay  usd_per_gb  usd_per_message  usd_per_minute plan_name  \n",
      "0               20          10             0.03            0.03      surf  \n",
      "1               70           7             0.01            0.01  ultimate  \n"
     ]
    }
   ],
   "source": [
    "# Imprima as condições do plano e certifique-se de que elas fazem sentido para você\n",
    "print(plans.head())\n"
   ]
  },
  {
   "cell_type": "markdown",
   "metadata": {
    "id": "1v1EshDmuj8q"
   },
   "source": [
    "## Agregue os dados por usuário\n",
    "\n",
    "[Agora, como os dados estão limpos, agregue os dados por usuário por período para ter apenas um registro por usuário por período. Isso vai facilitar muito a análise posterior.]"
   ]
  },
  {
   "cell_type": "code",
   "execution_count": 114,
   "metadata": {
    "id": "4hmb2pSPuj8q"
   },
   "outputs": [
    {
     "name": "stdout",
     "output_type": "stream",
     "text": [
      "        id  user_id  call_date  duration  month\n",
      "0   100093     1000 2018-12-27      8.52     12\n",
      "1  1000145     1000 2018-12-27     13.66     12\n",
      "2  1000247     1000 2018-12-27     14.48     12\n",
      "3  1000309     1000 2018-12-28      5.76     12\n",
      "4  1000380     1000 2018-12-30      4.22     12\n"
     ]
    }
   ],
   "source": [
    "# Calcule o número de chamadas feitas por cada usuário por mês. Salve o resultado.\n",
    "\n",
    "print(calls.head())"
   ]
  },
  {
   "cell_type": "markdown",
   "metadata": {},
   "source": [
    "Vamos arrendondar a coluna duration para cima de acordo com a regra do plano. Para isto irei criar uma função de arredondamento"
   ]
  },
  {
   "cell_type": "code",
   "execution_count": 115,
   "metadata": {},
   "outputs": [
    {
     "name": "stdout",
     "output_type": "stream",
     "text": [
      "        id  user_id  call_date  duration  month\n",
      "0   100093     1000 2018-12-27         9     12\n",
      "1  1000145     1000 2018-12-27        14     12\n",
      "2  1000247     1000 2018-12-27        15     12\n",
      "3  1000309     1000 2018-12-28         6     12\n",
      "4  1000380     1000 2018-12-30         5     12\n"
     ]
    }
   ],
   "source": [
    "def ceil_round(value):\n",
    "    return math.ceil(value)\n",
    "\n",
    "#usando a função applu() em conjunto com o ceil_round\n",
    "calls['duration']=calls['duration'].apply(ceil_round)\n",
    "print(calls.head())\n"
   ]
  },
  {
   "cell_type": "code",
   "execution_count": 116,
   "metadata": {},
   "outputs": [
    {
     "name": "stdout",
     "output_type": "stream",
     "text": [
      "user_id  month\n",
      "1267     12       205\n",
      "1329     12       191\n",
      "1382     8        182\n",
      "1240     9        180\n",
      "1365     12       180\n",
      "                 ... \n",
      "1339     11         1\n",
      "         9          1\n",
      "1310     11         1\n",
      "1094     10         1\n",
      "1044     8          1\n",
      "Name: duration, Length: 2258, dtype: int64\n"
     ]
    }
   ],
   "source": [
    "#agrupando por usuário, mês e a quantidade de chamadas feitas\n",
    "#ordenando a partir do usuário que fez o maior número de chamadas\n",
    "calls_grouped=calls.groupby(['user_id','month'])['duration']\n",
    "calls_count = calls_grouped.count()\n",
    "print(calls_count.sort_values(ascending=False))\n"
   ]
  },
  {
   "cell_type": "code",
   "execution_count": 117,
   "metadata": {
    "id": "yHgBWCJJuj8q"
   },
   "outputs": [
    {
     "name": "stdout",
     "output_type": "stream",
     "text": [
      "      user_id  month  duration\n",
      "1242     1267     12      1510\n",
      "1487     1329     12      1369\n",
      "1669     1365     12      1357\n",
      "1459     1324     11      1304\n",
      "1737     1382     12      1295\n",
      "...       ...    ...       ...\n",
      "1383     1306     11         6\n",
      "1905     1414      8         4\n",
      "1539     1339      9         2\n",
      "432      1094     10         0\n",
      "1873     1407     11         0\n",
      "\n",
      "[2258 rows x 3 columns]\n"
     ]
    }
   ],
   "source": [
    "# Calcule a quantidade de minutos gastos por cada usuário por mês. Salve o resultado.\n",
    "calls_sum=calls_grouped.sum().reset_index()\n",
    "print(calls_sum.sort_values(by='duration',ascending=False))\n"
   ]
  },
  {
   "cell_type": "code",
   "execution_count": 118,
   "metadata": {
    "id": "MaM_cPxauj8q"
   },
   "outputs": [
    {
     "name": "stdout",
     "output_type": "stream",
     "text": [
      "   user_id  month  messages\n",
      "0     1000     12        11\n",
      "1     1001      8        30\n",
      "2     1001      9        44\n",
      "3     1001     10        53\n",
      "4     1001     11        36\n"
     ]
    }
   ],
   "source": [
    "# Calcule o número de mensagens enviadas por cada usuário por mês. Salve o resultado.\n",
    "messages_grouped=messages.groupby(['user_id','month'])\n",
    "messages_count=messages_grouped['id'].count().reset_index().rename(columns={'id':'messages'})\n",
    "print(messages_count.head())\n"
   ]
  },
  {
   "cell_type": "code",
   "execution_count": 119,
   "metadata": {
    "id": "WsCEZJ_xuj8q"
   },
   "outputs": [
    {
     "name": "stdout",
     "output_type": "stream",
     "text": [
      "   user_id  month   mb_used\n",
      "0     1000     12   1901.47\n",
      "1     1001      8   6919.15\n",
      "2     1001      9  13314.82\n",
      "3     1001     10  22330.49\n",
      "4     1001     11  18504.30\n"
     ]
    }
   ],
   "source": [
    "# Calcule o volume de tráfego de internet usado por cada usuário por mês. Salve o resultado.\n",
    "internet_grouped=internet.groupby(['user_id','month'])['mb_used']\n",
    "internet_sum=internet_grouped.sum().reset_index()\n",
    "print(internet_sum.head())\n"
   ]
  },
  {
   "cell_type": "markdown",
   "metadata": {},
   "source": [
    "Segundo a regra do plano: o total do mês é arredondado para cima. Vamos realizar este arredondamento."
   ]
  },
  {
   "cell_type": "code",
   "execution_count": 120,
   "metadata": {},
   "outputs": [
    {
     "name": "stdout",
     "output_type": "stream",
     "text": [
      "   user_id  month  mb_used\n",
      "0     1000     12   2048.0\n",
      "1     1001      8   7168.0\n",
      "2     1001      9  14336.0\n",
      "3     1001     10  22528.0\n",
      "4     1001     11  19456.0\n"
     ]
    }
   ],
   "source": [
    "#Precisamos arredondar os valores de consumo de internet(mb_used) para o múltiplo de 1024 (1 gb = 1024 mb) mais próximo acima.\n",
    "#utilizando a função math.ceil vamos arredondar o resultado da divisão do valor pelo múltiplo para o interiro mais próximo\n",
    "#Multiplicando esse resultado por 1000 teremos o valor na mesma unidade de medida (mb)\n",
    "\n",
    "for index,row in internet_sum.iterrows():\n",
    "    internet_sum.at[index,'mb_used']=math.ceil(row['mb_used']/1024)*1024\n",
    "print(internet_sum.head())\n",
    "    \n"
   ]
  },
  {
   "cell_type": "code",
   "execution_count": 121,
   "metadata": {
    "id": "BYDTkxOauj8r"
   },
   "outputs": [
    {
     "name": "stdout",
     "output_type": "stream",
     "text": [
      "      user_id  month  duration\n",
      "0        1000     12       124\n",
      "1        1001      8       182\n",
      "2        1001      9       315\n",
      "3        1001     10       393\n",
      "4        1001     11       426\n",
      "...       ...    ...       ...\n",
      "2253     1498     12       339\n",
      "2254     1499      9       346\n",
      "2255     1499     10       385\n",
      "2256     1499     11       308\n",
      "2257     1499     12       496\n",
      "\n",
      "[2258 rows x 3 columns]\n",
      "\n",
      "      user_id  month  messages\n",
      "0        1000     12        11\n",
      "1        1001      8        30\n",
      "2        1001      9        44\n",
      "3        1001     10        53\n",
      "4        1001     11        36\n",
      "...       ...    ...       ...\n",
      "1801     1496      9        21\n",
      "1802     1496     10        18\n",
      "1803     1496     11        13\n",
      "1804     1496     12        11\n",
      "1805     1497     12        50\n",
      "\n",
      "[1806 rows x 3 columns]\n",
      "\n",
      "      user_id  month  mb_used\n",
      "0        1000     12   2048.0\n",
      "1        1001      8   7168.0\n",
      "2        1001      9  14336.0\n",
      "3        1001     10  22528.0\n",
      "4        1001     11  19456.0\n",
      "...       ...    ...      ...\n",
      "2272     1498     12  23552.0\n",
      "2273     1499      9  13312.0\n",
      "2274     1499     10  20480.0\n",
      "2275     1499     11  17408.0\n",
      "2276     1499     12  22528.0\n",
      "\n",
      "[2277 rows x 3 columns]\n",
      "      user_id  month  duration  messages  mb_used\n",
      "0        1000     12     124.0      11.0   2048.0\n",
      "1        1001      8     182.0      30.0   7168.0\n",
      "2        1001      9     315.0      44.0  14336.0\n",
      "3        1001     10     393.0      53.0  22528.0\n",
      "4        1001     11     426.0      36.0  19456.0\n",
      "...       ...    ...       ...       ...      ...\n",
      "2288     1349     12       NaN      61.0  13312.0\n",
      "2289     1361      5       NaN       2.0   2048.0\n",
      "2290     1482     10       NaN       2.0      NaN\n",
      "2291     1108     12       NaN       NaN   1024.0\n",
      "2292     1311      6       NaN       NaN   2048.0\n",
      "\n",
      "[2293 rows x 5 columns]\n"
     ]
    }
   ],
   "source": [
    "# Junte os dados de chamadas, minutos, mensagens e internet com base em user_id e month\n",
    "print(calls_sum)\n",
    "print()\n",
    "print(messages_count)\n",
    "print()\n",
    "print(internet_sum)\n",
    "user_profile = calls_sum.merge(messages_count,on=['user_id','month'],how='outer')\n",
    "user_profile = user_profile.merge(internet_sum,on=['user_id','month'],how='outer')\n",
    "print(user_profile)"
   ]
  },
  {
   "cell_type": "markdown",
   "metadata": {},
   "source": [
    "<div class=\"alert alert-block alert-danger\">\n",
    "<b> Comentário do revisor: </b> <a class=\"tocSkip\"></a>\n",
    "    \n",
    "<s>Aqui você está fazendo o join entre os conjuntos de dados usando o `inner`, porém essa estratégia irá fazer um filtro na tabela resultante para manter somente os usuários que existem nos dois casos e também fizeram uma ação no mesmo mês. Por exemplo, você irá manter somente usuários que fizeram chamada e enviaram mensagem. O que acontece se um usuário enviou mensagem mas não teve nenhuma ligação naquele mês?</s>\n",
    "\n",
    "<br>\n",
    "\n",
    "<s>Para fazer esse merge, use o `outer` para preservar os dados de todos os conjuntos de dados. Essa figura mostra o que é executado em cada tipo de operação: https://miro.medium.com/v2/resize:fit:1400/format:webp/1*9eH1_7VbTZPZd9jBiGIyNA.png. Repare que essa etapa pode mudar completamente o resto da sua análise.</s>\n",
    "    \n",
    "<br>\n",
    "    \n",
    "<s>Separe também a execução das funções `merge` em mais de uma chamada para melhor legibilidade do código.</s>\n",
    "\n",
    "</div>"
   ]
  },
  {
   "cell_type": "markdown",
   "metadata": {},
   "source": [
    "<div class=\"alert alert-block alert-success\">\n",
    "<b> Comentário geral do revisor v2</b> <a class=\"tocSkip\"></a>\n",
    "\n",
    "Perfeito!\n",
    "\n",
    "</div>\n"
   ]
  },
  {
   "cell_type": "code",
   "execution_count": 122,
   "metadata": {
    "id": "SW-sgLaHuj8r"
   },
   "outputs": [
    {
     "name": "stdout",
     "output_type": "stream",
     "text": [
      "      user_id  month  duration  messages  mb_used plan_name  \\\n",
      "0        1000     12     124.0      11.0   2048.0  ultimate   \n",
      "1        1006     11      10.0      15.0   3072.0  ultimate   \n",
      "2        1006     12      59.0     139.0  32768.0  ultimate   \n",
      "3        1008     10     476.0      21.0  17408.0  ultimate   \n",
      "4        1008     11     446.0      37.0  24576.0  ultimate   \n",
      "...       ...    ...       ...       ...      ...       ...   \n",
      "2288     1194     12       NaN      56.0  31744.0      surf   \n",
      "2289     1349     10       NaN      76.0  13312.0      surf   \n",
      "2290     1349     11       NaN      72.0  17408.0      surf   \n",
      "2291     1349     12       NaN      61.0  13312.0      surf   \n",
      "2292     1361      5       NaN       2.0   2048.0      surf   \n",
      "\n",
      "                                        city  messages_included  \\\n",
      "0      Atlanta-Sandy Springs-Roswell, GA MSA               1000   \n",
      "1     San Francisco-Oakland-Berkeley, CA MSA               1000   \n",
      "2     San Francisco-Oakland-Berkeley, CA MSA               1000   \n",
      "3          Orlando-Kissimmee-Sanford, FL MSA               1000   \n",
      "4          Orlando-Kissimmee-Sanford, FL MSA               1000   \n",
      "...                                      ...                ...   \n",
      "2288  San Jose-Sunnyvale-Santa Clara, CA MSA                 50   \n",
      "2289      Boston-Cambridge-Newton, MA-NH MSA                 50   \n",
      "2290      Boston-Cambridge-Newton, MA-NH MSA                 50   \n",
      "2291      Boston-Cambridge-Newton, MA-NH MSA                 50   \n",
      "2292               Birmingham-Hoover, AL MSA                 50   \n",
      "\n",
      "      mb_per_month_included  minutes_included  usd_monthly_pay  usd_per_gb  \\\n",
      "0                     30720              3000               70           7   \n",
      "1                     30720              3000               70           7   \n",
      "2                     30720              3000               70           7   \n",
      "3                     30720              3000               70           7   \n",
      "4                     30720              3000               70           7   \n",
      "...                     ...               ...              ...         ...   \n",
      "2288                  15360               500               20          10   \n",
      "2289                  15360               500               20          10   \n",
      "2290                  15360               500               20          10   \n",
      "2291                  15360               500               20          10   \n",
      "2292                  15360               500               20          10   \n",
      "\n",
      "      usd_per_message  usd_per_minute  \n",
      "0                0.01            0.01  \n",
      "1                0.01            0.01  \n",
      "2                0.01            0.01  \n",
      "3                0.01            0.01  \n",
      "4                0.01            0.01  \n",
      "...               ...             ...  \n",
      "2288             0.03            0.03  \n",
      "2289             0.03            0.03  \n",
      "2290             0.03            0.03  \n",
      "2291             0.03            0.03  \n",
      "2292             0.03            0.03  \n",
      "\n",
      "[2293 rows x 14 columns]\n"
     ]
    }
   ],
   "source": [
    "# Adicione as informações sobre o plano\n",
    "#Alterar o nome da coluna plan para plan_name para poder ficar igual a coluna da tabela plans\n",
    "user_profile = user_profile.merge(users[['user_id','plan','city']],on ='user_id', how='left')\n",
    "user_profile=user_profile.rename(columns={'plan':'plan_name'})\n",
    "user_profile = user_profile.merge(plans,on='plan_name',how='inner')\n",
    "print(user_profile)"
   ]
  },
  {
   "cell_type": "markdown",
   "metadata": {},
   "source": [
    "Neste caso vou precisar tratar os itens NaN. irei substituir por 0, pois ou não houve ligação, envio de mensagem ou consumo de internet"
   ]
  },
  {
   "cell_type": "code",
   "execution_count": 123,
   "metadata": {},
   "outputs": [
    {
     "name": "stdout",
     "output_type": "stream",
     "text": [
      "Empty DataFrame\n",
      "Columns: [user_id, month, duration, messages, mb_used, plan_name, city, messages_included, mb_per_month_included, minutes_included, usd_monthly_pay, usd_per_gb, usd_per_message, usd_per_minute]\n",
      "Index: []\n"
     ]
    }
   ],
   "source": [
    "#substituindo os valores NaN por 0\n",
    "user_profile['duration']=user_profile['duration'].fillna(0)\n",
    "print(user_profile[user_profile['duration'].isna()==True])"
   ]
  },
  {
   "cell_type": "code",
   "execution_count": 124,
   "metadata": {},
   "outputs": [
    {
     "name": "stdout",
     "output_type": "stream",
     "text": [
      "Empty DataFrame\n",
      "Columns: [user_id, month, duration, messages, mb_used, plan_name, city, messages_included, mb_per_month_included, minutes_included, usd_monthly_pay, usd_per_gb, usd_per_message, usd_per_minute]\n",
      "Index: []\n"
     ]
    }
   ],
   "source": [
    "#substituindo os valores NaN por 0\n",
    "user_profile['messages']=user_profile['messages'].fillna(0)\n",
    "print(user_profile[user_profile['messages'].isna()==True])"
   ]
  },
  {
   "cell_type": "code",
   "execution_count": 125,
   "metadata": {},
   "outputs": [
    {
     "name": "stdout",
     "output_type": "stream",
     "text": [
      "Empty DataFrame\n",
      "Columns: [user_id, month, duration, messages, mb_used, plan_name, city, messages_included, mb_per_month_included, minutes_included, usd_monthly_pay, usd_per_gb, usd_per_message, usd_per_minute]\n",
      "Index: []\n"
     ]
    }
   ],
   "source": [
    "#substituindo os valores NaN por 0\n",
    "user_profile['mb_used']=user_profile['mb_used'].fillna(0)\n",
    "print(user_profile[user_profile['mb_used'].isna()==True])"
   ]
  },
  {
   "cell_type": "markdown",
   "metadata": {},
   "source": [
    "<div class=\"alert alert-block alert-danger\">\n",
    "<b> Comentário do revisor: </b> <a class=\"tocSkip\"></a>\n",
    "    \n",
    "<s>Mesma observação sobre o `join`. Revise essa implementação.</s>\n",
    "\n",
    "</div>"
   ]
  },
  {
   "cell_type": "markdown",
   "metadata": {},
   "source": [
    "Neste caso utilizei o modo inner, pois já tenho o dataframe customizado com as informações, estou apenas acrescentando a informação do nome do plano e dos requisitos do plano. Ou seja, cada usuário tem apenas 1 plano e cada plano tem somente uma base de requisitos."
   ]
  },
  {
   "cell_type": "markdown",
   "metadata": {
    "id": "mU8dKHTQuj8r"
   },
   "source": [
    "[Calcule a receita mensal para cada usuário: subtraia o limite gratuito do pacote do número total de chamadas, mensagens de texto e dados; multiplique o resultado pelo valor do plano de chamadas; adicione o preço mensal dependendo do plano. Importante: isso pode não ser tão trivial quanto apenas algumas linhas, dadas as condições do plano. Portanto, não há problema em gastar algum tempo nisso.]"
   ]
  },
  {
   "cell_type": "code",
   "execution_count": 126,
   "metadata": {
    "id": "JiPHXbQAuj8r"
   },
   "outputs": [
    {
     "name": "stdout",
     "output_type": "stream",
     "text": [
      "      user_id  month  duration  messages  mb_used plan_name  \\\n",
      "0        1000     12     124.0      11.0   2048.0  ultimate   \n",
      "1        1006     11      10.0      15.0   3072.0  ultimate   \n",
      "2        1006     12      59.0     139.0  32768.0  ultimate   \n",
      "3        1008     10     476.0      21.0  17408.0  ultimate   \n",
      "4        1008     11     446.0      37.0  24576.0  ultimate   \n",
      "...       ...    ...       ...       ...      ...       ...   \n",
      "2288     1194     12       0.0      56.0  31744.0      surf   \n",
      "2289     1349     10       0.0      76.0  13312.0      surf   \n",
      "2290     1349     11       0.0      72.0  17408.0      surf   \n",
      "2291     1349     12       0.0      61.0  13312.0      surf   \n",
      "2292     1361      5       0.0       2.0   2048.0      surf   \n",
      "\n",
      "                                        city  messages_included  \\\n",
      "0      Atlanta-Sandy Springs-Roswell, GA MSA               1000   \n",
      "1     San Francisco-Oakland-Berkeley, CA MSA               1000   \n",
      "2     San Francisco-Oakland-Berkeley, CA MSA               1000   \n",
      "3          Orlando-Kissimmee-Sanford, FL MSA               1000   \n",
      "4          Orlando-Kissimmee-Sanford, FL MSA               1000   \n",
      "...                                      ...                ...   \n",
      "2288  San Jose-Sunnyvale-Santa Clara, CA MSA                 50   \n",
      "2289      Boston-Cambridge-Newton, MA-NH MSA                 50   \n",
      "2290      Boston-Cambridge-Newton, MA-NH MSA                 50   \n",
      "2291      Boston-Cambridge-Newton, MA-NH MSA                 50   \n",
      "2292               Birmingham-Hoover, AL MSA                 50   \n",
      "\n",
      "      mb_per_month_included  minutes_included  usd_monthly_pay  usd_per_gb  \\\n",
      "0                     30720              3000               70           7   \n",
      "1                     30720              3000               70           7   \n",
      "2                     30720              3000               70           7   \n",
      "3                     30720              3000               70           7   \n",
      "4                     30720              3000               70           7   \n",
      "...                     ...               ...              ...         ...   \n",
      "2288                  15360               500               20          10   \n",
      "2289                  15360               500               20          10   \n",
      "2290                  15360               500               20          10   \n",
      "2291                  15360               500               20          10   \n",
      "2292                  15360               500               20          10   \n",
      "\n",
      "      usd_per_message  usd_per_minute  total_income  \n",
      "0                0.01            0.01         70.00  \n",
      "1                0.01            0.01         70.00  \n",
      "2                0.01            0.01         84.00  \n",
      "3                0.01            0.01         70.00  \n",
      "4                0.01            0.01         70.00  \n",
      "...               ...             ...           ...  \n",
      "2288             0.03            0.03        180.18  \n",
      "2289             0.03            0.03         20.78  \n",
      "2290             0.03            0.03         40.66  \n",
      "2291             0.03            0.03         20.33  \n",
      "2292             0.03            0.03         20.00  \n",
      "\n",
      "[2293 rows x 15 columns]\n"
     ]
    }
   ],
   "source": [
    "# Calcule a receita mensal para cada usuário\n",
    "#Vamos criar uma função de cálculo\n",
    "#Função filtro do plano\n",
    "#Função income = calcula o valor da receita com base no tipo de gasto(call, messages e internet)\n",
    "\n",
    "def plan_filter(dataframe, plan):\n",
    "    \n",
    "    return dataframe['plan_name'] == plan\n",
    "\n",
    "def income(item, dataframe, plan):\n",
    "    if plan == 'ultimate':\n",
    "        cost = 0.01 #custo adicional plano ultimate\n",
    "        internet_cost = 7 #custo adicional plano ultimate\n",
    "    else:\n",
    "        cost = 0.03  #custo adicional para o plano surf\n",
    "        internet_cost= 10 #custo adicional para o plano surf\n",
    "    if item == 'call':\n",
    "        return np.maximum(0,(dataframe['duration'] - dataframe['minutes_included'])*cost)\n",
    "    elif item == 'message':\n",
    "        return np.maximum(0,(dataframe['messages'] - dataframe['messages_included'])*cost)\n",
    "    elif item == 'internet':\n",
    "        return np.maximum(0,(dataframe['mb_used'] / 1024 - dataframe['mb_per_month_included'] / 1024)*internet_cost)\n",
    "\n",
    "user_profile['total_income'] = np.where(\n",
    "    plan_filter(user_profile, 'ultimate'),\n",
    "    np.maximum(0, income('call', user_profile, 'ultimate') ) +\n",
    "    np.maximum(0, income('message', user_profile, 'ultimate')) +\n",
    "    np.maximum(0, income('internet', user_profile, 'ultimate') + 70),\n",
    "    np.maximum(0, income('call', user_profile, 'surf')) +\n",
    "    np.maximum(0, income('message', user_profile, 'surf')) +\n",
    "    np.maximum(0, income('internet', user_profile, 'surf')+ 20)\n",
    ")\n",
    "                                        \n",
    "print(user_profile)\n"
   ]
  },
  {
   "cell_type": "markdown",
   "metadata": {},
   "source": [
    "<div class=\"alert alert-block alert-warning\">\n",
    "<b> Comentário do revisor: </b> <a class=\"tocSkip\"></a>\n",
    "    \n",
    "Esse trecho ficou um pouco complexo, considere usar uma função para calcular esse atributo de receita. A criação de uma função é uma boa prática também de programação para facilitar reuso de código.\n",
    "\n",
    "</div>"
   ]
  },
  {
   "cell_type": "markdown",
   "metadata": {},
   "source": [
    "<div class=\"alert alert-block alert-success\">\n",
    "<b> Comentário do revisor v2 </b> <a class=\"tocSkip\"></a>\n",
    "    \n",
    "Muito melhor!\n",
    "\n",
    "</div>"
   ]
  },
  {
   "cell_type": "markdown",
   "metadata": {
    "id": "0HFWXKTQuj8r"
   },
   "source": [
    "## Estude o comportamento do usuário"
   ]
  },
  {
   "cell_type": "markdown",
   "metadata": {
    "id": "i6gGFggkuj8s"
   },
   "source": [
    "[Calcule algumas estatísticas descritivas úteis para os dados agregados e unidos, que geralmente revelam uma imagem geral capturada pelos dados. Desenhe gráficos úteis para ajudar na compreensão. Já que a tarefa principal é comparar os planos e decidir qual é mais rentável, as estatísticas e os gráficos devem ser calculados por plano.]\n",
    "\n",
    "[Existem dicas relevantes nos comentários para chamadas, mas elas não são fornecidas para mensagens e internet, embora o princípio do estudo estatístico seja o mesmo para todas.]"
   ]
  },
  {
   "cell_type": "markdown",
   "metadata": {
    "id": "umaMfSLxuj8s"
   },
   "source": [
    "### Chamadas"
   ]
  },
  {
   "cell_type": "markdown",
   "metadata": {},
   "source": [
    "Compare a duração média das chamadas de cada plano para cada mês distinto. Crie um gráfico de barras para visualizá-lo."
   ]
  },
  {
   "cell_type": "code",
   "execution_count": 127,
   "metadata": {
    "id": "0236-tJnuj8t"
   },
   "outputs": [
    {
     "name": "stdout",
     "output_type": "stream",
     "text": [
      "    month  ultimate_duration\n",
      "0       1         193.500000\n",
      "1       2         403.142857\n",
      "2       3         304.250000\n",
      "3       4         336.857143\n",
      "4       5         406.241379\n",
      "5       6         370.957447\n",
      "6       7         427.067797\n",
      "7       8         421.436620\n",
      "8       9         437.511628\n",
      "9      10         450.735849\n",
      "10     11         445.196850\n",
      "11     12         459.099338\n"
     ]
    }
   ],
   "source": [
    "#Filtrar pelo plano ultimate\n",
    "#Agrupar por mês e aplicar a média na coluna duration\n",
    "user_profile_ultimate=user_profile[user_profile['plan_name']=='ultimate']\n",
    "mean_call_ultimate= user_profile_ultimate.groupby(by='month')['duration'].mean().reset_index().rename(columns={'duration':'ultimate_duration'})\n",
    "print(mean_call_ultimate)"
   ]
  },
  {
   "cell_type": "code",
   "execution_count": 128,
   "metadata": {},
   "outputs": [
    {
     "name": "stdout",
     "output_type": "stream",
     "text": [
      "    month  surf_duration\n",
      "0       1     203.000000\n",
      "1       2     297.000000\n",
      "2       3     330.000000\n",
      "3       4     351.540000\n",
      "4       5     399.584416\n",
      "5       6     431.298969\n",
      "6       7     449.983471\n",
      "7       8     410.111111\n",
      "8       9     414.226804\n",
      "9      10     429.729958\n",
      "10     11     423.325088\n",
      "11     12     473.836478\n"
     ]
    }
   ],
   "source": [
    "#Filtrar pelo plano surf\n",
    "#Agrupar por mês e aplicar a média na coluna duration\n",
    "user_profile_surf = user_profile[user_profile['plan_name']=='surf']\n",
    "mean_call_surf= user_profile_surf.groupby(by='month')['duration'].mean().reset_index().rename(columns={'duration':'surf_duration'})\n",
    "print(mean_call_surf)\n"
   ]
  },
  {
   "cell_type": "code",
   "execution_count": 129,
   "metadata": {},
   "outputs": [
    {
     "name": "stdout",
     "output_type": "stream",
     "text": [
      "    month  ultimate_duration  surf_duration\n",
      "0       1         193.500000     203.000000\n",
      "1       2         403.142857     297.000000\n",
      "2       3         304.250000     330.000000\n",
      "3       4         336.857143     351.540000\n",
      "4       5         406.241379     399.584416\n",
      "5       6         370.957447     431.298969\n",
      "6       7         427.067797     449.983471\n",
      "7       8         421.436620     410.111111\n",
      "8       9         437.511628     414.226804\n",
      "9      10         450.735849     429.729958\n",
      "10     11         445.196850     423.325088\n",
      "11     12         459.099338     473.836478\n"
     ]
    }
   ],
   "source": [
    "#Unificar os dois dataframes pela coluna mês\n",
    "mean_call_plan = mean_call_ultimate.merge(mean_call_surf,on='month', how='inner')\n",
    "print(mean_call_plan)"
   ]
  },
  {
   "cell_type": "raw",
   "metadata": {},
   "source": [
    "Criar um gráfico de barras para comparar a duração média das chamadas de cada plan por mês"
   ]
  },
  {
   "cell_type": "code",
   "execution_count": 130,
   "metadata": {
    "scrolled": true
   },
   "outputs": [
    {
     "data": {
      "image/png": "[encoded data removed]",
      "text/plain": [
       "<Figure size 432x288 with 1 Axes>"
      ]
     },
     "metadata": {
      "needs_background": "light"
     },
     "output_type": "display_data"
    }
   ],
   "source": [
    "mean_call_plan.plot(title='Mean duration by plan',kind='bar',x='month'\\\n",
    "                    ,y=['ultimate_duration','surf_duration'],legend=True,ylabel='duration(minutes)')\\\n",
    "                    .legend(['ultimate','surf']) ;"
   ]
  },
  {
   "cell_type": "markdown",
   "metadata": {},
   "source": [
    "Gráficos de linha são melhores para visualizar dados cronologicamente. Além de reduzirmos a saturação, pois antes tinhamos 24 barras e agora apenas 2 linhas\n",
    "Podemos perceber a crescente na duração das chamdas do plano surf frente ao plano ultimate\n"
   ]
  },
  {
   "cell_type": "code",
   "execution_count": 131,
   "metadata": {},
   "outputs": [
    {
     "data": {
      "image/png": "[encoded data removed]",
      "text/plain": [
       "<Figure size 432x288 with 1 Axes>"
      ]
     },
     "metadata": {
      "needs_background": "light"
     },
     "output_type": "display_data"
    }
   ],
   "source": [
    "mean_call_plan.plot(title='Mean duration by plan',x='month'\\\n",
    "                    ,y=['ultimate_duration','surf_duration'],legend=True,ylabel='duration(minutes)')\\\n",
    "                    .legend(['ultimate','surf']);"
   ]
  },
  {
   "cell_type": "markdown",
   "metadata": {},
   "source": [
    "Compare o número de minutos de que os usuários de cada plano necessitam a cada mês. Construa um histograma."
   ]
  },
  {
   "cell_type": "code",
   "execution_count": 132,
   "metadata": {
    "id": "9sCQ1lP8uj8u"
   },
   "outputs": [
    {
     "data": {
      "image/png": "[encoded data removed]",
      "text/plain": [
       "<Figure size 432x288 with 1 Axes>"
      ]
     },
     "metadata": {
      "needs_background": "light"
     },
     "output_type": "display_data"
    }
   ],
   "source": [
    "#Quantidade de minutos para o plano ultimate\n",
    "user_profile_ultimate['duration'].plot(kind='hist',bins=20,title='Ultimate Distribution per minutes');\n"
   ]
  },
  {
   "cell_type": "code",
   "execution_count": 133,
   "metadata": {},
   "outputs": [
    {
     "data": {
      "image/png": "[encoded data removed]",
      "text/plain": [
       "<Figure size 432x288 with 1 Axes>"
      ]
     },
     "metadata": {
      "needs_background": "light"
     },
     "output_type": "display_data"
    }
   ],
   "source": [
    "#Quantidade de minutos para o plano surf\n",
    "user_profile_surf['duration'].plot(kind='hist',bins=20,title='Surf Distribution per minutes');"
   ]
  },
  {
   "cell_type": "markdown",
   "metadata": {},
   "source": [
    "Podemos perceber que os 2 planos tem curvas parecidas simétricas a direita.\n",
    "Mas o plano surf temuma maior quantidade de usuários que utilizam entre 400-500 minutos"
   ]
  },
  {
   "cell_type": "markdown",
   "metadata": {
    "id": "_x1pRDFtuj8u"
   },
   "source": [
    "[Calcule a média e a variável da duração da chamada para raciocinar se os usuários de diferentes planos possuem comportamentos diferentes em suas chamadas.]"
   ]
  },
  {
   "cell_type": "code",
   "execution_count": 134,
   "metadata": {
    "id": "cIdodPExuj8u"
   },
   "outputs": [
    {
     "name": "stdout",
     "output_type": "stream",
     "text": [
      "A média da duração mensal das chamadas para o plano ultimate é: 388 minutos\n",
      "O desvio padrão é: 73.97662403593012\n",
      "A média da duração mensal das chamadas para o plano surf é: 384 minutos\n",
      "O desvio padrão é: 73.27722669360791\n"
     ]
    }
   ],
   "source": [
    "# Calcule a média e a variação da duração mensal das chamadas\n",
    "print('A média da duração mensal das chamadas para o plano ultimate é:',round(mean_call_plan['ultimate_duration'].mean()),'minutos')\n",
    "print('O desvio padrão é:',np.std(mean_call_plan['ultimate_duration']))\n",
    "print('A média da duração mensal das chamadas para o plano surf é:',round(mean_call_plan['surf_duration'].mean()),'minutos')\n",
    "print('O desvio padrão é:',np.std(mean_call_plan['surf_duration']))"
   ]
  },
  {
   "cell_type": "code",
   "execution_count": 135,
   "metadata": {
    "id": "DW7vTypxuj8u"
   },
   "outputs": [
    {
     "data": {
      "image/png": "[encoded data removed]",
      "text/plain": [
       "<Figure size 432x288 with 1 Axes>"
      ]
     },
     "metadata": {
      "needs_background": "light"
     },
     "output_type": "display_data"
    }
   ],
   "source": [
    "# Faça um diagrama de caixa para visualizar a distribuição da duração mensal das chamadas\n",
    "plt.boxplot(mean_call_plan['ultimate_duration'])\n",
    "plt.show()\n"
   ]
  },
  {
   "cell_type": "code",
   "execution_count": 136,
   "metadata": {},
   "outputs": [
    {
     "data": {
      "image/png": "[encoded data removed]",
      "text/plain": [
       "<Figure size 432x288 with 1 Axes>"
      ]
     },
     "metadata": {
      "needs_background": "light"
     },
     "output_type": "display_data"
    }
   ],
   "source": [
    "plt.boxplot(mean_call_plan['surf_duration'])\n",
    "plt.show()\n"
   ]
  },
  {
   "cell_type": "markdown",
   "metadata": {
    "id": "Uyt3rWn7uj8u"
   },
   "source": [
    "[Formule conclusões sobre como os usuários se comportam em termos de chamadas. O comportamento é diferente dependendo do plano?]"
   ]
  },
  {
   "cell_type": "markdown",
   "metadata": {},
   "source": [
    "- Quando olhamos para a média mês a mês percebemos diferença de consumo entre os planos\n",
    "- Ao comparar a média mensal de cada plano não se percebe diferenças\n",
    "- Mas ao analisar a dispersão da média percebemos que o plano surf está mais próximo da média, com uma menor dispersão comparado ao plano ultimate.\n",
    "- A mediana dos 2 está proxima, mas no plano surf a median está mais deslocada para o Q3, o que nos mostra que uma quantidade maior de pessoas (próximo a 75%) utiliza 425 min ou menos\n",
    "- O mínimo para o plano surf é de 300 min, já para o plano ultimate algo próximo de 325 min.\n",
    "- No plano surf não temos outliers, já no plano ultimate temos em 200 min, o que acaba trazendo a média mais para baixo.\n",
    "- Para o plano surf a distribuição fica entre 360 - 440 min \n",
    "- E para o plano ultimate de 400 - 470 min"
   ]
  },
  {
   "cell_type": "markdown",
   "metadata": {},
   "source": [
    "<div class=\"alert alert-block alert-success\">\n",
    "<b> Comentário do revisor: </b> <a class=\"tocSkip\"></a>\n",
    "    \n",
    "Correto. O estudante executou as seguintes etapas:\n",
    "    \n",
    "- Usou corretamente gráficos de barras e linhas para apresentar análises temporais\n",
    "- Usou histogramas e boxplots para analisar a distribuição dos dados\n",
    "- Calculou a média e desvio padrão para as variáveis\n",
    "- Apresentou conclusões pertinentes\n",
    "- Fez o estudo de outliers por plano\n",
    "</div>"
   ]
  },
  {
   "cell_type": "markdown",
   "metadata": {},
   "source": [
    "Com base nessas observações pode-se inferir que temos padrões de comportamento com relação a duração das chamadas diferentes em cada plano"
   ]
  },
  {
   "cell_type": "markdown",
   "metadata": {
    "id": "2hWSPtrnuj8v"
   },
   "source": [
    "### Mensagens"
   ]
  },
  {
   "cell_type": "code",
   "execution_count": 137,
   "metadata": {
    "id": "9kPlAhOJuj8v"
   },
   "outputs": [
    {
     "name": "stdout",
     "output_type": "stream",
     "text": [
      "    month  ultimate_messages\n",
      "0       1               62.0\n",
      "1       2              151.0\n",
      "2       3              243.0\n",
      "3       4              463.0\n",
      "4       5              931.0\n",
      "5       6             1379.0\n",
      "6       7             1937.0\n",
      "7       8             2732.0\n",
      "8       9             3259.0\n",
      "9      10             4181.0\n",
      "10     11             4903.0\n",
      "11     12             6796.0\n"
     ]
    }
   ],
   "source": [
    "# Compare o número de mensagens que os usuários de cada plano tendem a enviar a cada mês\n",
    "messages_month_ultimate=user_profile_ultimate.groupby(by='month')['messages']\\\n",
    "                        .sum().reset_index().rename(columns={'messages':'ultimate_messages'})\n",
    "print(messages_month_ultimate)\n"
   ]
  },
  {
   "cell_type": "code",
   "execution_count": 138,
   "metadata": {},
   "outputs": [
    {
     "name": "stdout",
     "output_type": "stream",
     "text": [
      "    month  surf_messages\n",
      "0       1           21.0\n",
      "1       2          108.0\n",
      "2       3          351.0\n",
      "3       4          870.0\n",
      "4       5         1849.0\n",
      "5       6         2454.0\n",
      "6       7         3271.0\n",
      "7       8         4662.0\n",
      "8       9         5968.0\n",
      "9      10         8020.0\n",
      "10     11         9165.0\n",
      "11     12        12275.0\n"
     ]
    }
   ],
   "source": [
    "messages_month_surf=user_profile_surf.groupby(by='month')['messages']\\\n",
    "                        .sum().reset_index().rename(columns={'messages':'surf_messages'})\n",
    "print(messages_month_surf)"
   ]
  },
  {
   "cell_type": "code",
   "execution_count": 139,
   "metadata": {},
   "outputs": [
    {
     "name": "stdout",
     "output_type": "stream",
     "text": [
      "    month  ultimate_messages  surf_messages\n",
      "0       1               62.0           21.0\n",
      "1       2              151.0          108.0\n",
      "2       3              243.0          351.0\n",
      "3       4              463.0          870.0\n",
      "4       5              931.0         1849.0\n",
      "5       6             1379.0         2454.0\n",
      "6       7             1937.0         3271.0\n",
      "7       8             2732.0         4662.0\n",
      "8       9             3259.0         5968.0\n",
      "9      10             4181.0         8020.0\n",
      "10     11             4903.0         9165.0\n",
      "11     12             6796.0        12275.0\n"
     ]
    }
   ],
   "source": [
    "#Juntando os dois dataframes\n",
    "messages_month=messages_month_ultimate.merge(messages_month_surf,on='month',how='left')\n",
    "print(messages_month)"
   ]
  },
  {
   "cell_type": "markdown",
   "metadata": {},
   "source": [
    "Utilizando gráfico de linha para comparar a quantidade de envio por mês de cada plano"
   ]
  },
  {
   "cell_type": "code",
   "execution_count": 140,
   "metadata": {
    "id": "fIVdRuT6uj8v"
   },
   "outputs": [
    {
     "data": {
      "image/png": "[encoded data removed]",
      "text/plain": [
       "<Figure size 432x288 with 1 Axes>"
      ]
     },
     "metadata": {
      "needs_background": "light"
     },
     "output_type": "display_data"
    }
   ],
   "source": [
    "# Compare a quantidade de tráfego de internet consumido pelos usuários por plano\n",
    "messages_month.plot(title='Messages per month by plan',x='month'\\\n",
    "                    ,y=['ultimate_messages','surf_messages'],ylabel='Quantity messages')\\\n",
    "                    .legend(['ultimate','surf']);\n"
   ]
  },
  {
   "cell_type": "markdown",
   "metadata": {
    "id": "di6wucOLuj8v"
   },
   "source": [
    "- Os 2 planos tem o mesmo padrão de envio de menssagens.\n",
    "- A quantidade de mensagens vai aumentando exponencialmente até o mês 12 (maior quantidade de envio de mensagens dos 2 planos)\n",
    "- O plano surf envia mais mensagens do que o plano ultimate"
   ]
  },
  {
   "cell_type": "markdown",
   "metadata": {
    "id": "v6QELMtcuj8v"
   },
   "source": [
    "[Formule conclusões sobre como os usuários se comportam em termos de mensagens. O comportamento é diferente dependendo do plano?]"
   ]
  },
  {
   "cell_type": "code",
   "execution_count": 141,
   "metadata": {},
   "outputs": [
    {
     "data": {
      "image/png": "[encoded data removed]",
      "text/plain": [
       "<Figure size 432x288 with 1 Axes>"
      ]
     },
     "metadata": {
      "needs_background": "light"
     },
     "output_type": "display_data"
    }
   ],
   "source": [
    "user_profile_ultimate['messages'].plot(kind='hist',bins=20, title='Ultimate monthly distribution');"
   ]
  },
  {
   "cell_type": "markdown",
   "metadata": {},
   "source": [
    "A distribuição é assimétrica a direita. Com maior frequência entre 30-40 mensagens por mês"
   ]
  },
  {
   "cell_type": "code",
   "execution_count": 142,
   "metadata": {},
   "outputs": [
    {
     "data": {
      "image/png": "[encoded data removed]",
      "text/plain": [
       "<Figure size 432x288 with 1 Axes>"
      ]
     },
     "metadata": {
      "needs_background": "light"
     },
     "output_type": "display_data"
    }
   ],
   "source": [
    "user_profile_surf['messages'].plot(kind='hist',bins=20, title='Surf monthly distribution');"
   ]
  },
  {
   "cell_type": "markdown",
   "metadata": {},
   "source": [
    "- Também temos uma distribuição assimétrica a direita, mas mais concentrada na extremidade esquerda. \n",
    "- A distribuição nos mostra que a quantidade de mensagens enviadas é mais distribuídas no plano ultimate do que no plano surf"
   ]
  },
  {
   "cell_type": "code",
   "execution_count": 143,
   "metadata": {},
   "outputs": [
    {
     "name": "stdout",
     "output_type": "stream",
     "text": [
      "A média de mensagens enviadas por mês no plano ultimate é: 2253\n",
      "A variação em torno da média é: 2076\n",
      "A média de mensagens enviadas por mês no plano surf é: 4084\n",
      "A variação em torno da média é: 3843\n"
     ]
    }
   ],
   "source": [
    "print('A média de mensagens enviadas por mês no plano ultimate é:',round(messages_month['ultimate_messages'].mean()))\n",
    "print('A variação em torno da média é:',round(np.std(messages_month['ultimate_messages'])))\n",
    "print('A média de mensagens enviadas por mês no plano surf é:',round(messages_month['surf_messages'].mean()))\n",
    "print('A variação em torno da média é:',round(np.std(messages_month['surf_messages'])))"
   ]
  },
  {
   "cell_type": "code",
   "execution_count": 144,
   "metadata": {},
   "outputs": [
    {
     "data": {
      "image/png": "[encoded data removed]",
      "text/plain": [
       "<Figure size 432x288 with 1 Axes>"
      ]
     },
     "metadata": {
      "needs_background": "light"
     },
     "output_type": "display_data"
    }
   ],
   "source": [
    "plt.boxplot(messages_month['ultimate_messages'])\n",
    "plt.show()"
   ]
  },
  {
   "cell_type": "code",
   "execution_count": 145,
   "metadata": {},
   "outputs": [
    {
     "data": {
      "image/png": "[encoded data removed]",
      "text/plain": [
       "<Figure size 432x288 with 1 Axes>"
      ]
     },
     "metadata": {
      "needs_background": "light"
     },
     "output_type": "display_data"
    }
   ],
   "source": [
    "plt.boxplot(messages_month['surf_messages'])\n",
    "plt.show()"
   ]
  },
  {
   "cell_type": "markdown",
   "metadata": {},
   "source": [
    "Avaliando os 2 boxplots podemos inferir:\n",
    "- A mediana das mensagens do plano ultimate é próximo de 1500 mensagens\n",
    "- Enqunato a mediana do plano surf 3000 mensagens.\n",
    "- Nenhum dos dois tem outliers\n",
    "- 75% dos usuários do plano ultimate enviam menos de 3500 mensagens por mês\n",
    "- Já no plano surf esse número sobe para 6000 mensagens\n",
    "\n",
    "Podendo concluir que os usuários do plano surf enviam mais mensagens que o os usuários do plano ultimate"
   ]
  },
  {
   "cell_type": "markdown",
   "metadata": {},
   "source": [
    "<div class=\"alert alert-block alert-success\">\n",
    "<b> Comentário do revisor: </b> <a class=\"tocSkip\"></a>\n",
    "    \n",
    "Correto. O estudante executou as seguintes etapas:\n",
    "    \n",
    "- Usou corretamente gráficos de barras e linhas para apresentar análises temporais\n",
    "- Usou histogramas e boxplots para analisar a distribuição dos dados\n",
    "- Calculou a média e desvio padrão para as variáveis\n",
    "- Apresentou conclusões pertinentes\n",
    "- Fez o estudo de outliers por plano\n",
    "</div>"
   ]
  },
  {
   "cell_type": "markdown",
   "metadata": {
    "id": "nHUCwAnauj8w"
   },
   "source": [
    "### Internet"
   ]
  },
  {
   "cell_type": "code",
   "execution_count": 146,
   "metadata": {
    "id": "EEm27RaRuj8w"
   },
   "outputs": [
    {
     "name": "stdout",
     "output_type": "stream",
     "text": [
      "    month  ultimate_mb_used\n",
      "0       1           29696.0\n",
      "1       2          123904.0\n",
      "2       3          226304.0\n",
      "3       4          351232.0\n",
      "4       5          500736.0\n",
      "5       6          742400.0\n",
      "6       7          996352.0\n",
      "7       8         1297408.0\n",
      "8       9         1498112.0\n",
      "9      10         1923072.0\n",
      "10     11         2226176.0\n",
      "11     12         2844672.0\n"
     ]
    }
   ],
   "source": [
    "#Quantidade de mb utilizados no plano ultimate por mês\n",
    "internet_ultimate = user_profile_ultimate.groupby(by='month')['mb_used'].sum().reset_index()\\\n",
    "                    .rename(columns={'mb_used':'ultimate_mb_used'})\n",
    "print(internet_ultimate)\n",
    "    "
   ]
  },
  {
   "cell_type": "code",
   "execution_count": 147,
   "metadata": {
    "id": "Detb0wIZuj8w"
   },
   "outputs": [
    {
     "name": "stdout",
     "output_type": "stream",
     "text": [
      "    month  surf_mb_used\n",
      "0       1       10240.0\n",
      "1       2      112640.0\n",
      "2       3      319488.0\n",
      "3       4      625664.0\n",
      "4       5     1113088.0\n",
      "5       6     1538048.0\n",
      "6       7     2091008.0\n",
      "7       8     2800640.0\n",
      "8       9     3315712.0\n",
      "9      10     4225024.0\n",
      "10     11     4761600.0\n",
      "11     12     5939200.0\n"
     ]
    }
   ],
   "source": [
    "#Quantidade de mb utilizados no plano surf por mês\n",
    "internet_surf = user_profile_surf.groupby(by='month')['mb_used'].sum().reset_index()\\\n",
    "                    .rename(columns={'mb_used':'surf_mb_used'})\n",
    "print(internet_surf)\n",
    "    "
   ]
  },
  {
   "cell_type": "markdown",
   "metadata": {
    "id": "1zsw31_cuj8w"
   },
   "source": [
    "O plano de internet segue o mesmo padrão de consumo das mensagens:\n",
    "- O consumo de internet no plano surf é maior que no plano ultimate"
   ]
  },
  {
   "cell_type": "code",
   "execution_count": 148,
   "metadata": {
    "id": "GsHkFpGmuj8w"
   },
   "outputs": [
    {
     "name": "stdout",
     "output_type": "stream",
     "text": [
      "    month  ultimate_mb_used  surf_mb_used\n",
      "0       1           29696.0       10240.0\n",
      "1       2          123904.0      112640.0\n",
      "2       3          226304.0      319488.0\n",
      "3       4          351232.0      625664.0\n",
      "4       5          500736.0     1113088.0\n",
      "5       6          742400.0     1538048.0\n",
      "6       7          996352.0     2091008.0\n",
      "7       8         1297408.0     2800640.0\n",
      "8       9         1498112.0     3315712.0\n",
      "9      10         1923072.0     4225024.0\n",
      "10     11         2226176.0     4761600.0\n",
      "11     12         2844672.0     5939200.0\n"
     ]
    }
   ],
   "source": [
    "#Juntando os dois dataframes\n",
    "internet_month=internet_ultimate.merge(internet_surf,on='month',how='left')\n",
    "print(internet_month)"
   ]
  },
  {
   "cell_type": "code",
   "execution_count": 149,
   "metadata": {},
   "outputs": [
    {
     "data": {
      "image/png": "[encoded data removed]",
      "text/plain": [
       "<Figure size 432x288 with 1 Axes>"
      ]
     },
     "metadata": {
      "needs_background": "light"
     },
     "output_type": "display_data"
    }
   ],
   "source": [
    "#Utilizando do gráfico de linha para comparar o consumo mês por plano\n",
    "internet_month.plot(x='month', y=['ultimate_mb_used','surf_mb_used'],ylabel='Consumption in mb'\\\n",
    "                    ,title='Internet consumption per plan',xlabel='month')\\\n",
    "                    .legend(['Ultimate','Surf']);\n"
   ]
  },
  {
   "cell_type": "code",
   "execution_count": 150,
   "metadata": {},
   "outputs": [
    {
     "data": {
      "image/png": "[encoded data removed]",
      "text/plain": [
       "<Figure size 432x288 with 1 Axes>"
      ]
     },
     "metadata": {
      "needs_background": "light"
     },
     "output_type": "display_data"
    }
   ],
   "source": [
    "user_profile_ultimate['mb_used'].plot(kind='hist',bins=20,title='Distribution of Ultimate internet consumption');"
   ]
  },
  {
   "cell_type": "code",
   "execution_count": 151,
   "metadata": {},
   "outputs": [
    {
     "data": {
      "image/png": "[encoded data removed]",
      "text/plain": [
       "<Figure size 432x288 with 1 Axes>"
      ]
     },
     "metadata": {
      "needs_background": "light"
     },
     "output_type": "display_data"
    }
   ],
   "source": [
    "user_profile_surf['mb_used'].plot(kind='hist',bins=20,title='Distribution of Surf internet consumption');"
   ]
  },
  {
   "cell_type": "markdown",
   "metadata": {},
   "source": [
    "- A curva de distribuição do plano ultimate é normalizada com uma frequência distribuída entre 15-25 gb\n",
    "- A curva do plano surf também é normalizada, mas com uma freqência maior em 15 gb"
   ]
  },
  {
   "cell_type": "code",
   "execution_count": 152,
   "metadata": {},
   "outputs": [
    {
     "name": "stdout",
     "output_type": "stream",
     "text": [
      "A média de consumo de internet por mês no plano ultimate é: 1063339\n",
      "A variação em torno da média é: 870392\n",
      "A média de consumo de internet por mês no plano surf é: 2237696\n",
      "A variação em torno da média é: 1893653\n"
     ]
    }
   ],
   "source": [
    "print('A média de consumo de internet por mês no plano ultimate é:',round(internet_month['ultimate_mb_used'].mean()))\n",
    "print('A variação em torno da média é:',round(np.std(internet_month['ultimate_mb_used'])))\n",
    "print('A média de consumo de internet por mês no plano surf é:',round(internet_month['surf_mb_used'].mean()))\n",
    "print('A variação em torno da média é:',round(np.std(internet_month['surf_mb_used'])))"
   ]
  },
  {
   "cell_type": "code",
   "execution_count": 153,
   "metadata": {},
   "outputs": [
    {
     "data": {
      "image/png": "[encoded data removed]",
      "text/plain": [
       "<Figure size 432x288 with 1 Axes>"
      ]
     },
     "metadata": {
      "needs_background": "light"
     },
     "output_type": "display_data"
    }
   ],
   "source": [
    "plt.boxplot(internet_month['ultimate_mb_used']);\n",
    "plt.show()"
   ]
  },
  {
   "cell_type": "code",
   "execution_count": 154,
   "metadata": {},
   "outputs": [
    {
     "data": {
      "image/png": "[encoded data removed]",
      "text/plain": [
       "<Figure size 432x288 with 1 Axes>"
      ]
     },
     "metadata": {
      "needs_background": "light"
     },
     "output_type": "display_data"
    }
   ],
   "source": [
    "plt.boxplot(internet_month['surf_mb_used']);\n",
    "plt.show()"
   ]
  },
  {
   "cell_type": "markdown",
   "metadata": {},
   "source": [
    "- Pelo box plot é possível ver que a mediana do consumo do plano ultimate é menor que a do plano surf\n",
    "- Que os valores do Q3 também são maiores no plano surf\n",
    "- Não temos outliers"
   ]
  },
  {
   "cell_type": "markdown",
   "metadata": {},
   "source": [
    "<div class=\"alert alert-block alert-success\">\n",
    "<b> Comentário do revisor: </b> <a class=\"tocSkip\"></a>\n",
    "    \n",
    "Correto. O estudante executou as seguintes etapas:\n",
    "    \n",
    "- Usou corretamente gráficos de barras e linhas para apresentar análises temporais\n",
    "- Usou histogramas e boxplots para analisar a distribuição dos dados\n",
    "- Calculou a média e desvio padrão para as variáveis\n",
    "- Apresentou conclusões pertinentes\n",
    "- Fez o estudo de outliers por plano\n",
    "</div>"
   ]
  },
  {
   "cell_type": "markdown",
   "metadata": {
    "id": "g23qXaYNuj8x"
   },
   "source": [
    "## Receita"
   ]
  },
  {
   "cell_type": "markdown",
   "metadata": {
    "id": "qI9oKXFZuj8y"
   },
   "source": [
    "[Da mesma forma que você estudou o comportamento dos usuários, descreva estatisticamente as receitas dos planos.]"
   ]
  },
  {
   "cell_type": "code",
   "execution_count": 155,
   "metadata": {
    "id": "CGuBwYRyuj8y"
   },
   "outputs": [
    {
     "name": "stdout",
     "output_type": "stream",
     "text": [
      "    month  ultimate_total_income\n",
      "0       1                  280.0\n",
      "1       2                  490.0\n",
      "2       3                  896.0\n",
      "3       4                 1533.0\n",
      "4       5                 2051.0\n",
      "5       6                 3367.0\n",
      "6       7                 4242.0\n",
      "7       8                 5173.0\n",
      "8       9                 6195.0\n",
      "9      10                 7665.0\n",
      "10     11                 9107.0\n",
      "11     12                11067.0\n"
     ]
    }
   ],
   "source": [
    "#Receita mensal do plano ultimate\n",
    "ultimate_total_income= user_profile_ultimate.groupby(by='month')['total_income'].sum()\\\n",
    "      .reset_index().rename(columns={'total_income':'ultimate_total_income'})\n",
    "print(ultimate_total_income)"
   ]
  },
  {
   "cell_type": "code",
   "execution_count": 156,
   "metadata": {
    "id": "qJSyfvUguj8y"
   },
   "outputs": [
    {
     "name": "stdout",
     "output_type": "stream",
     "text": [
      "    month  surf_total_income\n",
      "0       1              40.00\n",
      "1       2             309.57\n",
      "2       3            1056.65\n",
      "3       4            2035.53\n",
      "4       5            3667.37\n",
      "5       6            4779.80\n",
      "6       7            7583.56\n",
      "7       8           10356.85\n",
      "8       9           11304.67\n",
      "9      10           15504.83\n",
      "10     11           16415.21\n",
      "11     12           22437.14\n"
     ]
    }
   ],
   "source": [
    "#Receita mensal do plano surf\n",
    "surf_total_income =user_profile_surf.groupby(by='month')['total_income'].sum()\\\n",
    "      .reset_index().rename(columns={'total_income':'surf_total_income'})\n",
    "print(surf_total_income)"
   ]
  },
  {
   "cell_type": "code",
   "execution_count": 157,
   "metadata": {
    "id": "KUSxMW71uj8z"
   },
   "outputs": [
    {
     "name": "stdout",
     "output_type": "stream",
     "text": [
      "    month  ultimate_total_income  surf_total_income\n",
      "0       1                  280.0              40.00\n",
      "1       2                  490.0             309.57\n",
      "2       3                  896.0            1056.65\n",
      "3       4                 1533.0            2035.53\n",
      "4       5                 2051.0            3667.37\n",
      "5       6                 3367.0            4779.80\n",
      "6       7                 4242.0            7583.56\n",
      "7       8                 5173.0           10356.85\n",
      "8       9                 6195.0           11304.67\n",
      "9      10                 7665.0           15504.83\n",
      "10     11                 9107.0           16415.21\n",
      "11     12                11067.0           22437.14\n"
     ]
    }
   ],
   "source": [
    "month_total_income = ultimate_total_income.merge(surf_total_income,on='month',how='left')\n",
    "print(month_total_income)"
   ]
  },
  {
   "cell_type": "code",
   "execution_count": 158,
   "metadata": {},
   "outputs": [
    {
     "data": {
      "image/png": "[encoded data removed]",
      "text/plain": [
       "<Figure size 432x288 with 1 Axes>"
      ]
     },
     "metadata": {
      "needs_background": "light"
     },
     "output_type": "display_data"
    }
   ],
   "source": [
    "month_total_income.plot(x='month',y=['ultimate_total_income','surf_total_income']\\\n",
    "                        ,ylabel='Total Income',title='Total Income per plan by month').legend(['Ultimate','Surf']);"
   ]
  },
  {
   "cell_type": "markdown",
   "metadata": {
    "id": "6X34EwHpuj8z"
   },
   "source": [
    "O valor da receita começou menor no plano surf, mas foi crescendo e após o mês 3 ficou acima do que o plano ultimate"
   ]
  },
  {
   "cell_type": "markdown",
   "metadata": {},
   "source": [
    "Dados Estatísticos:"
   ]
  },
  {
   "cell_type": "code",
   "execution_count": 159,
   "metadata": {},
   "outputs": [
    {
     "name": "stdout",
     "output_type": "stream",
     "text": [
      "O desvio padrão do plano ultimate é: 11.387191946748715\n",
      "A variância do plano ultimate é: 129.66814043209877\n",
      "A média do plano ultimate é de: 72.31388888888888\n",
      "A mediana do plano ultimate é: 70.0\n"
     ]
    }
   ],
   "source": [
    "print('O desvio padrão do plano ultimate é:',np.std(user_profile_ultimate['total_income']))\n",
    "print('A variância do plano ultimate é:',np.var(user_profile_ultimate['total_income']))\n",
    "print('A média do plano ultimate é de:',user_profile_ultimate['total_income'].mean())\n",
    "print('A mediana do plano ultimate é:',user_profile_ultimate['total_income'].median())"
   ]
  },
  {
   "cell_type": "code",
   "execution_count": 160,
   "metadata": {},
   "outputs": [
    {
     "name": "stdout",
     "output_type": "stream",
     "text": [
      "O desvio padrão do plano surf é: 55.37043293915106\n",
      "A variância do plano surf é: 3065.8848438690247\n",
      "A média do plano surf é de: 60.706408137317226\n",
      "A mediana do plano surf é: 40.36\n"
     ]
    }
   ],
   "source": [
    "print('O desvio padrão do plano surf é:',np.std(user_profile_surf['total_income']))\n",
    "print('A variância do plano surf é:',np.var(user_profile_surf['total_income']))\n",
    "print('A média do plano surf é de:',user_profile_surf['total_income'].mean())\n",
    "print('A mediana do plano surf é:',user_profile_surf['total_income'].median())"
   ]
  },
  {
   "cell_type": "markdown",
   "metadata": {},
   "source": [
    "<div class=\"alert alert-block alert-success\">\n",
    "<b> Comentário do revisor: </b> <a class=\"tocSkip\"></a>\n",
    "    \n",
    "Correto. O estudante executou as seguintes etapas:\n",
    "    \n",
    "- Usou corretamente gráficos de barras e linhas para apresentar análises temporais\n",
    "- Usou histogramas e boxplots para analisar a distribuição dos dados\n",
    "- Calculou a média, variância e desvio padrão para as variáveis\n",
    "- Apresentou conclusões pertinentes\n",
    "</div>"
   ]
  },
  {
   "cell_type": "markdown",
   "metadata": {
    "id": "xJ6Mu-KAuj8z"
   },
   "source": [
    "## Teste hipóteses estatísticas"
   ]
  },
  {
   "cell_type": "markdown",
   "metadata": {
    "id": "lop_0j4Duj8z"
   },
   "source": [
    "[Teste a hipótese de que as receitas médias dos usuários dos planos de chamadas Ultimate e Surf são diferentes.]"
   ]
  },
  {
   "cell_type": "markdown",
   "metadata": {
    "id": "-X2l1R8Luj80"
   },
   "source": [
    "[Formule as hipóteses nula e alternativa, escolha o teste estatístico, escolha o valor alfa.]"
   ]
  },
  {
   "cell_type": "code",
   "execution_count": 165,
   "metadata": {
    "id": "LyGrPhpUuj80"
   },
   "outputs": [
    {
     "name": "stdout",
     "output_type": "stream",
     "text": [
      "valor-p 3.17039054811355e-15\n",
      "Hipótese nula rejeitada.\n"
     ]
    }
   ],
   "source": [
    "# Teste as hipóteses\n",
    "#Hipóte nula: as receitas médias são iguais\n",
    "#Hipótese alternativa: as receitas médias são diferentes\n",
    "#Vamos considerar alpha=0.05\n",
    "#Vamos utilizar o t-test independente, pois são variáveis que não tem interdependência\n",
    "#Checar se podemos assumir que as variâncias podem ser consideradas iguais. \n",
    "#Para isso o ratio var1/var2 é menor que 4 onde var1>var2\n",
    "var1 = np.var(user_profile_surf['total_income']) \n",
    "var2 = np.var(user_profile_ultimate['total_income'])\n",
    "if var1> var2:\n",
    "    if var1/var2< 4:\n",
    "        alpha=0.05\n",
    "        result1 = st.ttest_ind(user_profile_surf['total_income'],user_profile_ultimate['total_income'])\n",
    "        print('valor-p',result1.pvalue)\n",
    "        if result1.pvalue < alpha:\n",
    "            print(\"Hipótese nula rejeitada.\")\n",
    "        else:\n",
    "            print(\"Hipótese nula não pode ser rejeitada\")\n",
    "    else:\n",
    "        alpha=0.05\n",
    "        result1 = st.ttest_ind(user_profile_surf['total_income'],user_profile_ultimate['total_income'],equal_var=False)\n",
    "        print('valor-p',result1.pvalue)\n",
    "        if result1.pvalue < alpha:\n",
    "            print(\"Hipótese nula rejeitada.\")\n",
    "        else:\n",
    "            print(\"Hipótese nula não pode ser rejeitada\")\n",
    "else:\n",
    "    if var2/var1 < 4:\n",
    "        alpha=0.05\n",
    "        result1 = st.ttest_ind(user_profile_surf['total_income'],user_profile_ultimate['total_income'])\n",
    "        print('valor-p',result1.pvalue)\n",
    "        if result1.pvalue < alpha:\n",
    "            print(\"Hipótese nula rejeitada.\")\n",
    "        else:\n",
    "            print(\"Hipótese nula não pode ser rejeitada\")\n",
    "    else:\n",
    "        alpha=0.05\n",
    "        result1 = st.ttest_ind(user_profile_surf['total_income'],user_profile_ultimate['total_income'],equal_var=False)\n",
    "        print('valor-p',result1.pvalue)\n",
    "        if result1.pvalue < alpha:\n",
    "            print(\"Hipótese nula rejeitada.\")\n",
    "        else:\n",
    "            print(\"Hipótese nula não pode ser rejeitada\")\n",
    "    \n",
    "\n"
   ]
  },
  {
   "cell_type": "code",
   "execution_count": 167,
   "metadata": {},
   "outputs": [
    {
     "name": "stdout",
     "output_type": "stream",
     "text": [
      "23.64408738840893\n"
     ]
    }
   ],
   "source": [
    "print(var1/var2)"
   ]
  },
  {
   "cell_type": "markdown",
   "metadata": {},
   "source": [
    "- Podemos inferir que embora os valores sejam diferentes eles tem uma probabildiade muito baixa de serem obtidos aleatoriamente"
   ]
  },
  {
   "cell_type": "markdown",
   "metadata": {},
   "source": [
    "<div class=\"alert alert-block alert-danger\">\n",
    "<b> Comentário do revisor: </b> <a class=\"tocSkip\"></a>\n",
    "\n",
    "<s>Esse teste pode ter o resultado impactado pelo `join` feito usando o `inner` umas etapas anteriores. Faça o ajuste e iremos analisar esse teste novamente. Além disso, verifique as premissas do teste-t e configure o argumento `equal_var` da função `ttest_ind` de corretamente. </s>\n",
    "    \n",
    "<br>\n",
    "\n",
    "<s>Premissas do teste-t: https://www.statology.org/t-test-assumptions/</s>\n",
    "    \n",
    "<br>\n",
    "    \n",
    "<s>Aqui está uma descrição dos seus argumentos: https://docs.scipy.org/doc/scipy/reference/generated/scipy.stats.ttest_ind.html.</s>\n",
    "</div>"
   ]
  },
  {
   "cell_type": "markdown",
   "metadata": {},
   "source": [
    "<div class=\"alert alert-block alert-success\">\n",
    "<b> Comentário do revisor v2</b> <a class=\"tocSkip\"></a>\n",
    "    \n",
    "Perfeito!\n",
    "\n",
    "</div>"
   ]
  },
  {
   "cell_type": "markdown",
   "metadata": {
    "id": "Cz6rwE56uj80"
   },
   "source": [
    "[Teste a hipótese de que a receita média dos usuários da área de NY-NJ difere dos usuários das demais regiões.]"
   ]
  },
  {
   "cell_type": "markdown",
   "metadata": {
    "id": "kMHim5__uj80"
   },
   "source": [
    "[Formule as hipóteses nula e alternativa, escolha o teste estatístico, escolha o valor alfa.]"
   ]
  },
  {
   "cell_type": "code",
   "execution_count": 162,
   "metadata": {
    "id": "98t8iiJyuj80"
   },
   "outputs": [
    {
     "name": "stdout",
     "output_type": "stream",
     "text": [
      "A receita média dos usuários de NY-NJ é de: 60.90492610837439\n",
      "A receita média dos usuários é de: 64.3511469690362\n"
     ]
    }
   ],
   "source": [
    "# Teste as hipóteses\n",
    "NY_user_profile=user_profile[user_profile['city'].str.contains('NY')]\n",
    "print('A receita média dos usuários de NY-NJ é de:',NY_user_profile['total_income'].mean())\n",
    "print('A receita média dos usuários é de:',user_profile['total_income'].mean())"
   ]
  },
  {
   "cell_type": "markdown",
   "metadata": {},
   "source": [
    "Teste de hipótese:\n",
    "- Hipóte nula: as receitas médias dos usuárias são iguais em todas as regiões\n",
    "- Hipótese alternativa: as receitas médias são diferentes na região de NY_NJ\n",
    "- Vamos considerar alpha=0.05\n",
    "- Vamos utilizar o t-test independente, pois são variáveis que não tem interdependência"
   ]
  },
  {
   "cell_type": "markdown",
   "metadata": {},
   "source": [
    "<div class=\"alert alert-block alert-success\">\n",
    "<b> Comentário do revisor: </b> <a class=\"tocSkip\"></a>\n",
    "\n",
    "O estudante formalizou as hipóteses nula e alternativa.\n",
    "</div>"
   ]
  },
  {
   "cell_type": "code",
   "execution_count": 168,
   "metadata": {},
   "outputs": [
    {
     "name": "stdout",
     "output_type": "stream",
     "text": [
      "p-value 0.16732929659337667\n",
      "A hipótese nula não deve ser rejeitada.\n"
     ]
    }
   ],
   "source": [
    "#Checar se podemos assumir que as variâncias podem ser consideradas iguais. \n",
    "#Para isso o ratio var1/var2 é menor que 4 onde var1>var2\n",
    "var1 = np.var(user_profile['total_income']) \n",
    "var2 = np.var(NY_user_profile['total_income'])\n",
    "if var1> var2:\n",
    "    if var1/var2< 4:\n",
    "        alpha = 0.05\n",
    "        result2=st.ttest_ind(user_profile['total_income'],NY_user_profile['total_income'])\n",
    "        print('p-value',result2.pvalue)\n",
    "        if result2.pvalue<alpha:\n",
    "            print('A hipótese nula deve ser rejeitada.')\n",
    "        else:\n",
    "            print('A hipótese nula não deve ser rejeitada.')\n",
    "    else:\n",
    "        alpha = 0.05\n",
    "        result2=st.ttest_ind(user_profile['total_income'],NY_user_profile['total_income'],equal_var=False)\n",
    "        print('p-value',result2.pvalue)\n",
    "        if result2.pvalue<alpha:\n",
    "            print('A hipótese nula deve ser rejeitada.')\n",
    "        else:\n",
    "            print('A hipótese nula não deve ser rejeitada.')\n",
    "else:\n",
    "    if var2/var1 < 4:\n",
    "        alpha = 0.05\n",
    "        result2=st.ttest_ind(user_profile['total_income'],NY_user_profile['total_income'])\n",
    "        print('p-value',result2.pvalue)\n",
    "        if result2.pvalue<alpha:\n",
    "            print('A hipótese nula deve ser rejeitada.')\n",
    "        else:\n",
    "            print('A hipótese nula não deve ser rejeitada.')\n",
    "    else:\n",
    "        alpha = 0.05\n",
    "        result2=st.ttest_ind(user_profile['total_income'],NY_user_profile['total_income'],equal_var=False)\n",
    "        print('p-value',result2.pvalue)\n",
    "        if result2.pvalue<alpha:\n",
    "            print('A hipótese nula deve ser rejeitada.')\n",
    "        else:\n",
    "            print('A hipótese nula não deve ser rejeitada.')\n",
    "        "
   ]
  },
  {
   "cell_type": "markdown",
   "metadata": {},
   "source": [
    "- Podemos inferir que embora os resultados sejam diferentes temos uma alta probabilidade, `16,73%`, de obter aleatoriamente uma diferença desse tamanho ou maior."
   ]
  },
  {
   "cell_type": "markdown",
   "metadata": {},
   "source": [
    "<div class=\"alert alert-block alert-danger\">\n",
    "<b> Comentário do revisor: </b> <a class=\"tocSkip\"></a>\n",
    "\n",
    "<s>Mesma observação aqui sobre o teste-t.</s>\n",
    "</div>"
   ]
  },
  {
   "cell_type": "markdown",
   "metadata": {
    "id": "M8WycwWFuj81"
   },
   "source": [
    "## Conclusão geral\n",
    "\n",
    "[Liste suas conclusões importantes nessa seção final, certifique-se de que elas cobrem todas as decisões (suposições) importantes que você tomou e que levaram à maneira como você processou e analisou os dados.]"
   ]
  },
  {
   "cell_type": "markdown",
   "metadata": {},
   "source": [
    "- Foi seguido a metodologia de EDA: verificar e corrigir erros do datframe\n",
    "- Feito feature enginnering para criar colunas que mais informações com base nos dados já fornecidos\n",
    "- Utilizado conceitos da estatística descritiva pra analisar matematicamente os dados e poder fazer inferições\n",
    "- Feito uso do teste de hipótese t-test independente para faazer comparações e testes de hipóteses entre os planos\n",
    "- Embora o valor do plano ultimate seja maior ele não é o que gera mais receita\n",
    "- Todos os gastos:chamadas, mensagens e internet seguem uma curva crescente ao longo do ano\n",
    "- O único gasto que é próximo no plano ultimate e surf é o de chamadas\n",
    "- Em todos os outros seguem o memso padrão, crescimento exponencial do plano surf após 3 meses.\n",
    "- Provavelmente as pessoas tem a ilusão de que gastam menos no plano surf, o que o leva a ter um número maior de usuários e usuários com maior gastos.\n",
    "- Talvez o plano ultimate esteja superdimensionado, fazendo com que poucos usuários excedam os limites do plano."
   ]
  },
  {
   "cell_type": "markdown",
   "metadata": {},
   "source": [
    "<div class=\"alert alert-block alert-danger\">\n",
    "<b> Comentário do revisor:</b> <a class=\"tocSkip\"></a>\n",
    "\n",
    "<s>Aqui você poderia fazer uma conclusão mais detalhadas dos passos que você executou nesse projeto, as hipóteses e suas conclusões.</s>\n",
    "\n",
    "</div>"
   ]
  },
  {
   "cell_type": "markdown",
   "metadata": {},
   "source": [
    "<div class=\"alert alert-block alert-danger\">\n",
    "<b> Comentário geral do revisor v1</b> <a class=\"tocSkip\"></a>\n",
    "\n",
    "<s>Obrigado por enviar o seu projeto e pelo esforço de chegar até aqui. O seu projeto possui alguns pontos bem interessantes, dos quais eu destaco:\n",
    "    \n",
    "- Código bem simples e estruturado\n",
    "- Análise estatística descritiva interessante\n",
    "- Apresentação correta de gráficos\n",
    "- Explorou corretamente os atributos e fez transformações quando necessário\n",
    "- Comentários sucintos e bem objetivos\n",
    "- Conclusões pertinentes em cada análise e etapa de avaliação\n",
    "    \n",
    "Entretanto, deixei alguns comentários em alguns trechos que precisam de ajuste. Em resumo, precisamos:\n",
    "- Ajustar o `join` para não descartar usuários que não sejam contemplados em outras tabelas/conjuntos de dados\n",
    "- Revisitar suas análises após o ajuste no `join`, pois os resultados podem mudar.\n",
    "    \n",
    "<br>\n",
    "\n",
    "Qualquer dúvida, pode contar comigo.\n",
    "\n",
    "<br>\n",
    "\n",
    "**Até breve!**</s>\n",
    "\n",
    "</div>"
   ]
  },
  {
   "cell_type": "markdown",
   "metadata": {},
   "source": [
    "<div class=\"alert alert-block alert-success\">\n",
    "<b> Comentário geral do revisor v2</b> <a class=\"tocSkip\"></a>\n",
    "\n",
    "Obrigado por enviar o seu projeto e fazer os ajustes necessários, essa versão do seu trabalho ficou muito melhor. Espero que as sugestões feitas aqui nesse notebook sejam úteis para futuros projetos. Continue assim, você está no caminho certo.\n",
    "    \n",
    "<br>\n",
    "\n",
    "Qualquer dúvida, pode contar comigo.\n",
    "\n",
    "<br>\n",
    "\n",
    "**Até breve!**\n",
    "\n",
    "</div>"
   ]
  }
 ],
 "metadata": {
  "ExecuteTimeLog": [
   {
    "duration": 828,
    "start_time": "2021-11-16T09:21:11.304Z"
   },
   {
    "duration": 893,
    "start_time": "2021-11-16T09:21:17.728Z"
   },
   {
    "duration": 1150,
    "start_time": "2021-11-16T09:21:29.568Z"
   },
   {
    "duration": 3,
    "start_time": "2021-11-16T09:24:14.495Z"
   },
   {
    "duration": 120,
    "start_time": "2021-11-16T09:24:46.630Z"
   },
   {
    "duration": 3,
    "start_time": "2021-11-16T09:28:27.882Z"
   },
   {
    "duration": 4,
    "start_time": "2021-11-16T09:29:54.281Z"
   },
   {
    "duration": 3,
    "start_time": "2021-11-16T09:30:45.936Z"
   },
   {
    "duration": 4,
    "start_time": "2021-11-16T09:31:06.300Z"
   },
   {
    "duration": 113,
    "start_time": "2021-11-16T09:31:37.208Z"
   },
   {
    "duration": 143,
    "start_time": "2021-11-16T09:31:48.656Z"
   },
   {
    "duration": 98,
    "start_time": "2021-11-16T09:31:55.678Z"
   },
   {
    "duration": 3,
    "start_time": "2021-11-16T09:32:08.535Z"
   },
   {
    "duration": 111,
    "start_time": "2021-11-16T09:32:10.120Z"
   },
   {
    "duration": 3,
    "start_time": "2021-11-16T09:32:15.732Z"
   },
   {
    "duration": 4,
    "start_time": "2021-11-16T09:32:29.423Z"
   },
   {
    "duration": 3,
    "start_time": "2021-11-16T10:03:03.074Z"
   },
   {
    "duration": 3,
    "start_time": "2021-11-16T10:10:01.288Z"
   },
   {
    "duration": 3,
    "start_time": "2021-11-16T10:10:46.923Z"
   },
   {
    "duration": 121,
    "start_time": "2021-11-16T10:37:46.494Z"
   },
   {
    "duration": 125,
    "start_time": "2021-11-16T10:38:20.632Z"
   },
   {
    "duration": 112,
    "start_time": "2021-11-16T10:46:53.001Z"
   },
   {
    "duration": 110,
    "start_time": "2021-11-16T10:48:25.775Z"
   },
   {
    "duration": 3,
    "start_time": "2021-11-16T10:50:18.720Z"
   },
   {
    "duration": 4,
    "start_time": "2021-11-16T10:50:37.649Z"
   },
   {
    "duration": 2,
    "start_time": "2021-11-16T10:50:51.884Z"
   },
   {
    "duration": 3,
    "start_time": "2021-11-16T10:51:56.237Z"
   },
   {
    "duration": 101,
    "start_time": "2021-11-16T10:53:13.791Z"
   },
   {
    "duration": 3,
    "start_time": "2021-11-16T10:55:59.186Z"
   },
   {
    "duration": 3,
    "start_time": "2021-11-16T10:56:10.751Z"
   },
   {
    "duration": 3,
    "start_time": "2021-11-16T10:56:49.038Z"
   },
   {
    "duration": 3,
    "start_time": "2021-11-16T10:56:49.174Z"
   },
   {
    "duration": 4,
    "start_time": "2021-11-16T10:56:49.414Z"
   },
   {
    "duration": 3,
    "start_time": "2021-11-16T10:56:49.680Z"
   },
   {
    "duration": 3,
    "start_time": "2021-11-16T10:56:50.370Z"
   },
   {
    "duration": 114,
    "start_time": "2021-11-16T10:59:34.518Z"
   },
   {
    "duration": 3,
    "start_time": "2021-11-16T11:01:41.201Z"
   },
   {
    "duration": 116,
    "start_time": "2021-11-16T11:01:48.754Z"
   },
   {
    "duration": 3,
    "start_time": "2021-11-16T11:02:16.685Z"
   },
   {
    "duration": 3,
    "start_time": "2021-11-16T11:02:19.479Z"
   },
   {
    "duration": 3,
    "start_time": "2021-11-16T11:02:47.067Z"
   },
   {
    "duration": 3,
    "start_time": "2021-11-16T11:02:49.353Z"
   },
   {
    "duration": 3,
    "start_time": "2021-11-16T11:03:07.835Z"
   },
   {
    "duration": 3,
    "start_time": "2021-11-16T11:03:07.953Z"
   },
   {
    "duration": 112,
    "start_time": "2021-11-16T11:07:52.072Z"
   },
   {
    "duration": 187,
    "start_time": "2021-11-16T11:09:23.468Z"
   },
   {
    "duration": 4,
    "start_time": "2021-11-16T11:10:01.455Z"
   },
   {
    "duration": 3,
    "start_time": "2021-11-16T11:10:05.069Z"
   },
   {
    "duration": 4,
    "start_time": "2021-11-16T11:10:13.376Z"
   },
   {
    "duration": 3,
    "start_time": "2021-11-16T11:10:14.434Z"
   },
   {
    "duration": 3,
    "start_time": "2021-11-16T11:10:22.853Z"
   },
   {
    "duration": 4,
    "start_time": "2021-11-16T11:27:29.279Z"
   },
   {
    "duration": 4,
    "start_time": "2021-11-16T11:29:08.919Z"
   },
   {
    "duration": 118,
    "start_time": "2021-11-16T11:29:46.703Z"
   },
   {
    "duration": 437,
    "start_time": "2021-11-16T11:36:02.181Z"
   },
   {
    "duration": 157,
    "start_time": "2021-11-16T11:36:14.388Z"
   },
   {
    "duration": 207,
    "start_time": "2021-11-16T11:47:15.898Z"
   },
   {
    "duration": 3,
    "start_time": "2021-11-16T11:53:52.092Z"
   },
   {
    "duration": 3,
    "start_time": "2021-11-16T11:53:52.236Z"
   },
   {
    "duration": 3,
    "start_time": "2021-11-16T11:59:12.005Z"
   },
   {
    "duration": 112,
    "start_time": "2021-11-16T12:00:33.446Z"
   },
   {
    "duration": 3,
    "start_time": "2021-11-16T12:02:14.453Z"
   },
   {
    "duration": 3,
    "start_time": "2021-11-16T12:02:39.512Z"
   },
   {
    "duration": 106,
    "start_time": "2021-11-16T12:03:03.460Z"
   },
   {
    "duration": 3,
    "start_time": "2021-11-17T20:37:21.139Z"
   },
   {
    "duration": 3,
    "start_time": "2021-11-17T20:37:22.229Z"
   },
   {
    "duration": 3,
    "start_time": "2021-11-17T20:38:38.806Z"
   },
   {
    "duration": 3,
    "start_time": "2021-11-17T20:38:41.958Z"
   },
   {
    "duration": 3,
    "start_time": "2021-11-17T20:43:46.551Z"
   },
   {
    "duration": 4,
    "start_time": "2021-11-17T20:58:21.835Z"
   },
   {
    "duration": 3,
    "start_time": "2021-11-17T20:59:21.872Z"
   },
   {
    "duration": 4,
    "start_time": "2021-11-17T20:59:45.352Z"
   },
   {
    "duration": 4,
    "start_time": "2021-11-17T20:59:49.646Z"
   },
   {
    "duration": 159,
    "start_time": "2021-11-17T21:02:26.949Z"
   },
   {
    "duration": 3,
    "start_time": "2021-11-17T21:03:53.461Z"
   },
   {
    "duration": 3,
    "start_time": "2021-11-17T21:03:53.694Z"
   },
   {
    "duration": 3,
    "start_time": "2021-11-17T21:05:28.145Z"
   },
   {
    "duration": 116,
    "start_time": "2021-11-17T21:05:57.787Z"
   },
   {
    "duration": 3,
    "start_time": "2021-11-17T21:06:37.993Z"
   },
   {
    "duration": 3,
    "start_time": "2021-11-17T21:06:38.261Z"
   },
   {
    "duration": 3,
    "start_time": "2021-11-17T21:11:54.358Z"
   },
   {
    "duration": 3,
    "start_time": "2021-11-17T21:12:43.846Z"
   },
   {
    "duration": 4,
    "start_time": "2021-11-17T21:13:08.773Z"
   },
   {
    "duration": 3,
    "start_time": "2021-11-17T21:14:44.441Z"
   },
   {
    "duration": 3,
    "start_time": "2021-11-17T21:15:42.059Z"
   },
   {
    "duration": 4,
    "start_time": "2021-11-17T21:15:51.995Z"
   },
   {
    "duration": 3,
    "start_time": "2021-11-17T21:15:53.923Z"
   },
   {
    "duration": 3,
    "start_time": "2021-11-17T21:15:55.282Z"
   },
   {
    "duration": 3,
    "start_time": "2021-11-17T21:16:28.492Z"
   },
   {
    "duration": 3,
    "start_time": "2021-11-17T21:16:32.603Z"
   },
   {
    "duration": 3,
    "start_time": "2021-11-17T21:17:06.941Z"
   },
   {
    "duration": 98,
    "start_time": "2021-11-17T21:18:05.733Z"
   },
   {
    "duration": 4,
    "start_time": "2021-11-17T21:21:35.255Z"
   },
   {
    "duration": 3,
    "start_time": "2021-11-17T21:21:37.804Z"
   },
   {
    "duration": 4,
    "start_time": "2021-11-17T21:23:06.071Z"
   },
   {
    "duration": 3,
    "start_time": "2021-11-17T21:23:24.799Z"
   },
   {
    "duration": 3,
    "start_time": "2021-11-17T21:23:32.591Z"
   },
   {
    "duration": 98,
    "start_time": "2021-11-17T21:28:31.559Z"
   },
   {
    "duration": 3,
    "start_time": "2021-11-17T21:28:45.448Z"
   },
   {
    "duration": 3,
    "start_time": "2021-11-17T21:29:17.303Z"
   },
   {
    "duration": 3,
    "start_time": "2021-11-17T21:29:29.617Z"
   },
   {
    "duration": 3,
    "start_time": "2021-11-17T21:29:32.681Z"
   },
   {
    "duration": 3,
    "start_time": "2021-11-17T21:36:11.474Z"
   },
   {
    "duration": 3,
    "start_time": "2021-11-17T21:36:14.791Z"
   },
   {
    "duration": 3,
    "start_time": "2021-11-17T21:36:53.943Z"
   },
   {
    "duration": 3,
    "start_time": "2021-11-17T21:36:56.165Z"
   },
   {
    "duration": 4,
    "start_time": "2021-11-17T21:37:16.590Z"
   },
   {
    "duration": 3,
    "start_time": "2021-11-17T21:37:22.702Z"
   },
   {
    "duration": 4,
    "start_time": "2021-11-17T21:38:03.479Z"
   },
   {
    "duration": 3,
    "start_time": "2021-11-17T21:38:08.601Z"
   },
   {
    "duration": 3,
    "start_time": "2021-11-17T21:38:12.928Z"
   },
   {
    "duration": 3,
    "start_time": "2021-11-17T21:38:48.896Z"
   },
   {
    "duration": 2,
    "start_time": "2021-11-17T21:38:49.171Z"
   },
   {
    "duration": 4,
    "start_time": "2021-11-17T21:39:57.889Z"
   },
   {
    "duration": 3,
    "start_time": "2021-11-17T21:39:58.057Z"
   },
   {
    "duration": 3,
    "start_time": "2021-11-17T21:41:20.108Z"
   },
   {
    "duration": 3,
    "start_time": "2021-11-17T21:41:20.629Z"
   },
   {
    "duration": 3,
    "start_time": "2021-11-17T21:42:49.136Z"
   },
   {
    "duration": 3,
    "start_time": "2021-11-17T21:43:15.137Z"
   },
   {
    "duration": 4,
    "start_time": "2021-11-17T21:43:16.766Z"
   },
   {
    "duration": 4,
    "start_time": "2021-11-17T21:43:31.711Z"
   },
   {
    "duration": 3,
    "start_time": "2021-11-17T21:43:36.312Z"
   },
   {
    "duration": 4,
    "start_time": "2021-11-17T21:45:08.825Z"
   },
   {
    "duration": 4,
    "start_time": "2021-11-17T21:45:10.119Z"
   },
   {
    "duration": 4,
    "start_time": "2021-11-17T21:45:13.748Z"
   },
   {
    "duration": 3,
    "start_time": "2021-11-17T21:45:22.219Z"
   },
   {
    "duration": 3,
    "start_time": "2021-11-17T21:45:33.412Z"
   },
   {
    "duration": 2,
    "start_time": "2021-11-17T21:46:01.885Z"
   },
   {
    "duration": 3,
    "start_time": "2021-11-17T21:46:03.628Z"
   },
   {
    "duration": 107,
    "start_time": "2021-11-17T21:47:32.512Z"
   },
   {
    "duration": 103,
    "start_time": "2021-11-17T21:50:36.243Z"
   },
   {
    "duration": 3,
    "start_time": "2021-11-18T06:28:31.440Z"
   },
   {
    "duration": 3,
    "start_time": "2021-11-18T06:29:00.168Z"
   },
   {
    "duration": 3,
    "start_time": "2021-11-18T06:31:27.008Z"
   },
   {
    "duration": 2,
    "start_time": "2021-11-18T06:35:34.288Z"
   },
   {
    "duration": 2,
    "start_time": "2021-11-18T06:38:04.527Z"
   }
  ],
  "colab": {
   "provenance": []
  },
  "kernelspec": {
   "display_name": "Python 3 (ipykernel)",
   "language": "python",
   "name": "python3"
  },
  "language_info": {
   "codemirror_mode": {
    "name": "ipython",
    "version": 3
   },
   "file_extension": ".py",
   "mimetype": "text/x-python",
   "name": "python",
   "nbconvert_exporter": "python",
   "pygments_lexer": "ipython3",
   "version": "3.9.5"
  },
  "toc": {
   "base_numbering": 1,
   "nav_menu": {},
   "number_sections": true,
   "sideBar": true,
   "skip_h1_title": false,
   "title_cell": "Table of Contents",
   "title_sidebar": "Contents",
   "toc_cell": false,
   "toc_position": {
    "height": "calc(100% - 180px)",
    "left": "10px",
    "top": "150px",
    "width": "393.6px"
   },
   "toc_section_display": true,
   "toc_window_display": false
  }
 },
 "nbformat": 4,
 "nbformat_minor": 1
}
