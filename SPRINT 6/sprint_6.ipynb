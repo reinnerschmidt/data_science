{
 "cells": [
  {
   "cell_type": "markdown",
   "metadata": {},
   "source": [
    "Olá, Reinner!\n",
    "\n",
    "Meu nome é Ramon. Fico feliz em revisar seu projeto. Ao ao longo do texto farei algumas observações sobre melhorias no código e também farei comentários sobre suas percepções sobre o assunto. Estarei aberto a feedbacks e discussões sobre o tema.\n",
    "\n",
    "**Peço que mantenha e não altere os comentários que eu fizer por aqui para que possamos nos localizar posteriormente, ok?**\n",
    "\n",
    "Mais uma coisa, vamos utilizar um código de cores para você entender os meus feedbacks no seu notebook. Funciona assim:\n",
    "\n",
    "<div class=\"alert alert-block alert-success\">\n",
    "<b> Comentário do revisor: </b> <a class=\"tocSkip\"></a>\n",
    "\n",
    "Sucesso. Tudo foi feito corretamente.\n",
    "</div>\n",
    "\n",
    "<div class=\"alert alert-block alert-warning\">\n",
    "<b>Comentário do revisor: </b> <a class=\"tocSkip\"></a>\n",
    "\n",
    "Alerta não crítco, mas que pode ser corrigido para melhoria geral no seu código/análise\n",
    "</div>\n",
    "\n",
    "<div class=\"alert alert-block alert-danger\">\n",
    "\n",
    "<b>Comentário do revisor: </b> <a class=\"tocSkip\"></a>\n",
    "    \n",
    "Erro que precisa ser consertado, caso contrário seu projeto **não** será aceito.\n",
    "</div>\n",
    "\n",
    "Você pode me responder usando isso:\n",
    "<div class=\"alert alert-block alert-info\">\n",
    "<b>Resposta do Aluno.</b> <a class=\"tocSkip\"></a>\n",
    "</div>\n"
   ]
  },
  {
   "cell_type": "code",
   "execution_count": 1,
   "metadata": {},
   "outputs": [],
   "source": [
    "import pandas as pd \n",
    "from scipy import stats as st\n",
    "from scipy.stats import levene\n",
    "import plotly.express\n",
    "import matplotlib.pyplot as plt\n",
    "import seaborn as sns\n",
    "import numpy as np\n"
   ]
  },
  {
   "cell_type": "markdown",
   "metadata": {},
   "source": [
    "## 1. Preparação dos Dados"
   ]
  },
  {
   "cell_type": "code",
   "execution_count": 2,
   "metadata": {},
   "outputs": [
    {
     "name": "stdout",
     "output_type": "stream",
     "text": [
      "<class 'pandas.core.frame.DataFrame'>\n",
      "RangeIndex: 16715 entries, 0 to 16714\n",
      "Data columns (total 11 columns):\n",
      " #   Column           Non-Null Count  Dtype  \n",
      "---  ------           --------------  -----  \n",
      " 0   Name             16713 non-null  object \n",
      " 1   Platform         16715 non-null  object \n",
      " 2   Year_of_Release  16446 non-null  float64\n",
      " 3   Genre            16713 non-null  object \n",
      " 4   NA_sales         16715 non-null  float64\n",
      " 5   EU_sales         16715 non-null  float64\n",
      " 6   JP_sales         16715 non-null  float64\n",
      " 7   Other_sales      16715 non-null  float64\n",
      " 8   Critic_Score     8137 non-null   float64\n",
      " 9   User_Score       10014 non-null  object \n",
      " 10  Rating           9949 non-null   object \n",
      "dtypes: float64(6), object(5)\n",
      "memory usage: 1.4+ MB\n",
      "None\n"
     ]
    }
   ],
   "source": [
    "#lendo o arquivo da base de dados\n",
    "games_data = pd.read_csv('/datasets/games.csv')\n",
    "\n",
    "print(games_data.info())"
   ]
  },
  {
   "cell_type": "markdown",
   "metadata": {},
   "source": [
    "A maior parte dos dados faltantes está relacionada a classificação. Colunas: critic_score, user_score e rating. logo não afeta os volumes de venda."
   ]
  },
  {
   "cell_type": "code",
   "execution_count": 3,
   "metadata": {},
   "outputs": [
    {
     "name": "stdout",
     "output_type": "stream",
     "text": [
      "                       Name Platform  Year_of_Release         Genre  NA_sales  \\\n",
      "0                Wii Sports      Wii           2006.0        Sports     41.36   \n",
      "1         Super Mario Bros.      NES           1985.0      Platform     29.08   \n",
      "2            Mario Kart Wii      Wii           2008.0        Racing     15.68   \n",
      "3         Wii Sports Resort      Wii           2009.0        Sports     15.61   \n",
      "4  Pokemon Red/Pokemon Blue       GB           1996.0  Role-Playing     11.27   \n",
      "\n",
      "   EU_sales  JP_sales  Other_sales  Critic_Score User_Score Rating  \n",
      "0     28.96      3.77         8.45          76.0          8      E  \n",
      "1      3.58      6.81         0.77           NaN        NaN    NaN  \n",
      "2     12.76      3.79         3.29          82.0        8.3      E  \n",
      "3     10.93      3.28         2.95          80.0          8      E  \n",
      "4      8.89     10.22         1.00           NaN        NaN    NaN  \n"
     ]
    }
   ],
   "source": [
    "print(games_data.head())"
   ]
  },
  {
   "cell_type": "markdown",
   "metadata": {},
   "source": [
    "Vamos converter a coluna `User_Score` para float"
   ]
  },
  {
   "cell_type": "code",
   "execution_count": 4,
   "metadata": {},
   "outputs": [
    {
     "name": "stdout",
     "output_type": "stream",
     "text": [
      "<class 'pandas.core.frame.DataFrame'>\n",
      "RangeIndex: 16715 entries, 0 to 16714\n",
      "Data columns (total 11 columns):\n",
      " #   Column           Non-Null Count  Dtype  \n",
      "---  ------           --------------  -----  \n",
      " 0   Name             16713 non-null  object \n",
      " 1   Platform         16715 non-null  object \n",
      " 2   Year_of_Release  16446 non-null  float64\n",
      " 3   Genre            16713 non-null  object \n",
      " 4   NA_sales         16715 non-null  float64\n",
      " 5   EU_sales         16715 non-null  float64\n",
      " 6   JP_sales         16715 non-null  float64\n",
      " 7   Other_sales      16715 non-null  float64\n",
      " 8   Critic_Score     8137 non-null   float64\n",
      " 9   User_Score       7590 non-null   float64\n",
      " 10  Rating           9949 non-null   object \n",
      "dtypes: float64(7), object(4)\n",
      "memory usage: 1.4+ MB\n",
      "None\n"
     ]
    }
   ],
   "source": [
    "#utilizar o parâmetro 'coerce' para quando converter valores não numéricos (NaN) não dar erro e sim converter para NaN\n",
    "games_data['User_Score'] = pd.to_numeric(games_data['User_Score'], errors='coerce')\n",
    "\n",
    "print(games_data.info())"
   ]
  },
  {
   "cell_type": "markdown",
   "metadata": {},
   "source": [
    "Padronizar os nomes das colunas para o formato snake_case"
   ]
  },
  {
   "cell_type": "code",
   "execution_count": 5,
   "metadata": {},
   "outputs": [
    {
     "name": "stdout",
     "output_type": "stream",
     "text": [
      "                                name platform  year_of_release         genre  \\\n",
      "0                         Wii Sports      Wii           2006.0        Sports   \n",
      "1                  Super Mario Bros.      NES           1985.0      Platform   \n",
      "2                     Mario Kart Wii      Wii           2008.0        Racing   \n",
      "3                  Wii Sports Resort      Wii           2009.0        Sports   \n",
      "4           Pokemon Red/Pokemon Blue       GB           1996.0  Role-Playing   \n",
      "...                              ...      ...              ...           ...   \n",
      "16710  Samurai Warriors: Sanada Maru      PS3           2016.0        Action   \n",
      "16711               LMA Manager 2007     X360           2006.0        Sports   \n",
      "16712        Haitaka no Psychedelica      PSV           2016.0     Adventure   \n",
      "16713               Spirits & Spells      GBA           2003.0      Platform   \n",
      "16714            Winning Post 8 2016      PSV           2016.0    Simulation   \n",
      "\n",
      "       na_sales  eu_sales  jp_sales  other_sales  critic_score  user_score  \\\n",
      "0         41.36     28.96      3.77         8.45          76.0         8.0   \n",
      "1         29.08      3.58      6.81         0.77           NaN         NaN   \n",
      "2         15.68     12.76      3.79         3.29          82.0         8.3   \n",
      "3         15.61     10.93      3.28         2.95          80.0         8.0   \n",
      "4         11.27      8.89     10.22         1.00           NaN         NaN   \n",
      "...         ...       ...       ...          ...           ...         ...   \n",
      "16710      0.00      0.00      0.01         0.00           NaN         NaN   \n",
      "16711      0.00      0.01      0.00         0.00           NaN         NaN   \n",
      "16712      0.00      0.00      0.01         0.00           NaN         NaN   \n",
      "16713      0.01      0.00      0.00         0.00           NaN         NaN   \n",
      "16714      0.00      0.00      0.01         0.00           NaN         NaN   \n",
      "\n",
      "      rating  \n",
      "0          E  \n",
      "1        NaN  \n",
      "2          E  \n",
      "3          E  \n",
      "4        NaN  \n",
      "...      ...  \n",
      "16710    NaN  \n",
      "16711    NaN  \n",
      "16712    NaN  \n",
      "16713    NaN  \n",
      "16714    NaN  \n",
      "\n",
      "[16715 rows x 11 columns]\n"
     ]
    }
   ],
   "source": [
    "games_data.columns = games_data.columns.str.lower()\n",
    "print(games_data)"
   ]
  },
  {
   "cell_type": "code",
   "execution_count": 6,
   "metadata": {},
   "outputs": [
    {
     "name": "stdout",
     "output_type": "stream",
     "text": [
      "Empty DataFrame\n",
      "Columns: [name, platform, year_of_release, genre, na_sales, eu_sales, jp_sales, other_sales, critic_score, user_score, rating]\n",
      "Index: []\n"
     ]
    }
   ],
   "source": [
    "#Verificar se temos linhas duplicatas\n",
    "print(games_data[games_data.duplicated()])\n"
   ]
  },
  {
   "cell_type": "markdown",
   "metadata": {},
   "source": [
    "Não temos linhas duplicadas"
   ]
  },
  {
   "cell_type": "code",
   "execution_count": 7,
   "metadata": {},
   "outputs": [
    {
     "name": "stdout",
     "output_type": "stream",
     "text": [
      "                       name platform  year_of_release         genre  na_sales  \\\n",
      "0                Wii Sports      Wii           2006.0        Sports     41.36   \n",
      "1         Super Mario Bros.      NES           1985.0      Platform     29.08   \n",
      "2            Mario Kart Wii      Wii           2008.0        Racing     15.68   \n",
      "3         Wii Sports Resort      Wii           2009.0        Sports     15.61   \n",
      "4  Pokemon Red/Pokemon Blue       GB           1996.0  Role-Playing     11.27   \n",
      "\n",
      "   eu_sales  jp_sales  other_sales  critic_score  user_score rating  \\\n",
      "0     28.96      3.77         8.45          76.0         8.0      E   \n",
      "1      3.58      6.81         0.77           NaN         NaN    NaN   \n",
      "2     12.76      3.79         3.29          82.0         8.3      E   \n",
      "3     10.93      3.28         2.95          80.0         8.0      E   \n",
      "4      8.89     10.22         1.00           NaN         NaN    NaN   \n",
      "\n",
      "   total_sales  \n",
      "0        82.54  \n",
      "1        40.24  \n",
      "2        35.52  \n",
      "3        32.77  \n",
      "4        31.38  \n"
     ]
    }
   ],
   "source": [
    "#Utilizando feature Engineering para criar a coluna total_sales\n",
    "games_data['total_sales'] = games_data['na_sales'] + games_data['eu_sales'] + games_data['jp_sales'] + games_data['other_sales']\n",
    "print(games_data.head())"
   ]
  },
  {
   "cell_type": "markdown",
   "metadata": {},
   "source": [
    "Analisar se tem algum ano específico, plataforma que mais tem dados faltantes"
   ]
  },
  {
   "cell_type": "code",
   "execution_count": 8,
   "metadata": {},
   "outputs": [
    {
     "name": "stdout",
     "output_type": "stream",
     "text": [
      "                 name  platform  genre  na_sales  eu_sales  jp_sales  \\\n",
      "year_of_release                                                        \n",
      "2009.0            812       812    812       812       812       812   \n",
      "2010.0            788       788    788       788       788       788   \n",
      "2008.0            766       766    766       766       766       766   \n",
      "2011.0            635       635    635       635       635       635   \n",
      "2007.0            568       568    568       568       568       568   \n",
      "2006.0            454       454    454       454       454       454   \n",
      "2002.0            365       365    365       365       365       365   \n",
      "2005.0            356       356    356       356       356       356   \n",
      "1998.0            348       348    348       348       348       348   \n",
      "2012.0            314       314    314       314       314       314   \n",
      "2015.0            309       309    309       309       309       309   \n",
      "1999.0            307       307    307       307       307       307   \n",
      "2004.0            273       273    273       273       273       273   \n",
      "1997.0            271       271    271       271       271       271   \n",
      "2003.0            259       259    259       259       259       259   \n",
      "1996.0            255       255    255       255       255       255   \n",
      "2014.0            252       252    252       252       252       252   \n",
      "2000.0            243       243    243       243       243       243   \n",
      "2013.0            240       240    240       240       240       240   \n",
      "2016.0            240       240    240       240       240       240   \n",
      "2001.0            225       225    225       225       225       225   \n",
      "1995.0            219       219    219       219       219       219   \n",
      "1994.0            120       120    120       120       120       120   \n",
      "1993.0             60        62     60        62        62        62   \n",
      "1981.0             46        46     46        46        46        46   \n",
      "1992.0             42        42     42        42        42        42   \n",
      "1991.0             41        41     41        41        41        41   \n",
      "1982.0             36        36     36        36        36        36   \n",
      "1986.0             21        21     21        21        21        21   \n",
      "1983.0             17        17     17        17        17        17   \n",
      "1989.0             17        17     17        17        17        17   \n",
      "1987.0             16        16     16        16        16        16   \n",
      "1990.0             16        16     16        16        16        16   \n",
      "1984.0             14        14     14        14        14        14   \n",
      "1988.0             14        14     14        14        14        14   \n",
      "1985.0             13        13     13        13        13        13   \n",
      "1980.0              9         9      9         9         9         9   \n",
      "\n",
      "                 other_sales  critic_score  user_score  rating  total_sales  \n",
      "year_of_release                                                              \n",
      "2009.0                   812            97           0     402          812  \n",
      "2010.0                   788            69           0     334          788  \n",
      "2008.0                   766           120           0     324          766  \n",
      "2011.0                   635            34           0     216          635  \n",
      "2007.0                   568           102           0     193          568  \n",
      "2006.0                   454            92           0     126          454  \n",
      "2002.0                   365           172           0     191          365  \n",
      "2005.0                   356            93           0     123          356  \n",
      "1998.0                   348             2           0       2          348  \n",
      "2012.0                   314             0           0      24          314  \n",
      "2015.0                   309             4           0      33          309  \n",
      "1999.0                   307             9           0      11          307  \n",
      "2004.0                   273            84           0     110          273  \n",
      "1997.0                   271             3           0       3          271  \n",
      "2003.0                   259            86           0      98          259  \n",
      "1996.0                   255             0           0       0          255  \n",
      "2014.0                   252             5           0      21          252  \n",
      "2000.0                   243            41           0      42          243  \n",
      "2013.0                   240             1           0      18          240  \n",
      "2016.0                   240             5           0      34          240  \n",
      "2001.0                   225            70           0      82          225  \n",
      "1995.0                   219             0           0       0          219  \n",
      "1994.0                   120             0           0       0          120  \n",
      "1993.0                    62             0           0       0           62  \n",
      "1981.0                    46             0           0       0           46  \n",
      "1992.0                    42             0           0       1           42  \n",
      "1991.0                    41             0           0       0           41  \n",
      "1982.0                    36             0           0       0           36  \n",
      "1986.0                    21             0           0       0           21  \n",
      "1983.0                    17             0           0       0           17  \n",
      "1989.0                    17             0           0       0           17  \n",
      "1987.0                    16             0           0       0           16  \n",
      "1990.0                    16             0           0       0           16  \n",
      "1984.0                    14             0           0       0           14  \n",
      "1988.0                    14             0           0       0           14  \n",
      "1985.0                    13             0           0       0           13  \n",
      "1980.0                     9             0           0       0            9  \n"
     ]
    }
   ],
   "source": [
    "user_NaN = games_data[games_data['user_score'].isna()]\n",
    "print(user_NaN.groupby(by='year_of_release').count().sort_values(by='name', ascending=False))"
   ]
  },
  {
   "cell_type": "markdown",
   "metadata": {},
   "source": [
    "Todos os anos tem dados faltante, mas os anos mais recentes tem mais dados faltantes"
   ]
  },
  {
   "cell_type": "code",
   "execution_count": 9,
   "metadata": {},
   "outputs": [
    {
     "name": "stdout",
     "output_type": "stream",
     "text": [
      "          name  year_of_release  genre  na_sales  eu_sales  jp_sales  \\\n",
      "platform                                                               \n",
      "DS        1635             1609   1635      1635      1635      1635   \n",
      "PS        1035             1031   1035      1035      1035      1035   \n",
      "PS2        920              907    920       920       920       920   \n",
      "PSP        788              775    788       788       788       788   \n",
      "Wii        760              738    760       760       760       760   \n",
      "GBA        567              560    567       567       567       567   \n",
      "PS3        454              445    454       454       454       454   \n",
      "3DS        346              341    346       346       346       346   \n",
      "N64        319              316    319       319       319       319   \n",
      "X360       296              287    296       296       296       296   \n",
      "PSV        287              287    287       287       287       287   \n",
      "SNES       239              239    239       239       239       239   \n",
      "XB         238              232    238       238       238       238   \n",
      "PC         204              202    204       204       204       204   \n",
      "GC         190              185    190       190       190       190   \n",
      "SAT        173              173    173       173       173       173   \n",
      "PS4        135              135    135       135       135       135   \n",
      "2600       133              116    133       133       133       133   \n",
      "NES         98               98     98        98        98        98   \n",
      "GB          98               97     98        98        98        98   \n",
      "XOne        65               65     65        65        65        65   \n",
      "WiiU        47               47     47        47        47        47   \n",
      "DC          38               38     38        38        38        38   \n",
      "GEN         27               29     27        29        29        29   \n",
      "NG          12               12     12        12        12        12   \n",
      "SCD          6                6      6         6         6         6   \n",
      "WS           6                6      6         6         6         6   \n",
      "3DO          3                3      3         3         3         3   \n",
      "TG16         2                2      2         2         2         2   \n",
      "PCFX         1                1      1         1         1         1   \n",
      "GG           1                1      1         1         1         1   \n",
      "\n",
      "          other_sales  critic_score  user_score  rating  total_sales  \n",
      "platform                                                              \n",
      "DS               1635           248           0     758         1635  \n",
      "PS               1035            44           0      50         1035  \n",
      "PS2               920           137           0     240          920  \n",
      "PSP               788            69           0     123          788  \n",
      "Wii               760            93           0     443          760  \n",
      "GBA               567           197           0     267          567  \n",
      "PS3               454            30           0      86          454  \n",
      "3DS               346            10           0      55          346  \n",
      "N64               319             0           0       0          319  \n",
      "X360              296            35           0      94          296  \n",
      "PSV               287             1           0       8          287  \n",
      "SNES              239             0           0       0          239  \n",
      "XB                238           144           0     148          238  \n",
      "PC                204            12           0      46          204  \n",
      "GC                190            92           0     103          190  \n",
      "SAT               173             0           0       0          173  \n",
      "PS4               135             3           0       9          135  \n",
      "2600              133             0           0       0          133  \n",
      "NES                98             0           0       0           98  \n",
      "GB                 98             0           0       0           98  \n",
      "XOne               65             4           0      10           65  \n",
      "WiiU               47             1           0       5           47  \n",
      "DC                 38             0           0       0           38  \n",
      "GEN                29             0           0       0           29  \n",
      "NG                 12             0           0       0           12  \n",
      "SCD                 6             0           0       0            6  \n",
      "WS                  6             0           0       0            6  \n",
      "3DO                 3             0           0       0            3  \n",
      "TG16                2             0           0       0            2  \n",
      "PCFX                1             0           0       0            1  \n",
      "GG                  1             0           0       0            1  \n"
     ]
    }
   ],
   "source": [
    "print(user_NaN.groupby(by='platform').count().sort_values(by='name', ascending=False))"
   ]
  },
  {
   "cell_type": "markdown",
   "metadata": {},
   "source": [
    "Mesma análise quanto ao ano de lançamento"
   ]
  },
  {
   "cell_type": "code",
   "execution_count": 10,
   "metadata": {},
   "outputs": [
    {
     "name": "stdout",
     "output_type": "stream",
     "text": [
      "              name  platform  year_of_release  na_sales  eu_sales  jp_sales  \\\n",
      "genre                                                                         \n",
      "Action        1539      1539             1511      1539      1539      1539   \n",
      "Misc          1311      1311             1292      1311      1311      1311   \n",
      "Sports        1245      1245             1225      1245      1245      1245   \n",
      "Adventure     1003      1003              995      1003      1003      1003   \n",
      "Role-Playing   755       755              744       755       755       755   \n",
      "Racing         608       608              597       608       608       608   \n",
      "Simulation     529       529              518       529       529       529   \n",
      "Platform       460       460              454       460       460       460   \n",
      "Puzzle         452       452              444       452       452       452   \n",
      "Fighting       450       450              442       450       450       450   \n",
      "Shooter        399       399              391       399       399       399   \n",
      "Strategy       372       372              368       372       372       372   \n",
      "\n",
      "              other_sales  critic_score  user_score  rating  total_sales  \n",
      "genre                                                                     \n",
      "Action               1539           213           0     378         1539  \n",
      "Misc                 1311           127           0     445         1311  \n",
      "Sports               1245           221           0     415         1245  \n",
      "Adventure            1003            58           0     164         1003  \n",
      "Role-Playing          755            16           0      37          755  \n",
      "Racing                608           144           0     241          608  \n",
      "Simulation            529            46           0     230          529  \n",
      "Platform              460            90           0     141          460  \n",
      "Puzzle                452           103           0     214          452  \n",
      "Fighting              450            26           0      41          450  \n",
      "Shooter               399            58           0     101          399  \n",
      "Strategy              372            18           0      38          372  \n"
     ]
    }
   ],
   "source": [
    "print(user_NaN.groupby(by='genre').count().sort_values(by='name', ascending=False))"
   ]
  },
  {
   "cell_type": "markdown",
   "metadata": {},
   "source": [
    "Mesma análise"
   ]
  },
  {
   "cell_type": "markdown",
   "metadata": {},
   "source": [
    "Agora vamos avaliar quanto ao volume de vendas. Se os jogos que não tiveram avaliação são os jogos que tiveram baixo volume de vendas, ou seja, as pessoas já não gostaram e por isso não avaliaram"
   ]
  },
  {
   "cell_type": "code",
   "execution_count": 11,
   "metadata": {},
   "outputs": [
    {
     "name": "stdout",
     "output_type": "stream",
     "text": [
      "                                name platform  year_of_release       genre  \\\n",
      "2061                 Dead or Alive 2      PS2           2000.0    Fighting   \n",
      "2062                            1942      NES           1985.0     Shooter   \n",
      "2063            Game & Watch Gallery       GB           1997.0        Misc   \n",
      "2064                   Excitebike 64      N64           2000.0      Racing   \n",
      "2065        NES Open Tournament Golf      NES           1991.0      Sports   \n",
      "...                              ...      ...              ...         ...   \n",
      "16710  Samurai Warriors: Sanada Maru      PS3           2016.0      Action   \n",
      "16711               LMA Manager 2007     X360           2006.0      Sports   \n",
      "16712        Haitaka no Psychedelica      PSV           2016.0   Adventure   \n",
      "16713               Spirits & Spells      GBA           2003.0    Platform   \n",
      "16714            Winning Post 8 2016      PSV           2016.0  Simulation   \n",
      "\n",
      "       na_sales  eu_sales  jp_sales  other_sales  critic_score  user_score  \\\n",
      "2061       0.30      0.24      0.38         0.08           NaN         NaN   \n",
      "2062       0.65      0.14      0.21         0.00           NaN         NaN   \n",
      "2063       0.63      0.25      0.09         0.03           NaN         NaN   \n",
      "2064       0.65      0.15      0.19         0.01           NaN         NaN   \n",
      "2065       0.41      0.10      0.47         0.02           NaN         NaN   \n",
      "...         ...       ...       ...          ...           ...         ...   \n",
      "16710      0.00      0.00      0.01         0.00           NaN         NaN   \n",
      "16711      0.00      0.01      0.00         0.00           NaN         NaN   \n",
      "16712      0.00      0.00      0.01         0.00           NaN         NaN   \n",
      "16713      0.01      0.00      0.00         0.00           NaN         NaN   \n",
      "16714      0.00      0.00      0.01         0.00           NaN         NaN   \n",
      "\n",
      "      rating  total_sales  \n",
      "2061     NaN         1.00  \n",
      "2062     NaN         1.00  \n",
      "2063     NaN         1.00  \n",
      "2064     NaN         1.00  \n",
      "2065     NaN         1.00  \n",
      "...      ...          ...  \n",
      "16710    NaN         0.01  \n",
      "16711    NaN         0.01  \n",
      "16712    NaN         0.01  \n",
      "16713    NaN         0.01  \n",
      "16714    NaN         0.01  \n",
      "\n",
      "[8441 rows x 12 columns]\n"
     ]
    }
   ],
   "source": [
    "print(user_NaN[user_NaN['total_sales'] <= 1])"
   ]
  },
  {
   "cell_type": "markdown",
   "metadata": {},
   "source": [
    "Aqui temos um análise importante. Os valores que estão ausentes correspondem aos jogos com menos de 1 MM de vendas total. A questão é: esses jogos não venderam porquê não tiveram avaliação ou não tiveram avaliação porquê não venderam. "
   ]
  },
  {
   "cell_type": "markdown",
   "metadata": {},
   "source": [
    "Desta maneira não irei subsituir ou preencher os dados ausentes."
   ]
  },
  {
   "cell_type": "markdown",
   "metadata": {},
   "source": [
    "## 2. Agora iremos iniciar a parte de análise de dados."
   ]
  },
  {
   "cell_type": "code",
   "execution_count": 12,
   "metadata": {},
   "outputs": [
    {
     "name": "stdout",
     "output_type": "stream",
     "text": [
      "    year_of_release  quantity\n",
      "0            1980.0         9\n",
      "1            1981.0        46\n",
      "2            1982.0        36\n",
      "3            1983.0        17\n",
      "4            1984.0        14\n",
      "5            1985.0        14\n",
      "6            1986.0        21\n",
      "7            1987.0        16\n",
      "8            1988.0        15\n",
      "9            1989.0        17\n",
      "10           1990.0        16\n",
      "11           1991.0        41\n",
      "12           1992.0        43\n",
      "13           1993.0        60\n",
      "14           1994.0       121\n",
      "15           1995.0       219\n",
      "16           1996.0       263\n",
      "17           1997.0       289\n",
      "18           1998.0       379\n",
      "19           1999.0       338\n",
      "20           2000.0       350\n",
      "21           2001.0       482\n",
      "22           2002.0       829\n",
      "23           2003.0       775\n",
      "24           2004.0       762\n",
      "25           2005.0       939\n",
      "26           2006.0      1006\n",
      "27           2007.0      1197\n",
      "28           2008.0      1427\n",
      "29           2009.0      1426\n",
      "30           2010.0      1255\n",
      "31           2011.0      1136\n",
      "32           2012.0       653\n",
      "33           2013.0       544\n",
      "34           2014.0       581\n",
      "35           2015.0       606\n",
      "36           2016.0       502\n"
     ]
    }
   ],
   "source": [
    "#agrupando pelo ano de lançamento\n",
    "#Aplicando o método count() para contar quantos jogos\n",
    "#Resetando o index\n",
    "#sorteando em ordem crescente\n",
    "#aplicando slice para utilziar somente 2 colunas (year of release + 1 ) \n",
    "#Renomear para year of release e quantity\n",
    "games_by_year = games_data.groupby(by='year_of_release').count().reset_index().sort_values(by='year_of_release',ascending=True)\n",
    "games_by_year = games_by_year[['year_of_release', 'name']]\n",
    "games_by_year.rename(columns={'name':'quantity'}, inplace=True)\n",
    "print(games_by_year)"
   ]
  },
  {
   "cell_type": "code",
   "execution_count": 13,
   "metadata": {},
   "outputs": [
    {
     "data": {
      "image/png": "[encoded data removed]",
      "text/plain": [
       "<Figure size 432x288 with 1 Axes>"
      ]
     },
     "metadata": {
      "needs_background": "light"
     },
     "output_type": "display_data"
    }
   ],
   "source": [
    "games_by_year.plot(x='year_of_release', y='quantity', legend=False,title='Quantity of Games x Year', ylabel='Quantity(units)', xlabel='Year');"
   ]
  },
  {
   "cell_type": "markdown",
   "metadata": {},
   "source": [
    "É possível ver a curva de lançamento, desta maneira percebe-se que entre  `2000 e 2009` foi houve o bum de lançamento de jogos"
   ]
  },
  {
   "cell_type": "code",
   "execution_count": 14,
   "metadata": {},
   "outputs": [
    {
     "name": "stdout",
     "output_type": "stream",
     "text": [
      "                    name platform  year_of_release     genre  na_sales  \\\n",
      "0             Wii Sports      Wii           2006.0    Sports     41.36   \n",
      "2         Mario Kart Wii      Wii           2008.0    Racing     15.68   \n",
      "3      Wii Sports Resort      Wii           2009.0    Sports     15.61   \n",
      "6  New Super Mario Bros.       DS           2006.0  Platform     11.28   \n",
      "7               Wii Play      Wii           2006.0      Misc     13.96   \n",
      "\n",
      "   eu_sales  jp_sales  other_sales  critic_score  user_score rating  \\\n",
      "0     28.96      3.77         8.45          76.0         8.0      E   \n",
      "2     12.76      3.79         3.29          82.0         8.3      E   \n",
      "3     10.93      3.28         2.95          80.0         8.0      E   \n",
      "6      9.14      6.50         2.88          89.0         8.5      E   \n",
      "7      9.18      2.93         2.84          58.0         6.6      E   \n",
      "\n",
      "   total_sales  \n",
      "0        82.54  \n",
      "2        35.52  \n",
      "3        32.77  \n",
      "6        29.80  \n",
      "7        28.91  \n"
     ]
    }
   ],
   "source": [
    "top_games = games_data[(games_data['year_of_release'] >= 2000) & (games_data['year_of_release'] <= 2009)]\n",
    "\n",
    "print(top_games.sort_values(by='total_sales', ascending=False).head())"
   ]
  },
  {
   "cell_type": "markdown",
   "metadata": {},
   "source": [
    "O jogo que mais vendeu nesse período foi `Wii Sports` da plataforma `Wii`. Mesmo vendeu `$82.54` MM de dólares"
   ]
  },
  {
   "cell_type": "markdown",
   "metadata": {},
   "source": [
    "Vamos comparar os jogos que mais venderam de todos os tempos"
   ]
  },
  {
   "cell_type": "code",
   "execution_count": 15,
   "metadata": {},
   "outputs": [
    {
     "name": "stdout",
     "output_type": "stream",
     "text": [
      "                       name platform  year_of_release         genre  na_sales  \\\n",
      "0                Wii Sports      Wii           2006.0        Sports     41.36   \n",
      "1         Super Mario Bros.      NES           1985.0      Platform     29.08   \n",
      "2            Mario Kart Wii      Wii           2008.0        Racing     15.68   \n",
      "3         Wii Sports Resort      Wii           2009.0        Sports     15.61   \n",
      "4  Pokemon Red/Pokemon Blue       GB           1996.0  Role-Playing     11.27   \n",
      "\n",
      "   eu_sales  jp_sales  other_sales  critic_score  user_score rating  \\\n",
      "0     28.96      3.77         8.45          76.0         8.0      E   \n",
      "1      3.58      6.81         0.77           NaN         NaN    NaN   \n",
      "2     12.76      3.79         3.29          82.0         8.3      E   \n",
      "3     10.93      3.28         2.95          80.0         8.0      E   \n",
      "4      8.89     10.22         1.00           NaN         NaN    NaN   \n",
      "\n",
      "   total_sales  \n",
      "0        82.54  \n",
      "1        40.24  \n",
      "2        35.52  \n",
      "3        32.77  \n",
      "4        31.38  \n"
     ]
    }
   ],
   "source": [
    "print(games_data.sort_values(by='total_sales', ascending=False).head())"
   ]
  },
  {
   "cell_type": "markdown",
   "metadata": {},
   "source": [
    "É possível perceber que temos apenas 2 jogos que estão fora do período de maior volume de lançamentos: `Super Mario Bros.` e `Pokemon Red/Pokemon Blue`. São jogos de 1985 e 1996, respectivamente."
   ]
  },
  {
   "cell_type": "markdown",
   "metadata": {},
   "source": [
    "Vamos analisar as vendas por plataforma. Total de vendas por plataforma."
   ]
  },
  {
   "cell_type": "code",
   "execution_count": 16,
   "metadata": {},
   "outputs": [
    {
     "name": "stdout",
     "output_type": "stream",
     "text": [
      "   platform  total_sales\n",
      "16      PS2      1255.77\n",
      "28     X360       971.42\n",
      "17      PS3       939.65\n",
      "26      Wii       907.51\n",
      "4        DS       806.12\n",
      "15       PS       730.86\n"
     ]
    }
   ],
   "source": [
    "salesby_platform = games_data.groupby(by='platform')['total_sales'].sum().reset_index().sort_values(by='total_sales', ascending=False)\n",
    "salesby_platform_filtered = salesby_platform[salesby_platform['total_sales'] >= 700]\n",
    "print(salesby_platform_filtered)"
   ]
  },
  {
   "cell_type": "markdown",
   "metadata": {},
   "source": [
    "Utilizei somente valores acima de $700MM devido ao primeiro valor abaixo disto ser menos da metade."
   ]
  },
  {
   "cell_type": "code",
   "execution_count": 17,
   "metadata": {},
   "outputs": [
    {
     "data": {
      "image/png": "[encoded data removed]",
      "text/plain": [
       "<Figure size 432x288 with 1 Axes>"
      ]
     },
     "metadata": {
      "needs_background": "light"
     },
     "output_type": "display_data"
    }
   ],
   "source": [
    "salesby_platform_filtered.plot(kind='bar', y='total_sales', x='platform', legend=False, xlabel='Platform', ylabel='Total Sales ($ MM)', title='Sales x Platform', color='gray')\n",
    "plt.show()"
   ]
  },
  {
   "cell_type": "markdown",
   "metadata": {},
   "source": [
    "- Apesar da plataforma Wii ter os jogos que mais venderam individualmente a mesma é apenas a quarta colocada em volume total de vendas. \n",
    "- A plataforma com o maior volume de vendas é o PS2"
   ]
  },
  {
   "cell_type": "code",
   "execution_count": 18,
   "metadata": {},
   "outputs": [
    {
     "name": "stdout",
     "output_type": "stream",
     "text": [
      "    platform  year_of_release  total_sales\n",
      "218     X360           2010.0       170.03\n",
      "213     X360           2005.0         8.25\n",
      "214     X360           2006.0        51.62\n",
      "215     X360           2007.0        95.41\n",
      "216     X360           2008.0       135.26\n",
      "..       ...              ...          ...\n",
      "33        DS           2011.0        26.18\n",
      "31        DS           2009.0       119.54\n",
      "34        DS           2012.0        11.01\n",
      "35        DS           2013.0         1.54\n",
      "32        DS           2010.0        85.02\n",
      "\n",
      "[67 rows x 3 columns]\n"
     ]
    }
   ],
   "source": [
    "#filtrando somente as plataformas com maior venda\n",
    "salesby_platform_year =  games_data.groupby(by=['platform', 'year_of_release'])['total_sales'].sum().reset_index().sort_values(by='platform', ascending=False)\n",
    "platform = ['PS2', 'X360', 'PS3', 'Wii', 'DS', 'PS']\n",
    "salesby_platform_year_filtered = salesby_platform_year[salesby_platform_year['platform'].isin(platform)]\n",
    "print(salesby_platform_year_filtered)"
   ]
  },
  {
   "cell_type": "code",
   "execution_count": 19,
   "metadata": {},
   "outputs": [
    {
     "name": "stdout",
     "output_type": "stream",
     "text": [
      "    platform  year_of_release  total_sales\n",
      "25        DS           1985.0         0.02\n",
      "120       PS           1994.0         6.03\n",
      "121       PS           1995.0        35.96\n",
      "122       PS           1996.0        94.70\n",
      "123       PS           1997.0       136.17\n",
      "..       ...              ...          ...\n",
      "206      Wii           2015.0         1.14\n",
      "223     X360           2015.0        11.96\n",
      "224     X360           2016.0         1.52\n",
      "207      Wii           2016.0         0.18\n",
      "152      PS3           2016.0         3.60\n",
      "\n",
      "[67 rows x 3 columns]\n"
     ]
    },
    {
     "data": {
      "image/png": "[encoded data removed]",
      "text/plain": [
       "<Figure size 432x288 with 1 Axes>"
      ]
     },
     "metadata": {
      "needs_background": "light"
     },
     "output_type": "display_data"
    }
   ],
   "source": [
    "#plotar o gráfico de vendas das plataformas ao longo dos anos\n",
    "#Para isso será necessário ordenar por year\n",
    "salesby_platform_year_filtered = salesby_platform_year_filtered.sort_values(by='year_of_release')\n",
    "\n",
    "print(salesby_platform_year_filtered)\n",
    "\n",
    "sns.lineplot(x='year_of_release', y='total_sales', hue='platform', data=salesby_platform_year_filtered)\n",
    "plt.xlabel('Year of Release')\n",
    "plt.ylabel('Total Sales ($ MM)')\n",
    "plt.title('Total Sales by Platform through the years')\n",
    "plt.show()"
   ]
  },
  {
   "cell_type": "markdown",
   "metadata": {},
   "source": [
    "- O reinado do PS1 (PS) foi o mais longo ,quase 10 anos.\n",
    "- Na sequência com o lançamento do PS2 as vendas do PS1 pararam e deram lugar ao reinado do PS2, que já foi mais curto, aproximadamente 6 anos. \n",
    "- Depois temos um perído que a briga ficou acirrada com as outras 4 plataformas (DS, X360, Wii e PS3) sendo lançadas juntas.Onde todas occuparam por um curto período a liderança de vendas.\n",
    "- Atualmente não temos mais vendas de PS1, PS2 e DS"
   ]
  },
  {
   "cell_type": "markdown",
   "metadata": {},
   "source": [
    "Com base nesses dados iremos considerar somente informações a partir do ano 2000"
   ]
  },
  {
   "cell_type": "code",
   "execution_count": 20,
   "metadata": {},
   "outputs": [
    {
     "name": "stdout",
     "output_type": "stream",
     "text": [
      "                    name platform  year_of_release     genre  na_sales  \\\n",
      "0             Wii Sports      Wii           2006.0    Sports     41.36   \n",
      "2         Mario Kart Wii      Wii           2008.0    Racing     15.68   \n",
      "3      Wii Sports Resort      Wii           2009.0    Sports     15.61   \n",
      "6  New Super Mario Bros.       DS           2006.0  Platform     11.28   \n",
      "7               Wii Play      Wii           2006.0      Misc     13.96   \n",
      "\n",
      "   eu_sales  jp_sales  other_sales  critic_score  user_score rating  \\\n",
      "0     28.96      3.77         8.45          76.0         8.0      E   \n",
      "2     12.76      3.79         3.29          82.0         8.3      E   \n",
      "3     10.93      3.28         2.95          80.0         8.0      E   \n",
      "6      9.14      6.50         2.88          89.0         8.5      E   \n",
      "7      9.18      2.93         2.84          58.0         6.6      E   \n",
      "\n",
      "   total_sales  \n",
      "0        82.54  \n",
      "2        35.52  \n",
      "3        32.77  \n",
      "6        29.80  \n",
      "7        28.91  \n"
     ]
    }
   ],
   "source": [
    "games_data_filtered = games_data[games_data['year_of_release'] >= 2000]\n",
    "print(games_data_filtered.head())"
   ]
  },
  {
   "cell_type": "markdown",
   "metadata": {},
   "source": [
    "Agora iremos analisar os dados da atulidade, após 2013 e avaliar quais plataformas ainda estão vendendo"
   ]
  },
  {
   "cell_type": "markdown",
   "metadata": {},
   "source": [
    "<div class=\"alert alert-block alert-warning\">\n",
    "<b> Comentário do revisor: </b> <a class=\"tocSkip\"></a>\n",
    "\n",
    "O ideal é recortar dentro 2-3 anos para prever vendas.\n",
    "</div>"
   ]
  },
  {
   "cell_type": "code",
   "execution_count": 21,
   "metadata": {},
   "outputs": [
    {
     "data": {
      "image/png": "[encoded data removed]",
      "text/plain": [
       "<Figure size 432x288 with 1 Axes>"
      ]
     },
     "metadata": {
      "needs_background": "light"
     },
     "output_type": "display_data"
    }
   ],
   "source": [
    "salesby_platform_year_filtered_2 = salesby_platform_year[salesby_platform_year['year_of_release'] >= 2013]\n",
    "sns.lineplot(x='year_of_release', y='total_sales', hue='platform', data=salesby_platform_year_filtered_2)\n",
    "plt.show()\n"
   ]
  },
  {
   "cell_type": "markdown",
   "metadata": {},
   "source": [
    "Agora podemos ver que as plataformas PS4 e XOne são as que estão vendendo na atualidade"
   ]
  },
  {
   "cell_type": "code",
   "execution_count": 22,
   "metadata": {},
   "outputs": [
    {
     "name": "stdout",
     "output_type": "stream",
     "text": [
      "   platform  total_sales\n",
      "4       PS4       314.14\n",
      "3       PS3       181.43\n",
      "10     XOne       159.32\n",
      "0       3DS       143.25\n",
      "9      X360       136.80\n",
      "8      WiiU        64.63\n",
      "2        PC        39.43\n",
      "6       PSV        32.99\n",
      "7       Wii        13.66\n",
      "5       PSP         3.50\n",
      "1        DS         1.54\n"
     ]
    }
   ],
   "source": [
    "#Filtrando somente os jogos acima de 2010\n",
    "#Agrupando por plataforma\n",
    "games_data_filtered2010 = games_data[games_data['year_of_release'] >= 2013]\n",
    "salesby_platform_filtered2010 = games_data_filtered2010.groupby(by='platform')['total_sales'].sum().reset_index().sort_values(by='total_sales', ascending=False)\n",
    "print(salesby_platform_filtered2010)"
   ]
  },
  {
   "cell_type": "code",
   "execution_count": 23,
   "metadata": {},
   "outputs": [
    {
     "data": {
      "image/png": "[encoded data removed]",
      "text/plain": [
       "<Figure size 432x288 with 1 Axes>"
      ]
     },
     "metadata": {
      "needs_background": "light"
     },
     "output_type": "display_data"
    }
   ],
   "source": [
    "#Avaliando as vendas por plataforma através de box plot\n",
    "salesby_platform_filtered2010.boxplot(column='total_sales');"
   ]
  },
  {
   "cell_type": "code",
   "execution_count": 24,
   "metadata": {},
   "outputs": [
    {
     "name": "stdout",
     "output_type": "stream",
     "text": [
      "99.15363636363631\n"
     ]
    }
   ],
   "source": [
    "#Cálculo da média de vendas por plataforma\n",
    "print(salesby_platform_filtered2010['total_sales'].mean())\n"
   ]
  },
  {
   "cell_type": "markdown",
   "metadata": {},
   "source": [
    "- A mediana de vendas por plataforma é de $60MM\n",
    "- E a média é de $99MM puxada para cima devido valores elevados (máximo = $310M)\n",
    "- 75% dos jogos tiveram vendas < $150MM"
   ]
  },
  {
   "cell_type": "code",
   "execution_count": 25,
   "metadata": {},
   "outputs": [
    {
     "data": {
      "image/png": "[encoded data removed]",
      "text/plain": [
       "<Figure size 432x288 with 1 Axes>"
      ]
     },
     "metadata": {
      "needs_background": "light"
     },
     "output_type": "display_data"
    }
   ],
   "source": [
    "games_data_filtered2010.plot(kind='scatter', y='total_sales', x='user_score', xlabel='User Score', ylabel='Total Sales', title='Correlation Graph')\n",
    "plt.show()"
   ]
  },
  {
   "cell_type": "code",
   "execution_count": 26,
   "metadata": {},
   "outputs": [
    {
     "data": {
      "image/png": "[encoded data removed]",
      "text/plain": [
       "<Figure size 432x288 with 1 Axes>"
      ]
     },
     "metadata": {
      "needs_background": "light"
     },
     "output_type": "display_data"
    }
   ],
   "source": [
    "games_data_filtered2010.plot(kind='scatter', y='total_sales', x='critic_score', xlabel='Critic Score', ylabel='Total Sales', title='Correlation Graph')\n",
    "plt.show()\n"
   ]
  },
  {
   "cell_type": "code",
   "execution_count": 27,
   "metadata": {},
   "outputs": [
    {
     "name": "stdout",
     "output_type": "stream",
     "text": [
      "A correlação entre o total de vendas e a avaliação dos usuários é de -0.0026078133545982727:\n",
      "A correlação entre o total de vendas e a avaliação dos críticos é de 0.3136995151027369:\n"
     ]
    }
   ],
   "source": [
    "corr1 = games_data_filtered2010['total_sales'].corr(games_data_filtered2010['user_score'])\n",
    "corr2 = games_data_filtered2010['total_sales'].corr(games_data_filtered2010['critic_score'])\n",
    "\n",
    "print(f\"A correlação entre o total de vendas e a avaliação dos usuários é de {corr1}:\")\n",
    "print(f\"A correlação entre o total de vendas e a avaliação dos críticos é de {corr2}:\")"
   ]
  },
  {
   "cell_type": "markdown",
   "metadata": {},
   "source": [
    "- A correlação entre as vendas e avaliação é fraca. \n",
    "- A maior correlação ocorre entre o total de vendas e a avaliação dos críticos"
   ]
  },
  {
   "cell_type": "markdown",
   "metadata": {},
   "source": [
    "Vamos comparar a venda dos jogos em diferentes plataformas e é possível observar que `GTA V` e `COD` estão presente como jogos mais vendidos em diversas plataformas."
   ]
  },
  {
   "cell_type": "code",
   "execution_count": 28,
   "metadata": {},
   "outputs": [
    {
     "name": "stdout",
     "output_type": "stream",
     "text": [
      "                                           name platform  total_sales\n",
      "748                          Grand Theft Auto V      PS3        21.05\n",
      "750                          Grand Theft Auto V     X360        16.27\n",
      "254                   Call of Duty: Black Ops 3      PS4        14.63\n",
      "1402                        Pokemon X/Pokemon Y      3DS        14.60\n",
      "749                          Grand Theft Auto V      PS4        12.62\n",
      "1398  Pokemon Omega Ruby/Pokemon Alpha Sapphire      3DS        11.68\n",
      "261                        Call of Duty: Ghosts     X360        10.24\n",
      "258                        Call of Duty: Ghosts      PS3         9.36\n",
      "1167                                  Minecraft     X360         9.18\n",
      "606                                     FIFA 16      PS4         8.58\n"
     ]
    }
   ],
   "source": [
    "gamesby_name = games_data_filtered2010.groupby(by=['name','platform'])['total_sales'].sum().reset_index().sort_values(by='total_sales', ascending=False)\n",
    "print(gamesby_name.head(10))"
   ]
  },
  {
   "cell_type": "markdown",
   "metadata": {},
   "source": [
    "Fazendo o agrupamento por gênero afim de avaliar a quantidade de jogos por categoria.  \n",
    "O gênero de ação é o gênero com maior número de jogos.  \n",
    "Será que ele é o gênero com maior volume de vendas?"
   ]
  },
  {
   "cell_type": "code",
   "execution_count": 29,
   "metadata": {},
   "outputs": [
    {
     "name": "stdout",
     "output_type": "stream",
     "text": [
      "           genre  count\n",
      "0         Action    766\n",
      "7   Role-Playing    292\n",
      "1      Adventure    245\n",
      "10        Sports    214\n",
      "8        Shooter    187\n",
      "3           Misc    155\n",
      "6         Racing     85\n",
      "2       Fighting     80\n",
      "4       Platform     74\n",
      "9     Simulation     62\n",
      "11      Strategy     56\n",
      "5         Puzzle     17\n",
      "\n",
      "           genre  total_sales\n",
      "0         Action       321.87\n",
      "8        Shooter       232.98\n",
      "10        Sports       150.65\n",
      "7   Role-Playing       145.89\n",
      "3           Misc        62.82\n",
      "4       Platform        42.63\n",
      "6         Racing        39.89\n",
      "2       Fighting        35.31\n",
      "1      Adventure        23.64\n",
      "9     Simulation        21.76\n",
      "11      Strategy        10.08\n",
      "5         Puzzle         3.17\n"
     ]
    }
   ],
   "source": [
    "genre_count = games_data_filtered2010.groupby(by='genre').count().reset_index().sort_values(by='name', ascending=False)[['genre','name']]\n",
    "genre_count.rename(columns={'name':'count'}, inplace=True)\n",
    "print(genre_count)\n",
    "gamesby_genre = games_data_filtered2010.groupby(by='genre')['total_sales'].sum().reset_index().sort_values(by='total_sales',ascending=False)\n",
    "print()\n",
    "print(gamesby_genre)\n",
    "\n"
   ]
  },
  {
   "cell_type": "code",
   "execution_count": 30,
   "metadata": {},
   "outputs": [
    {
     "name": "stdout",
     "output_type": "stream",
     "text": [
      "\n",
      "           genre  total_sales  count\n",
      "0         Action       321.87    766\n",
      "1        Shooter       232.98    187\n",
      "2         Sports       150.65    214\n",
      "3   Role-Playing       145.89    292\n",
      "4           Misc        62.82    155\n",
      "5       Platform        42.63     74\n",
      "6         Racing        39.89     85\n",
      "7       Fighting        35.31     80\n",
      "8      Adventure        23.64    245\n",
      "9     Simulation        21.76     62\n",
      "10      Strategy        10.08     56\n",
      "11        Puzzle         3.17     17\n"
     ]
    }
   ],
   "source": [
    "gamesby_genre_count = gamesby_genre.merge(genre_count)\n",
    "print()\n",
    "print(gamesby_genre_count)\n"
   ]
  },
  {
   "cell_type": "markdown",
   "metadata": {},
   "source": [
    "<s><div class=\"alert alert-block alert-danger\">\n",
    "<b> Comentário do revisor: </b> <a class=\"tocSkip\"></a>\n",
    "\n",
    "Erro no código. Veja abaixo o tipo das colunas para você entender o erro.\n",
    "</div>"
   ]
  },
  {
   "cell_type": "code",
   "execution_count": 31,
   "metadata": {},
   "outputs": [
    {
     "name": "stdout",
     "output_type": "stream",
     "text": [
      "<class 'pandas.core.frame.DataFrame'>\n",
      "Int64Index: 12 entries, 0 to 5\n",
      "Data columns (total 2 columns):\n",
      " #   Column       Non-Null Count  Dtype  \n",
      "---  ------       --------------  -----  \n",
      " 0   genre        12 non-null     object \n",
      " 1   total_sales  12 non-null     float64\n",
      "dtypes: float64(1), object(1)\n",
      "memory usage: 288.0+ bytes\n"
     ]
    }
   ],
   "source": [
    "gamesby_genre.info()"
   ]
  },
  {
   "cell_type": "code",
   "execution_count": 32,
   "metadata": {},
   "outputs": [
    {
     "name": "stdout",
     "output_type": "stream",
     "text": [
      "<class 'pandas.core.frame.DataFrame'>\n",
      "Int64Index: 12 entries, 0 to 5\n",
      "Data columns (total 2 columns):\n",
      " #   Column  Non-Null Count  Dtype \n",
      "---  ------  --------------  ----- \n",
      " 0   genre   12 non-null     object\n",
      " 1   count   12 non-null     int64 \n",
      "dtypes: int64(1), object(1)\n",
      "memory usage: 288.0+ bytes\n"
     ]
    }
   ],
   "source": [
    "genre_count.info()"
   ]
  },
  {
   "cell_type": "markdown",
   "metadata": {},
   "source": [
    "Ação é o gênero com maior número de jogos e também com a maior receita de vendas.  \n",
    "Mas esta não é uma premissa para o sucessp: lançar muitos jogos.  \n",
    "Por exemplo: adventure teve 1300 jogos e está na 10 colocação enquanto Shooter, que tem menos jogos está na segunda."
   ]
  },
  {
   "cell_type": "markdown",
   "metadata": {},
   "source": [
    "## 3. Criando perfil por região"
   ]
  },
  {
   "cell_type": "markdown",
   "metadata": {},
   "source": [
    "#### `Estamos trabalhando somente com os dados após 2013` (games_data_filtered2010)"
   ]
  },
  {
   "cell_type": "markdown",
   "metadata": {},
   "source": [
    "### 3.1 North America"
   ]
  },
  {
   "cell_type": "code",
   "execution_count": 33,
   "metadata": {},
   "outputs": [
    {
     "name": "stdout",
     "output_type": "stream",
     "text": [
      "   platform  na_sales\n",
      "4       PS4    108.74\n",
      "10     XOne     93.12\n",
      "9      X360     81.66\n",
      "3       PS3     63.50\n",
      "0       3DS     38.20\n"
     ]
    }
   ],
   "source": [
    "#definindo as plataforma mais vendidas\n",
    "platformby_region = games_data_filtered2010.groupby(by='platform')\n",
    "na_platform = platformby_region['na_sales'].sum().reset_index().sort_values(by='na_sales', ascending=False)\n",
    "print(na_platform.head())"
   ]
  },
  {
   "cell_type": "markdown",
   "metadata": {},
   "source": [
    "Para NA PS4 é a plataforma com maior volume de vendas"
   ]
  },
  {
   "cell_type": "code",
   "execution_count": 34,
   "metadata": {},
   "outputs": [
    {
     "name": "stdout",
     "output_type": "stream",
     "text": [
      "           genre  na_sales\n",
      "0         Action    126.05\n",
      "8        Shooter    109.74\n",
      "10        Sports     65.27\n",
      "7   Role-Playing     46.40\n",
      "3           Misc     27.49\n"
     ]
    }
   ],
   "source": [
    "#definindo os gêneros mais vendidos\n",
    "na_genre = games_data_filtered2010.groupby(by='genre')['na_sales'].sum().reset_index().sort_values(by='na_sales', ascending=False)\n",
    "print(na_genre.head())"
   ]
  },
  {
   "cell_type": "markdown",
   "metadata": {},
   "source": [
    "O gênero mais vendido é o Action"
   ]
  },
  {
   "cell_type": "code",
   "execution_count": 35,
   "metadata": {},
   "outputs": [
    {
     "name": "stdout",
     "output_type": "stream",
     "text": [
      "                         name  na_sales rating\n",
      "23         Grand Theft Auto V      9.66      M\n",
      "16         Grand Theft Auto V      7.02      M\n",
      "60       Call of Duty: Ghosts      6.73      M\n",
      "31  Call of Duty: Black Ops 3      6.03    NaN\n",
      "72                  Minecraft      5.70    NaN\n"
     ]
    }
   ],
   "source": [
    "#definindo o jogo mais vendido\n",
    "na_game = games_data_filtered2010.sort_values(by='na_sales', ascending=False)[['name', 'na_sales', 'rating']]\n",
    "print(na_game.head())"
   ]
  },
  {
   "cell_type": "markdown",
   "metadata": {},
   "source": [
    "O jogo mais vendido foi o `GTA V` que teve rating `M`. "
   ]
  },
  {
   "cell_type": "markdown",
   "metadata": {},
   "source": [
    "###  3.2 União Europeia"
   ]
  },
  {
   "cell_type": "code",
   "execution_count": 36,
   "metadata": {},
   "outputs": [
    {
     "name": "stdout",
     "output_type": "stream",
     "text": [
      "   platform  eu_sales\n",
      "4       PS4    141.09\n",
      "3       PS3     67.81\n",
      "10     XOne     51.59\n",
      "9      X360     42.52\n",
      "0       3DS     30.96\n"
     ]
    }
   ],
   "source": [
    "#definindo as plataforma mais vendidas\n",
    "eu_platform = platformby_region['eu_sales'].sum().reset_index().sort_values(by='eu_sales', ascending=False)\n",
    "print(eu_platform.head())"
   ]
  },
  {
   "cell_type": "markdown",
   "metadata": {},
   "source": [
    "Para UE temos a plataforma PS4 em primeiro lugar de vendas"
   ]
  },
  {
   "cell_type": "code",
   "execution_count": 37,
   "metadata": {},
   "outputs": [
    {
     "name": "stdout",
     "output_type": "stream",
     "text": [
      "           genre  eu_sales\n",
      "0         Action    118.13\n",
      "8        Shooter     87.86\n",
      "10        Sports     60.52\n",
      "7   Role-Playing     36.97\n",
      "6         Racing     20.19\n"
     ]
    }
   ],
   "source": [
    "#definindo os gêneros mais vendidos\n",
    "eu_genre = games_data_filtered2010.groupby(by='genre')['eu_sales'].sum().reset_index().sort_values(by='eu_sales', ascending=False)\n",
    "print(eu_genre.head())"
   ]
  },
  {
   "cell_type": "markdown",
   "metadata": {},
   "source": [
    "O gênero mais vendido também é o de ação"
   ]
  },
  {
   "cell_type": "code",
   "execution_count": 38,
   "metadata": {},
   "outputs": [
    {
     "name": "stdout",
     "output_type": "stream",
     "text": [
      "                         name  eu_sales rating\n",
      "16         Grand Theft Auto V      9.09      M\n",
      "42         Grand Theft Auto V      6.31      M\n",
      "77                    FIFA 16      6.12      E\n",
      "31  Call of Duty: Black Ops 3      5.86    NaN\n",
      "94                    FIFA 17      5.75      E\n"
     ]
    }
   ],
   "source": [
    "#definindo o jogo mais vendido\n",
    "eu_game = games_data_filtered2010.sort_values(by='eu_sales', ascending=False)[['name', 'eu_sales', 'rating']]\n",
    "print(eu_game.head())"
   ]
  },
  {
   "cell_type": "markdown",
   "metadata": {},
   "source": [
    "O jogo mais vendido foi `Grand Theft Auto V`. E a classificação do jogo é `M`"
   ]
  },
  {
   "cell_type": "markdown",
   "metadata": {},
   "source": [
    "### 3.3 Japão"
   ]
  },
  {
   "cell_type": "code",
   "execution_count": 39,
   "metadata": {},
   "outputs": [
    {
     "name": "stdout",
     "output_type": "stream",
     "text": [
      "  platform  jp_sales\n",
      "0      3DS     67.81\n",
      "3      PS3     23.35\n",
      "6      PSV     18.59\n",
      "4      PS4     15.96\n",
      "8     WiiU     10.88\n"
     ]
    }
   ],
   "source": [
    "#definindo as plataforma mais vendidas\n",
    "jp_platform = platformby_region['jp_sales'].sum().reset_index().sort_values(by='jp_sales', ascending=False)\n",
    "print(jp_platform.head())"
   ]
  },
  {
   "cell_type": "markdown",
   "metadata": {},
   "source": [
    "Já no JP a platforma mais vendida é a 3DS"
   ]
  },
  {
   "cell_type": "code",
   "execution_count": 40,
   "metadata": {},
   "outputs": [
    {
     "name": "stdout",
     "output_type": "stream",
     "text": [
      "          genre  jp_sales\n",
      "7  Role-Playing     51.04\n",
      "0        Action     40.49\n",
      "3          Misc      9.20\n",
      "2      Fighting      7.65\n",
      "8       Shooter      6.61\n"
     ]
    }
   ],
   "source": [
    "#definindo os gêneros mais vendidos\n",
    "jp_genre = games_data_filtered2010.groupby(by='genre')['jp_sales'].sum().reset_index().sort_values(by='jp_sales', ascending=False)\n",
    "print(jp_genre.head())"
   ]
  },
  {
   "cell_type": "markdown",
   "metadata": {},
   "source": [
    "No japão temos o gênero `Role-Playing` como o gênero mais vendido."
   ]
  },
  {
   "cell_type": "code",
   "execution_count": 41,
   "metadata": {},
   "outputs": [
    {
     "name": "stdout",
     "output_type": "stream",
     "text": [
      "                                          name  jp_sales rating\n",
      "33                         Pokemon X/Pokemon Y      4.35    NaN\n",
      "385                           Monster Hunter 4      3.44    NaN\n",
      "412                  Yokai Watch 2 Ganso/Honke      3.18    NaN\n",
      "47   Pokemon Omega Ruby/Pokemon Alpha Sapphire      3.10    NaN\n",
      "406                           Monster Hunter X      2.79    NaN\n"
     ]
    }
   ],
   "source": [
    "#definindo o jogo mais vendido\n",
    "jp_game = games_data_filtered2010.sort_values(by='jp_sales', ascending=False)[['name', 'jp_sales', 'rating']]\n",
    "print(jp_game.head())"
   ]
  },
  {
   "cell_type": "markdown",
   "metadata": {},
   "source": [
    "No JP os jogos mais vendidos são da franquia Pokemon. A Classificação não importa para a região visto que todos os itens no Top 5 não tem classificação"
   ]
  },
  {
   "cell_type": "markdown",
   "metadata": {},
   "source": [
    "Com base nessas 3 regiões é possível concluir que para a `EU` e `NA` a classificação importa, logo jogos com classificação `M`` tem maiores volumes de venda."
   ]
  },
  {
   "cell_type": "markdown",
   "metadata": {},
   "source": [
    "### 3.4 Avaliando as principais plataformas e sua distribuição por região"
   ]
  },
  {
   "cell_type": "code",
   "execution_count": 42,
   "metadata": {},
   "outputs": [
    {
     "name": "stdout",
     "output_type": "stream",
     "text": [
      "   platform  na_sales  eu_sales  jp_sales  total_sales\n",
      "4       PS4    108.74    141.09     15.96       314.14\n",
      "3       PS3     63.50     67.81     23.35       181.43\n",
      "10     XOne     93.12     51.59      0.34       159.32\n",
      "0       3DS     38.20     30.96     67.81       143.25\n",
      "9      X360     81.66     42.52      0.51       136.80\n"
     ]
    }
   ],
   "source": [
    "platform_distribution = platformby_region[['na_sales', 'eu_sales', 'jp_sales', 'total_sales']].sum().reset_index().sort_values(by='total_sales', ascending=False)\n",
    "print(platform_distribution.head())"
   ]
  },
  {
   "cell_type": "markdown",
   "metadata": {},
   "source": [
    "As 5 principais plataformas de todas as regiões são:  \n",
    "- PS4\n",
    "- PS3\n",
    "- XOne\n",
    "- 3DS\n",
    "- X360"
   ]
  },
  {
   "cell_type": "code",
   "execution_count": 43,
   "metadata": {},
   "outputs": [
    {
     "name": "stdout",
     "output_type": "stream",
     "text": [
      "   platform  na_percent  eu_percent  jp_percent\n",
      "4       PS4   24.842933   35.971241   11.336838\n",
      "3       PS3   14.507322   17.288326   16.586163\n",
      "10     XOne   21.274360   13.152997    0.241512\n",
      "0       3DS    8.727239    7.893328   48.167353\n",
      "9      X360   18.656188   10.840578    0.362267\n"
     ]
    }
   ],
   "source": [
    "platform_distribution['na_percent'] = (platform_distribution['na_sales']/platform_distribution['na_sales'].sum())*100\n",
    "platform_distribution['eu_percent'] = (platform_distribution['eu_sales']/platform_distribution['eu_sales'].sum())*100\n",
    "platform_distribution['jp_percent'] = (platform_distribution['jp_sales']/platform_distribution['jp_sales'].sum())*100\n",
    "platform_percent = platform_distribution [['platform', 'na_percent', 'eu_percent', 'jp_percent']]\n",
    "print(platform_percent.head())\n"
   ]
  },
  {
   "cell_type": "markdown",
   "metadata": {},
   "source": [
    "Conclusão:  \n",
    "- PS4 representa a maior quota dentro do mercado EU e NA\n",
    "- XOne é o segundo no NA, mas não tem participação no JP\n",
    "- 3DS no JP é lider absoluto com quase 50% das vendas\n"
   ]
  },
  {
   "cell_type": "markdown",
   "metadata": {},
   "source": [
    "## 4. Teste de Hipóteses"
   ]
  },
  {
   "cell_type": "markdown",
   "metadata": {},
   "source": [
    "### 4.1 As classificações médias dos usuários das plataformas Xbox One e PC são as mesmas."
   ]
  },
  {
   "cell_type": "code",
   "execution_count": 44,
   "metadata": {},
   "outputs": [],
   "source": [
    "#Filtrar por plataforma (XOne e PC)\n",
    "xone_user_mean = games_data[games_data['platform']=='XOne']\n",
    "pc_user_mean = games_data[games_data['platform']=='PC']\n"
   ]
  },
  {
   "cell_type": "markdown",
   "metadata": {},
   "source": [
    "#### 4.1.1 Definição H0 e Ha  \n",
    "H0 = As classificações médias dos usuários das plataformas Xbox One e PC são iguais  \n",
    "Ha = As lassificações médias dos usuários das plataformas Xbox One e PC são diferentes"
   ]
  },
  {
   "cell_type": "markdown",
   "metadata": {},
   "source": [
    "#### 4.1.2 Escolha do teste e limiar de significância  \n",
    "alpha = 0.05  \n",
    "O tipo de teste utilizado será o t-test_ind, pois a classificação das 2 plataformas são independentes  \n",
    "E iremos verificar se podemos considerar o valor das variâncias iguais através do teste de Levene (uma verificação mais robusta).  \n",
    "Para isso formularemos a H0L e HaL do teste de levene:\n",
    "- H0L = Hipótese nula do Teste de Levene (as variâncias são iguais)\n",
    "- HaL = Hipótese alternativa do Teste de Levene (as variâncias são diferentes)\n",
    "\n",
    "Se o valor-p (l_value) do teste de levene for menor que alpha a H0L é rejeitada, se for maior não podemos rejeitar H0L\n",
    "\n"
   ]
  },
  {
   "cell_type": "markdown",
   "metadata": {},
   "source": [
    "<div class=\"alert alert-block alert-success\">\n",
    "<b> Comentário do revisor: </b> <a class=\"tocSkip\"></a>\n",
    "\n",
    "Correto. Uma solução mais formal é usaro  teste Levene. O que acha de usar neste projeto?\n",
    "</div>"
   ]
  },
  {
   "cell_type": "markdown",
   "metadata": {},
   "source": [
    "#### 4.1.3 Teste de hipótese"
   ]
  },
  {
   "cell_type": "markdown",
   "metadata": {},
   "source": [
    "Iremos considerar o argumento `nan_policy='omit'`, ou seja, não iremos considerar os valores NaN "
   ]
  },
  {
   "cell_type": "code",
   "execution_count": 45,
   "metadata": {},
   "outputs": [],
   "source": [
    "#criar as variáveis que serão usadas para calcular o teste de Levene\n",
    "varx = xone_user_mean['user_score'].dropna() #variância para xbox one\n",
    "varp = pc_user_mean['user_score'].dropna() # variância para PC\n"
   ]
  },
  {
   "cell_type": "code",
   "execution_count": 46,
   "metadata": {},
   "outputs": [
    {
     "name": "stdout",
     "output_type": "stream",
     "text": [
      "valor-p 1.3896435533548819e-05\n",
      "A hipótese nula deve ser rejeitada\n"
     ]
    }
   ],
   "source": [
    "alpha = 0.05\n",
    "statistics, l_value = levene(varx, varp)\n",
    "if l_value > alpha:\n",
    "    result1 = st.ttest_ind(xone_user_mean['user_score'], pc_user_mean['user_score'], nan_policy='omit')\n",
    "    print('valor-p', result1.pvalue)\n",
    "    if result1.pvalue < alpha:\n",
    "        print('A hipótese nula deve ser rejeitada')\n",
    "    else:\n",
    "        print('A hipótese nula não deve ser rejeitada')\n",
    "else:\n",
    "    result1 = st.ttest_ind(xone_user_mean['user_score'], pc_user_mean['user_score'], equal_var=False, nan_policy='omit')\n",
    "    print('valor-p', result1.pvalue)\n",
    "    if result1.pvalue < alpha:\n",
    "        print('A hipótese nula deve ser rejeitada')\n",
    "    else:\n",
    "        print('A hipótese nula não deve ser rejeitada')\n",
    "\n",
    "\n"
   ]
  },
  {
   "cell_type": "markdown",
   "metadata": {},
   "source": [
    "Embora os valores sejam diferentes a probabilidade de eles ocorrerem de maneira aleatória é muito baixa"
   ]
  },
  {
   "cell_type": "markdown",
   "metadata": {},
   "source": [
    "### 4.2  As classificações médias de usuários para os gêneros Action (ação) e Sports (esportes) são diferentes."
   ]
  },
  {
   "cell_type": "code",
   "execution_count": 47,
   "metadata": {},
   "outputs": [],
   "source": [
    "#Filtrar pelos gêneros Action e Sports\n",
    "action_games = games_data[games_data['genre']=='Action']\n",
    "sports_games = games_data[games_data['genre']=='Sports']"
   ]
  },
  {
   "cell_type": "markdown",
   "metadata": {},
   "source": [
    "#### 4.2.1 Definição H0 e Ha  \n",
    "H0 = As classificações médias de usuários para os gêneros Action (ação) e Sports (esportes) são iguais.  \n",
    "Ha = As classificações médias de usuários para os gêneros Action (ação) e Sports (esportes) são diferentes."
   ]
  },
  {
   "cell_type": "markdown",
   "metadata": {},
   "source": [
    "#### 4.2.2 Escolha do teste e limiar de significância  \n",
    "alpha = 0.05  \n",
    "O tipo de teste utilizado será o t-test_ind, pois a classificação das 2 plataformas são independentes  \n",
    "E iremos verificar se podemos considerar o valor das variâncias iguais através do teste de Levene (uma verificação mais robusta).  \n",
    "Para isso formularemos a H0L e HaL do teste de levene:\n",
    "- H0L = Hipótese nula do Teste de Levene (as variâncias são iguais)\n",
    "- HaL = Hipótese alternativa do Teste de Levene (as variâncias são diferentes)\n",
    "\n",
    "Se o valor-p (l_value2) do teste de levene for menor que alpha a H0L é rejeitada, se for maior não podemos rejeitar H0L"
   ]
  },
  {
   "cell_type": "markdown",
   "metadata": {},
   "source": [
    "#### 4.2.3 Teste de hipótese"
   ]
  },
  {
   "cell_type": "markdown",
   "metadata": {},
   "source": [
    "Iremos considerar o argumento `nan_policy='omit'` para que os valores NaN não sejam considerados"
   ]
  },
  {
   "cell_type": "code",
   "execution_count": 48,
   "metadata": {},
   "outputs": [],
   "source": [
    "#criar as variáveis que serão usadas para o teste Levene\n",
    "vara = action_games['user_score'].dropna() #variância para Action\n",
    "vars = sports_games['user_score'].dropna() # variância para Sports"
   ]
  },
  {
   "cell_type": "code",
   "execution_count": 49,
   "metadata": {},
   "outputs": [
    {
     "name": "stdout",
     "output_type": "stream",
     "text": [
      "valor-p 0.11483818791498648\n",
      "A hipótese nula não deve ser rejeitada\n"
     ]
    }
   ],
   "source": [
    "alpha = 0.05\n",
    "statistic2, l_value2 = levene(vara,vars)\n",
    "if l_value2 > alpha:\n",
    "    result2 = st.ttest_ind(action_games['user_score'], sports_games['user_score'], nan_policy='omit')\n",
    "    print('valor-p', result2.pvalue)\n",
    "    if result2.pvalue < alpha:\n",
    "        print('A hipótese nula deve ser rejeitada')\n",
    "    else:\n",
    "        print('A hipótese nula não deve ser rejeitada')\n",
    "else:\n",
    "    result2 = st.ttest_ind(action_games['user_score'], sports_games['user_score'], equal_var=False, nan_policy='omit')\n",
    "    print('valor-p', result2.pvalue)\n",
    "    if result2.pvalue < alpha:\n",
    "        print('A hipótese nula deve ser rejeitada')\n",
    "    else:\n",
    "        print('A hipótese nula não deve ser rejeitada')\n"
   ]
  },
  {
   "cell_type": "markdown",
   "metadata": {},
   "source": [
    "Embora os valores sejam diferentes temos uma alta probabilidade, `11.48%` de ocorrer de maneira aleatória"
   ]
  },
  {
   "cell_type": "markdown",
   "metadata": {},
   "source": [
    "## 5. Conclusão"
   ]
  },
  {
   "cell_type": "markdown",
   "metadata": {},
   "source": [
    "- Feito EDA: avaliado duplicados, ausentes, corrigido formato e colcoado o nome das colunas no padrão de python\n",
    "- Foram feitos featues engineering com intuito de criar novas colunas que trouxessem mais informações: total_sales, na_percent, eu_percent, jp_percent\n",
    "- Feito uso de teste de hipóteses para fazer comparação entre plataformas e entre gêneros\n",
    "\n",
    "Com base nas análises feitas a partir dos dados obtidos podemos ter algumas avaliações:\n",
    "- o ciclo de uma plataforma é de 6-10 anos\n",
    "- A classíficação influencia no total de vendas\n",
    "- A região com maior volume de vendas é a NA\n",
    "- O gênero é o de Action\n",
    "- No NA a plataforma com maior volume de vendas é o PS4\n",
    "- Os gêneros tem similiridade entre NA e EU. Japão tem propriedades particulares"
   ]
  },
  {
   "cell_type": "markdown",
   "metadata": {},
   "source": [
    "\n",
    "<div class=\"alert alert-block alert-success\">\n",
    "<b>Comentário Geral do Revisor</b> <a class=\"tocSkip\"></a>\n",
    "\n",
    "Obrigado por enviar seu projeto. \n",
    "    \n",
    "Parabéns, você fez um bom trabalho. No geral, você respondeu corretamente as questões.\n",
    "\n",
    "Como pontos fortes do projeto, destaco:\n",
    "- Código simples e eficiente\n",
    "- Bons gráficos e análises\n",
    "- Uso de recursos adequados\n",
    "\n",
    "    \n",
    "<span class=\"text-danger\">Porém, há espaço para melhorias conforme os itens apontados anteriormente. Destaco os  pontos a seguir: </span>\n",
    " * <span class=\"text-danger\"> COrrigir o erro no merge </span>\n",
    "\n",
    "\n",
    "Portanto, sugiro que você corrija os pontos indicados.\n",
    "    \n",
    "Se você tiver alguma dúvida sobre de algo que você não tenha entendido, sinta-se à vontade para perguntar ao tutor ou deixar um comentário para que, na próxima iteração, eu possa responder.\n",
    "\n",
    "Conte conosco. Lembre-se de que você pode tirar dúvidas comigo usando os comentários ou buscar ajuda de um tutor.\n",
    "Bom trabalho.\n",
    "</div>"
   ]
  },
  {
   "cell_type": "markdown",
   "metadata": {},
   "source": [
    "\n",
    "<div class=\"alert alert-block alert-success\">\n",
    "<b>Comentário Geral do Revisor</b> <a class=\"tocSkip\"></a>\n",
    "\n",
    "Parabéns pela aprovação. Desejo sucesso na jornada.\n",
    "</div>"
   ]
  }
 ],
 "metadata": {
  "kernelspec": {
   "display_name": "Python 3 (ipykernel)",
   "language": "python",
   "name": "python3"
  },
  "language_info": {
   "codemirror_mode": {
    "name": "ipython",
    "version": 3
   },
   "file_extension": ".py",
   "mimetype": "text/x-python",
   "name": "python",
   "nbconvert_exporter": "python",
   "pygments_lexer": "ipython3",
   "version": "3.9.19"
  },
  "toc": {
   "base_numbering": 1,
   "nav_menu": {},
   "number_sections": true,
   "sideBar": true,
   "skip_h1_title": true,
   "title_cell": "Table of Contents",
   "title_sidebar": "Contents",
   "toc_cell": false,
   "toc_position": {},
   "toc_section_display": true,
   "toc_window_display": false
  }
 },
 "nbformat": 4,
 "nbformat_minor": 2
}
